{
 "cells": [
  {
   "cell_type": "markdown",
   "id": "af440d09",
   "metadata": {},
   "source": [
    "##  factorial"
   ]
  },
  {
   "cell_type": "code",
   "execution_count": 12,
   "id": "48c1e196",
   "metadata": {},
   "outputs": [],
   "source": [
    "def fact(n):\n",
    "    if n == 0:\n",
    "        return 1\n",
    "    j = n * fact(n-1)       ## first n wont change coz of fn sec n may change(within fact) 5* 4321\n",
    "    return j\n",
    "    "
   ]
  },
  {
   "cell_type": "code",
   "execution_count": 7,
   "id": "c2e7294d",
   "metadata": {},
   "outputs": [
    {
     "name": "stdout",
     "output_type": "stream",
     "text": [
      "5\n",
      "120\n"
     ]
    }
   ],
   "source": [
    "n = int(input())\n",
    "print(fact(n))\n"
   ]
  },
  {
   "cell_type": "markdown",
   "id": "240647c6",
   "metadata": {},
   "source": [
    "## sun of natural"
   ]
  },
  {
   "cell_type": "code",
   "execution_count": 13,
   "id": "410db326",
   "metadata": {},
   "outputs": [],
   "source": [
    "def sum(n):\n",
    "    if n == 0:\n",
    "        return 0      ## return similar to print 0\n",
    "    j = n + sum(n-1)     ## first n wont change coz of fn sec n may change(witin sum) eg 5+ 43210\n",
    "    return j\n",
    "    "
   ]
  },
  {
   "cell_type": "code",
   "execution_count": 14,
   "id": "0f96552e",
   "metadata": {},
   "outputs": [
    {
     "name": "stdout",
     "output_type": "stream",
     "text": [
      "5\n",
      "120\n",
      "15\n"
     ]
    }
   ],
   "source": [
    "n = int(input())\n",
    "print(fact(n))\n",
    "print(sum(n))\n"
   ]
  },
  {
   "cell_type": "markdown",
   "id": "5b8bf961",
   "metadata": {},
   "source": [
    "## power of no's"
   ]
  },
  {
   "cell_type": "code",
   "execution_count": 2,
   "id": "1352d80f",
   "metadata": {},
   "outputs": [
    {
     "name": "stdout",
     "output_type": "stream",
     "text": [
      "1 5\n"
     ]
    }
   ],
   "source": [
    "n = input().split()             ## space sep input\n",
    "e,i = int(n[0]),int(n[1])"
   ]
  },
  {
   "cell_type": "code",
   "execution_count": 4,
   "id": "0e7f5de5",
   "metadata": {},
   "outputs": [
    {
     "data": {
      "text/plain": [
       "5"
      ]
     },
     "execution_count": 4,
     "metadata": {},
     "output_type": "execute_result"
    }
   ],
   "source": [
    "i"
   ]
  },
  {
   "cell_type": "code",
   "execution_count": 23,
   "id": "50bbdb49",
   "metadata": {},
   "outputs": [
    {
     "data": {
      "text/plain": [
       "['1', '8']"
      ]
     },
     "execution_count": 23,
     "metadata": {},
     "output_type": "execute_result"
    }
   ],
   "source": [
    "n"
   ]
  },
  {
   "cell_type": "code",
   "execution_count": 16,
   "id": "18b1ba87",
   "metadata": {},
   "outputs": [
    {
     "name": "stdout",
     "output_type": "stream",
     "text": [
      "3 4\n",
      "3 power 4 = 81\n"
     ]
    }
   ],
   "source": [
    "def pow(x,n):\n",
    "    if n==0:\n",
    "        return 1\n",
    "    return x * pow(x,n-1)    ##  3 * 3, (3*2*1 1)\n",
    "\n"
   ]
  },
  {
   "cell_type": "code",
   "execution_count": 17,
   "id": "ecaf1630",
   "metadata": {},
   "outputs": [
    {
     "name": "stdout",
     "output_type": "stream",
     "text": [
      "3 4\n",
      "3 power 4 = 81\n"
     ]
    }
   ],
   "source": [
    "x, n = input().split()            \n",
    "x = int(x)\n",
    "n = int(n)\n",
    "print(x, 'power', n, '=', pow(x,n))\n"
   ]
  },
  {
   "cell_type": "code",
   "execution_count": 54,
   "id": "77649cdb",
   "metadata": {},
   "outputs": [
    {
     "name": "stdout",
     "output_type": "stream",
     "text": [
      "1\n",
      "2\n",
      "3\n",
      "4\n",
      "None\n"
     ]
    }
   ],
   "source": [
    "print (powers(e,i))\n"
   ]
  },
  {
   "cell_type": "code",
   "execution_count": 11,
   "id": "67658f1b",
   "metadata": {},
   "outputs": [
    {
     "name": "stdout",
     "output_type": "stream",
     "text": [
      "2 4\n"
     ]
    }
   ],
   "source": [
    "x,n = input().split()"
   ]
  },
  {
   "cell_type": "code",
   "execution_count": 12,
   "id": "39db5c00",
   "metadata": {},
   "outputs": [],
   "source": [
    "x = int(x)"
   ]
  },
  {
   "cell_type": "code",
   "execution_count": 13,
   "id": "8f373241",
   "metadata": {},
   "outputs": [
    {
     "data": {
      "text/plain": [
       "2"
      ]
     },
     "execution_count": 13,
     "metadata": {},
     "output_type": "execute_result"
    }
   ],
   "source": [
    "x"
   ]
  },
  {
   "cell_type": "code",
   "execution_count": 27,
   "id": "e929f74e",
   "metadata": {},
   "outputs": [],
   "source": [
    "a = 4\n",
    "b = 6"
   ]
  },
  {
   "cell_type": "code",
   "execution_count": 29,
   "id": "641c1c50",
   "metadata": {},
   "outputs": [
    {
     "name": "stdout",
     "output_type": "stream",
     "text": [
      "2\n"
     ]
    }
   ],
   "source": [
    "print(a^b)"
   ]
  },
  {
   "cell_type": "code",
   "execution_count": 31,
   "id": "0b6cc2b6",
   "metadata": {},
   "outputs": [
    {
     "ename": "SyntaxError",
     "evalue": "invalid syntax (<ipython-input-31-e5d9e8fd9cf7>, line 1)",
     "output_type": "error",
     "traceback": [
      "\u001b[1;36m  File \u001b[1;32m\"<ipython-input-31-e5d9e8fd9cf7>\"\u001b[1;36m, line \u001b[1;32m1\u001b[0m\n\u001b[1;33m    2^^6\u001b[0m\n\u001b[1;37m      ^\u001b[0m\n\u001b[1;31mSyntaxError\u001b[0m\u001b[1;31m:\u001b[0m invalid syntax\n"
     ]
    }
   ],
   "source": [
    "2^^6"
   ]
  },
  {
   "cell_type": "markdown",
   "id": "23ea7be5",
   "metadata": {},
   "source": [
    "## last index"
   ]
  },
  {
   "cell_type": "code",
   "execution_count": 25,
   "id": "0bba905c",
   "metadata": {},
   "outputs": [],
   "source": [
    "def lastIndex(arr, x, index):\n",
    "    length = len(arr)\n",
    "    \n",
    "    if(index==length):\n",
    "        return -1\n",
    "    \n",
    "    temp =  lastIndex(arr, x, index+1)\n",
    "\n",
    "    if temp!=-1:\n",
    "        return temp\n",
    "    else:\n",
    "        if arr[index]==x:\n",
    "            return index\n",
    "        else:\n",
    "            return -1"
   ]
  },
  {
   "cell_type": "code",
   "execution_count": 28,
   "id": "7a8f117c",
   "metadata": {},
   "outputs": [
    {
     "name": "stdout",
     "output_type": "stream",
     "text": [
      "1 2 5 2\n",
      "2\n",
      "-1\n"
     ]
    }
   ],
   "source": [
    "from sys import setrecursionlimit\n",
    "setrecursionlimit(11000)\n",
    "arr=list(int(i) for i in input().strip().split(' '))\n",
    "x=int(input())\n",
    "index = 0\n",
    "print(lastIndex(arr, x, index))"
   ]
  },
  {
   "cell_type": "markdown",
   "id": "d648d57e",
   "metadata": {},
   "source": [
    "## print natural n "
   ]
  },
  {
   "cell_type": "code",
   "execution_count": 59,
   "id": "9b76b183",
   "metadata": {},
   "outputs": [],
   "source": [
    "def natu(i):\n",
    "    if i == 0:\n",
    "        return    ## refer contraint\n",
    "    natu(i-1)         ## run across all no \n",
    "    print(i)\n",
    "    "
   ]
  },
  {
   "cell_type": "code",
   "execution_count": 61,
   "id": "bc85d71c",
   "metadata": {},
   "outputs": [
    {
     "name": "stdout",
     "output_type": "stream",
     "text": [
      "1\n",
      "2\n",
      "3\n",
      "4\n",
      "5\n",
      "None\n"
     ]
    }
   ],
   "source": [
    "h = natu(5)\n",
    "print(h)\n"
   ]
  },
  {
   "cell_type": "code",
   "execution_count": 33,
   "id": "87ee1cae",
   "metadata": {},
   "outputs": [],
   "source": [
    "def nati(i):\n",
    "    if i == 0:\n",
    "        return    ## refer contraint\n",
    "    \n",
    "    print(i)\n",
    "    nati(i-1)         ## run across all no \n",
    "    \n",
    "    "
   ]
  },
  {
   "cell_type": "code",
   "execution_count": 34,
   "id": "d3544c60",
   "metadata": {},
   "outputs": [
    {
     "name": "stdout",
     "output_type": "stream",
     "text": [
      "6\n",
      "6\n",
      "5\n",
      "4\n",
      "3\n",
      "2\n",
      "1\n",
      "None\n"
     ]
    }
   ],
   "source": [
    "i = int(input())\n",
    "print(nati(i))"
   ]
  },
  {
   "cell_type": "markdown",
   "id": "ab17ee6a",
   "metadata": {},
   "source": [
    "## Fibonacci"
   ]
  },
  {
   "cell_type": "code",
   "execution_count": 62,
   "id": "b73d226f",
   "metadata": {},
   "outputs": [],
   "source": [
    "def fib(n):\n",
    "    if n == 1 or n == 2:\n",
    "        return 1             ## refer the lecture , easily understandable\n",
    "    var1 = fib(n-1)   \n",
    "    var2 = fib(n-2)\n",
    "    var = var1 + var2\n",
    "    return var"
   ]
  },
  {
   "cell_type": "code",
   "execution_count": 64,
   "id": "0f024a00",
   "metadata": {},
   "outputs": [
    {
     "name": "stdout",
     "output_type": "stream",
     "text": [
      "8\n"
     ]
    }
   ],
   "source": [
    "s = fib(6)\n",
    "print(s)\n"
   ]
  },
  {
   "cell_type": "markdown",
   "id": "b307ca0f",
   "metadata": {},
   "source": [
    "## fact limit exceed (depth limit)"
   ]
  },
  {
   "cell_type": "code",
   "execution_count": 47,
   "id": "6bd1146a",
   "metadata": {},
   "outputs": [],
   "source": [
    "def fact(n):\n",
    "    if n == 0:\n",
    "        return 1             ## understand the lecture , no : 8 explains everything \n",
    "    j = n * fact(n-1)       ## first n wont change coz of fn sec n may change(within fact) 5* 4321\n",
    "    return j"
   ]
  },
  {
   "cell_type": "code",
   "execution_count": 51,
   "id": "1e4fa02c",
   "metadata": {},
   "outputs": [],
   "source": [
    "import sys\n",
    "sys.setrecursionlimit(4000)   ## to cross 1950 size"
   ]
  },
  {
   "cell_type": "code",
   "execution_count": 53,
   "id": "504080df",
   "metadata": {},
   "outputs": [
    {
     "data": {
      "text/plain": [
       "629336821458681219235721986497799706617351235852519913543610088148256417878380833882925336132542429902884529447732377046173438608142397948317370531095968714891381031887480632991496178337945012769130010339584423918674967369392253358600857640605302136175966154096314008931174565557125136340965489508063876850876696670110817551939569665312811967549031298955179022551791501569590481048318472852571686902140047252503042401928501559686928171226354276330609787741151339211872420498151585554195042963501071551923285217982623073635489265582703853410532705131248480905994025453659570957451400935705332178029096864254466598826092425676298449900134693146623684288091686510551401772353323739012439707134844011070464620010863946427801128111751460791367136677406758985967356471271829880009957681778317385844154279229451545701431683528195530368134318734523264816825609423828090742417471739270191014565840509833387782518084525157643124625874856122578715636560828184333169459287824039361630082872229735728681070900695586742480027466753700978244047989543361307216263030667985044918548743782844364038894610256972422767816678582286529807177125759458879291485605807642430324986368793904720195251696383058676324821990267580823337613196478735020972034992649386404129693997560814450686727832364553161148324185905086205524672580351909344281764871241393261286402644885216672031220920258286483758966928295696927251107257561381476573794022179532534816475088334822636888659933156486961242367695547381702458095382104010001984787942382982575003739789989558299113148978339221082527683256687036289074196489271077581675416933366829091975025477127077645558838432828189302021500211777562223969791228559942888875286048587544187678187737132475909796348109638039216395550488254041915500135550356735298753506551948265831321242614246542870254680607828582458309183583349368893198219863927662508183051121571066004073461641703612319829301061492974134164975401961701201748930715032770316566592743607768031030990740827591818667053692211543056167524258770523659094354615547852809933508536538064228125787056353579684838231718837275977850657878256274974131186132382294075815368928608796333174441683598174785976114652936032519716012460249034979959514997776435906034753934525747285675671074083040639413728661503731650768443247023958004567103467785887554836335796443005313419308090552367890985647350907516620670142402529854386240563478237300539610745061807917221900745390721306380202812485334040555406975429692330309668355656642188241107826900663338196926905559280264401315379722619410886168191387911049646590740808002235465468191919178237429570700516539627712606817171855953262281654997860679443164777499232610827702505286959187589460082490269979393041864533065275211063741035293412825608826303576529515952053527312732377417876525651254777642158242096593067441850399311346430453189440576040662587512450320959222986196560175458543024642111398569698873423327214814427010676042665814064135044257769469576141703003368827926622706368637300777627760812455528411502471556372660021575035216264577544625586102389210676545468508595249472319369166796225897729713812502898496682707851369232331281593810171779957621765360929681369236380671669049019543148525014649867514647921639304904996202899740878719163631412631427022600129972425170776486676724362887666089510888225663100541299847889225305401312879319590193303409795853659603026230926263642266957109667182290024558491948683500764762307509425610789629258430987943828960948735957465472177711159436641932487854151681253214376275898961471113446169030363160490547525214296981077821036339193031533490281825512987469845383082726600503728972141821777780858472097983820909444908754866402997729809033767062383102154032110842475904158439168831030913044240202132456514368664067162463460643702642385716693477498395167763771664689971680386539526948329984677105346372590712820483671648357218727668274395418552403936434904318130806139375929295047775932614847985607896534471690704786567801055966676249748707060695484510187468029140884044239301674513971843604078623921419827237394565139377701549436279581749550392858158414173646088733972847632290442622566984006082375909439010598590875287014890635765028151904786761380764865805908007031300882457858738790692671575542779595405603108344735566030485667638366330237554341203362426615387960532610524517310845191519770338097233471685835074920532579492720831944175901075859467588544471354433881509082359967308146925185776145011377925705329592787260611262892309829405152380434975319837891054541569270951588717631911245004195093181361275934003055931745648112495100476166246488801835848537234372612969483303227275700902656692794114499342626115442848851182154818130689655140703900496438682765661195573103871452071219275298754470817894013692123335036440430492986770909437858520016532737009851779096787997707775855359326477922264470043193520965087759983011774720361019325139820321772691903288529169793940844301320570444206380784015246297146351434084894362206311403662971527885280769245839533591761725707803200062190795699338763440623926955242144701237673058411884687707042434841181363624863492358371871351751165887869222899814006851067974668138826357910751396066635275360496342841675194109736217438107872806362780159202309759204799910674469566113797907271612112575106824680583196216905817216515579184166651015224842606918039399040134935811396752416293773300641107874575231067400726883561614921432158509378877130157921465670385789169789724288979112373860160205681868611066066443463441099617914825406714132656204919398876327942073308518442525758909407973884078385278723313235407874976431784172912439155683098814508785654282121096094908171765914428600305634185211767757410320746851108406699847271374650093303029053247990986677759651677257142658819783679709883777193339284336191513564384338093740195728192912007953400896325815494783203415431592779580415447093997462882152258402053630524508795807292731440493073140733615304953654433019634305678462593340213370141964262470798266258582615391499479437307854407593721998020008204704388269523575006396894951045833156148000011968940466926513946731513552408626024277855538670331400696704338922466165249376570828933971777491628671769245001286406763363599838336818883016897476074034244266348319728921963753209677948606295801773632380102654950082186552120957982425016103043605485068653298781223951819629959989361499408144853380113815822608948532700523477687431988611619543425261613464065498742151454847026755403502503590137573167533013705291104589458234177135951457678107420899369417019201753690915358156752715767397409151638556151211965448886625608221787726620630806778318014608174277449632272840521815676479091758885939975949472875230157112304429757407825099600966438725937332528069056942489873645851135206207417328925736538819247752569354801774919269012997436695725468554788642452771916986973216685613786982933948654314511163372945743377523272313575053314278215088680842081022677992666405637307031638289983178635492586318986251477539595404685279717330931884352376662037440141848352101141526045686523506056168387656085533463268023452153846102894259321899350481289021705139819272708981504424988090930089399430608482520859514829320379161750895872727604295351749665073703862452981607863059107810649665405309710163773798685129081757019598552850830466389370508575383767818619469387928398275826179816363597812170717560023440560531980665285628077868780371124086231420160279424420624236464281487890778287711096872007590827672672444938376946468084236879986084712450904964455805209075028613748706754138268572059453288539645297756523395038759579421715135510458507665221612417553405059233130160128181726355208498443097627451877625906217787825027983309598632133682461031791186498974890750703772312182067581849538790183487415772378103264593808269668673565265451314336803113237955617774936461099218317652134891805156269441219087059428590506996151512965511562300070994150861256442459806797746345521324964879939850122233388885344711808836217460587817108007883264573598996759408502646714842131347197269549500598172962870628458389168273159545869610391912958698463779127585011300687495733013437189360970266416133494160338079028272199122974735050158981986149373222156740519540982483586912196892631785351146803139463361777355790586137508479696911343373094833793234660330205835975141275977165524276128846554260634020755635171160992260811609072716935646791893242303845458781924961591727253959258856331625258718687688577467179062613447895161450672057133453491567463045181262846321124181326818309006372423488985524854957774144269486766549661648718471793792756109028310839056239167614324214109526986209006081702897216583186084795832660978183369323522169287398512538524507979013986436792775142143291078154670427350931280323743058873838921312352127490980689778693143065627305124040728267222970025688193880433713951493158114394718392029112212471760814080000000000000000000000000000000000000000000000000000000000000000000000000000000000000000000000000000000000000000000000000000000000000000000000000000000000000000000000000000000000000000000000000000000000000000000000000000000000000000000000000000000000000000000000000000000000000000000000000000000000000000000000000000000000000000000000000000000000000000000000000000000000000000000000000000000000000000000000000000000000000000000000000000000000000000000000000000000000000000000000000000000000000000000000000000000000000000000000000000000000000000000000000000000000000000000000000000000000000000000000000000000000000000000000000000000000000000000000000000000000000000000000000000000000000000000000000000000000000000000000000000000000000000000000000000000000000000000000000000000000000000000"
      ]
     },
     "execution_count": 53,
     "metadata": {},
     "output_type": "execute_result"
    }
   ],
   "source": [
    "fact(3150)"
   ]
  },
  {
   "cell_type": "markdown",
   "id": "cc500fcc",
   "metadata": {},
   "source": [
    "## sorted / true fal"
   ]
  },
  {
   "cell_type": "code",
   "execution_count": 67,
   "id": "e3e7cb7a",
   "metadata": {},
   "outputs": [],
   "source": [
    "def sortt(n):\n",
    "    l = len(n)\n",
    "    if l == 0 or l == 1:\n",
    "        return True\n",
    "    \n",
    "    if n[0] > n[1]:\n",
    "        return False\n",
    "    \n",
    "    sorting = n[1:]\n",
    "    sorting_hypo = sortt(sorting)\n",
    "    \n",
    "    if sorting_hypo:                    ## alias return sorting_typo\n",
    "        return True \n",
    "    else:\n",
    "         return False\n",
    "    \n",
    "        \n",
    "        "
   ]
  },
  {
   "cell_type": "code",
   "execution_count": 68,
   "id": "b02513af",
   "metadata": {},
   "outputs": [
    {
     "name": "stdout",
     "output_type": "stream",
     "text": [
      "1 4 2 3\n"
     ]
    },
    {
     "data": {
      "text/plain": [
       "False"
      ]
     },
     "execution_count": 68,
     "metadata": {},
     "output_type": "execute_result"
    }
   ],
   "source": [
    "n = input().split()\n",
    "n = [int(i) for i in n] \n",
    "sortt(n)"
   ]
  },
  {
   "cell_type": "markdown",
   "id": "f6ab6786",
   "metadata": {},
   "source": [
    "## Practice in input split and to int from string"
   ]
  },
  {
   "cell_type": "code",
   "execution_count": 32,
   "id": "ecabe847",
   "metadata": {},
   "outputs": [
    {
     "name": "stdout",
     "output_type": "stream",
     "text": [
      "1 2 5 4\n"
     ]
    }
   ],
   "source": [
    "n = input().split()"
   ]
  },
  {
   "cell_type": "code",
   "execution_count": 15,
   "id": "069c3ca5",
   "metadata": {},
   "outputs": [
    {
     "data": {
      "text/plain": [
       "list"
      ]
     },
     "execution_count": 15,
     "metadata": {},
     "output_type": "execute_result"
    }
   ],
   "source": [
    "type(n)"
   ]
  },
  {
   "cell_type": "code",
   "execution_count": 16,
   "id": "0387e57a",
   "metadata": {},
   "outputs": [
    {
     "data": {
      "text/plain": [
       "['4', '8', '7']"
      ]
     },
     "execution_count": 16,
     "metadata": {},
     "output_type": "execute_result"
    }
   ],
   "source": [
    "n[1:]"
   ]
  },
  {
   "cell_type": "code",
   "execution_count": 30,
   "id": "9e48bb87",
   "metadata": {},
   "outputs": [],
   "source": [
    "n[3] = 4 "
   ]
  },
  {
   "cell_type": "code",
   "execution_count": 33,
   "id": "ca5c4b30",
   "metadata": {},
   "outputs": [
    {
     "data": {
      "text/plain": [
       "['1', '2', '5', '4']"
      ]
     },
     "execution_count": 33,
     "metadata": {},
     "output_type": "execute_result"
    }
   ],
   "source": [
    "n"
   ]
  },
  {
   "cell_type": "code",
   "execution_count": 37,
   "id": "ccdd0d3f",
   "metadata": {},
   "outputs": [],
   "source": [
    "n[3] = \"3\""
   ]
  },
  {
   "cell_type": "code",
   "execution_count": 41,
   "id": "1649f258",
   "metadata": {},
   "outputs": [
    {
     "data": {
      "text/plain": [
       "[1, 2, 5, 3]"
      ]
     },
     "execution_count": 41,
     "metadata": {},
     "output_type": "execute_result"
    }
   ],
   "source": [
    "n"
   ]
  },
  {
   "cell_type": "code",
   "execution_count": 42,
   "id": "97045e9d",
   "metadata": {},
   "outputs": [],
   "source": [
    "n = [int(i) for i in n]    ## colon is not required as we passing in singleline   ,## string to int"
   ]
  },
  {
   "cell_type": "code",
   "execution_count": null,
   "id": "bf9897bf",
   "metadata": {},
   "outputs": [],
   "source": []
  },
  {
   "cell_type": "code",
   "execution_count": 55,
   "id": "114237ce",
   "metadata": {},
   "outputs": [
    {
     "name": "stdout",
     "output_type": "stream",
     "text": [
      "1 3\n"
     ]
    }
   ],
   "source": [
    "m = input().split()"
   ]
  },
  {
   "cell_type": "code",
   "execution_count": 56,
   "id": "ece33561",
   "metadata": {},
   "outputs": [
    {
     "data": {
      "text/plain": [
       "['1', '3']"
      ]
     },
     "execution_count": 56,
     "metadata": {},
     "output_type": "execute_result"
    }
   ],
   "source": [
    "m\n"
   ]
  },
  {
   "cell_type": "markdown",
   "id": "8ebbac66",
   "metadata": {},
   "source": [
    "## check number"
   ]
  },
  {
   "cell_type": "code",
   "execution_count": 3,
   "id": "a7ec177f",
   "metadata": {},
   "outputs": [
    {
     "name": "stdout",
     "output_type": "stream",
     "text": [
      "4\n",
      "2 5 7 9\n",
      "5\n",
      "False\n"
     ]
    }
   ],
   "source": [
    "def chkno(z,h):\n",
    "    if chkno(z,h):\n",
    "    print('True')\n",
    "else:\n",
    "    print('False')\n",
    "        \n",
    "    pass             ## pass ?\n",
    "n = int(input())\n",
    "z = [int(i) for i in input().split()]\n",
    "h = int(input())\n",
    "\n"
   ]
  },
  {
   "cell_type": "code",
   "execution_count": null,
   "id": "a3ed7df1",
   "metadata": {},
   "outputs": [],
   "source": []
  },
  {
   "cell_type": "code",
   "execution_count": null,
   "id": "535f3754",
   "metadata": {},
   "outputs": [],
   "source": []
  },
  {
   "cell_type": "code",
   "execution_count": 3,
   "id": "61ea8c69",
   "metadata": {},
   "outputs": [
    {
     "name": "stdout",
     "output_type": "stream",
     "text": [
      "4\n",
      "2 3 4 6\n"
     ]
    }
   ],
   "source": [
    "n = int(input())\n",
    "z = [int(i) for i in input().split()]"
   ]
  },
  {
   "cell_type": "code",
   "execution_count": 4,
   "id": "5b683918",
   "metadata": {},
   "outputs": [
    {
     "data": {
      "text/plain": [
       "[2, 3, 4, 6]"
      ]
     },
     "execution_count": 4,
     "metadata": {},
     "output_type": "execute_result"
    }
   ],
   "source": [
    "z"
   ]
  },
  {
   "cell_type": "code",
   "execution_count": 16,
   "id": "aba96f71",
   "metadata": {},
   "outputs": [
    {
     "name": "stdout",
     "output_type": "stream",
     "text": [
      "4\n",
      "1 5 9 8\n",
      "9\n",
      "false\n"
     ]
    }
   ],
   "source": [
    "## github\n",
    "def checkNumber(arr, x):\n",
    "    # Please add your code here\n",
    "    pass\n",
    "\n",
    "# Main\n",
    "from sys import setrecursionlimit\n",
    "setrecursionlimit(11000)\n",
    "\n",
    "n=int(input())\n",
    "arr=list(int(i) for i in input().strip().split(' '))\n",
    "x=int(input())\n",
    "if checkNumber(arr, x):\n",
    "    print('true')\n",
    "else:\n",
    "    print('false')"
   ]
  },
  {
   "cell_type": "code",
   "execution_count": 19,
   "id": "7beedddf",
   "metadata": {},
   "outputs": [
    {
     "name": "stdout",
     "output_type": "stream",
     "text": [
      "4\n",
      "1 2 3 5\n",
      "3\n",
      "false\n"
     ]
    }
   ],
   "source": [
    "## git soln simplified\n",
    "def checkNumber(arr, x):\n",
    "    pass\n",
    "n=int(input())\n",
    "arr=list(int(i) for i in input().strip().split(' '))\n",
    "x=int(input())\n",
    "if checkNumber(arr, x):\n",
    "    print('true')\n",
    "else:\n",
    "    print('false')"
   ]
  },
  {
   "cell_type": "markdown",
   "id": "ba663c84",
   "metadata": {},
   "source": [
    "## sum  of array @ github"
   ]
  },
  {
   "cell_type": "code",
   "execution_count": 23,
   "id": "da3ad257",
   "metadata": {},
   "outputs": [
    {
     "name": "stdout",
     "output_type": "stream",
     "text": [
      "3\n",
      "4 5 2\n",
      "<class 'list'>\n",
      "[4, 5, 2]\n",
      "<class 'list'>\n",
      "[5, 2]\n",
      "<class 'list'>\n",
      "[2]\n",
      "<class 'list'>\n",
      "[]\n",
      "11\n",
      "[4, 5, 2]\n"
     ]
    }
   ],
   "source": [
    "def sumArray(arr): \n",
    "    print(type(arr))                   \n",
    "    print(arr)\n",
    "    if len(arr) == 0:\n",
    "        return 0\n",
    "    else:\n",
    "        return arr[0] + sumArray(arr[1:])       ## easy though except this line\n",
    "    \n",
    "\n",
    "from sys import setrecursionlimit\n",
    "setrecursionlimit(11000)\n",
    "n=int(input())\n",
    "arr=list(int(i) for i in input().strip().split(' '))\n",
    "print(sumArray(arr))\n",
    "print(arr)"
   ]
  },
  {
   "cell_type": "markdown",
   "id": "ae0092a6",
   "metadata": {},
   "source": [
    "## check list is sorted"
   ]
  },
  {
   "cell_type": "code",
   "execution_count": 29,
   "id": "9309a6ab",
   "metadata": {},
   "outputs": [],
   "source": [
    "def sortin(a,b):\n",
    "    l = len(a)\n",
    "    if b == l or b == l-1:\n",
    "        return True\n",
    "    if a[b] > a[b+1]:            ## refer video once\n",
    "        return False\n",
    "    h = sortin(a, b+1)\n",
    "    return h"
   ]
  },
  {
   "cell_type": "code",
   "execution_count": 28,
   "id": "c98bf3d0",
   "metadata": {},
   "outputs": [
    {
     "data": {
      "text/plain": [
       "True"
      ]
     },
     "execution_count": 28,
     "metadata": {},
     "output_type": "execute_result"
    }
   ],
   "source": [
    "a = [1,5,9,12,50]\n",
    "sortin(a,0)"
   ]
  },
  {
   "cell_type": "markdown",
   "id": "f1e22cda",
   "metadata": {},
   "source": [
    "## Frst index of number"
   ]
  },
  {
   "cell_type": "code",
   "execution_count": 32,
   "id": "3c9e5118",
   "metadata": {},
   "outputs": [],
   "source": [
    "## maaking a copy\n",
    "\n",
    "def firstIndex(arr, x):\n",
    "    l = len(arr)                    ## refer lecture incase any doubt\n",
    "    if l == 0:\n",
    "        return -1\n",
    "    \n",
    "    if arr[0] == x:\n",
    "        return 0\n",
    "    \n",
    "    smallerList = arr[1:]\n",
    "    smallerListOutput = firstIndex(smallerList, x)\n",
    "    \n",
    "    if smallerListOutput == -1:\n",
    "        return -1\n",
    "    else:\n",
    "        return smallerListOutput + 1\n"
   ]
  },
  {
   "cell_type": "code",
   "execution_count": 35,
   "id": "2851cf85",
   "metadata": {},
   "outputs": [
    {
     "data": {
      "text/plain": [
       "-1"
      ]
     },
     "execution_count": 35,
     "metadata": {},
     "output_type": "execute_result"
    }
   ],
   "source": [
    "arr = [4,2,5,8,9]\n",
    "firstIndex(arr,6)"
   ]
  },
  {
   "cell_type": "code",
   "execution_count": 1,
   "id": "482fc1fb",
   "metadata": {},
   "outputs": [],
   "source": [
    "## without making copy\n",
    "def firstIndex(arr, si, x):\n",
    "    l = len(arr)\n",
    "    if l == 0:\n",
    "        return -1 \n",
    "    if arr[si] == x:\n",
    "        return si\n",
    "    return firstIndex(arr, si+1, x)"
   ]
  },
  {
   "cell_type": "code",
   "execution_count": 2,
   "id": "5f4f07d0",
   "metadata": {},
   "outputs": [
    {
     "name": "stdout",
     "output_type": "stream",
     "text": [
      "7\n"
     ]
    }
   ],
   "source": [
    "arr = [1,0,1,0,1,0,6,4,9,4]\n",
    "x = 4\n",
    "print(firstIndex(arr, 0, x))"
   ]
  },
  {
   "cell_type": "markdown",
   "id": "da73d4de",
   "metadata": {},
   "source": [
    "## Last index lec"
   ]
  },
  {
   "cell_type": "code",
   "execution_count": 12,
   "id": "98fdf8da",
   "metadata": {},
   "outputs": [],
   "source": [
    "def lastin(a,d):\n",
    "    l = len(a)\n",
    "    if l == 0:\n",
    "        return -1\n",
    "    s = a[1:]\n",
    "    so = lastin(s,d)          ## 2 12 3 2 []    2\n",
    "    \n",
    "    if so != -1:\n",
    "        return so + 1\n",
    "    \n",
    "    else:\n",
    "        if a[0] == d:\n",
    "            return 0\n",
    "        else:\n",
    "            return -1\n",
    "    "
   ]
  },
  {
   "cell_type": "code",
   "execution_count": 13,
   "id": "0b6050c9",
   "metadata": {},
   "outputs": [
    {
     "data": {
      "text/plain": [
       "4"
      ]
     },
     "execution_count": 13,
     "metadata": {},
     "output_type": "execute_result"
    }
   ],
   "source": [
    "a = [1,2,12,3,2]\n",
    "lastin(a,2)"
   ]
  },
  {
   "cell_type": "code",
   "execution_count": null,
   "id": "c6bf1624",
   "metadata": {},
   "outputs": [],
   "source": [
    "## without copy"
   ]
  },
  {
   "cell_type": "code",
   "execution_count": null,
   "id": "80d03020",
   "metadata": {},
   "outputs": [],
   "source": []
  },
  {
   "cell_type": "code",
   "execution_count": null,
   "id": "cbe86b13",
   "metadata": {},
   "outputs": [],
   "source": []
  },
  {
   "cell_type": "code",
   "execution_count": null,
   "id": "2e2fe1c7",
   "metadata": {},
   "outputs": [],
   "source": []
  },
  {
   "cell_type": "code",
   "execution_count": null,
   "id": "2c1f693a",
   "metadata": {},
   "outputs": [],
   "source": []
  },
  {
   "cell_type": "code",
   "execution_count": null,
   "id": "f313a9fa",
   "metadata": {},
   "outputs": [],
   "source": []
  },
  {
   "cell_type": "code",
   "execution_count": 11,
   "id": "f700f0a8",
   "metadata": {},
   "outputs": [],
   "source": [
    "a = [5,6,4,8,11,15]\n",
    "s = a[-6:]"
   ]
  },
  {
   "cell_type": "code",
   "execution_count": 8,
   "id": "348af209",
   "metadata": {},
   "outputs": [
    {
     "data": {
      "text/plain": [
       "[5, 6, 4, 8, 11, 15]"
      ]
     },
     "execution_count": 8,
     "metadata": {},
     "output_type": "execute_result"
    }
   ],
   "source": [
    "s"
   ]
  },
  {
   "cell_type": "code",
   "execution_count": null,
   "id": "6240bed4",
   "metadata": {},
   "outputs": [],
   "source": []
  },
  {
   "cell_type": "markdown",
   "id": "aa0977ca",
   "metadata": {},
   "source": [
    "## power of no"
   ]
  },
  {
   "cell_type": "code",
   "execution_count": 37,
   "id": "d9330f26",
   "metadata": {},
   "outputs": [
    {
     "name": "stdout",
     "output_type": "stream",
     "text": [
      "2 4\n",
      "16\n"
     ]
    }
   ],
   "source": [
    "def power(x,n): \n",
    "    if n == 0:                 ## watchout  \n",
    "        return 1\n",
    "    return x * power(x, n-1)\n",
    "    \n",
    "\n",
    "x,n = map(int, input().split())      ## watch out carefully\n",
    "print(power(x,n))"
   ]
  },
  {
   "cell_type": "code",
   "execution_count": 33,
   "id": "468d6974",
   "metadata": {},
   "outputs": [
    {
     "name": "stdout",
     "output_type": "stream",
     "text": [
      "2 6\n"
     ]
    }
   ],
   "source": [
    "z,b = map(int, input().split()) ## watch out"
   ]
  },
  {
   "cell_type": "code",
   "execution_count": 34,
   "id": "b8f416d9",
   "metadata": {},
   "outputs": [
    {
     "data": {
      "text/plain": [
       "(2, 6)"
      ]
     },
     "execution_count": 34,
     "metadata": {},
     "output_type": "execute_result"
    }
   ],
   "source": [
    "(z , b)"
   ]
  },
  {
   "cell_type": "code",
   "execution_count": 36,
   "id": "f6c30667",
   "metadata": {},
   "outputs": [
    {
     "data": {
      "text/plain": [
       "int"
      ]
     },
     "execution_count": 36,
     "metadata": {},
     "output_type": "execute_result"
    }
   ],
   "source": [
    "type(z)"
   ]
  },
  {
   "cell_type": "code",
   "execution_count": 19,
   "id": "c3bf4484",
   "metadata": {},
   "outputs": [
    {
     "name": "stdout",
     "output_type": "stream",
     "text": [
      "0 5\n"
     ]
    }
   ],
   "source": [
    "s = input().split()"
   ]
  },
  {
   "cell_type": "code",
   "execution_count": 20,
   "id": "e11e52c1",
   "metadata": {},
   "outputs": [
    {
     "data": {
      "text/plain": [
       "['0', '5']"
      ]
     },
     "execution_count": 20,
     "metadata": {},
     "output_type": "execute_result"
    }
   ],
   "source": [
    "s"
   ]
  },
  {
   "cell_type": "code",
   "execution_count": 27,
   "id": "3016dbff",
   "metadata": {},
   "outputs": [],
   "source": [
    "a = int(s[1])"
   ]
  },
  {
   "cell_type": "code",
   "execution_count": 29,
   "id": "bd877930",
   "metadata": {},
   "outputs": [
    {
     "data": {
      "text/plain": [
       "int"
      ]
     },
     "execution_count": 29,
     "metadata": {},
     "output_type": "execute_result"
    }
   ],
   "source": [
    "type(a)"
   ]
  },
  {
   "cell_type": "code",
   "execution_count": null,
   "id": "2a17a579",
   "metadata": {},
   "outputs": [],
   "source": []
  },
  {
   "cell_type": "code",
   "execution_count": null,
   "id": "97019166",
   "metadata": {},
   "outputs": [],
   "source": []
  },
  {
   "cell_type": "code",
   "execution_count": null,
   "id": "6d36ffdd",
   "metadata": {},
   "outputs": [],
   "source": []
  }
 ],
 "metadata": {
  "kernelspec": {
   "display_name": "Python 3",
   "language": "python",
   "name": "python3"
  },
  "language_info": {
   "codemirror_mode": {
    "name": "ipython",
    "version": 3
   },
   "file_extension": ".py",
   "mimetype": "text/x-python",
   "name": "python",
   "nbconvert_exporter": "python",
   "pygments_lexer": "ipython3",
   "version": "3.8.8"
  }
 },
 "nbformat": 4,
 "nbformat_minor": 5
}
