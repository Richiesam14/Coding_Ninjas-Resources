{
 "cells": [
  {
   "cell_type": "markdown",
   "id": "ea3d556a",
   "metadata": {},
   "source": [
    "## Pattern 2"
   ]
  },
  {
   "cell_type": "markdown",
   "id": "2ac076e2",
   "metadata": {},
   "source": [
    "## Inverted Triangle"
   ]
  },
  {
   "cell_type": "code",
   "execution_count": 7,
   "id": "f9edc616",
   "metadata": {},
   "outputs": [
    {
     "name": "stdout",
     "output_type": "stream",
     "text": [
      "4\n",
      "****\n",
      "***\n",
      "**\n",
      "*\n"
     ]
    }
   ],
   "source": [
    "n = int(input())\n",
    "i = 1\n",
    "while i <= n:\n",
    "    j = 1\n",
    "    while j <= n-i+1:\n",
    "        print(\"*\", end = \"\")\n",
    "        j = j + 1\n",
    "    print()\n",
    "    i = i + 1\n"
   ]
  },
  {
   "cell_type": "code",
   "execution_count": 13,
   "id": "f75e4436",
   "metadata": {},
   "outputs": [
    {
     "name": "stdout",
     "output_type": "stream",
     "text": [
      "4\n",
      "1234\n",
      "123\n",
      "12\n",
      "1\n"
     ]
    }
   ],
   "source": [
    "n = int(input())\n",
    "i = 1\n",
    "while i <= n:\n",
    "    j = 1\n",
    "    while j <= n-i+1:\n",
    "        print(j, end = \"\")\n",
    "        j = j + 1\n",
    "    print()\n",
    "    i = i + 1\n"
   ]
  },
  {
   "cell_type": "code",
   "execution_count": 4,
   "id": "662bfe5a",
   "metadata": {},
   "outputs": [
    {
     "name": "stdout",
     "output_type": "stream",
     "text": [
      "4\n",
      "1111\n",
      "222\n",
      "33\n",
      "4\n"
     ]
    }
   ],
   "source": [
    "n = int(input())\n",
    "i = 1\n",
    "while i <= n:\n",
    "    k = i\n",
    "    j = 1\n",
    "    while j <= n-i+1:\n",
    "        print(k, end = \"\")\n",
    "        j = j + 1\n",
    "    print()\n",
    "    i = i + 1\n",
    "\n"
   ]
  },
  {
   "cell_type": "markdown",
   "id": "be68c611",
   "metadata": {},
   "source": [
    "## Mirrored triangle"
   ]
  },
  {
   "cell_type": "code",
   "execution_count": 12,
   "id": "67aaf4b2",
   "metadata": {},
   "outputs": [
    {
     "name": "stdout",
     "output_type": "stream",
     "text": [
      "4\n",
      "   *\n",
      "  **\n",
      " ***\n",
      "****\n"
     ]
    }
   ],
   "source": [
    "n = int(input())\n",
    "i = 1\n",
    "while i <= n:\n",
    "    space = 1\n",
    "    j = 1\n",
    "    while space <= n-i:\n",
    "        print(\" \" ,end = \"\")\n",
    "        space += 1\n",
    "    while j <= i:\n",
    "        print(\"*\", end = \"\")\n",
    "        j = j + 1\n",
    "    print()\n",
    "    i = i + 1"
   ]
  },
  {
   "cell_type": "markdown",
   "id": "71cbdb75",
   "metadata": {},
   "source": [
    "## mirrored tri number"
   ]
  },
  {
   "cell_type": "code",
   "execution_count": 14,
   "id": "69161750",
   "metadata": {},
   "outputs": [
    {
     "name": "stdout",
     "output_type": "stream",
     "text": [
      "4\n",
      "   1\n",
      "  12\n",
      " 123\n",
      "1234\n"
     ]
    }
   ],
   "source": [
    "n = int(input())\n",
    "i = 1\n",
    "while i <= n:\n",
    "    space = 1\n",
    "    j = 1\n",
    "    while space <= n-i:\n",
    "        print(\" \" ,end = \"\") ## print space\n",
    "        space += 1\n",
    "    while j <= i:\n",
    "        print(j, end = \"\")\n",
    "        j = j + 1\n",
    "    print()\n",
    "    i = i + 1"
   ]
  },
  {
   "cell_type": "markdown",
   "id": "6e2eec5d",
   "metadata": {},
   "source": [
    "## Isocles triangle"
   ]
  },
  {
   "cell_type": "code",
   "execution_count": 1,
   "id": "70d43f09",
   "metadata": {},
   "outputs": [
    {
     "name": "stdout",
     "output_type": "stream",
     "text": [
      "4\n",
      "   1\n",
      "  121\n",
      " 12321\n",
      "1234321\n"
     ]
    }
   ],
   "source": [
    "\n",
    "n = int(input())\n",
    "i = 1\n",
    "while i <= n:\n",
    "    space = 1\n",
    "    j = 1\n",
    "    k = 1                       ## reset to 1\n",
    "    while space <= n-i:\n",
    "        print(\" \" ,end = \"\") ## print space\n",
    "        space += 1\n",
    "    while j <= i:\n",
    "        print(k, end = \"\")\n",
    "        j = j + 1\n",
    "        k = k + 1\n",
    "    k = i - 1          ## k is gonna reset to 1 whenever it loops above from here\n",
    "    while k >= 1:\n",
    "        print(k , end =\"\")\n",
    "        k -= 1\n",
    "        \n",
    "    print()\n",
    "    i = i + 1"
   ]
  },
  {
   "cell_type": "markdown",
   "id": "62ea69f7",
   "metadata": {},
   "source": [
    "## Triangle of numbers"
   ]
  },
  {
   "cell_type": "code",
   "execution_count": 34,
   "id": "22e699f3",
   "metadata": {},
   "outputs": [
    {
     "name": "stdout",
     "output_type": "stream",
     "text": [
      "4\n",
      "   1\n",
      "  232\n",
      " 34543\n",
      "4567654\n"
     ]
    }
   ],
   "source": [
    "n = int(input())\n",
    "i = 1\n",
    "while i <= n:\n",
    "    space = 1\n",
    "    j = 1\n",
    "    h = i \n",
    "    while space <= n-i:\n",
    "        print(\" \" ,end = \"\") ## print space\n",
    "        space += 1\n",
    "    while j <= i:\n",
    "        print(h, end = \"\")              \n",
    "        h = h+1\n",
    "        j = j+1\n",
    "        \n",
    "    h = (2*i)-2\n",
    "    while h > i-1:\n",
    "        print(h , end =\"\")\n",
    "        h -= 1\n",
    "\n",
    "    print()\n",
    "    i = i + 1"
   ]
  },
  {
   "cell_type": "markdown",
   "id": "0a020067",
   "metadata": {},
   "source": [
    "## diamond first half"
   ]
  },
  {
   "cell_type": "code",
   "execution_count": 31,
   "id": "65c0d768",
   "metadata": {},
   "outputs": [
    {
     "name": "stdout",
     "output_type": "stream",
     "text": [
      "7\n",
      "   *\n",
      "  ***\n",
      " *****\n",
      "*******\n"
     ]
    }
   ],
   "source": [
    "n = int(input())\n",
    "i = 1\n",
    "k = (n+1)/2  ## frst half ....tricky though\n",
    "l = n / 2 ## or k-1\n",
    "while i <= k:\n",
    "    space = 1\n",
    "    while space <= k-i:\n",
    "        print(\" \",end = \"\") ## print space\n",
    "        space += 1\n",
    "    j = 1 \n",
    "    while j <= (2*i)-1 :\n",
    "        print(\"*\", end = \"\")              \n",
    "        j = j+1\n",
    "        \n",
    "    print()\n",
    "    i = i + 1"
   ]
  },
  {
   "cell_type": "markdown",
   "id": "79d172e0",
   "metadata": {},
   "source": [
    "## diamond "
   ]
  },
  {
   "cell_type": "code",
   "execution_count": 43,
   "id": "dabb9963",
   "metadata": {},
   "outputs": [
    {
     "name": "stdout",
     "output_type": "stream",
     "text": [
      "9\n",
      "    *\n",
      "   ***\n",
      "  *****\n",
      " *******\n",
      "*********\n",
      " *******\n",
      "  *****\n",
      "   ***\n",
      "    *\n",
      "     \n",
      "      \n",
      "       \n",
      "        \n",
      "         \n",
      "          \n",
      "           \n",
      "            \n",
      "             \n",
      "              \n",
      "               \n",
      "                \n",
      "                 \n",
      "                  \n",
      "                   \n",
      "                    \n",
      "                     \n",
      "                      \n",
      "                       \n",
      "                        \n",
      "                         \n",
      "                          \n",
      "                           \n",
      "                            \n",
      "                             \n",
      "                              \n",
      "                               \n",
      "                                \n",
      "                                 \n",
      "                                  \n",
      "                                   \n",
      "                                    \n",
      "                                     \n",
      "                                      \n",
      "                                       \n",
      "                                        \n",
      "                                         \n",
      "                                          \n",
      "                                           \n",
      "                                            \n",
      "                                             \n",
      "                                              \n",
      "                                               \n",
      "                                                \n",
      "                                                 \n",
      "                                                  \n",
      "                                                   \n",
      "                                                    \n",
      "                                                     \n",
      "                                                      \n",
      "                                                       \n",
      "                                                        \n",
      "                                                         \n",
      "                                                          \n",
      "                                                           \n",
      "                                                            \n",
      "                                                             \n",
      "                                                              \n",
      "                                                               \n",
      "                                                                \n",
      "                                                                 \n",
      "                                                                  \n",
      "                                                                   \n",
      "                                                                    \n",
      "                                                                     \n",
      "                                                                      \n",
      "                                                                       \n",
      "                                                                        \n",
      "                                                                         \n",
      "                                                                          \n",
      "                                                                           \n",
      "                                                                            \n",
      "                                                                             \n",
      "                                                                              \n",
      "                                                                               \n",
      "                                                                                \n",
      "                                                                                 \n",
      "                                                                                  \n",
      "                                                                                   \n",
      "                                                                                    \n",
      "                                                                                     \n",
      "                                                                                      \n",
      "                                                                                       \n",
      "                                                                                        \n",
      "                                                                                         \n",
      "                                                                                          \n",
      "                                                                                           \n",
      "                                                                                            \n",
      "                                                                                             \n",
      "                 "
     ]
    },
    {
     "ename": "KeyboardInterrupt",
     "evalue": "",
     "output_type": "error",
     "traceback": [
      "\u001b[1;31m---------------------------------------------------------------------------\u001b[0m",
      "\u001b[1;31mKeyboardInterrupt\u001b[0m                         Traceback (most recent call last)",
      "\u001b[1;32m<ipython-input-43-96772b45d78c>\u001b[0m in \u001b[0;36m<module>\u001b[1;34m\u001b[0m\n\u001b[0;32m     21\u001b[0m     \u001b[0mspace\u001b[0m \u001b[1;33m=\u001b[0m \u001b[1;36m1\u001b[0m\u001b[1;33m\u001b[0m\u001b[1;33m\u001b[0m\u001b[0m\n\u001b[0;32m     22\u001b[0m     \u001b[1;32mwhile\u001b[0m \u001b[0mspace\u001b[0m \u001b[1;33m<=\u001b[0m \u001b[0ml\u001b[0m\u001b[1;33m-\u001b[0m\u001b[0mi\u001b[0m\u001b[1;33m+\u001b[0m\u001b[1;36m1\u001b[0m\u001b[1;33m:\u001b[0m\u001b[1;33m\u001b[0m\u001b[1;33m\u001b[0m\u001b[0m\n\u001b[1;32m---> 23\u001b[1;33m         \u001b[0mprint\u001b[0m\u001b[1;33m(\u001b[0m\u001b[1;34m\" \"\u001b[0m\u001b[1;33m,\u001b[0m\u001b[0mend\u001b[0m \u001b[1;33m=\u001b[0m \u001b[1;34m\"\"\u001b[0m\u001b[1;33m)\u001b[0m \u001b[1;31m## print space\u001b[0m\u001b[1;33m\u001b[0m\u001b[1;33m\u001b[0m\u001b[0m\n\u001b[0m\u001b[0;32m     24\u001b[0m         \u001b[0mspace\u001b[0m \u001b[1;33m+=\u001b[0m \u001b[1;36m1\u001b[0m\u001b[1;33m\u001b[0m\u001b[1;33m\u001b[0m\u001b[0m\n\u001b[0;32m     25\u001b[0m     \u001b[0mj\u001b[0m \u001b[1;33m=\u001b[0m \u001b[1;36m1\u001b[0m\u001b[1;33m\u001b[0m\u001b[1;33m\u001b[0m\u001b[0m\n",
      "\u001b[1;32m~\\anaconda3\\lib\\site-packages\\ipykernel\\iostream.py\u001b[0m in \u001b[0;36mwrite\u001b[1;34m(self, string)\u001b[0m\n\u001b[0;32m    402\u001b[0m             \u001b[0mis_child\u001b[0m \u001b[1;33m=\u001b[0m \u001b[1;33m(\u001b[0m\u001b[1;32mnot\u001b[0m \u001b[0mself\u001b[0m\u001b[1;33m.\u001b[0m\u001b[0m_is_master_process\u001b[0m\u001b[1;33m(\u001b[0m\u001b[1;33m)\u001b[0m\u001b[1;33m)\u001b[0m\u001b[1;33m\u001b[0m\u001b[1;33m\u001b[0m\u001b[0m\n\u001b[0;32m    403\u001b[0m             \u001b[1;31m# only touch the buffer in the IO thread to avoid races\u001b[0m\u001b[1;33m\u001b[0m\u001b[1;33m\u001b[0m\u001b[1;33m\u001b[0m\u001b[0m\n\u001b[1;32m--> 404\u001b[1;33m             \u001b[0mself\u001b[0m\u001b[1;33m.\u001b[0m\u001b[0mpub_thread\u001b[0m\u001b[1;33m.\u001b[0m\u001b[0mschedule\u001b[0m\u001b[1;33m(\u001b[0m\u001b[1;32mlambda\u001b[0m \u001b[1;33m:\u001b[0m \u001b[0mself\u001b[0m\u001b[1;33m.\u001b[0m\u001b[0m_buffer\u001b[0m\u001b[1;33m.\u001b[0m\u001b[0mwrite\u001b[0m\u001b[1;33m(\u001b[0m\u001b[0mstring\u001b[0m\u001b[1;33m)\u001b[0m\u001b[1;33m)\u001b[0m\u001b[1;33m\u001b[0m\u001b[1;33m\u001b[0m\u001b[0m\n\u001b[0m\u001b[0;32m    405\u001b[0m             \u001b[1;32mif\u001b[0m \u001b[0mis_child\u001b[0m\u001b[1;33m:\u001b[0m\u001b[1;33m\u001b[0m\u001b[1;33m\u001b[0m\u001b[0m\n\u001b[0;32m    406\u001b[0m                 \u001b[1;31m# mp.Pool cannot be trusted to flush promptly (or ever),\u001b[0m\u001b[1;33m\u001b[0m\u001b[1;33m\u001b[0m\u001b[1;33m\u001b[0m\u001b[0m\n",
      "\u001b[1;32m~\\anaconda3\\lib\\site-packages\\ipykernel\\iostream.py\u001b[0m in \u001b[0;36mschedule\u001b[1;34m(self, f)\u001b[0m\n\u001b[0;32m    203\u001b[0m             \u001b[0mself\u001b[0m\u001b[1;33m.\u001b[0m\u001b[0m_events\u001b[0m\u001b[1;33m.\u001b[0m\u001b[0mappend\u001b[0m\u001b[1;33m(\u001b[0m\u001b[0mf\u001b[0m\u001b[1;33m)\u001b[0m\u001b[1;33m\u001b[0m\u001b[1;33m\u001b[0m\u001b[0m\n\u001b[0;32m    204\u001b[0m             \u001b[1;31m# wake event thread (message content is ignored)\u001b[0m\u001b[1;33m\u001b[0m\u001b[1;33m\u001b[0m\u001b[1;33m\u001b[0m\u001b[0m\n\u001b[1;32m--> 205\u001b[1;33m             \u001b[0mself\u001b[0m\u001b[1;33m.\u001b[0m\u001b[0m_event_pipe\u001b[0m\u001b[1;33m.\u001b[0m\u001b[0msend\u001b[0m\u001b[1;33m(\u001b[0m\u001b[1;34mb''\u001b[0m\u001b[1;33m)\u001b[0m\u001b[1;33m\u001b[0m\u001b[1;33m\u001b[0m\u001b[0m\n\u001b[0m\u001b[0;32m    206\u001b[0m         \u001b[1;32melse\u001b[0m\u001b[1;33m:\u001b[0m\u001b[1;33m\u001b[0m\u001b[1;33m\u001b[0m\u001b[0m\n\u001b[0;32m    207\u001b[0m             \u001b[0mf\u001b[0m\u001b[1;33m(\u001b[0m\u001b[1;33m)\u001b[0m\u001b[1;33m\u001b[0m\u001b[1;33m\u001b[0m\u001b[0m\n",
      "\u001b[1;32m~\\anaconda3\\lib\\site-packages\\zmq\\sugar\\socket.py\u001b[0m in \u001b[0;36msend\u001b[1;34m(self, data, flags, copy, track, routing_id, group)\u001b[0m\n\u001b[0;32m    489\u001b[0m                                  copy_threshold=self.copy_threshold)\n\u001b[0;32m    490\u001b[0m             \u001b[0mdata\u001b[0m\u001b[1;33m.\u001b[0m\u001b[0mgroup\u001b[0m \u001b[1;33m=\u001b[0m \u001b[0mgroup\u001b[0m\u001b[1;33m\u001b[0m\u001b[1;33m\u001b[0m\u001b[0m\n\u001b[1;32m--> 491\u001b[1;33m         \u001b[1;32mreturn\u001b[0m \u001b[0msuper\u001b[0m\u001b[1;33m(\u001b[0m\u001b[0mSocket\u001b[0m\u001b[1;33m,\u001b[0m \u001b[0mself\u001b[0m\u001b[1;33m)\u001b[0m\u001b[1;33m.\u001b[0m\u001b[0msend\u001b[0m\u001b[1;33m(\u001b[0m\u001b[0mdata\u001b[0m\u001b[1;33m,\u001b[0m \u001b[0mflags\u001b[0m\u001b[1;33m=\u001b[0m\u001b[0mflags\u001b[0m\u001b[1;33m,\u001b[0m \u001b[0mcopy\u001b[0m\u001b[1;33m=\u001b[0m\u001b[0mcopy\u001b[0m\u001b[1;33m,\u001b[0m \u001b[0mtrack\u001b[0m\u001b[1;33m=\u001b[0m\u001b[0mtrack\u001b[0m\u001b[1;33m)\u001b[0m\u001b[1;33m\u001b[0m\u001b[1;33m\u001b[0m\u001b[0m\n\u001b[0m\u001b[0;32m    492\u001b[0m \u001b[1;33m\u001b[0m\u001b[0m\n\u001b[0;32m    493\u001b[0m     \u001b[1;32mdef\u001b[0m \u001b[0msend_multipart\u001b[0m\u001b[1;33m(\u001b[0m\u001b[0mself\u001b[0m\u001b[1;33m,\u001b[0m \u001b[0mmsg_parts\u001b[0m\u001b[1;33m,\u001b[0m \u001b[0mflags\u001b[0m\u001b[1;33m=\u001b[0m\u001b[1;36m0\u001b[0m\u001b[1;33m,\u001b[0m \u001b[0mcopy\u001b[0m\u001b[1;33m=\u001b[0m\u001b[1;32mTrue\u001b[0m\u001b[1;33m,\u001b[0m \u001b[0mtrack\u001b[0m\u001b[1;33m=\u001b[0m\u001b[1;32mFalse\u001b[0m\u001b[1;33m,\u001b[0m \u001b[1;33m**\u001b[0m\u001b[0mkwargs\u001b[0m\u001b[1;33m)\u001b[0m\u001b[1;33m:\u001b[0m\u001b[1;33m\u001b[0m\u001b[1;33m\u001b[0m\u001b[0m\n",
      "\u001b[1;32mzmq/backend/cython/socket.pyx\u001b[0m in \u001b[0;36mzmq.backend.cython.socket.Socket.send\u001b[1;34m()\u001b[0m\n",
      "\u001b[1;32mzmq/backend/cython/socket.pyx\u001b[0m in \u001b[0;36mzmq.backend.cython.socket.Socket.send\u001b[1;34m()\u001b[0m\n",
      "\u001b[1;32mzmq/backend/cython/socket.pyx\u001b[0m in \u001b[0;36mzmq.backend.cython.socket._send_copy\u001b[1;34m()\u001b[0m\n",
      "\u001b[1;32m~\\anaconda3\\lib\\site-packages\\zmq\\backend\\cython\\checkrc.pxd\u001b[0m in \u001b[0;36mzmq.backend.cython.checkrc._check_rc\u001b[1;34m()\u001b[0m\n",
      "\u001b[1;31mKeyboardInterrupt\u001b[0m: "
     ]
    }
   ],
   "source": [
    "n = int(input())\n",
    "i = 1\n",
    "k = (n+1)/2  ## frst half ....tricky though\n",
    "l = n // 2 ## or k-1\n",
    "while i <= k:\n",
    "    space = 1\n",
    "    while space <= k-i:\n",
    "        print(\" \",end = \"\") ## print space\n",
    "        space += 1\n",
    "    j = 1 \n",
    "    while j <= (2*i)-1 :\n",
    "        print(\"*\", end = \"\")              \n",
    "        j = j+1\n",
    "        \n",
    "    print()\n",
    "    i = i + 1\n",
    "    \n",
    "## second half    \n",
    "i = l\n",
    "while i <= l:\n",
    "    space = 1\n",
    "    while space <= l-i+1:\n",
    "        print(\" \",end = \"\") ## print space\n",
    "        space += 1\n",
    "    j = 1 \n",
    "    while j <= (2*i)-1 :\n",
    "        print(\"*\", end = \"\")              \n",
    "        j = j+1\n",
    "    print()\n",
    "    i = i-1"
   ]
  },
  {
   "cell_type": "code",
   "execution_count": 39,
   "id": "8811a463",
   "metadata": {},
   "outputs": [
    {
     "name": "stdout",
     "output_type": "stream",
     "text": [
      "5\n",
      "  *\n",
      " ***\n",
      "*****\n",
      " ***\n",
      "  *\n"
     ]
    }
   ],
   "source": [
    "n=int(input())\n",
    "firstHalf=(n+1)//2\n",
    "secHalf=(n)//2\n",
    "\n",
    "#First Half\n",
    "currRow=1\n",
    "while currRow<=firstHalf:\n",
    "    spaces=1\n",
    "    while spaces<=(firstHalf-currRow):\n",
    "        print(' ',end=\"\")\n",
    "        spaces+=1\n",
    "    currcol=1\n",
    "    while currcol<=(2*currRow)-1:\n",
    "        print(\"*\",end=\"\")\n",
    "        currcol+=1\n",
    "    print()\n",
    "    currRow+=1\n",
    "\n",
    "#Secound Half\n",
    "currRow=secHalf\n",
    "while currRow>=1:\n",
    "    spaces=1\n",
    "    while spaces<=(secHalf-currRow+1):\n",
    "        print(\" \",end=\"\")\n",
    "        spaces+=1\n",
    "    currcol=1\n",
    "    while currcol<=(2*currRow)-1:\n",
    "        print(\"*\",end=\"\")\n",
    "        currcol+=1\n",
    "    print()\n",
    "    currRow-=1"
   ]
  },
  {
   "cell_type": "markdown",
   "id": "8ef33892",
   "metadata": {},
   "source": [
    "## Pyramid "
   ]
  },
  {
   "cell_type": "code",
   "execution_count": 18,
   "id": "0bf1abc6",
   "metadata": {},
   "outputs": [
    {
     "name": "stdout",
     "output_type": "stream",
     "text": [
      "5\n",
      "    1\n",
      "   212\n",
      "  32123\n",
      " 4321234\n",
      "543212345\n"
     ]
    }
   ],
   "source": [
    "n = int(input()) ## piece of butter; easy \n",
    "i = 1              ## my work\n",
    "while i <= n:\n",
    "    space = 1\n",
    "    j = 1\n",
    "    h = 1\n",
    "    k = i  ## reset to i val every loop\n",
    "    while space <= n-i:\n",
    "        print(\" \" ,end = \"\") ## print space\n",
    "        space += 1\n",
    "    while j <= i:\n",
    "        print(k, end = \"\")\n",
    "        k = k - 1\n",
    "        j = j + 1\n",
    "        \n",
    "        \n",
    "    h = 2           ## k is gonna reset to 1 whenever it loops above from here\n",
    "    while h <= i:\n",
    "        print(h , end =\"\")\n",
    "        h += 1\n",
    "   \n",
    "        \n",
    "    print()\n",
    "    i = i + 1"
   ]
  },
  {
   "cell_type": "code",
   "execution_count": 16,
   "id": "6451cc67",
   "metadata": {},
   "outputs": [
    {
     "name": "stdout",
     "output_type": "stream",
     "text": [
      "5\n",
      "    1\n",
      "   212\n",
      "  32123\n",
      " 4321234\n",
      "543212345\n"
     ]
    }
   ],
   "source": [
    "## ALTER of pyramid\n",
    "n = int(input())\n",
    "i = 1\n",
    "while i <= n:\n",
    "    spaces = 1\n",
    "    \n",
    "    while spaces <= n-i:\n",
    "        print(\" \", end = '')\n",
    "        spaces = spaces + 1\n",
    "    dec_num = i\n",
    "    while dec_num > 0:\n",
    "        print(dec_num, end = '')\n",
    "        dec_num = dec_num - 1\n",
    "    inc_num = 2\n",
    "    while inc_num <= i:\n",
    "        print(inc_num, end = '')\n",
    "        inc_num = inc_num + 1\n",
    "        \n",
    "    print()\n",
    "    i = i + 1"
   ]
  },
  {
   "cell_type": "markdown",
   "id": "ab8656b9",
   "metadata": {},
   "source": [
    " ## Number Pattern"
   ]
  },
  {
   "cell_type": "code",
   "execution_count": 10,
   "id": "7b63f396",
   "metadata": {},
   "outputs": [
    {
     "name": "stdout",
     "output_type": "stream",
     "text": [
      "4\n",
      "1      1\n",
      "12    21\n",
      "123  321\n",
      "12344321\n"
     ]
    }
   ],
   "source": [
    "n = int(input())\n",
    "i = 1\n",
    "while i <= n:                   ## mywork\n",
    "    j = 1\n",
    "    while j <= i:\n",
    "        print(j , end = \"\")       ## though we know how to print \n",
    "        j+=1\n",
    "    space = 1\n",
    "    while space <= n - i:\n",
    "        print(\"  \", end =\"\")  ## double space to get appropriate soln\n",
    "        space +=1\n",
    "    k = i                     ## j can also be there at k coz it'd get reset again while looping \n",
    "    while k > 0:\n",
    "        print(k,end ='')\n",
    "        k-=1\n",
    "    \n",
    "    print()\n",
    "    i+=1"
   ]
  },
  {
   "cell_type": "code",
   "execution_count": 11,
   "id": "ce8b0c80",
   "metadata": {},
   "outputs": [
    {
     "name": "stdout",
     "output_type": "stream",
     "text": [
      "4\n",
      "1      1\n",
      "12    21\n",
      "123  321\n",
      "12344321\n"
     ]
    }
   ],
   "source": [
    "# Alter soln web\n",
    "\n",
    "n=int(input())\n",
    "totalspace=n*2-2\n",
    "row=1\n",
    "while(row<=n):\n",
    "    column=1\n",
    "    while column<=row:\n",
    "        print(column,end='')\n",
    "        column=column+1\n",
    "    space=1\n",
    "    while space<=totalspace:\n",
    "        print(' ',end=\"\")\n",
    "        space+=1\n",
    "    totalspace-=2\n",
    "    column=row\n",
    "    while column>0:\n",
    "        print(column,end='')\n",
    "        column-=1\n",
    "    row+=1\n",
    "    print()"
   ]
  },
  {
   "cell_type": "markdown",
   "id": "5012844e",
   "metadata": {},
   "source": [
    "## Arrow Pattern"
   ]
  },
  {
   "cell_type": "code",
   "execution_count": 13,
   "id": "842e0916",
   "metadata": {},
   "outputs": [
    {
     "name": "stdout",
     "output_type": "stream",
     "text": [
      "7\n",
      "* \n",
      " * * \n",
      "  * * * \n",
      "   * * * * \n",
      "  * * * \n",
      " * * \n",
      "* \n"
     ]
    }
   ],
   "source": [
    "n = int(input())\n",
    "i = 1\n",
    "n1 = (n - 1) / 2\n",
    "n = (n + 1) / 2\n",
    "while i <= n:\n",
    "    spaces = 2\n",
    "    while spaces <= i:\n",
    "        print(\" \", end=\"\")\n",
    "        spaces += 1\n",
    "    star = 1\n",
    "    while star <= i:\n",
    "        print(\"* \", end=\"\")\n",
    "        star += 1\n",
    "    print(\"\")\n",
    "    i = i + 1\n",
    "\n",
    "i = 1\n",
    "g = 0\n",
    "while i <= n1:\n",
    "    num_1 = n1 - 1\n",
    "    while num_1 >= i:\n",
    "        print(\" \", end=\"\")\n",
    "        num_1 -= 1\n",
    "\n",
    "    num_1 = n1 - 1\n",
    "    while num_1 >= g:\n",
    "        print(\"* \", end=\"\")\n",
    "        num_1 -= 1\n",
    "    print()\n",
    "    i = i + 1\n",
    "    g = g + 1"
   ]
  },
  {
   "cell_type": "markdown",
   "id": "27cfb863",
   "metadata": {},
   "source": [
    "## Zeroes and stars pattern"
   ]
  },
  {
   "cell_type": "code",
   "execution_count": 1,
   "id": "ccc49ac0",
   "metadata": {},
   "outputs": [
    {
     "name": "stdout",
     "output_type": "stream",
     "text": [
      "5\n",
      "*0000*0000*\n",
      "0*000*000*0\n",
      "00*00*00*00\n",
      "000*0*0*000\n",
      "0000***0000\n"
     ]
    }
   ],
   "source": [
    "n = int(input())\n",
    "i = 1\n",
    "star = 1\n",
    "while i<=n:\n",
    "    j = 1\n",
    "    while j <= 2*n + 1:\n",
    "        if star == i and star == j:\n",
    "            print('*', end = \"\")\n",
    "            star = star + 1\n",
    "         \n",
    "        elif j == n + 1 or j == 2*n+2 - i:\n",
    "            print('*', end = \"\")\n",
    "        else:\n",
    "            print(0, end = \"\")\n",
    "        j = j + 1\n",
    "    print()\n",
    "    i = i + 1"
   ]
  },
  {
   "cell_type": "code",
   "execution_count": null,
   "id": "92e8db4e",
   "metadata": {},
   "outputs": [],
   "source": []
  },
  {
   "cell_type": "code",
   "execution_count": null,
   "id": "a293161e",
   "metadata": {},
   "outputs": [],
   "source": []
  },
  {
   "cell_type": "code",
   "execution_count": null,
   "id": "9292db18",
   "metadata": {},
   "outputs": [],
   "source": []
  },
  {
   "cell_type": "code",
   "execution_count": null,
   "id": "de701724",
   "metadata": {},
   "outputs": [],
   "source": []
  },
  {
   "cell_type": "code",
   "execution_count": null,
   "id": "22c08e53",
   "metadata": {},
   "outputs": [],
   "source": []
  },
  {
   "cell_type": "code",
   "execution_count": null,
   "id": "358c48c6",
   "metadata": {},
   "outputs": [],
   "source": []
  },
  {
   "cell_type": "code",
   "execution_count": null,
   "id": "8b995637",
   "metadata": {},
   "outputs": [],
   "source": []
  }
 ],
 "metadata": {
  "kernelspec": {
   "display_name": "Python 3",
   "language": "python",
   "name": "python3"
  },
  "language_info": {
   "codemirror_mode": {
    "name": "ipython",
    "version": 3
   },
   "file_extension": ".py",
   "mimetype": "text/x-python",
   "name": "python",
   "nbconvert_exporter": "python",
   "pygments_lexer": "ipython3",
   "version": "3.8.8"
  }
 },
 "nbformat": 4,
 "nbformat_minor": 5
}
