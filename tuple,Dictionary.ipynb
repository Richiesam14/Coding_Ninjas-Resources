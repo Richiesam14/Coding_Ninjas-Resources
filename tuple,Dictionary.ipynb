{
 "cells": [
  {
   "cell_type": "code",
   "execution_count": 1,
   "id": "cb7361c2",
   "metadata": {},
   "outputs": [],
   "source": [
    "a = (4,7)\n"
   ]
  },
  {
   "cell_type": "code",
   "execution_count": 2,
   "id": "65b07faf",
   "metadata": {},
   "outputs": [
    {
     "data": {
      "text/plain": [
       "(4, 7)"
      ]
     },
     "execution_count": 2,
     "metadata": {},
     "output_type": "execute_result"
    }
   ],
   "source": [
    "a"
   ]
  },
  {
   "cell_type": "code",
   "execution_count": 3,
   "id": "0c584011",
   "metadata": {},
   "outputs": [
    {
     "data": {
      "text/plain": [
       "tuple"
      ]
     },
     "execution_count": 3,
     "metadata": {},
     "output_type": "execute_result"
    }
   ],
   "source": [
    "type(a)"
   ]
  },
  {
   "cell_type": "code",
   "execution_count": 4,
   "id": "e200ec1f",
   "metadata": {},
   "outputs": [],
   "source": [
    "a = (4,8,\"james\")"
   ]
  },
  {
   "cell_type": "code",
   "execution_count": 5,
   "id": "b1858b59",
   "metadata": {},
   "outputs": [
    {
     "data": {
      "text/plain": [
       "(4, 8, 'james')"
      ]
     },
     "execution_count": 5,
     "metadata": {},
     "output_type": "execute_result"
    }
   ],
   "source": [
    "a"
   ]
  },
  {
   "cell_type": "code",
   "execution_count": 8,
   "id": "ce4b1653",
   "metadata": {},
   "outputs": [
    {
     "data": {
      "text/plain": [
       "'james'"
      ]
     },
     "execution_count": 8,
     "metadata": {},
     "output_type": "execute_result"
    }
   ],
   "source": [
    "a[-1]"
   ]
  },
  {
   "cell_type": "code",
   "execution_count": 9,
   "id": "bcb7016e",
   "metadata": {},
   "outputs": [
    {
     "data": {
      "text/plain": [
       "tuple"
      ]
     },
     "execution_count": 9,
     "metadata": {},
     "output_type": "execute_result"
    }
   ],
   "source": [
    "type(a)"
   ]
  },
  {
   "cell_type": "code",
   "execution_count": 11,
   "id": "4da143c9",
   "metadata": {},
   "outputs": [],
   "source": [
    "h = (4,5,2,3,9)\n"
   ]
  },
  {
   "cell_type": "code",
   "execution_count": 14,
   "id": "995df323",
   "metadata": {},
   "outputs": [
    {
     "data": {
      "text/plain": [
       "(4, 5, 2)"
      ]
     },
     "execution_count": 14,
     "metadata": {},
     "output_type": "execute_result"
    }
   ],
   "source": [
    "## slice\n",
    "\n",
    "h[:3]"
   ]
  },
  {
   "cell_type": "code",
   "execution_count": 15,
   "id": "e5128dfa",
   "metadata": {},
   "outputs": [
    {
     "ename": "TypeError",
     "evalue": "'tuple' object does not support item assignment",
     "output_type": "error",
     "traceback": [
      "\u001b[1;31m---------------------------------------------------------------------------\u001b[0m",
      "\u001b[1;31mTypeError\u001b[0m                                 Traceback (most recent call last)",
      "\u001b[1;32m<ipython-input-15-8b2dbe5fa9d4>\u001b[0m in \u001b[0;36m<module>\u001b[1;34m\u001b[0m\n\u001b[0;32m      1\u001b[0m \u001b[1;31m## tuples are immutable but list are mutable  meaning you cant change val\u001b[0m\u001b[1;33m\u001b[0m\u001b[1;33m\u001b[0m\u001b[1;33m\u001b[0m\u001b[0m\n\u001b[1;32m----> 2\u001b[1;33m \u001b[0mh\u001b[0m\u001b[1;33m[\u001b[0m\u001b[1;36m3\u001b[0m\u001b[1;33m]\u001b[0m \u001b[1;33m=\u001b[0m \u001b[1;36m4\u001b[0m\u001b[1;33m\u001b[0m\u001b[1;33m\u001b[0m\u001b[0m\n\u001b[0m",
      "\u001b[1;31mTypeError\u001b[0m: 'tuple' object does not support item assignment"
     ]
    }
   ],
   "source": [
    "## tuples are immutable but list are mutable  meaning you cant change val\n",
    "h[3] = 4"
   ]
  },
  {
   "cell_type": "code",
   "execution_count": 16,
   "id": "4f0a55ac",
   "metadata": {},
   "outputs": [
    {
     "name": "stdout",
     "output_type": "stream",
     "text": [
      "[4, 6, 8, 12, 'hirs']\n"
     ]
    }
   ],
   "source": [
    "a = [4,6,8,12,\"hirs\"]\n",
    "print(a)    "
   ]
  },
  {
   "cell_type": "code",
   "execution_count": 22,
   "id": "e38b16b6",
   "metadata": {},
   "outputs": [],
   "source": [
    "a[2] = 6  ## mutable"
   ]
  },
  {
   "cell_type": "code",
   "execution_count": 23,
   "id": "f317f78e",
   "metadata": {},
   "outputs": [
    {
     "data": {
      "text/plain": [
       "[4, 6, 6, 12, 'hirs']"
      ]
     },
     "execution_count": 23,
     "metadata": {},
     "output_type": "execute_result"
    }
   ],
   "source": [
    "a"
   ]
  },
  {
   "cell_type": "code",
   "execution_count": 24,
   "id": "b3f51fa2",
   "metadata": {},
   "outputs": [],
   "source": [
    "a = 3,5\n",
    "n = 1,6"
   ]
  },
  {
   "cell_type": "code",
   "execution_count": 25,
   "id": "cf6fa929",
   "metadata": {},
   "outputs": [
    {
     "data": {
      "text/plain": [
       "False"
      ]
     },
     "execution_count": 25,
     "metadata": {},
     "output_type": "execute_result"
    }
   ],
   "source": [
    "1 in a "
   ]
  },
  {
   "cell_type": "code",
   "execution_count": 26,
   "id": "513112fa",
   "metadata": {},
   "outputs": [
    {
     "data": {
      "text/plain": [
       "True"
      ]
     },
     "execution_count": 26,
     "metadata": {},
     "output_type": "execute_result"
    }
   ],
   "source": [
    "3 in a  "
   ]
  },
  {
   "cell_type": "code",
   "execution_count": 27,
   "id": "e1224d63",
   "metadata": {},
   "outputs": [],
   "source": [
    "c = a + n"
   ]
  },
  {
   "cell_type": "code",
   "execution_count": 28,
   "id": "7495438a",
   "metadata": {},
   "outputs": [
    {
     "data": {
      "text/plain": [
       "(3, 5, 1, 6)"
      ]
     },
     "execution_count": 28,
     "metadata": {},
     "output_type": "execute_result"
    }
   ],
   "source": [
    "c"
   ]
  },
  {
   "cell_type": "code",
   "execution_count": 29,
   "id": "c9d05792",
   "metadata": {},
   "outputs": [],
   "source": [
    "d = (c,a)"
   ]
  },
  {
   "cell_type": "code",
   "execution_count": 30,
   "id": "b3a8c0d9",
   "metadata": {},
   "outputs": [
    {
     "data": {
      "text/plain": [
       "((3, 5, 1, 6), (3, 5))"
      ]
     },
     "execution_count": 30,
     "metadata": {},
     "output_type": "execute_result"
    }
   ],
   "source": [
    "d"
   ]
  },
  {
   "cell_type": "code",
   "execution_count": 31,
   "id": "9441fcca",
   "metadata": {},
   "outputs": [
    {
     "data": {
      "text/plain": [
       "(3, 5, 3, 5, 3, 5)"
      ]
     },
     "execution_count": 31,
     "metadata": {},
     "output_type": "execute_result"
    }
   ],
   "source": [
    "a*3"
   ]
  },
  {
   "cell_type": "code",
   "execution_count": 32,
   "id": "ea5afb3b",
   "metadata": {},
   "outputs": [
    {
     "data": {
      "text/plain": [
       "3"
      ]
     },
     "execution_count": 32,
     "metadata": {},
     "output_type": "execute_result"
    }
   ],
   "source": [
    "min(a)"
   ]
  },
  {
   "cell_type": "code",
   "execution_count": 33,
   "id": "23844eff",
   "metadata": {},
   "outputs": [
    {
     "data": {
      "text/plain": [
       "5"
      ]
     },
     "execution_count": 33,
     "metadata": {},
     "output_type": "execute_result"
    }
   ],
   "source": [
    "max(a)"
   ]
  },
  {
   "cell_type": "code",
   "execution_count": 34,
   "id": "79caef1e",
   "metadata": {},
   "outputs": [],
   "source": [
    "s = [1,5,3]"
   ]
  },
  {
   "cell_type": "code",
   "execution_count": 35,
   "id": "049a7c95",
   "metadata": {},
   "outputs": [
    {
     "data": {
      "text/plain": [
       "(1, 5, 3)"
      ]
     },
     "execution_count": 35,
     "metadata": {},
     "output_type": "execute_result"
    }
   ],
   "source": [
    "tuple(s)"
   ]
  },
  {
   "cell_type": "code",
   "execution_count": 36,
   "id": "cbd8f628",
   "metadata": {},
   "outputs": [],
   "source": [
    "k = (1.5,\"sds\")"
   ]
  },
  {
   "cell_type": "code",
   "execution_count": 37,
   "id": "e9bc7bb5",
   "metadata": {},
   "outputs": [
    {
     "data": {
      "text/plain": [
       "[1.5, 'sds']"
      ]
     },
     "execution_count": 37,
     "metadata": {},
     "output_type": "execute_result"
    }
   ],
   "source": [
    "list(k)"
   ]
  },
  {
   "cell_type": "code",
   "execution_count": 53,
   "id": "50319c77",
   "metadata": {},
   "outputs": [],
   "source": [
    "a = (1,2) ## watchout\n",
    "b = (4,5)\n",
    "d = (a,b)"
   ]
  },
  {
   "cell_type": "code",
   "execution_count": 49,
   "id": "41f25feb",
   "metadata": {},
   "outputs": [
    {
     "data": {
      "text/plain": [
       "(1, 2)"
      ]
     },
     "execution_count": 49,
     "metadata": {},
     "output_type": "execute_result"
    }
   ],
   "source": [
    "d[0]"
   ]
  },
  {
   "cell_type": "code",
   "execution_count": 54,
   "id": "650fccdb",
   "metadata": {},
   "outputs": [
    {
     "name": "stdout",
     "output_type": "stream",
     "text": [
      "((1, 2), (4, 5))\n"
     ]
    }
   ],
   "source": [
    "print(d)"
   ]
  },
  {
   "cell_type": "code",
   "execution_count": 55,
   "id": "72592de0",
   "metadata": {},
   "outputs": [],
   "source": [
    "a = (1,2) ## watchout careful\n",
    "b = (4,5)\n",
    "d = (a+b)"
   ]
  },
  {
   "cell_type": "code",
   "execution_count": 51,
   "id": "dae0773a",
   "metadata": {},
   "outputs": [
    {
     "data": {
      "text/plain": [
       "1"
      ]
     },
     "execution_count": 51,
     "metadata": {},
     "output_type": "execute_result"
    }
   ],
   "source": [
    "d[0]"
   ]
  },
  {
   "cell_type": "code",
   "execution_count": 52,
   "id": "84543c7a",
   "metadata": {},
   "outputs": [
    {
     "name": "stdout",
     "output_type": "stream",
     "text": [
      "(1, 2, 4, 5)\n"
     ]
    }
   ],
   "source": [
    "print(d)"
   ]
  },
  {
   "cell_type": "code",
   "execution_count": 57,
   "id": "1dc36c35",
   "metadata": {},
   "outputs": [
    {
     "data": {
      "text/plain": [
       "'acji'"
      ]
     },
     "execution_count": 57,
     "metadata": {},
     "output_type": "execute_result"
    }
   ],
   "source": [
    "a = (\"acji\",\"sdsad\",\"kook\")\n",
    "min(a) ## asci val"
   ]
  },
  {
   "cell_type": "code",
   "execution_count": 12,
   "id": "fa9ff885",
   "metadata": {},
   "outputs": [],
   "source": [
    "def tri(a,b,*more):\n",
    "    print(a)\n",
    "    print(b)   ## tuple\n",
    "    j = 0\n",
    "    print(more)\n",
    "    for i in more:\n",
    "        j = j+i\n",
    "    return j"
   ]
  },
  {
   "cell_type": "code",
   "execution_count": 11,
   "id": "5dab240c",
   "metadata": {},
   "outputs": [
    {
     "name": "stdout",
     "output_type": "stream",
     "text": [
      "1\n",
      "4\n",
      "(6, 23, 89)\n"
     ]
    },
    {
     "data": {
      "text/plain": [
       "118"
      ]
     },
     "execution_count": 11,
     "metadata": {},
     "output_type": "execute_result"
    }
   ],
   "source": [
    "tri(1,4,6,23,89)\n"
   ]
  },
  {
   "cell_type": "code",
   "execution_count": 17,
   "id": "4cba95a8",
   "metadata": {},
   "outputs": [],
   "source": [
    "def sub(a,b):\n",
    "    a = a+b,a-b,a*b\n",
    "    return a"
   ]
  },
  {
   "cell_type": "code",
   "execution_count": 23,
   "id": "726f82ce",
   "metadata": {},
   "outputs": [
    {
     "data": {
      "text/plain": [
       "(7, 3, 10)"
      ]
     },
     "execution_count": 23,
     "metadata": {},
     "output_type": "execute_result"
    }
   ],
   "source": [
    "sub(5,2)\n"
   ]
  },
  {
   "cell_type": "code",
   "execution_count": 24,
   "id": "fa0852c2",
   "metadata": {},
   "outputs": [
    {
     "name": "stdout",
     "output_type": "stream",
     "text": [
      "7\n",
      "3\n",
      "10\n"
     ]
    }
   ],
   "source": [
    "k,l,g = sub(5,2)\n",
    "print(k)\n",
    "print(l)\n",
    "print(g)"
   ]
  },
  {
   "cell_type": "code",
   "execution_count": 25,
   "id": "089a5a4a",
   "metadata": {},
   "outputs": [],
   "source": [
    "## refer tuple MCQ "
   ]
  },
  {
   "cell_type": "markdown",
   "id": "f8da7a13",
   "metadata": {},
   "source": [
    "## dictionary"
   ]
  },
  {
   "cell_type": "code",
   "execution_count": 1,
   "id": "c6312363",
   "metadata": {},
   "outputs": [],
   "source": [
    "a = {}"
   ]
  },
  {
   "cell_type": "code",
   "execution_count": 2,
   "id": "74085260",
   "metadata": {},
   "outputs": [
    {
     "data": {
      "text/plain": [
       "dict"
      ]
     },
     "execution_count": 2,
     "metadata": {},
     "output_type": "execute_result"
    }
   ],
   "source": [
    "type(a)"
   ]
  },
  {
   "cell_type": "code",
   "execution_count": 3,
   "id": "a9fc83b9",
   "metadata": {},
   "outputs": [],
   "source": [
    "n = {\"ty\":11,\"uip\":5,100:\"qwi\"}"
   ]
  },
  {
   "cell_type": "code",
   "execution_count": 4,
   "id": "352b68b9",
   "metadata": {},
   "outputs": [
    {
     "data": {
      "text/plain": [
       "{'ty': 11, 'uip': 5, 100: 'qwi'}"
      ]
     },
     "execution_count": 4,
     "metadata": {},
     "output_type": "execute_result"
    }
   ],
   "source": [
    "n"
   ]
  },
  {
   "cell_type": "code",
   "execution_count": 7,
   "id": "d0f491ac",
   "metadata": {},
   "outputs": [],
   "source": [
    "b = n.copy()"
   ]
  },
  {
   "cell_type": "code",
   "execution_count": 8,
   "id": "ab0f15bf",
   "metadata": {},
   "outputs": [
    {
     "data": {
      "text/plain": [
       "{'ty': 11, 'uip': 5, 100: 'qwi'}"
      ]
     },
     "execution_count": 8,
     "metadata": {},
     "output_type": "execute_result"
    }
   ],
   "source": []
  },
  {
   "cell_type": "code",
   "execution_count": 13,
   "id": "14384909",
   "metadata": {},
   "outputs": [],
   "source": [
    "a = dict([(\"sda\",5),(5,6),(\"por\",\"l\")])"
   ]
  },
  {
   "cell_type": "code",
   "execution_count": 14,
   "id": "7f501571",
   "metadata": {},
   "outputs": [
    {
     "data": {
      "text/plain": [
       "{'sda': 5, 5: 6, 'por': 'l'}"
      ]
     },
     "execution_count": 14,
     "metadata": {},
     "output_type": "execute_result"
    }
   ],
   "source": [
    "a"
   ]
  },
  {
   "cell_type": "code",
   "execution_count": 20,
   "id": "71ae2922",
   "metadata": {},
   "outputs": [],
   "source": [
    "j = dict.fromkeys([\"st\",1,5],10)"
   ]
  },
  {
   "cell_type": "code",
   "execution_count": 21,
   "id": "be796fb9",
   "metadata": {},
   "outputs": [
    {
     "data": {
      "text/plain": [
       "{'st': 10, 1: 10, 5: 10}"
      ]
     },
     "execution_count": 21,
     "metadata": {},
     "output_type": "execute_result"
    }
   ],
   "source": [
    "j"
   ]
  },
  {
   "cell_type": "code",
   "execution_count": 8,
   "id": "a6a38a83",
   "metadata": {},
   "outputs": [],
   "source": [
    "a = {1:4,\"crisp\":5,\"hii\":[0,5],1:{7:2}}"
   ]
  },
  {
   "cell_type": "code",
   "execution_count": 12,
   "id": "60ed7e33",
   "metadata": {},
   "outputs": [
    {
     "data": {
      "text/plain": [
       "{7: 2}"
      ]
     },
     "execution_count": 12,
     "metadata": {},
     "output_type": "execute_result"
    }
   ],
   "source": [
    "a[1]"
   ]
  },
  {
   "cell_type": "code",
   "execution_count": 13,
   "id": "f396fdfb",
   "metadata": {},
   "outputs": [
    {
     "data": {
      "text/plain": [
       "[0, 5]"
      ]
     },
     "execution_count": 13,
     "metadata": {},
     "output_type": "execute_result"
    }
   ],
   "source": [
    "a[\"hii\"]"
   ]
  },
  {
   "cell_type": "code",
   "execution_count": 15,
   "id": "bb5e7e97",
   "metadata": {},
   "outputs": [
    {
     "data": {
      "text/plain": [
       "{7: 2}"
      ]
     },
     "execution_count": 15,
     "metadata": {},
     "output_type": "execute_result"
    }
   ],
   "source": [
    "a.get(1) ## alter interesting"
   ]
  },
  {
   "cell_type": "code",
   "execution_count": 17,
   "id": "87fc46c8",
   "metadata": {},
   "outputs": [
    {
     "data": {
      "text/plain": [
       "5"
      ]
     },
     "execution_count": 17,
     "metadata": {},
     "output_type": "execute_result"
    }
   ],
   "source": [
    "a.get(\"crisp\")"
   ]
  },
  {
   "cell_type": "code",
   "execution_count": 21,
   "id": "692d8ccd",
   "metadata": {},
   "outputs": [
    {
     "name": "stdout",
     "output_type": "stream",
     "text": [
      "None\n"
     ]
    }
   ],
   "source": [
    "print(a.get('li'))"
   ]
  },
  {
   "cell_type": "code",
   "execution_count": 24,
   "id": "f603e3de",
   "metadata": {},
   "outputs": [
    {
     "data": {
      "text/plain": [
       "1"
      ]
     },
     "execution_count": 24,
     "metadata": {},
     "output_type": "execute_result"
    }
   ],
   "source": [
    "a.get('li',1) ## if not present gonna return val right"
   ]
  },
  {
   "cell_type": "code",
   "execution_count": 25,
   "id": "e7a6f3d7",
   "metadata": {},
   "outputs": [
    {
     "data": {
      "text/plain": [
       "dict_values([{7: 2}, 5, [0, 5]])"
      ]
     },
     "execution_count": 25,
     "metadata": {},
     "output_type": "execute_result"
    }
   ],
   "source": [
    "a.values()"
   ]
  },
  {
   "cell_type": "code",
   "execution_count": 26,
   "id": "82168b05",
   "metadata": {},
   "outputs": [
    {
     "data": {
      "text/plain": [
       "dict_keys([1, 'crisp', 'hii'])"
      ]
     },
     "execution_count": 26,
     "metadata": {},
     "output_type": "execute_result"
    }
   ],
   "source": [
    "a.keys()"
   ]
  },
  {
   "cell_type": "code",
   "execution_count": 27,
   "id": "d2944178",
   "metadata": {},
   "outputs": [
    {
     "data": {
      "text/plain": [
       "dict_items([(1, {7: 2}), ('crisp', 5), ('hii', [0, 5])])"
      ]
     },
     "execution_count": 27,
     "metadata": {},
     "output_type": "execute_result"
    }
   ],
   "source": [
    "a.items()"
   ]
  },
  {
   "cell_type": "code",
   "execution_count": 35,
   "id": "80a82b2a",
   "metadata": {},
   "outputs": [
    {
     "name": "stdout",
     "output_type": "stream",
     "text": [
      "1 {7: 2}\n",
      "crisp 5\n",
      "hii [0, 5]\n"
     ]
    }
   ],
   "source": [
    "for i in a:     ## use range only if integer\n",
    "    print(i,a[i])"
   ]
  },
  {
   "cell_type": "code",
   "execution_count": 31,
   "id": "f1875a92",
   "metadata": {},
   "outputs": [
    {
     "name": "stdout",
     "output_type": "stream",
     "text": [
      "hii [0, 5]\n"
     ]
    }
   ],
   "source": [
    "print(i,a[i])"
   ]
  },
  {
   "cell_type": "code",
   "execution_count": 34,
   "id": "78217325",
   "metadata": {},
   "outputs": [
    {
     "name": "stdout",
     "output_type": "stream",
     "text": [
      "1\n",
      "crisp\n",
      "hii\n"
     ]
    }
   ],
   "source": [
    "for i in a.keys():\n",
    "    print(i)"
   ]
  },
  {
   "cell_type": "code",
   "execution_count": 36,
   "id": "2020ff4b",
   "metadata": {},
   "outputs": [
    {
     "name": "stdout",
     "output_type": "stream",
     "text": [
      "{7: 2}\n",
      "5\n",
      "[0, 5]\n"
     ]
    }
   ],
   "source": [
    "for i in a.values():\n",
    "    print(i)"
   ]
  },
  {
   "cell_type": "code",
   "execution_count": 43,
   "id": "f9f6135a",
   "metadata": {},
   "outputs": [],
   "source": [
    "c = {\"huhu\":4,\"jui\":[4,9],4:{4,1}}"
   ]
  },
  {
   "cell_type": "code",
   "execution_count": 44,
   "id": "117fcd75",
   "metadata": {},
   "outputs": [
    {
     "data": {
      "text/plain": [
       "{'huhu': 4, 'jui': [4, 9], 4: {1, 4}}"
      ]
     },
     "execution_count": 44,
     "metadata": {},
     "output_type": "execute_result"
    }
   ],
   "source": [
    "c"
   ]
  },
  {
   "cell_type": "code",
   "execution_count": 48,
   "id": "24a27b43",
   "metadata": {},
   "outputs": [
    {
     "name": "stdout",
     "output_type": "stream",
     "text": [
      "huhu\n",
      "jui\n",
      "4\n"
     ]
    }
   ],
   "source": [
    "for i in (c):\n",
    "    print(i)"
   ]
  },
  {
   "cell_type": "code",
   "execution_count": 49,
   "id": "19a8f302",
   "metadata": {},
   "outputs": [
    {
     "name": "stdout",
     "output_type": "stream",
     "text": [
      "huhu 4\n",
      "jui [4, 9]\n",
      "4 {1, 4}\n"
     ]
    }
   ],
   "source": [
    "for i in (c):\n",
    "    print(i,c[i])"
   ]
  },
  {
   "cell_type": "code",
   "execution_count": 50,
   "id": "b642fa60",
   "metadata": {},
   "outputs": [
    {
     "data": {
      "text/plain": [
       "False"
      ]
     },
     "execution_count": 50,
     "metadata": {},
     "output_type": "execute_result"
    }
   ],
   "source": [
    "2 in c"
   ]
  },
  {
   "cell_type": "code",
   "execution_count": 51,
   "id": "85e81994",
   "metadata": {},
   "outputs": [
    {
     "data": {
      "text/plain": [
       "True"
      ]
     },
     "execution_count": 51,
     "metadata": {},
     "output_type": "execute_result"
    }
   ],
   "source": [
    "4 in c"
   ]
  },
  {
   "cell_type": "code",
   "execution_count": 52,
   "id": "e79168ef",
   "metadata": {},
   "outputs": [
    {
     "data": {
      "text/plain": [
       "True"
      ]
     },
     "execution_count": 52,
     "metadata": {},
     "output_type": "execute_result"
    }
   ],
   "source": [
    "\"huhu\" in c"
   ]
  },
  {
   "cell_type": "code",
   "execution_count": 53,
   "id": "659eaa3c",
   "metadata": {},
   "outputs": [
    {
     "data": {
      "text/plain": [
       "{1: {7: 2}, 'crisp': 5, 'hii': [0, 5]}"
      ]
     },
     "execution_count": 53,
     "metadata": {},
     "output_type": "execute_result"
    }
   ],
   "source": [
    "a"
   ]
  },
  {
   "cell_type": "code",
   "execution_count": 54,
   "id": "15761771",
   "metadata": {},
   "outputs": [
    {
     "data": {
      "text/plain": [
       "{'huhu': 4, 'jui': [4, 9], 4: {1, 4}}"
      ]
     },
     "execution_count": 54,
     "metadata": {},
     "output_type": "execute_result"
    }
   ],
   "source": [
    "c"
   ]
  },
  {
   "cell_type": "code",
   "execution_count": 57,
   "id": "41cfb8c2",
   "metadata": {},
   "outputs": [],
   "source": [
    "c[\"t\"] = (1,\"huo\",5)"
   ]
  },
  {
   "cell_type": "code",
   "execution_count": 58,
   "id": "f802e9bd",
   "metadata": {},
   "outputs": [
    {
     "data": {
      "text/plain": [
       "{'huhu': 4, 'jui': [4, 9], 4: {1, 4}, 2: (1, 'huo', 5), 't': (1, 'huo', 5)}"
      ]
     },
     "execution_count": 58,
     "metadata": {},
     "output_type": "execute_result"
    }
   ],
   "source": [
    "c"
   ]
  },
  {
   "cell_type": "code",
   "execution_count": 59,
   "id": "f929d3ea",
   "metadata": {},
   "outputs": [],
   "source": [
    "c[4] = 6"
   ]
  },
  {
   "cell_type": "code",
   "execution_count": 60,
   "id": "539f6528",
   "metadata": {},
   "outputs": [
    {
     "data": {
      "text/plain": [
       "{'huhu': 4, 'jui': [4, 9], 4: 6, 2: (1, 'huo', 5), 't': (1, 'huo', 5)}"
      ]
     },
     "execution_count": 60,
     "metadata": {},
     "output_type": "execute_result"
    }
   ],
   "source": [
    "c     ## key 4 gets new value of 6 "
   ]
  },
  {
   "cell_type": "code",
   "execution_count": 72,
   "id": "c3ba3b7d",
   "metadata": {},
   "outputs": [],
   "source": [
    "d = {\"kk\":1,\"iol\":[5,6],8:{4,5,6}}"
   ]
  },
  {
   "cell_type": "code",
   "execution_count": 73,
   "id": "77f3b03a",
   "metadata": {},
   "outputs": [],
   "source": [
    "b = {2:12,\"ui\":5,8:12,\"oo\":6}"
   ]
  },
  {
   "cell_type": "code",
   "execution_count": 71,
   "id": "8825ae32",
   "metadata": {},
   "outputs": [
    {
     "data": {
      "text/plain": [
       "{2: 12, 'ui': 5, 8: 12, 'oo': 6}"
      ]
     },
     "execution_count": 71,
     "metadata": {},
     "output_type": "execute_result"
    }
   ],
   "source": [
    "b"
   ]
  },
  {
   "cell_type": "code",
   "execution_count": 74,
   "id": "5a0c4dc2",
   "metadata": {},
   "outputs": [],
   "source": [
    "d.update(b)"
   ]
  },
  {
   "cell_type": "code",
   "execution_count": 75,
   "id": "957d50a6",
   "metadata": {},
   "outputs": [
    {
     "data": {
      "text/plain": [
       "{'kk': 1, 'iol': [5, 6], 8: 12, 2: 12, 'ui': 5, 'oo': 6}"
      ]
     },
     "execution_count": 75,
     "metadata": {},
     "output_type": "execute_result"
    }
   ],
   "source": [
    "d"
   ]
  },
  {
   "cell_type": "code",
   "execution_count": 77,
   "id": "4ca83b7e",
   "metadata": {},
   "outputs": [
    {
     "data": {
      "text/plain": [
       "6"
      ]
     },
     "execution_count": 77,
     "metadata": {},
     "output_type": "execute_result"
    }
   ],
   "source": [
    "d.pop('oo')"
   ]
  },
  {
   "cell_type": "code",
   "execution_count": 78,
   "id": "bf21584e",
   "metadata": {},
   "outputs": [
    {
     "data": {
      "text/plain": [
       "{'kk': 1, 'iol': [5, 6], 8: 12, 2: 12, 'ui': 5}"
      ]
     },
     "execution_count": 78,
     "metadata": {},
     "output_type": "execute_result"
    }
   ],
   "source": [
    "d"
   ]
  },
  {
   "cell_type": "code",
   "execution_count": 79,
   "id": "7ab93d98",
   "metadata": {},
   "outputs": [],
   "source": [
    "del d[8]    ## del key"
   ]
  },
  {
   "cell_type": "code",
   "execution_count": 80,
   "id": "062d4241",
   "metadata": {},
   "outputs": [
    {
     "data": {
      "text/plain": [
       "{'kk': 1, 'iol': [5, 6], 2: 12, 'ui': 5}"
      ]
     },
     "execution_count": 80,
     "metadata": {},
     "output_type": "execute_result"
    }
   ],
   "source": [
    "d"
   ]
  },
  {
   "cell_type": "code",
   "execution_count": 81,
   "id": "a0ffce70",
   "metadata": {},
   "outputs": [],
   "source": [
    "d.clear()"
   ]
  },
  {
   "cell_type": "code",
   "execution_count": 82,
   "id": "ec8f85d0",
   "metadata": {},
   "outputs": [
    {
     "data": {
      "text/plain": [
       "{}"
      ]
     },
     "execution_count": 82,
     "metadata": {},
     "output_type": "execute_result"
    }
   ],
   "source": [
    "d"
   ]
  },
  {
   "cell_type": "markdown",
   "id": "0fba9fa1",
   "metadata": {},
   "source": [
    "## freq "
   ]
  },
  {
   "cell_type": "code",
   "execution_count": 3,
   "id": "7f6d1e5a",
   "metadata": {},
   "outputs": [],
   "source": [
    "a = \"he is acting oversmart lol is he\" \n",
    "s = a.split()"
   ]
  },
  {
   "cell_type": "code",
   "execution_count": 13,
   "id": "d67e2001",
   "metadata": {},
   "outputs": [
    {
     "data": {
      "text/plain": [
       "['he', 'is', 'acting', 'oversmart', 'lol', 'is', 'he']"
      ]
     },
     "execution_count": 13,
     "metadata": {},
     "output_type": "execute_result"
    }
   ],
   "source": [
    "s"
   ]
  },
  {
   "cell_type": "code",
   "execution_count": 5,
   "id": "aebfced5",
   "metadata": {},
   "outputs": [
    {
     "data": {
      "text/plain": [
       "{'he': 2, 'is': 2, 'acting': 1, 'oversmart': 1, 'lol': 1}"
      ]
     },
     "execution_count": 5,
     "metadata": {},
     "output_type": "execute_result"
    }
   ],
   "source": [
    "x = {}\n",
    "s \n",
    "for i in s:\n",
    "    x[i] = x.get(i,0) + 1\n",
    "x"
   ]
  },
  {
   "cell_type": "code",
   "execution_count": 9,
   "id": "75e7d192",
   "metadata": {},
   "outputs": [],
   "source": [
    "def anyfre(s):\n",
    "    x ={}\n",
    "    for i in s:\n",
    "        x[i] = x.get(i,0) + 1\n",
    "    return x"
   ]
  },
  {
   "cell_type": "code",
   "execution_count": 11,
   "id": "1a88dadf",
   "metadata": {},
   "outputs": [
    {
     "data": {
      "text/plain": [
       "{'he': 2, 'is': 2, 'acting': 1, 'oversmart': 1, 'lol': 1}"
      ]
     },
     "execution_count": 11,
     "metadata": {},
     "output_type": "execute_result"
    }
   ],
   "source": [
    "anyfre(s)"
   ]
  },
  {
   "cell_type": "code",
   "execution_count": 17,
   "id": "7c39f7e9",
   "metadata": {},
   "outputs": [],
   "source": [
    "def anyfre(s,p):\n",
    "    x ={}\n",
    "    for i in s:\n",
    "        x[i] = x.get(i,0) + 1\n",
    "    \n",
    "    for i in x:\n",
    "        if x[i] == p:\n",
    "            print(i)"
   ]
  },
  {
   "cell_type": "code",
   "execution_count": 18,
   "id": "b847f911",
   "metadata": {},
   "outputs": [
    {
     "name": "stdout",
     "output_type": "stream",
     "text": [
      "he\n",
      "is\n"
     ]
    }
   ],
   "source": [
    "p = 2\n",
    "anyfre(s,p)"
   ]
  },
  {
   "cell_type": "code",
   "execution_count": null,
   "id": "a4ef298d",
   "metadata": {},
   "outputs": [],
   "source": []
  },
  {
   "cell_type": "code",
   "execution_count": null,
   "id": "aa01e5c4",
   "metadata": {},
   "outputs": [],
   "source": []
  },
  {
   "cell_type": "markdown",
   "id": "7af60312",
   "metadata": {},
   "source": [
    "## Sets\n"
   ]
  },
  {
   "cell_type": "code",
   "execution_count": 21,
   "id": "0d41ac5f",
   "metadata": {},
   "outputs": [],
   "source": [
    "a ={4,2,\"jj\",\"ko\",6,7}"
   ]
  },
  {
   "cell_type": "code",
   "execution_count": 19,
   "id": "876f2114",
   "metadata": {},
   "outputs": [
    {
     "data": {
      "text/plain": [
       "str"
      ]
     },
     "execution_count": 19,
     "metadata": {},
     "output_type": "execute_result"
    }
   ],
   "source": [
    "type(a)"
   ]
  },
  {
   "cell_type": "code",
   "execution_count": 20,
   "id": "b86688af",
   "metadata": {},
   "outputs": [
    {
     "ename": "TypeError",
     "evalue": "'str' object does not support item assignment",
     "output_type": "error",
     "traceback": [
      "\u001b[1;31m---------------------------------------------------------------------------\u001b[0m",
      "\u001b[1;31mTypeError\u001b[0m                                 Traceback (most recent call last)",
      "\u001b[1;32m<ipython-input-20-81cf8d3d3187>\u001b[0m in \u001b[0;36m<module>\u001b[1;34m\u001b[0m\n\u001b[1;32m----> 1\u001b[1;33m \u001b[0ma\u001b[0m\u001b[1;33m[\u001b[0m\u001b[1;36m1\u001b[0m\u001b[1;33m]\u001b[0m \u001b[1;33m=\u001b[0m \u001b[1;34m\"huu\"\u001b[0m\u001b[1;33m\u001b[0m\u001b[1;33m\u001b[0m\u001b[0m\n\u001b[0m",
      "\u001b[1;31mTypeError\u001b[0m: 'str' object does not support item assignment"
     ]
    }
   ],
   "source": [
    "a[1] = \"huu\""
   ]
  },
  {
   "cell_type": "code",
   "execution_count": 25,
   "id": "8c51ec8f",
   "metadata": {},
   "outputs": [
    {
     "name": "stdout",
     "output_type": "stream",
     "text": [
      "2\n",
      "4\n",
      "6\n",
      "7\n",
      "hio\n",
      "ko\n",
      "jj\n"
     ]
    }
   ],
   "source": [
    "for i in a:\n",
    "    print(i)"
   ]
  },
  {
   "cell_type": "code",
   "execution_count": 23,
   "id": "79187b95",
   "metadata": {},
   "outputs": [],
   "source": [
    "a.add(\"hio\")"
   ]
  },
  {
   "cell_type": "code",
   "execution_count": 24,
   "id": "1994cc82",
   "metadata": {},
   "outputs": [
    {
     "data": {
      "text/plain": [
       "{2, 4, 6, 7, 'hio', 'jj', 'ko'}"
      ]
     },
     "execution_count": 24,
     "metadata": {},
     "output_type": "execute_result"
    }
   ],
   "source": [
    "a"
   ]
  },
  {
   "cell_type": "code",
   "execution_count": 26,
   "id": "e32f68e4",
   "metadata": {},
   "outputs": [],
   "source": [
    "b = \"hh\",99,\"kilo\""
   ]
  },
  {
   "cell_type": "code",
   "execution_count": 27,
   "id": "617b7789",
   "metadata": {},
   "outputs": [],
   "source": [
    "a.update(b)"
   ]
  },
  {
   "cell_type": "code",
   "execution_count": 28,
   "id": "2602cc2f",
   "metadata": {},
   "outputs": [
    {
     "data": {
      "text/plain": [
       "{2, 4, 6, 7, 99, 'hh', 'hio', 'jj', 'kilo', 'ko'}"
      ]
     },
     "execution_count": 28,
     "metadata": {},
     "output_type": "execute_result"
    }
   ],
   "source": [
    "a"
   ]
  },
  {
   "cell_type": "code",
   "execution_count": 29,
   "id": "245a7724",
   "metadata": {},
   "outputs": [
    {
     "data": {
      "text/plain": [
       "2"
      ]
     },
     "execution_count": 29,
     "metadata": {},
     "output_type": "execute_result"
    }
   ],
   "source": [
    "a.pop()"
   ]
  },
  {
   "cell_type": "code",
   "execution_count": 30,
   "id": "c0a21f03",
   "metadata": {},
   "outputs": [
    {
     "data": {
      "text/plain": [
       "{4, 6, 7, 99, 'hh', 'hio', 'jj', 'kilo', 'ko'}"
      ]
     },
     "execution_count": 30,
     "metadata": {},
     "output_type": "execute_result"
    }
   ],
   "source": [
    "a"
   ]
  },
  {
   "cell_type": "code",
   "execution_count": 31,
   "id": "38976481",
   "metadata": {},
   "outputs": [],
   "source": [
    "a.remove(\"hh\")"
   ]
  },
  {
   "cell_type": "code",
   "execution_count": 32,
   "id": "80949559",
   "metadata": {},
   "outputs": [
    {
     "data": {
      "text/plain": [
       "{4, 6, 7, 99, 'hio', 'jj', 'kilo', 'ko'}"
      ]
     },
     "execution_count": 32,
     "metadata": {},
     "output_type": "execute_result"
    }
   ],
   "source": [
    "a"
   ]
  },
  {
   "cell_type": "code",
   "execution_count": 33,
   "id": "494bfe70",
   "metadata": {},
   "outputs": [],
   "source": [
    "a.discard(99)"
   ]
  },
  {
   "cell_type": "code",
   "execution_count": 34,
   "id": "2802d562",
   "metadata": {},
   "outputs": [
    {
     "data": {
      "text/plain": [
       "{4, 6, 7, 'hio', 'jj', 'kilo', 'ko'}"
      ]
     },
     "execution_count": 34,
     "metadata": {},
     "output_type": "execute_result"
    }
   ],
   "source": [
    "a"
   ]
  },
  {
   "cell_type": "code",
   "execution_count": 35,
   "id": "273d8807",
   "metadata": {},
   "outputs": [],
   "source": [
    "a.discard(\"hhh\")"
   ]
  },
  {
   "cell_type": "code",
   "execution_count": 44,
   "id": "32c9510a",
   "metadata": {},
   "outputs": [],
   "source": [
    "a = {4,2,6,7,1}\n",
    "b = {3,1,5,9,10}"
   ]
  },
  {
   "cell_type": "code",
   "execution_count": 37,
   "id": "fa1f1bc6",
   "metadata": {},
   "outputs": [
    {
     "data": {
      "text/plain": [
       "{1, 2, 3, 4, 5, 6, 7, 9, 10}"
      ]
     },
     "execution_count": 37,
     "metadata": {},
     "output_type": "execute_result"
    }
   ],
   "source": [
    "a.union(b)"
   ]
  },
  {
   "cell_type": "code",
   "execution_count": 38,
   "id": "90679b5d",
   "metadata": {},
   "outputs": [
    {
     "data": {
      "text/plain": [
       "{2, 3, 4, 5, 6, 7, 9, 10}"
      ]
     },
     "execution_count": 38,
     "metadata": {},
     "output_type": "execute_result"
    }
   ],
   "source": [
    "a.symmetric_difference(b)    ## aub-anb"
   ]
  },
  {
   "cell_type": "code",
   "execution_count": 39,
   "id": "0973256f",
   "metadata": {},
   "outputs": [
    {
     "data": {
      "text/plain": [
       "{2, 4, 6, 7}"
      ]
     },
     "execution_count": 39,
     "metadata": {},
     "output_type": "execute_result"
    }
   ],
   "source": [
    "a.difference(b)"
   ]
  },
  {
   "cell_type": "code",
   "execution_count": 55,
   "id": "48d704e5",
   "metadata": {},
   "outputs": [],
   "source": [
    "a.intersection_update(b)"
   ]
  },
  {
   "cell_type": "code",
   "execution_count": 56,
   "id": "0ea7d42d",
   "metadata": {},
   "outputs": [
    {
     "data": {
      "text/plain": [
       "{8}"
      ]
     },
     "execution_count": 56,
     "metadata": {},
     "output_type": "execute_result"
    }
   ],
   "source": [
    "a"
   ]
  },
  {
   "cell_type": "code",
   "execution_count": 50,
   "id": "295bf47a",
   "metadata": {},
   "outputs": [],
   "source": [
    "a = {4,6,2,8}\n",
    "b = {8,5,3,7}"
   ]
  },
  {
   "cell_type": "code",
   "execution_count": 53,
   "id": "e926d7ca",
   "metadata": {},
   "outputs": [],
   "source": [
    "a.intersection_update(b)"
   ]
  },
  {
   "cell_type": "code",
   "execution_count": 54,
   "id": "28930183",
   "metadata": {},
   "outputs": [
    {
     "data": {
      "text/plain": [
       "{8}"
      ]
     },
     "execution_count": 54,
     "metadata": {},
     "output_type": "execute_result"
    }
   ],
   "source": [
    "a"
   ]
  },
  {
   "cell_type": "code",
   "execution_count": 58,
   "id": "ff5be83e",
   "metadata": {},
   "outputs": [],
   "source": [
    "a = {4,6,2,8}\n",
    "b = {8,5,3,7}\n",
    "c = {5,3,7}"
   ]
  },
  {
   "cell_type": "code",
   "execution_count": 59,
   "id": "631ea7a7",
   "metadata": {},
   "outputs": [
    {
     "data": {
      "text/plain": [
       "True"
      ]
     },
     "execution_count": 59,
     "metadata": {},
     "output_type": "execute_result"
    }
   ],
   "source": [
    "c.issubset(b)"
   ]
  },
  {
   "cell_type": "code",
   "execution_count": 60,
   "id": "dd500107",
   "metadata": {},
   "outputs": [
    {
     "data": {
      "text/plain": [
       "False"
      ]
     },
     "execution_count": 60,
     "metadata": {},
     "output_type": "execute_result"
    }
   ],
   "source": [
    "b.issuperset(a)"
   ]
  },
  {
   "cell_type": "code",
   "execution_count": 61,
   "id": "374a4313",
   "metadata": {},
   "outputs": [
    {
     "data": {
      "text/plain": [
       "True"
      ]
     },
     "execution_count": 61,
     "metadata": {},
     "output_type": "execute_result"
    }
   ],
   "source": [
    "b.issuperset(c)"
   ]
  },
  {
   "cell_type": "code",
   "execution_count": 63,
   "id": "eb74b421",
   "metadata": {},
   "outputs": [
    {
     "data": {
      "text/plain": [
       "False"
      ]
     },
     "execution_count": 63,
     "metadata": {},
     "output_type": "execute_result"
    }
   ],
   "source": [
    "b.isdisjoint(a)"
   ]
  },
  {
   "cell_type": "code",
   "execution_count": 65,
   "id": "1be6c132",
   "metadata": {},
   "outputs": [],
   "source": [
    "## refer final excercise ....crucial sets will not consider repetetive no"
   ]
  },
  {
   "cell_type": "code",
   "execution_count": 66,
   "id": "1bc47561",
   "metadata": {},
   "outputs": [],
   "source": [
    "a = set()"
   ]
  },
  {
   "cell_type": "code",
   "execution_count": 67,
   "id": "da170c22",
   "metadata": {},
   "outputs": [
    {
     "data": {
      "text/plain": [
       "set()"
      ]
     },
     "execution_count": 67,
     "metadata": {},
     "output_type": "execute_result"
    }
   ],
   "source": [
    "a"
   ]
  },
  {
   "cell_type": "code",
   "execution_count": 71,
   "id": "95f396bf",
   "metadata": {},
   "outputs": [],
   "source": [
    "def sett(l):\n",
    "    b = set()\n",
    "    for i in l:  ## set created\n",
    "        b.add(i)                   ## only once will consider no inside set\n",
    "    sum = 0\n",
    "    for j in b:\n",
    "        sum = sum +j\n",
    "    \n",
    "    print(sum)\n",
    "        "
   ]
  },
  {
   "cell_type": "code",
   "execution_count": 72,
   "id": "fb1fff8f",
   "metadata": {},
   "outputs": [
    {
     "name": "stdout",
     "output_type": "stream",
     "text": [
      "23\n"
     ]
    }
   ],
   "source": [
    "l = (4,5,8,2,1,3,1)\n",
    "sett(l)"
   ]
  },
  {
   "cell_type": "code",
   "execution_count": null,
   "id": "3ddb68e0",
   "metadata": {},
   "outputs": [],
   "source": []
  },
  {
   "cell_type": "code",
   "execution_count": null,
   "id": "75ce8b5f",
   "metadata": {},
   "outputs": [],
   "source": []
  },
  {
   "cell_type": "code",
   "execution_count": null,
   "id": "800a9286",
   "metadata": {},
   "outputs": [],
   "source": []
  },
  {
   "cell_type": "code",
   "execution_count": null,
   "id": "afdbb756",
   "metadata": {},
   "outputs": [],
   "source": []
  },
  {
   "cell_type": "code",
   "execution_count": null,
   "id": "3f3991de",
   "metadata": {},
   "outputs": [],
   "source": []
  },
  {
   "cell_type": "code",
   "execution_count": null,
   "id": "fc0e82f7",
   "metadata": {},
   "outputs": [],
   "source": []
  },
  {
   "cell_type": "code",
   "execution_count": null,
   "id": "63cc3cd9",
   "metadata": {},
   "outputs": [],
   "source": []
  },
  {
   "cell_type": "code",
   "execution_count": null,
   "id": "dc41b26d",
   "metadata": {},
   "outputs": [],
   "source": []
  },
  {
   "cell_type": "code",
   "execution_count": null,
   "id": "47730ed7",
   "metadata": {},
   "outputs": [],
   "source": []
  }
 ],
 "metadata": {
  "kernelspec": {
   "display_name": "Python 3",
   "language": "python",
   "name": "python3"
  },
  "language_info": {
   "codemirror_mode": {
    "name": "ipython",
    "version": 3
   },
   "file_extension": ".py",
   "mimetype": "text/x-python",
   "name": "python",
   "nbconvert_exporter": "python",
   "pygments_lexer": "ipython3",
   "version": "3.8.8"
  }
 },
 "nbformat": 4,
 "nbformat_minor": 5
}
