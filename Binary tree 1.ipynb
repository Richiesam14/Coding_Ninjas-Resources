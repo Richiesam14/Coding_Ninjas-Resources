{
 "cells": [
  {
   "cell_type": "markdown",
   "id": "7d7b6d9f",
   "metadata": {},
   "source": [
    "## exercise Roman to Integer using Dict"
   ]
  },
  {
   "cell_type": "code",
   "execution_count": null,
   "id": "35db3857",
   "metadata": {},
   "outputs": [],
   "source": [
    "def Rom(s):\n",
    "    res, prev = 0, 0\n",
    "\tdict = {'I':1, 'V':5, 'X':10, 'L':50, 'C':100, 'D':500, 'M':1000}\n",
    "\tfor i in s[::-1]:          # rev the s important\n",
    "\t\tif dict[i] >= prev:\n",
    "\t\t\tres += dict[i]     # sum the value iff previous value same or more\n",
    "\t\telse:\n",
    "\t\t\tres -= dict[i]     # substract when value is like \"IV\" --> 5-1, \"IX\" --> 10 -1 etc \n",
    "\t\tprev = dict[i]\n",
    "\treturn res"
   ]
  },
  {
   "cell_type": "code",
   "execution_count": 83,
   "id": "bff6ebd0",
   "metadata": {},
   "outputs": [],
   "source": [
    "s = [\"synod\"]\n",
    "b = [\"symonds\"]\n",
    "i = 0\n",
    "                                        ## start stop diff   rev\n",
    "while i < len(s):\n",
    "    if s[i] != b[i]:            ## strs = [\"max- flower\",\"flow\", min -\"flight\"\"]  min max - based on asci\n",
    "        s = s[:i]\n",
    "\n",
    "        i +=1\n",
    "    \n",
    "    \n",
    "    "
   ]
  },
  {
   "cell_type": "code",
   "execution_count": 62,
   "id": "46d80248",
   "metadata": {},
   "outputs": [
    {
     "name": "stdout",
     "output_type": "stream",
     "text": [
      "5\n",
      "6\n",
      "7\n",
      "8\n",
      "9\n"
     ]
    }
   ],
   "source": [
    "s = 5\n",
    "for i in range (s,s+5):\n",
    "    print(i)\n",
    "    "
   ]
  },
  {
   "cell_type": "code",
   "execution_count": null,
   "id": "de96ee64",
   "metadata": {},
   "outputs": [],
   "source": []
  },
  {
   "cell_type": "code",
   "execution_count": null,
   "id": "f4afff3e",
   "metadata": {},
   "outputs": [],
   "source": []
  },
  {
   "cell_type": "code",
   "execution_count": 72,
   "id": "96893110",
   "metadata": {},
   "outputs": [
    {
     "name": "stdout",
     "output_type": "stream",
     "text": [
      "Max of 4,12,43.3,19 and 100 is : flower\n",
      "flight\n"
     ]
    }
   ],
   "source": [
    "print(\"Max of 4,12,43.3,19 and 100 is : \",end=\"\" )\n",
    "print (max( \"flower\",\"flow\",\"flight\" ) )\n",
    "print (min( \"flower\",\"flow\",\"flight\" ) )\n",
    "\n"
   ]
  },
  {
   "cell_type": "code",
   "execution_count": null,
   "id": "5e96a974",
   "metadata": {},
   "outputs": [],
   "source": []
  },
  {
   "cell_type": "markdown",
   "id": "ac776473",
   "metadata": {},
   "source": [
    "##  Binary tree   "
   ]
  },
  {
   "cell_type": "code",
   "execution_count": 15,
   "id": "2f43f5a2",
   "metadata": {},
   "outputs": [],
   "source": [
    "class Node:\n",
    "    def __init__(self,data):\n",
    "        self.data = data\n",
    "        self.left = None\n",
    "        self.right = None\n",
    "        \n",
    "                                            \n",
    "    \n",
    "         "
   ]
  },
  {
   "cell_type": "code",
   "execution_count": 24,
   "id": "f0335c98",
   "metadata": {},
   "outputs": [],
   "source": [
    "def argh(root):                                 ## easy \n",
    "    if root == None:\n",
    "        return \n",
    "    print(root.data,end = \":\")\n",
    "    if root.left != None:\n",
    "        print(\"L\",root.left.data, end = \",\")\n",
    "    if root.right != None:\n",
    "        print(\"R\",root.right.data, end = \"\")\n",
    "    print()\n",
    "    argh(root.left)\n",
    "    argh(root.right)\n",
    "        \n",
    "        \n",
    "        "
   ]
  },
  {
   "cell_type": "code",
   "execution_count": 23,
   "id": "a113112a",
   "metadata": {},
   "outputs": [
    {
     "name": "stdout",
     "output_type": "stream",
     "text": [
      "1:L 3,R 2\n",
      "3:L 6,R 7\n",
      "6:\n",
      "7:\n",
      "2:\n"
     ]
    }
   ],
   "source": [
    "s = argh(bs1)"
   ]
  },
  {
   "cell_type": "code",
   "execution_count": 22,
   "id": "7dd27469",
   "metadata": {},
   "outputs": [],
   "source": [
    "bs1 = Node(1)\n",
    "bs2 = Node(3)\n",
    "bs3 = Node(2)\n",
    "bs4 = Node(6)\n",
    "bs5 = Node(7)\n",
    "bs1.left = bs2\n",
    "bs1.right = bs3\n",
    "bs2.left = bs4\n",
    "bs2.right = bs5\n",
    "\n"
   ]
  },
  {
   "cell_type": "markdown",
   "id": "bb5be606",
   "metadata": {},
   "source": [
    "## custom input"
   ]
  },
  {
   "cell_type": "code",
   "execution_count": 55,
   "id": "3172be1c",
   "metadata": {},
   "outputs": [],
   "source": [
    "class Node:\n",
    "    def __init__(self,data):\n",
    "        self.data = data\n",
    "        self.left = None\n",
    "        self.right = None"
   ]
  },
  {
   "cell_type": "code",
   "execution_count": 56,
   "id": "8ec6c35c",
   "metadata": {},
   "outputs": [],
   "source": [
    "## function\n",
    "\n",
    "def argh(root):                                 ## easy \n",
    "    if root == None:\n",
    "        return \n",
    "    print(root.data,end = \":\")\n",
    "    if root.left != None:\n",
    "        print(\"L\",root.left.data, end = \",\")\n",
    "    if root.right != None:\n",
    "        print(\"R\",root.right.data, end = \"\")\n",
    "    print()\n",
    "    argh(root.left)\n",
    "    argh(root.right)\n",
    "        \n",
    "        \n",
    "        "
   ]
  },
  {
   "cell_type": "code",
   "execution_count": 57,
   "id": "22d6643c",
   "metadata": {},
   "outputs": [],
   "source": [
    "## main input\n",
    "\n",
    "def biroot():\n",
    "    rootinp = int(input())\n",
    "    if rootinp == -1:\n",
    "        return None\n",
    "    \n",
    "    root = Node(rootinp)\n",
    "    leftroot = biroot()\n",
    "    rightroot = biroot()\n",
    "    root.left = leftroot\n",
    "    root.right = rightroot\n",
    "    \n",
    "    return root\n",
    "\n",
    "    \n",
    "    "
   ]
  },
  {
   "cell_type": "code",
   "execution_count": 59,
   "id": "6bca7ded",
   "metadata": {
    "scrolled": false
   },
   "outputs": [
    {
     "name": "stdout",
     "output_type": "stream",
     "text": [
      "2\n",
      "3\n",
      "4\n",
      "-1\n",
      "-1\n",
      "-1\n",
      "7\n",
      "-1\n",
      "-1\n",
      "2:L 3,R 7\n",
      "3:L 4,\n",
      "4:\n",
      "7:\n"
     ]
    }
   ],
   "source": [
    "root = biroot()\n",
    "argh(root)"
   ]
  },
  {
   "cell_type": "code",
   "execution_count": null,
   "id": "66b388d8",
   "metadata": {},
   "outputs": [],
   "source": [
    "## numof nodes"
   ]
  },
  {
   "cell_type": "code",
   "execution_count": 46,
   "id": "644d5f8d",
   "metadata": {},
   "outputs": [
    {
     "name": "stdout",
     "output_type": "stream",
     "text": [
      "3\n"
     ]
    }
   ],
   "source": [
    "def numNodes(root):\n",
    "    if root==None:\n",
    "        return 0\n",
    "    leftCount=numNodes(root.left)\n",
    "    rightCount=numNodes(root.right)\n",
    "    return leftCount+rightCount+1\n",
    "\n",
    "\n",
    "\n",
    "\n",
    "print(numNodes(root))"
   ]
  },
  {
   "cell_type": "code",
   "execution_count": null,
   "id": "6265d9db",
   "metadata": {},
   "outputs": [],
   "source": [
    "## sum of nodes"
   ]
  },
  {
   "cell_type": "code",
   "execution_count": 51,
   "id": "0489f414",
   "metadata": {},
   "outputs": [
    {
     "name": "stdout",
     "output_type": "stream",
     "text": [
      "8\n"
     ]
    }
   ],
   "source": [
    "def sumNodes(root):\n",
    "    if root==None:\n",
    "        return 0\n",
    "    leftCount= sumNodes(root.left)     ## recursion\n",
    "    rightCount=sumNodes(root.right)\n",
    "    return root.data+leftCount+rightCount\n",
    "\n",
    "\n",
    "\n",
    "\n",
    "print(sumNodes(root))"
   ]
  },
  {
   "cell_type": "markdown",
   "id": "31310616",
   "metadata": {},
   "source": [
    "## largest data in Tree"
   ]
  },
  {
   "cell_type": "code",
   "execution_count": 53,
   "id": "d6da9893",
   "metadata": {},
   "outputs": [
    {
     "name": "stdout",
     "output_type": "stream",
     "text": [
      "5\n"
     ]
    }
   ],
   "source": [
    "def largest(root):\n",
    "    if root == None:\n",
    "        return 0\n",
    "    largestleft = largest(root.left)\n",
    "    largestright = largest(root.left)     ## recursion\n",
    "    large = max(largestright,largestleft,root.data)\n",
    "    return large \n",
    "\n",
    "print(largest(root))"
   ]
  },
  {
   "cell_type": "markdown",
   "id": "8be8b66a",
   "metadata": {},
   "source": [
    "## Leaf"
   ]
  },
  {
   "cell_type": "code",
   "execution_count": 63,
   "id": "f0dbd601",
   "metadata": {},
   "outputs": [
    {
     "name": "stdout",
     "output_type": "stream",
     "text": [
      "2\n"
     ]
    }
   ],
   "source": [
    "def leafn(root):\n",
    "    if root == None:\n",
    "        return 0\n",
    "    if root.left == None and root.right == None:   ## recursion\n",
    "        return 1\n",
    "    leftleaf = leafn(root.left)\n",
    "    rightleaf = leafn(root.right)                 ## understand the structure of leaf\n",
    "    return leftleaf + rightleaf\n",
    "\n",
    "\n",
    "    \n",
    "s = leafn(root)\n",
    "print(s)"
   ]
  },
  {
   "cell_type": "code",
   "execution_count": null,
   "id": "b66d234d",
   "metadata": {},
   "outputs": [],
   "source": []
  },
  {
   "cell_type": "markdown",
   "id": "335eff47",
   "metadata": {},
   "source": [
    "## node at depth  k-lvlwise"
   ]
  },
  {
   "cell_type": "code",
   "execution_count": null,
   "id": "819f8699",
   "metadata": {},
   "outputs": [],
   "source": []
  },
  {
   "cell_type": "code",
   "execution_count": null,
   "id": "8bee1cc6",
   "metadata": {},
   "outputs": [],
   "source": []
  },
  {
   "cell_type": "code",
   "execution_count": null,
   "id": "46330fec",
   "metadata": {},
   "outputs": [],
   "source": []
  },
  {
   "cell_type": "code",
   "execution_count": null,
   "id": "4ec633ec",
   "metadata": {},
   "outputs": [],
   "source": []
  },
  {
   "cell_type": "code",
   "execution_count": null,
   "id": "ca1dca79",
   "metadata": {},
   "outputs": [],
   "source": []
  },
  {
   "cell_type": "code",
   "execution_count": null,
   "id": "a4f647d6",
   "metadata": {},
   "outputs": [],
   "source": []
  },
  {
   "cell_type": "code",
   "execution_count": null,
   "id": "4ba773b7",
   "metadata": {},
   "outputs": [],
   "source": []
  },
  {
   "cell_type": "code",
   "execution_count": null,
   "id": "4bce1497",
   "metadata": {},
   "outputs": [],
   "source": []
  },
  {
   "cell_type": "code",
   "execution_count": null,
   "id": "eef822a7",
   "metadata": {},
   "outputs": [],
   "source": []
  },
  {
   "cell_type": "code",
   "execution_count": null,
   "id": "b68c5dbd",
   "metadata": {},
   "outputs": [],
   "source": []
  },
  {
   "cell_type": "code",
   "execution_count": null,
   "id": "25ae953e",
   "metadata": {},
   "outputs": [],
   "source": []
  },
  {
   "cell_type": "code",
   "execution_count": null,
   "id": "d884fe7c",
   "metadata": {},
   "outputs": [],
   "source": []
  },
  {
   "cell_type": "code",
   "execution_count": 10,
   "id": "8b2d0a27",
   "metadata": {},
   "outputs": [
    {
     "name": "stdout",
     "output_type": "stream",
     "text": [
      "1999348514919413336\n"
     ]
    }
   ],
   "source": [
    "var = ('G','E','E','K')\n",
    " \n",
    "print(hash(var))"
   ]
  },
  {
   "cell_type": "code",
   "execution_count": null,
   "id": "a0843d44",
   "metadata": {},
   "outputs": [],
   "source": []
  },
  {
   "cell_type": "code",
   "execution_count": null,
   "id": "33401887",
   "metadata": {},
   "outputs": [],
   "source": []
  },
  {
   "cell_type": "code",
   "execution_count": null,
   "id": "d528738d",
   "metadata": {},
   "outputs": [],
   "source": []
  },
  {
   "cell_type": "code",
   "execution_count": null,
   "id": "2122ebc1",
   "metadata": {},
   "outputs": [],
   "source": []
  },
  {
   "cell_type": "code",
   "execution_count": null,
   "id": "3cda1bf3",
   "metadata": {},
   "outputs": [],
   "source": []
  },
  {
   "cell_type": "code",
   "execution_count": null,
   "id": "d3ca5b6d",
   "metadata": {},
   "outputs": [],
   "source": []
  }
 ],
 "metadata": {
  "kernelspec": {
   "display_name": "Python 3 (ipykernel)",
   "language": "python",
   "name": "python3"
  },
  "language_info": {
   "codemirror_mode": {
    "name": "ipython",
    "version": 3
   },
   "file_extension": ".py",
   "mimetype": "text/x-python",
   "name": "python",
   "nbconvert_exporter": "python",
   "pygments_lexer": "ipython3",
   "version": "3.9.7"
  }
 },
 "nbformat": 4,
 "nbformat_minor": 5
}
