{
 "cells": [
  {
   "cell_type": "markdown",
   "id": "791984b2",
   "metadata": {},
   "source": [
    "## binary search"
   ]
  },
  {
   "cell_type": "code",
   "execution_count": 23,
   "id": "2b98127f",
   "metadata": {},
   "outputs": [],
   "source": [
    "def binary_search(array,element):                  ##[1,5,12,9,2,8] easy concept imp\n",
    "    a = 0\n",
    "    b = len(array)-1\n",
    "    while a <= b:\n",
    "        middle = (a + b)//2\n",
    "        if element == array[middle]:\n",
    "            print(\"Hey you found it\",middle)\n",
    "            break\n",
    "        elif element < array[middle]:\n",
    "            b = middle - 1\n",
    "        else:\n",
    "            a = middle + 1\n",
    "            \n",
    "    return"
   ]
  },
  {
   "cell_type": "code",
   "execution_count": 24,
   "id": "7199e303",
   "metadata": {},
   "outputs": [
    {
     "name": "stdout",
     "output_type": "stream",
     "text": [
      "Hey you found it 3\n"
     ]
    }
   ],
   "source": [
    "array = [1,5,12,19,22,25]\n",
    "ele = 19\n",
    "binary_search(array, ele)"
   ]
  },
  {
   "cell_type": "code",
   "execution_count": null,
   "id": "a37403bb",
   "metadata": {},
   "outputs": [],
   "source": []
  },
  {
   "cell_type": "markdown",
   "id": "4242a06f",
   "metadata": {},
   "source": [
    "## Selection sort"
   ]
  },
  {
   "cell_type": "code",
   "execution_count": 25,
   "id": "e6ddf20d",
   "metadata": {},
   "outputs": [
    {
     "name": "stdout",
     "output_type": "stream",
     "text": [
      "0\n",
      "1\n",
      "2\n",
      "3\n",
      "4\n",
      "5\n",
      "6\n",
      "7\n",
      "8\n",
      "9\n"
     ]
    }
   ],
   "source": [
    "for i in range(10):\n",
    "    print(i)\n",
    "        "
   ]
  },
  {
   "cell_type": "code",
   "execution_count": 10,
   "id": "ad1b1f01",
   "metadata": {},
   "outputs": [],
   "source": [
    "def selection_sort(arr):              ## array = [13,4,5,9,8,3] ec\n",
    "    for i in range(len(arr)):\n",
    "        minindex = i                         ## 0+1, this would check  &  starts from 0\n",
    "        for j in range(i+1,len(arr)):\n",
    "            if arr[j] < arr[minindex]:    ## ref print\n",
    "                minindex = j\n",
    "            print(arr)\n",
    "        arr[i],arr[minindex] = arr[minindex],arr[i]    ## at this point loop inside and increment arr[j] 4,5,9,8,3 for to check if \n",
    "        \n",
    "            \n",
    "    return arr\n",
    "        "
   ]
  },
  {
   "cell_type": "code",
   "execution_count": 11,
   "id": "c75169ee",
   "metadata": {},
   "outputs": [
    {
     "name": "stdout",
     "output_type": "stream",
     "text": [
      "[13, 4, 5, 9, 8, 3]\n",
      "[13, 4, 5, 9, 8, 3]\n",
      "[13, 4, 5, 9, 8, 3]\n",
      "[13, 4, 5, 9, 8, 3]\n",
      "[13, 4, 5, 9, 8, 3]\n",
      "[3, 4, 5, 9, 8, 13]\n",
      "[3, 4, 5, 9, 8, 13]\n",
      "[3, 4, 5, 9, 8, 13]\n",
      "[3, 4, 5, 9, 8, 13]\n",
      "[3, 4, 5, 9, 8, 13]\n",
      "[3, 4, 5, 9, 8, 13]\n",
      "[3, 4, 5, 9, 8, 13]\n",
      "[3, 4, 5, 9, 8, 13]\n",
      "[3, 4, 5, 9, 8, 13]\n",
      "[3, 4, 5, 8, 9, 13]\n"
     ]
    },
    {
     "data": {
      "text/plain": [
       "[3, 4, 5, 8, 9, 13]"
      ]
     },
     "execution_count": 11,
     "metadata": {},
     "output_type": "execute_result"
    }
   ],
   "source": [
    "arr = [13,4,5,9,8,3]\n",
    "selection_sort(arr)"
   ]
  },
  {
   "cell_type": "code",
   "execution_count": 14,
   "id": "7b1c1a02",
   "metadata": {},
   "outputs": [
    {
     "name": "stdout",
     "output_type": "stream",
     "text": [
      "1\n",
      "2\n",
      "3\n",
      "4\n",
      "5\n",
      "hello\n",
      "2\n",
      "3\n",
      "4\n",
      "5\n",
      "hello\n",
      "3\n",
      "4\n",
      "5\n",
      "hello\n",
      "4\n",
      "5\n",
      "hello\n",
      "5\n",
      "hello\n",
      "hello\n"
     ]
    }
   ],
   "source": [
    "for i in range(6):\n",
    "    for j in range(i+1,6):\n",
    "        print(j)\n",
    "    print(\"hello\")"
   ]
  },
  {
   "cell_type": "markdown",
   "id": "78609e37",
   "metadata": {},
   "source": [
    "## bubble sort"
   ]
  },
  {
   "cell_type": "code",
   "execution_count": 7,
   "id": "a417cebf",
   "metadata": {},
   "outputs": [],
   "source": [
    "def bubble_sort(A):                            ## [8,5,3,1] <[5,8,3,1]<[5,3,8,1]<[5,3,1,8]<[3,5,1,8]<[3,1,5,8]<[1,3,5,8]\n",
    "    for i in range(len(A)):\n",
    "        for j in range(len(A)-1):\n",
    "            print(\"hey you\",j)           ## to understand the flow\n",
    "            if A[j] > A[j+1]:\n",
    "                A[j],A[j+1] = A[j+1],A[j]\n",
    "            \n",
    "    return A\n",
    "            "
   ]
  },
  {
   "cell_type": "code",
   "execution_count": 8,
   "id": "a7c028dc",
   "metadata": {},
   "outputs": [
    {
     "name": "stdout",
     "output_type": "stream",
     "text": [
      "hey you 0\n",
      "hey you 1\n",
      "hey you 2\n",
      "hey you 0\n",
      "hey you 1\n",
      "hey you 2\n",
      "hey you 0\n",
      "hey you 1\n",
      "hey you 2\n",
      "hey you 0\n",
      "hey you 1\n",
      "hey you 2\n"
     ]
    },
    {
     "data": {
      "text/plain": [
       "[1, 3, 5, 8]"
      ]
     },
     "execution_count": 8,
     "metadata": {},
     "output_type": "execute_result"
    }
   ],
   "source": [
    "A = [8,5,3,1]\n",
    "bubble_sort(A)"
   ]
  },
  {
   "cell_type": "markdown",
   "id": "3b4af387",
   "metadata": {},
   "source": []
  },
  {
   "cell_type": "code",
   "execution_count": null,
   "id": "8f4250f7",
   "metadata": {},
   "outputs": [],
   "source": []
  },
  {
   "cell_type": "markdown",
   "id": "9136d434",
   "metadata": {},
   "source": [
    "## Insert sort"
   ]
  },
  {
   "cell_type": "code",
   "execution_count": 30,
   "id": "6b6ac679",
   "metadata": {},
   "outputs": [],
   "source": [
    "def insertionSort(arr):                      ## cocncept is super imp for all sorting , has to be scrutinized deep\n",
    "                                             ##[9,8,5,6,7,1,10,11] = 8      frst sorted and next 2 and sort with before\n",
    "    length = len(arr)\n",
    "    for i in range(1,length):                   ## from 1 \n",
    "        j=i-1                                   ## 1-1 = 0 ,1,2,3,4\n",
    "        temp = arr[i]                           ## 8,5,6,7...\n",
    "        \n",
    "        \n",
    "        #Shifting elements till this condition holds\n",
    "        while(j>=0 and arr[j] > temp):        ## 9 > 8 , 8 > 5   [5,8,9]\n",
    "            arr[j+1] = arr[j]                 ## 8 = 9  ,5 = 8        [8,9,5,6,7,1,10,11] [5,8,9,6,7,1,10,11],[5,6,8,9,7,1,10,11]\n",
    "            j = j - 1                         ## 0-1\n",
    "        # j+1 is correct position for ith element\n",
    "        arr[j+1] = temp    ## atlast this gonna store all sorted things\n",
    "\n"
   ]
  },
  {
   "cell_type": "code",
   "execution_count": 31,
   "id": "21803eb5",
   "metadata": {},
   "outputs": [
    {
     "name": "stdout",
     "output_type": "stream",
     "text": [
      "[1, 5, 6, 7, 8, 9, 10, 11]\n"
     ]
    }
   ],
   "source": [
    "arr = [9,8,5,6,7,1,10,11]\n",
    "insertionSort(arr)\n",
    "print(arr)\n"
   ]
  },
  {
   "cell_type": "code",
   "execution_count": null,
   "id": "c847266e",
   "metadata": {},
   "outputs": [],
   "source": []
  },
  {
   "cell_type": "code",
   "execution_count": null,
   "id": "c9ef4a18",
   "metadata": {},
   "outputs": [],
   "source": []
  },
  {
   "cell_type": "code",
   "execution_count": null,
   "id": "f6b4070f",
   "metadata": {},
   "outputs": [],
   "source": []
  },
  {
   "cell_type": "markdown",
   "id": "280639fd",
   "metadata": {},
   "source": [
    "## swap Alternative"
   ]
  },
  {
   "cell_type": "code",
   "execution_count": 128,
   "id": "22d937a1",
   "metadata": {},
   "outputs": [],
   "source": [
    "def swapAlternate(li):\n",
    "    length =len(li)    ## [1,5,9,6,16,28,52,5] = 8 \n",
    "    for i in range(length):\n",
    "        li[i],li[i+1] = li[i+1],li[i]\n",
    "        return li\n",
    "        \n",
    "    "
   ]
  },
  {
   "cell_type": "code",
   "execution_count": 129,
   "id": "6de94ba3",
   "metadata": {},
   "outputs": [
    {
     "data": {
      "text/plain": [
       "[5, 1, 9, 6, 16, 28, 52, 5]"
      ]
     },
     "execution_count": 129,
     "metadata": {},
     "output_type": "execute_result"
    }
   ],
   "source": [
    "li = [1,5,9,6,16,28,52,5]\n",
    "swapAlternate(li)"
   ]
  },
  {
   "cell_type": "code",
   "execution_count": null,
   "id": "1d6a4d62",
   "metadata": {},
   "outputs": [],
   "source": []
  },
  {
   "cell_type": "code",
   "execution_count": 41,
   "id": "c3e74605",
   "metadata": {},
   "outputs": [
    {
     "name": "stdout",
     "output_type": "stream",
     "text": [
      "3\n",
      "3 1 9\n",
      "13\n"
     ]
    }
   ],
   "source": [
    "## practice sum of array +  sep space \n",
    "k = int(input())\n",
    "li = [int(x)for x in input().split()]\n",
    "s = 0\n",
    "for i in range (len(li)):      ## watch out i & li\n",
    "    s = s+li[i]\n",
    "print(s)"
   ]
  },
  {
   "cell_type": "markdown",
   "id": "71b91388",
   "metadata": {},
   "source": [
    "## Merged Sort"
   ]
  },
  {
   "cell_type": "code",
   "execution_count": null,
   "id": "8c439003",
   "metadata": {},
   "outputs": [],
   "source": []
  },
  {
   "cell_type": "code",
   "execution_count": null,
   "id": "c10a6912",
   "metadata": {},
   "outputs": [],
   "source": []
  },
  {
   "cell_type": "code",
   "execution_count": null,
   "id": "8888988e",
   "metadata": {},
   "outputs": [],
   "source": []
  },
  {
   "cell_type": "code",
   "execution_count": null,
   "id": "32b69b67",
   "metadata": {},
   "outputs": [],
   "source": []
  },
  {
   "cell_type": "code",
   "execution_count": null,
   "id": "fdbb5a30",
   "metadata": {},
   "outputs": [],
   "source": []
  },
  {
   "cell_type": "code",
   "execution_count": null,
   "id": "2f6e6858",
   "metadata": {},
   "outputs": [],
   "source": []
  },
  {
   "cell_type": "code",
   "execution_count": null,
   "id": "5fff4f22",
   "metadata": {},
   "outputs": [],
   "source": []
  },
  {
   "cell_type": "code",
   "execution_count": null,
   "id": "91eba62f",
   "metadata": {},
   "outputs": [],
   "source": []
  },
  {
   "cell_type": "code",
   "execution_count": null,
   "id": "3bbf3824",
   "metadata": {},
   "outputs": [],
   "source": []
  },
  {
   "cell_type": "code",
   "execution_count": null,
   "id": "ae1d16df",
   "metadata": {},
   "outputs": [],
   "source": []
  }
 ],
 "metadata": {
  "kernelspec": {
   "display_name": "Python 3",
   "language": "python",
   "name": "python3"
  },
  "language_info": {
   "codemirror_mode": {
    "name": "ipython",
    "version": 3
   },
   "file_extension": ".py",
   "mimetype": "text/x-python",
   "name": "python",
   "nbconvert_exporter": "python",
   "pygments_lexer": "ipython3",
   "version": "3.8.8"
  }
 },
 "nbformat": 4,
 "nbformat_minor": 5
}
