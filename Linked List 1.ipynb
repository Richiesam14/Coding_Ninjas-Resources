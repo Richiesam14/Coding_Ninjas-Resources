{
 "cells": [
  {
   "cell_type": "markdown",
   "id": "074c373a",
   "metadata": {},
   "source": [
    "## linked list concept"
   ]
  },
  {
   "cell_type": "code",
   "execution_count": 9,
   "id": "0356103c",
   "metadata": {},
   "outputs": [],
   "source": [
    "class scy:\n",
    "    def __init__(self,data):\n",
    "        self.data = data\n",
    "        self.next = None"
   ]
  },
  {
   "cell_type": "code",
   "execution_count": 16,
   "id": "3f1a47e2",
   "metadata": {},
   "outputs": [],
   "source": [
    "def son(head):\n",
    "    while head is not None:\n",
    "        print(head.data,end = \" \")\n",
    "        head = head.next"
   ]
  },
  {
   "cell_type": "code",
   "execution_count": 17,
   "id": "134d044f",
   "metadata": {},
   "outputs": [
    {
     "name": "stdout",
     "output_type": "stream",
     "text": [
      "5 6 7 "
     ]
    }
   ],
   "source": [
    "k = scy(4)\n",
    "s = scy(5)\n",
    "g = scy(6)\n",
    "h = scy(7)\n",
    "k.next = s\n",
    "s.next = g\n",
    "g.next = h\n",
    "son(s)"
   ]
  },
  {
   "cell_type": "code",
   "execution_count": null,
   "id": "1c9d781a",
   "metadata": {},
   "outputs": [],
   "source": []
  },
  {
   "cell_type": "code",
   "execution_count": null,
   "id": "b5aad471",
   "metadata": {},
   "outputs": [],
   "source": [
    "class scy:\n",
    "    def __init__(self,data):\n",
    "        self.data = data\n",
    "        self.next = None"
   ]
  },
  {
   "cell_type": "code",
   "execution_count": null,
   "id": "641f6546",
   "metadata": {},
   "outputs": [],
   "source": []
  },
  {
   "cell_type": "markdown",
   "id": "c20171f0",
   "metadata": {},
   "source": [
    "## linked  without optimizat"
   ]
  },
  {
   "cell_type": "code",
   "execution_count": 117,
   "id": "37874569",
   "metadata": {},
   "outputs": [],
   "source": [
    "class node:\n",
    "    def __init__(self,data):\n",
    "        self.data = data\n",
    "        self.next = None  \n",
    "            "
   ]
  },
  {
   "cell_type": "code",
   "execution_count": 116,
   "id": "aca53ebb",
   "metadata": {
    "scrolled": true
   },
   "outputs": [],
   "source": [
    " def loot():\n",
    "        s = [int (i) for i in input().split()]    ## [1,5,3,7,9,-1]\n",
    "        head = None   ## (head node  and ref  )\n",
    "        \n",
    "        for i in s:\n",
    "            if i == -1:\n",
    "                break\n",
    "            new = node(i)       ## has to break prior getting new node\n",
    "            if head is None :\n",
    "                head = new\n",
    "            else:\n",
    "                curr = head\n",
    "                while curr.next is not None:\n",
    "                    curr=curr.next\n",
    "                curr.next=new\n",
    "        return head"
   ]
  },
  {
   "cell_type": "code",
   "execution_count": 118,
   "id": "0bf0f231",
   "metadata": {},
   "outputs": [
    {
     "name": "stdout",
     "output_type": "stream",
     "text": [
      "4 5 2 8 9 -1\n"
     ]
    }
   ],
   "source": [
    "s = loot()"
   ]
  },
  {
   "cell_type": "code",
   "execution_count": 71,
   "id": "43223203",
   "metadata": {
    "scrolled": true
   },
   "outputs": [
    {
     "name": "stdout",
     "output_type": "stream",
     "text": [
      "1 2 5 8 9 -1\n"
     ]
    },
    {
     "ename": "AttributeError",
     "evalue": "'int' object has no attribute 'next'",
     "output_type": "error",
     "traceback": [
      "\u001b[1;31m---------------------------------------------------------------------------\u001b[0m",
      "\u001b[1;31mAttributeError\u001b[0m                            Traceback (most recent call last)",
      "\u001b[1;32m~\\AppData\\Local\\Temp/ipykernel_13344/2125935689.py\u001b[0m in \u001b[0;36m<module>\u001b[1;34m\u001b[0m\n\u001b[1;32m----> 1\u001b[1;33m \u001b[0mhead\u001b[0m \u001b[1;33m=\u001b[0m \u001b[0mloot\u001b[0m\u001b[1;33m(\u001b[0m\u001b[1;33m)\u001b[0m\u001b[1;33m\u001b[0m\u001b[1;33m\u001b[0m\u001b[0m\n\u001b[0m",
      "\u001b[1;32m~\\AppData\\Local\\Temp/ipykernel_13344/2790448476.py\u001b[0m in \u001b[0;36mloot\u001b[1;34m()\u001b[0m\n\u001b[0;32m     11\u001b[0m            \u001b[1;32melse\u001b[0m\u001b[1;33m:\u001b[0m\u001b[1;33m\u001b[0m\u001b[1;33m\u001b[0m\u001b[0m\n\u001b[0;32m     12\u001b[0m                \u001b[0mcurr\u001b[0m \u001b[1;33m=\u001b[0m \u001b[0mhead\u001b[0m\u001b[1;33m\u001b[0m\u001b[1;33m\u001b[0m\u001b[0m\n\u001b[1;32m---> 13\u001b[1;33m                \u001b[1;32mwhile\u001b[0m \u001b[0mcurr\u001b[0m\u001b[1;33m.\u001b[0m\u001b[0mnext\u001b[0m \u001b[1;32mis\u001b[0m \u001b[1;32mnot\u001b[0m \u001b[1;32mNone\u001b[0m\u001b[1;33m:\u001b[0m\u001b[1;33m\u001b[0m\u001b[1;33m\u001b[0m\u001b[0m\n\u001b[0m\u001b[0;32m     14\u001b[0m                    \u001b[0mcurr\u001b[0m\u001b[1;33m=\u001b[0m\u001b[0mcurr\u001b[0m\u001b[1;33m.\u001b[0m\u001b[0mnext\u001b[0m\u001b[1;33m\u001b[0m\u001b[1;33m\u001b[0m\u001b[0m\n\u001b[0;32m     15\u001b[0m                \u001b[0mcurr\u001b[0m\u001b[1;33m.\u001b[0m\u001b[0mnext\u001b[0m\u001b[1;33m=\u001b[0m\u001b[0mnew\u001b[0m\u001b[1;33m\u001b[0m\u001b[1;33m\u001b[0m\u001b[0m\n",
      "\u001b[1;31mAttributeError\u001b[0m: 'int' object has no attribute 'next'"
     ]
    }
   ],
   "source": [
    "head = loot()    ## incase if head = i (in 'if' cond)"
   ]
  },
  {
   "cell_type": "code",
   "execution_count": null,
   "id": "470c6505",
   "metadata": {},
   "outputs": [],
   "source": [
    "## lecture"
   ]
  },
  {
   "cell_type": "code",
   "execution_count": 57,
   "id": "7c7c4acc",
   "metadata": {},
   "outputs": [],
   "source": [
    "class Node:\n",
    "    def __init__(self,data):\n",
    "        self.data=data\n",
    "        self.next=None\n",
    "    \n"
   ]
  },
  {
   "cell_type": "code",
   "execution_count": 58,
   "id": "c7400d70",
   "metadata": {},
   "outputs": [],
   "source": [
    "def takeInput():\n",
    "        inputList=[int (ele) for ele in input().split()]\n",
    "        head=None\n",
    "        for currData in inputList:\n",
    "            if currData==-1:\n",
    "                break\n",
    "            newNode=Node(currData)             [1,none]\n",
    "            if head is None:                ## [1,5,3,7,9,-1]\n",
    "                head=newNode\n",
    "            else:\n",
    "                curr=head\n",
    "                while curr.next is not None:\n",
    "                    curr=curr.next\n",
    "                curr.next=newNode          5\n",
    "        return head"
   ]
  },
  {
   "cell_type": "code",
   "execution_count": 64,
   "id": "408b752b",
   "metadata": {},
   "outputs": [
    {
     "name": "stdout",
     "output_type": "stream",
     "text": [
      "1 5 8 9 3 -1\n"
     ]
    }
   ],
   "source": [
    "h=takeInput()"
   ]
  },
  {
   "cell_type": "markdown",
   "id": "591308c4",
   "metadata": {},
   "source": [
    "## if & break understanding "
   ]
  },
  {
   "cell_type": "code",
   "execution_count": 93,
   "id": "d9f50ad4",
   "metadata": {},
   "outputs": [
    {
     "name": "stdout",
     "output_type": "stream",
     "text": [
      "hi\n",
      "1\n",
      "hi\n",
      "6\n"
     ]
    }
   ],
   "source": [
    "c = [1,6,5,78,9]\n",
    "for i in c:\n",
    "    if i == 5:\n",
    "        break             ## once breaks , wouldn't allow to pass subsequent\n",
    "    print(\"hi\")\n",
    "       \n",
    "    if i == 9:\n",
    "        print('true')\n",
    "    \n",
    "    else:\n",
    "        print(i)\n"
   ]
  },
  {
   "cell_type": "code",
   "execution_count": null,
   "id": "195c0744",
   "metadata": {},
   "outputs": [],
   "source": [
    "## with printll function"
   ]
  },
  {
   "cell_type": "code",
   "execution_count": 119,
   "id": "34f97cce",
   "metadata": {},
   "outputs": [
    {
     "name": "stdout",
     "output_type": "stream",
     "text": [
      "1 2 5 7 9 -1\n",
      "1->2->5->7->9->None\n"
     ]
    }
   ],
   "source": [
    "class Node:\n",
    "    def __init__(self,data):\n",
    "        self.data=data\n",
    "        self.next=None\n",
    "def printLL(head):\n",
    "    while head is not None:\n",
    "        print(str(head.data)+\"->\",end='')           ## watchout\n",
    "        head=head.next\n",
    "    print(\"None\")\n",
    "    return\n",
    "def takeInput():\n",
    "    inputList=[int (ele) for ele in input().split()]\n",
    "    head=None\n",
    "    for i in inputList:\n",
    "        if i ==-1:\n",
    "            break\n",
    "        newNode=Node(i)           ## 1 2 4 7 5 \n",
    "        if head is None:\n",
    "            head = newNode                         ## 1\n",
    "        else:\n",
    "            curr=head                        ## 1                   \n",
    "            while curr.next is not None:\n",
    "                curr = curr.next                           ##1 2 4 7 5 -1       \n",
    "            curr.next=newNode                  ##2,3,4 1 2 \n",
    "    return head\n",
    "    \n",
    "head=takeInput()\n",
    "\n",
    "printLL(head)"
   ]
  },
  {
   "cell_type": "markdown",
   "id": "03760256",
   "metadata": {},
   "source": [
    "## length of LL exercise"
   ]
  },
  {
   "cell_type": "code",
   "execution_count": 2,
   "id": "80473b08",
   "metadata": {},
   "outputs": [
    {
     "name": "stdout",
     "output_type": "stream",
     "text": [
      "1 5 8 7 6 4 -1\n",
      "[1, 5, 8, 7, 6, 4]\n",
      "6\n"
     ]
    }
   ],
   "source": [
    "class Node:\n",
    "    def __init__(self, data):                   ## ec watchout\n",
    "        self.data = data\n",
    "        self.next = None\n",
    "\n",
    "def length(head):\n",
    "    curr = head\n",
    "    cnt = 0\n",
    "    while curr is not None:\n",
    "        cnt += 1\n",
    "        curr = curr.next\n",
    "        \n",
    "    return cnt\n",
    "\n",
    "def ll(arr):\n",
    "    print(arr)\n",
    "    if len(arr)==0:\n",
    "        return None\n",
    "    head = Node(arr[0])\n",
    "    last = head\n",
    "    for data in arr[1:]:\n",
    "        last.next = Node(data)\n",
    "        last = last.next\n",
    "    return head\n",
    "\n",
    "# Main\n",
    "# Read the link list elements including -1\n",
    "\n",
    "arr=list(int(i) for i in input().strip().split(' '))\n",
    "\n",
    "# Create a Linked list after removing -1 from list\n",
    "l = ll(arr[:-1])\n",
    "len=length(l)\n",
    "print(len)\n"
   ]
  },
  {
   "cell_type": "markdown",
   "id": "2ce2fcb5",
   "metadata": {},
   "source": [
    "## beauty LL"
   ]
  },
  {
   "cell_type": "code",
   "execution_count": null,
   "id": "c6e3df45",
   "metadata": {},
   "outputs": [],
   "source": [
    "## insertion"
   ]
  },
  {
   "cell_type": "code",
   "execution_count": 9,
   "id": "8307f789",
   "metadata": {},
   "outputs": [
    {
     "name": "stdout",
     "output_type": "stream",
     "text": [
      "1 2 3 5 7 9 -1\n",
      "1->2->3->5->7->9->None\n",
      "1->2->3->12->5->7->9->None\n"
     ]
    }
   ],
   "source": [
    "class Node:                                     ## ec watchout\n",
    "    def __init__(self,data):\n",
    "        self.data = data\n",
    "        self.next = None\n",
    "        \n",
    "def printLL(head):\n",
    "    while head is not None:\n",
    "        print(str(head.data)+\"->\",end='')\n",
    "        head=head.next\n",
    "    print(\"None\")\n",
    "    return\n",
    "\n",
    "##  find length of array to use below \n",
    "def length(head):\n",
    "    count = 0 \n",
    "    while head is not None:\n",
    "        head = head.next  ## goes until hie turns None\n",
    "        count += 1\n",
    "    return count\n",
    "\n",
    "\n",
    "## insert happening here \n",
    "def insert(head,i,data):\n",
    "    if i < 0 or i > length(head):    ## greater than  arr\n",
    "        return head\n",
    "    count = 0                                     ## inorder to insert in LL say [1,5,6,9,7,21] has to hold 2 in i=3th position\n",
    "    prev = None                                         ## it become [1,5,6,2,9,7,21]\n",
    "    curr = head\n",
    "    while count<i:   ## i = position    0 <3\n",
    "        prev = curr\n",
    "        curr = curr.next\n",
    "        count+=1   ## goes until i\n",
    "    newNode = Node(data)     ## ie 2 as pe eg \n",
    "    if prev is not None:\n",
    "        prev.next = newNode\n",
    "    else:\n",
    "        newNode = head\n",
    "    newNode.next = curr\n",
    "    return head\n",
    "\n",
    "\n",
    "\n",
    "\n",
    "def takeInput():                                       ## old one just to delete -1 from array\n",
    "    inputList=[int (ele) for ele in input().split()]\n",
    "    head=None\n",
    "    tail=None\n",
    "    for i in inputList:\n",
    "        if i ==-1:\n",
    "            break\n",
    "        newNode=Node(i)\n",
    "        if head is None:\n",
    "            head=newNode\n",
    "            tail=newNode\n",
    "        else:\n",
    "            tail.next=newNode\n",
    "            tail=newNode\n",
    "    return head\n",
    "\n",
    "\n",
    "h = takeInput()\n",
    "printLL(h)                    ## watchout carefully\n",
    "j =insert(h,3,12)\n",
    "printLL(j)\n",
    "\n",
    "        "
   ]
  },
  {
   "cell_type": "code",
   "execution_count": null,
   "id": "b12c5d86",
   "metadata": {},
   "outputs": [],
   "source": [
    "## try\n",
    "head=insertAtI(head,0,9)\n",
    "printLL(head)\n",
    "hie=insertAtI(head,7,10)\n",
    "printLL(head)"
   ]
  },
  {
   "cell_type": "code",
   "execution_count": null,
   "id": "fb58726d",
   "metadata": {},
   "outputs": [],
   "source": []
  },
  {
   "cell_type": "markdown",
   "id": "85084925",
   "metadata": {},
   "source": [
    "## recursive of insertion\n"
   ]
  },
  {
   "cell_type": "code",
   "execution_count": null,
   "id": "879661f7",
   "metadata": {},
   "outputs": [],
   "source": [
    "    def __init__(self,data):\n",
    "        self.data=data\n",
    "        self.next=None\n",
    "def printLL(head):\n",
    "    while head is not None:\n",
    "        print(str(head.data)+\"->\",end='')\n",
    "        head=head.next\n",
    "    print(\"None\")\n",
    "    return\n",
    "def length(head):\n",
    "    count=0\n",
    "    while head is not None:\n",
    "        count=count+1\n",
    "        head=head.next\n",
    "    return count\n",
    "def insertAtIR(head,i,data):\n",
    "    if i<0:\n",
    "        return head\n",
    "    if i==0:\n",
    "        newNode=Node(data)\n",
    "        newNode.next=head\n",
    "        return newNode\n",
    "    if head is None:\n",
    "        return None\n",
    "    smallHead=insertAtIR(head.next,i-1,data)\n",
    "    head.next=smallHead\n",
    "    return head\n",
    "def insertAtI(head,i,data):\n",
    "    if i<0 or i>length(head):\n",
    "        return head\n",
    "    count=0\n",
    "    prev=None\n",
    "    curr=head\n",
    "    while count<i:\n",
    "        \n",
    "        \n",
    "        prev=curr\n",
    "        curr=curr.next\n",
    "        count=count+1\n",
    "    newNode=Node(data)\n",
    "    if prev is not None:\n",
    "        prev.next=newNode\n",
    "    else:\n",
    "        head=newNode\n",
    "    \n",
    "    newNode.next=curr\n",
    "    return head\n",
    "def takeInput():\n",
    "    inputList=[int (ele) for ele in input().split()]\n",
    "    head=None\n",
    "    tail=None\n",
    "    for currData in inputList:\n",
    "        if currData==-1:\n",
    "            break\n",
    "        newNode=Node(currData)\n",
    "        if head is None:\n",
    "            head=newNode\n",
    "            tail=newNode\n",
    "        else:\n",
    "            tail.next=newNode\n",
    "            tail=newNode\n",
    "    return head\n",
    "\n",
    "\n",
    "head=takeInput()\n",
    "printLL(head)\n",
    "head=insertAtI(head,2,6)\n",
    "printLL(head)\n",
    "head=insertAtI(head,0,9)\n",
    "printLL(head)\n",
    "head=insertAtI(head,7,10)\n",
    "printLL(head)"
   ]
  },
  {
   "cell_type": "code",
   "execution_count": null,
   "id": "f46c052c",
   "metadata": {},
   "outputs": [],
   "source": []
  },
  {
   "cell_type": "code",
   "execution_count": null,
   "id": "6cba806b",
   "metadata": {},
   "outputs": [],
   "source": []
  },
  {
   "cell_type": "code",
   "execution_count": null,
   "id": "edd0e0d0",
   "metadata": {},
   "outputs": [],
   "source": []
  },
  {
   "cell_type": "code",
   "execution_count": null,
   "id": "6cc3235a",
   "metadata": {},
   "outputs": [],
   "source": []
  },
  {
   "cell_type": "code",
   "execution_count": null,
   "id": "606162bd",
   "metadata": {},
   "outputs": [],
   "source": []
  },
  {
   "cell_type": "code",
   "execution_count": null,
   "id": "657f78e7",
   "metadata": {},
   "outputs": [],
   "source": []
  },
  {
   "cell_type": "code",
   "execution_count": 115,
   "id": "06dba96a",
   "metadata": {},
   "outputs": [
    {
     "name": "stdout",
     "output_type": "stream",
     "text": [
      "[1, 5, 7, 9]\n"
     ]
    }
   ],
   "source": [
    "s = [1,5,7,9,2]\n",
    "s.index(7)\n",
    "\n",
    "j = s[:-1]       ## except 2\n",
    "print(j)"
   ]
  },
  {
   "cell_type": "code",
   "execution_count": 112,
   "id": "7f9f70d0",
   "metadata": {},
   "outputs": [
    {
     "data": {
      "text/plain": [
       "2"
      ]
     },
     "execution_count": 112,
     "metadata": {},
     "output_type": "execute_result"
    }
   ],
   "source": [
    "s = [1,5,7,9,2]\n",
    "s.index(7)\n"
   ]
  },
  {
   "cell_type": "markdown",
   "id": "84cc4502",
   "metadata": {},
   "source": []
  },
  {
   "cell_type": "code",
   "execution_count": null,
   "id": "fb22e6d3",
   "metadata": {},
   "outputs": [],
   "source": []
  },
  {
   "cell_type": "code",
   "execution_count": null,
   "id": "4e561cfb",
   "metadata": {},
   "outputs": [],
   "source": []
  },
  {
   "cell_type": "code",
   "execution_count": null,
   "id": "bb897d9f",
   "metadata": {},
   "outputs": [],
   "source": []
  },
  {
   "cell_type": "code",
   "execution_count": null,
   "id": "8bfb2a53",
   "metadata": {},
   "outputs": [],
   "source": []
  },
  {
   "cell_type": "code",
   "execution_count": null,
   "id": "fb19c022",
   "metadata": {},
   "outputs": [],
   "source": []
  },
  {
   "cell_type": "code",
   "execution_count": null,
   "id": "cf02cce1",
   "metadata": {},
   "outputs": [],
   "source": []
  },
  {
   "cell_type": "code",
   "execution_count": null,
   "id": "13df9275",
   "metadata": {},
   "outputs": [],
   "source": []
  },
  {
   "cell_type": "code",
   "execution_count": null,
   "id": "2beff39d",
   "metadata": {},
   "outputs": [],
   "source": []
  },
  {
   "cell_type": "code",
   "execution_count": null,
   "id": "2a64ef8c",
   "metadata": {},
   "outputs": [],
   "source": []
  },
  {
   "cell_type": "code",
   "execution_count": null,
   "id": "8b38a8c1",
   "metadata": {},
   "outputs": [],
   "source": []
  },
  {
   "cell_type": "code",
   "execution_count": null,
   "id": "c76984ee",
   "metadata": {},
   "outputs": [],
   "source": []
  },
  {
   "cell_type": "code",
   "execution_count": null,
   "id": "549f5360",
   "metadata": {},
   "outputs": [],
   "source": []
  },
  {
   "cell_type": "code",
   "execution_count": null,
   "id": "8662ad85",
   "metadata": {},
   "outputs": [],
   "source": []
  },
  {
   "cell_type": "code",
   "execution_count": null,
   "id": "f5f8ae05",
   "metadata": {},
   "outputs": [],
   "source": []
  },
  {
   "cell_type": "code",
   "execution_count": null,
   "id": "c33e93c6",
   "metadata": {},
   "outputs": [],
   "source": []
  },
  {
   "cell_type": "code",
   "execution_count": null,
   "id": "561e4462",
   "metadata": {},
   "outputs": [],
   "source": []
  },
  {
   "cell_type": "code",
   "execution_count": null,
   "id": "6d994233",
   "metadata": {},
   "outputs": [],
   "source": []
  },
  {
   "cell_type": "code",
   "execution_count": null,
   "id": "a97890b8",
   "metadata": {},
   "outputs": [],
   "source": []
  },
  {
   "cell_type": "code",
   "execution_count": null,
   "id": "a078cf2b",
   "metadata": {},
   "outputs": [],
   "source": []
  },
  {
   "cell_type": "code",
   "execution_count": null,
   "id": "3d6d410e",
   "metadata": {},
   "outputs": [],
   "source": []
  },
  {
   "cell_type": "code",
   "execution_count": null,
   "id": "3df88e5b",
   "metadata": {},
   "outputs": [],
   "source": []
  },
  {
   "cell_type": "code",
   "execution_count": null,
   "id": "efc2a7b3",
   "metadata": {},
   "outputs": [],
   "source": []
  },
  {
   "cell_type": "code",
   "execution_count": null,
   "id": "a926a6a6",
   "metadata": {},
   "outputs": [],
   "source": []
  }
 ],
 "metadata": {
  "kernelspec": {
   "display_name": "Python 3 (ipykernel)",
   "language": "python",
   "name": "python3"
  },
  "language_info": {
   "codemirror_mode": {
    "name": "ipython",
    "version": 3
   },
   "file_extension": ".py",
   "mimetype": "text/x-python",
   "name": "python",
   "nbconvert_exporter": "python",
   "pygments_lexer": "ipython3",
   "version": "3.9.7"
  }
 },
 "nbformat": 4,
 "nbformat_minor": 5
}
