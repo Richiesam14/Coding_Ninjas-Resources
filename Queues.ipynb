{
 "cells": [
  {
   "cell_type": "markdown",
   "id": "05425b47",
   "metadata": {},
   "source": [
    "## Queues"
   ]
  },
  {
   "cell_type": "code",
   "execution_count": null,
   "id": "c77ee7c7",
   "metadata": {},
   "outputs": [],
   "source": []
  },
  {
   "cell_type": "code",
   "execution_count": 21,
   "id": "510603ad",
   "metadata": {},
   "outputs": [],
   "source": [
    "class que:\n",
    "    def __init__(self):\n",
    "        self.__data = []        ## enqueue,dequeue , front FIFO\n",
    "        self.__count = 0\n",
    "        self.__front = 0\n",
    "        \n",
    "    def enqueue(self,item):\n",
    "        self.__data.append(item)\n",
    "        self.__count += 1\n",
    "        \n",
    "    def dequeue(self):\n",
    "        if self.__count == 0:\n",
    "            return -1\n",
    "        ele = self.__data[self.__front]\n",
    "        self.__count -= 1\n",
    "        self.__front += 1\n",
    "        return ele\n",
    "        \n",
    "        \n",
    "    def front(self):\n",
    "        if self.__count == 0:        ## count = o is empty\n",
    "            return -1\n",
    "        return self.__data[self.__front] \n",
    "    \n",
    "    def size(self):\n",
    "        return self.__count\n",
    "        \n",
    "    def isEmpty(self):\n",
    "        return self.size() == 0\n",
    "        \n",
    "        "
   ]
  },
  {
   "cell_type": "code",
   "execution_count": 22,
   "id": "9ac30bfb",
   "metadata": {},
   "outputs": [
    {
     "name": "stdout",
     "output_type": "stream",
     "text": [
      "8\n",
      "5\n",
      "3\n",
      "9\n",
      "-1\n"
     ]
    }
   ],
   "source": [
    "d = que()\n",
    "d.enqueue(8)\n",
    "d.enqueue(5)\n",
    "d.enqueue(3)\n",
    "d.enqueue(9)\n",
    "\n",
    "while(d.isEmpty()is False):\n",
    "    print(d.front())\n",
    "    d.dequeue()\n",
    "print(d.dequeue())\n",
    "\n"
   ]
  },
  {
   "cell_type": "code",
   "execution_count": null,
   "id": "c741aba4",
   "metadata": {},
   "outputs": [],
   "source": []
  },
  {
   "cell_type": "code",
   "execution_count": null,
   "id": "5ffbd962",
   "metadata": {},
   "outputs": [],
   "source": []
  },
  {
   "cell_type": "code",
   "execution_count": null,
   "id": "266c57e9",
   "metadata": {},
   "outputs": [],
   "source": []
  },
  {
   "cell_type": "markdown",
   "id": "a29a5248",
   "metadata": {},
   "source": [
    "## inbuilt queue n stacks"
   ]
  },
  {
   "cell_type": "code",
   "execution_count": null,
   "id": "6e54f903",
   "metadata": {},
   "outputs": [],
   "source": [
    "## available om py 3"
   ]
  },
  {
   "cell_type": "code",
   "execution_count": 9,
   "id": "a426474d",
   "metadata": {},
   "outputs": [
    {
     "name": "stdout",
     "output_type": "stream",
     "text": [
      "5\n",
      "4\n"
     ]
    }
   ],
   "source": [
    "#inbuilt stack as list\n",
    "s=[1,2,3]\n",
    "s.append(4)\n",
    "s.append(5)\n",
    "print(s.pop())\n",
    "print(s.pop())"
   ]
  },
  {
   "cell_type": "code",
   "execution_count": null,
   "id": "183aa75f",
   "metadata": {},
   "outputs": [],
   "source": []
  },
  {
   "cell_type": "code",
   "execution_count": 4,
   "id": "dd3a238c",
   "metadata": {},
   "outputs": [],
   "source": [
    "## inbuilt queues\n",
    "import queue\n",
    "q = queue.Queue()\n",
    "q.put(2)\n",
    "q.put(3)\n",
    "q.put(5)\n",
    "q.put(9)\n",
    "q.put(1)"
   ]
  },
  {
   "cell_type": "code",
   "execution_count": 5,
   "id": "e61ec50e",
   "metadata": {},
   "outputs": [
    {
     "name": "stdout",
     "output_type": "stream",
     "text": [
      "2\n",
      "3\n",
      "5\n",
      "9\n",
      "1\n"
     ]
    }
   ],
   "source": [
    "while not q.empty():\n",
    "    print(q.get())"
   ]
  },
  {
   "cell_type": "code",
   "execution_count": null,
   "id": "30d0e7b6",
   "metadata": {},
   "outputs": [],
   "source": []
  },
  {
   "cell_type": "code",
   "execution_count": 7,
   "id": "80928481",
   "metadata": {},
   "outputs": [],
   "source": [
    "import queue\n",
    "q = queue.LifoQueue()          ##LIFO\n",
    "q.put(2)\n",
    "q.put(3)\n",
    "q.put(5)\n",
    "q.put(9)\n",
    "q.put(1)"
   ]
  },
  {
   "cell_type": "code",
   "execution_count": 8,
   "id": "9376d5d9",
   "metadata": {},
   "outputs": [
    {
     "name": "stdout",
     "output_type": "stream",
     "text": [
      "1\n",
      "9\n",
      "5\n",
      "3\n",
      "2\n"
     ]
    }
   ],
   "source": [
    "while not q.empty():\n",
    "    print(q.get())"
   ]
  },
  {
   "cell_type": "markdown",
   "id": "77abc6ba",
   "metadata": {},
   "source": [
    "## queues using 2  stacks "
   ]
  },
  {
   "cell_type": "code",
   "execution_count": 13,
   "id": "7ece2399",
   "metadata": {},
   "outputs": [],
   "source": [
    "## using 2 stacks\n",
    "class questack:\n",
    "    def __init__(self):\n",
    "        self.__s1 = []\n",
    "        self.__s2 = []\n",
    "        \n",
    "    def  enqueue(self,data):\n",
    "        #(O(n))\n",
    "        while(len(self.__s1)!=0):\n",
    "            self.__s2.append(self.__s1.pop())\n",
    "        self.__s1.append(data)\n",
    "        \n",
    "        while(len(self.__s2)!=0):\n",
    "            self.__s1.append(self.__s2.pop())\n",
    "        return\n",
    "\n",
    "        \n",
    "        \n",
    "    def dequ(self):                         ## O(1)\n",
    "        if len(self.__s1) == 0:\n",
    "            return false\n",
    "        return self.__s1.pop()\n",
    "        \n",
    "        \n",
    "    def front(self):\n",
    "        if len(self.__s1)==0:\n",
    "            return -1\n",
    "        return self.__s1[-1]\n",
    "        \n",
    "    def size(self):\n",
    "        return len(self.__s1)\n",
    "        \n",
    "    def isEmpty(self):\n",
    "        return self.size()==0"
   ]
  },
  {
   "cell_type": "code",
   "execution_count": 14,
   "id": "fc67b91b",
   "metadata": {},
   "outputs": [],
   "source": [
    "q = questack()\n",
    "q.enqueue(1)\n",
    "q.enqueue(2)\n",
    "q.enqueue(3)\n",
    "q.enqueue(4)\n"
   ]
  },
  {
   "cell_type": "code",
   "execution_count": 15,
   "id": "3ca27638",
   "metadata": {},
   "outputs": [
    {
     "data": {
      "text/plain": [
       "1"
      ]
     },
     "execution_count": 15,
     "metadata": {},
     "output_type": "execute_result"
    }
   ],
   "source": [
    "q.front()"
   ]
  },
  {
   "cell_type": "code",
   "execution_count": 17,
   "id": "4192d0d5",
   "metadata": {},
   "outputs": [
    {
     "name": "stdout",
     "output_type": "stream",
     "text": [
      "1\n",
      "2\n",
      "3\n",
      "4\n"
     ]
    }
   ],
   "source": [
    "while(q.isEmpty() is False):\n",
    "    print(q.front())\n",
    "    q.dequ()\n",
    "    "
   ]
  },
  {
   "cell_type": "code",
   "execution_count": null,
   "id": "762feeda",
   "metadata": {},
   "outputs": [],
   "source": []
  },
  {
   "cell_type": "code",
   "execution_count": null,
   "id": "f91c2b9e",
   "metadata": {},
   "outputs": [],
   "source": []
  },
  {
   "cell_type": "code",
   "execution_count": null,
   "id": "4bb93c70",
   "metadata": {},
   "outputs": [],
   "source": []
  },
  {
   "cell_type": "code",
   "execution_count": null,
   "id": "1315ac3d",
   "metadata": {},
   "outputs": [],
   "source": []
  },
  {
   "cell_type": "code",
   "execution_count": null,
   "id": "4ea4e319",
   "metadata": {},
   "outputs": [],
   "source": []
  },
  {
   "cell_type": "code",
   "execution_count": null,
   "id": "21e7b4ef",
   "metadata": {},
   "outputs": [],
   "source": []
  },
  {
   "cell_type": "code",
   "execution_count": null,
   "id": "3eac00ff",
   "metadata": {},
   "outputs": [],
   "source": []
  },
  {
   "cell_type": "code",
   "execution_count": null,
   "id": "0987509d",
   "metadata": {},
   "outputs": [],
   "source": []
  },
  {
   "cell_type": "code",
   "execution_count": null,
   "id": "5bf8c85c",
   "metadata": {},
   "outputs": [],
   "source": []
  },
  {
   "cell_type": "code",
   "execution_count": null,
   "id": "1bb8e99d",
   "metadata": {},
   "outputs": [],
   "source": []
  },
  {
   "cell_type": "code",
   "execution_count": null,
   "id": "ddeb7f3c",
   "metadata": {},
   "outputs": [],
   "source": []
  },
  {
   "cell_type": "code",
   "execution_count": null,
   "id": "2d1bfb76",
   "metadata": {},
   "outputs": [],
   "source": []
  },
  {
   "cell_type": "code",
   "execution_count": null,
   "id": "b5b69a4e",
   "metadata": {},
   "outputs": [],
   "source": []
  },
  {
   "cell_type": "code",
   "execution_count": null,
   "id": "776d210b",
   "metadata": {},
   "outputs": [],
   "source": []
  },
  {
   "cell_type": "code",
   "execution_count": null,
   "id": "405af7f6",
   "metadata": {},
   "outputs": [],
   "source": []
  },
  {
   "cell_type": "code",
   "execution_count": null,
   "id": "7a580019",
   "metadata": {},
   "outputs": [],
   "source": []
  },
  {
   "cell_type": "code",
   "execution_count": null,
   "id": "618d8f49",
   "metadata": {},
   "outputs": [],
   "source": []
  }
 ],
 "metadata": {
  "kernelspec": {
   "display_name": "Python 3 (ipykernel)",
   "language": "python",
   "name": "python3"
  },
  "language_info": {
   "codemirror_mode": {
    "name": "ipython",
    "version": 3
   },
   "file_extension": ".py",
   "mimetype": "text/x-python",
   "name": "python",
   "nbconvert_exporter": "python",
   "pygments_lexer": "ipython3",
   "version": "3.9.7"
  }
 },
 "nbformat": 4,
 "nbformat_minor": 5
}
