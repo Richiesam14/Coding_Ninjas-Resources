{
 "cells": [
  {
   "cell_type": "code",
   "execution_count": null,
   "id": "de8f3abd",
   "metadata": {},
   "outputs": [],
   "source": [
    "a = '''hey you\n",
    "how youre doing\n",
    "weird\n",
    "lol'''\n",
    "print(a)"
   ]
  },
  {
   "cell_type": "code",
   "execution_count": null,
   "id": "c433ceb8",
   "metadata": {},
   "outputs": [],
   "source": [
    "a"
   ]
  },
  {
   "cell_type": "code",
   "execution_count": null,
   "id": "0b3c8055",
   "metadata": {},
   "outputs": [],
   "source": [
    "g = \"lmao\"\n"
   ]
  },
  {
   "cell_type": "code",
   "execution_count": null,
   "id": "86548f99",
   "metadata": {},
   "outputs": [],
   "source": [
    "id(g)"
   ]
  },
  {
   "cell_type": "code",
   "execution_count": null,
   "id": "c5fccbbb",
   "metadata": {},
   "outputs": [],
   "source": [
    "g[1] == \"q\"\n",
    "print(g)"
   ]
  },
  {
   "cell_type": "code",
   "execution_count": null,
   "id": "0565ed4c",
   "metadata": {},
   "outputs": [],
   "source": [
    "h = \"lmao\""
   ]
  },
  {
   "cell_type": "code",
   "execution_count": null,
   "id": "258ab2d7",
   "metadata": {},
   "outputs": [],
   "source": [
    "id(g)"
   ]
  },
  {
   "cell_type": "markdown",
   "id": "9704fe58",
   "metadata": {},
   "source": [
    "## Concatenation of strings"
   ]
  },
  {
   "cell_type": "code",
   "execution_count": null,
   "id": "dec4a51b",
   "metadata": {},
   "outputs": [],
   "source": [
    "h+=\"ooi\""
   ]
  },
  {
   "cell_type": "code",
   "execution_count": null,
   "id": "bcb90258",
   "metadata": {},
   "outputs": [],
   "source": [
    "h"
   ]
  },
  {
   "cell_type": "code",
   "execution_count": null,
   "id": "330d77a3",
   "metadata": {},
   "outputs": [],
   "source": [
    "j = \"kirk\""
   ]
  },
  {
   "cell_type": "code",
   "execution_count": null,
   "id": "0f03d201",
   "metadata": {},
   "outputs": [],
   "source": [
    "j=j+str(5)"
   ]
  },
  {
   "cell_type": "code",
   "execution_count": null,
   "id": "6b6bef6f",
   "metadata": {},
   "outputs": [],
   "source": [
    "j"
   ]
  },
  {
   "cell_type": "code",
   "execution_count": null,
   "id": "abe44687",
   "metadata": {},
   "outputs": [],
   "source": [
    "i = \"crisp\""
   ]
  },
  {
   "cell_type": "code",
   "execution_count": null,
   "id": "1ca12174",
   "metadata": {},
   "outputs": [],
   "source": [
    "i=i*3"
   ]
  },
  {
   "cell_type": "code",
   "execution_count": null,
   "id": "251d6a67",
   "metadata": {},
   "outputs": [],
   "source": [
    "i"
   ]
  },
  {
   "cell_type": "markdown",
   "id": "6c418b17",
   "metadata": {},
   "source": [
    "## Slicing on string "
   ]
  },
  {
   "cell_type": "code",
   "execution_count": null,
   "id": "6080a3c5",
   "metadata": {},
   "outputs": [],
   "source": [
    "s =\"ankushsinghla\""
   ]
  },
  {
   "cell_type": "code",
   "execution_count": null,
   "id": "9ff85b9a",
   "metadata": {},
   "outputs": [],
   "source": [
    "s[1:5]"
   ]
  },
  {
   "cell_type": "code",
   "execution_count": null,
   "id": "534aab76",
   "metadata": {},
   "outputs": [],
   "source": [
    "s[-1::-2]"
   ]
  },
  {
   "cell_type": "code",
   "execution_count": null,
   "id": "265b774a",
   "metadata": {},
   "outputs": [],
   "source": [
    "s[:6]"
   ]
  },
  {
   "cell_type": "code",
   "execution_count": null,
   "id": "c09e5f5c",
   "metadata": {},
   "outputs": [],
   "source": [
    "s[5::]"
   ]
  },
  {
   "cell_type": "code",
   "execution_count": null,
   "id": "ca18c8b8",
   "metadata": {},
   "outputs": [],
   "source": [
    "s[2:4]"
   ]
  },
  {
   "cell_type": "code",
   "execution_count": null,
   "id": "a6d95b35",
   "metadata": {},
   "outputs": [],
   "source": [
    "s[-5:-1]"
   ]
  },
  {
   "cell_type": "markdown",
   "id": "10193990",
   "metadata": {},
   "source": [
    "## iterating on strings"
   ]
  },
  {
   "cell_type": "code",
   "execution_count": null,
   "id": "1de2c0d8",
   "metadata": {},
   "outputs": [],
   "source": [
    "f = \"welcome to my home\"\n",
    "c = 0\n",
    "for i in (f):\n",
    "    if i == 'm':\n",
    "        c = c+1\n",
    "print(c)\n",
    "        "
   ]
  },
  {
   "cell_type": "code",
   "execution_count": null,
   "id": "40ea8291",
   "metadata": {},
   "outputs": [],
   "source": [
    "st = \"kualloo in a string\"\n",
    "if 'st' in st:\n",
    "    print(\"yes\")\n",
    "else:\n",
    "    print(\"no\")"
   ]
  },
  {
   "cell_type": "markdown",
   "id": "f756f767",
   "metadata": {},
   "source": [
    "## comparison operator"
   ]
  },
  {
   "cell_type": "code",
   "execution_count": null,
   "id": "d9e654aa",
   "metadata": {},
   "outputs": [],
   "source": [
    "s = \"parikh\"\n",
    "a = \"Rarikh\"\n",
    "d = a >= s"
   ]
  },
  {
   "cell_type": "code",
   "execution_count": null,
   "id": "d7503aaa",
   "metadata": {},
   "outputs": [],
   "source": [
    "d"
   ]
  },
  {
   "cell_type": "code",
   "execution_count": null,
   "id": "f6a628ed",
   "metadata": {},
   "outputs": [],
   "source": [
    "f = \"Richard\" >= \"Parikh\" ## based on ascii val;"
   ]
  },
  {
   "cell_type": "code",
   "execution_count": null,
   "id": "eb11e5d9",
   "metadata": {
    "scrolled": true
   },
   "outputs": [],
   "source": [
    "f"
   ]
  },
  {
   "cell_type": "code",
   "execution_count": null,
   "id": "db53c3be",
   "metadata": {},
   "outputs": [],
   "source": []
  },
  {
   "cell_type": "markdown",
   "id": "278b21e0",
   "metadata": {},
   "source": [
    "## palindrome"
   ]
  },
  {
   "cell_type": "code",
   "execution_count": null,
   "id": "c050c7b7",
   "metadata": {},
   "outputs": [],
   "source": [
    "s=input()\n",
    "p=s[::-1]\n",
    "if(s==p):\n",
    "    print(\"true\")\n",
    "else:\n",
    "    print(\"false\")"
   ]
  },
  {
   "cell_type": "code",
   "execution_count": null,
   "id": "5b61052c",
   "metadata": {},
   "outputs": [],
   "source": [
    "s=input()\n",
    "p=s[::-1]\n",
    "print(p)"
   ]
  },
  {
   "cell_type": "code",
   "execution_count": null,
   "id": "3a90e86f",
   "metadata": {},
   "outputs": [],
   "source": [
    "s=input()\n",
    "p=s[::-1]\n",
    "print(p)"
   ]
  },
  {
   "cell_type": "markdown",
   "id": "0c0decaf",
   "metadata": {},
   "source": [
    "## operations of string"
   ]
  },
  {
   "cell_type": "code",
   "execution_count": null,
   "id": "04f307e4",
   "metadata": {},
   "outputs": [],
   "source": [
    "l = \"Myname isrock creepyjunk\"\n",
    "li = l.split(\" \")"
   ]
  },
  {
   "cell_type": "code",
   "execution_count": null,
   "id": "40b07923",
   "metadata": {},
   "outputs": [],
   "source": [
    "li"
   ]
  },
  {
   "cell_type": "code",
   "execution_count": 1,
   "id": "3452eea9",
   "metadata": {},
   "outputs": [],
   "source": [
    "l = \"Myname is rock rock creepy creepy\"\n",
    "l = l.replace(\"rock\",\"silk\",2)"
   ]
  },
  {
   "cell_type": "code",
   "execution_count": 2,
   "id": "48dea253",
   "metadata": {},
   "outputs": [
    {
     "data": {
      "text/plain": [
       "'Myname is silk silk creepy creepy'"
      ]
     },
     "execution_count": 2,
     "metadata": {},
     "output_type": "execute_result"
    }
   ],
   "source": [
    "l"
   ]
  },
  {
   "cell_type": "code",
   "execution_count": 7,
   "id": "95d698c8",
   "metadata": {},
   "outputs": [],
   "source": [
    "## find\n",
    "l = \"Myname isrock creepyjunk\"\n",
    "l = l.find(\"re\")"
   ]
  },
  {
   "cell_type": "code",
   "execution_count": 8,
   "id": "a322eb93",
   "metadata": {},
   "outputs": [
    {
     "data": {
      "text/plain": [
       "15"
      ]
     },
     "execution_count": 8,
     "metadata": {},
     "output_type": "execute_result"
    }
   ],
   "source": [
    "l"
   ]
  },
  {
   "cell_type": "code",
   "execution_count": 9,
   "id": "6b06e496",
   "metadata": {},
   "outputs": [
    {
     "name": "stdout",
     "output_type": "stream",
     "text": [
      "MYNAME ISROCK CREEPYJUNK\n",
      "myname isrock creepyjunk\n"
     ]
    }
   ],
   "source": [
    "## upper  n lower\n",
    "\n",
    "l = \"Myname isrock creepyjunk\"\n",
    "li = l.upper()\n",
    "print(li)\n",
    "li = l.lower()\n",
    "print(li)"
   ]
  },
  {
   "cell_type": "code",
   "execution_count": 13,
   "id": "d2430420",
   "metadata": {},
   "outputs": [],
   "source": [
    "## starts with\n",
    "l = \"Myname isrock creepyjunk\"\n",
    "l = l.startswith(\"My\")\n"
   ]
  },
  {
   "cell_type": "code",
   "execution_count": 14,
   "id": "77ce27df",
   "metadata": {},
   "outputs": [
    {
     "data": {
      "text/plain": [
       "True"
      ]
     },
     "execution_count": 14,
     "metadata": {},
     "output_type": "execute_result"
    }
   ],
   "source": [
    "l"
   ]
  },
  {
   "cell_type": "code",
   "execution_count": 20,
   "id": "1f82b208",
   "metadata": {},
   "outputs": [],
   "source": [
    "## starts with\n",
    "l = \"Mynameisrockcreepyjunk\" ## 012345.....\n",
    "l = l.startswith(\"cre\",12)\n"
   ]
  },
  {
   "cell_type": "code",
   "execution_count": 21,
   "id": "9dd68548",
   "metadata": {},
   "outputs": [
    {
     "data": {
      "text/plain": [
       "True"
      ]
     },
     "execution_count": 21,
     "metadata": {},
     "output_type": "execute_result"
    }
   ],
   "source": [
    "l"
   ]
  },
  {
   "cell_type": "code",
   "execution_count": null,
   "id": "391ec681",
   "metadata": {},
   "outputs": [],
   "source": []
  },
  {
   "cell_type": "markdown",
   "id": "85a1af68",
   "metadata": {},
   "source": [
    "## Replace char in strings"
   ]
  },
  {
   "cell_type": "code",
   "execution_count": 3,
   "id": "da72b74a",
   "metadata": {},
   "outputs": [],
   "source": [
    "def replace(st,un,un1):\n",
    "    new = \" \"\n",
    "    for i in st:\n",
    "        if i == un:\n",
    "            new = new + un1\n",
    "        else:\n",
    "            new = new + i\n",
    "    \n",
    "    return new\n",
    "            \n",
    "    \n"
   ]
  },
  {
   "cell_type": "code",
   "execution_count": 5,
   "id": "ea306409",
   "metadata": {},
   "outputs": [
    {
     "data": {
      "text/plain": [
       "' riedejanere'"
      ]
     },
     "execution_count": 5,
     "metadata": {},
     "output_type": "execute_result"
    }
   ],
   "source": [
    "st = \"riodejanero\"\n",
    "replace(st,'o','e')\n"
   ]
  },
  {
   "cell_type": "code",
   "execution_count": null,
   "id": "0e117dba",
   "metadata": {},
   "outputs": [],
   "source": []
  },
  {
   "cell_type": "code",
   "execution_count": null,
   "id": "fa046cde",
   "metadata": {},
   "outputs": [],
   "source": []
  },
  {
   "cell_type": "markdown",
   "id": "8182f839",
   "metadata": {},
   "source": [
    "## count no of vowels"
   ]
  },
  {
   "cell_type": "code",
   "execution_count": 22,
   "id": "d83e5228",
   "metadata": {},
   "outputs": [],
   "source": [
    "def gam(a):\n",
    "    v,c,n,s = 0,0,0,0                     ## easy\n",
    "    for i in a:\n",
    "        if ((i >= 'A' and i <= 'Z') or (i >= 'a' and i <= 'z')):\n",
    "            i = i.lower()\n",
    "            if (i == 'a') or (i == 'e') or (i == 'i') or (i == 'o') or (i == 'u'):\n",
    "                v=v+1\n",
    "            else:\n",
    "                c+=1\n",
    "            \n",
    "        elif (i>='0'):\n",
    "            n = n+1\n",
    "            \n",
    "        else:\n",
    "            s+=1\n",
    "            \n",
    "    return v,c,n,s\n",
    "        \n"
   ]
  },
  {
   "cell_type": "code",
   "execution_count": 23,
   "id": "61d03b52",
   "metadata": {},
   "outputs": [
    {
     "name": "stdout",
     "output_type": "stream",
     "text": [
      "(4, 5, 3, 1)\n"
     ]
    }
   ],
   "source": [
    "a = \"aA4ghEmko58!k\"\n",
    "s = gam(a)\n",
    "print(s)\n"
   ]
  },
  {
   "cell_type": "code",
   "execution_count": null,
   "id": "4fe75623",
   "metadata": {},
   "outputs": [],
   "source": []
  },
  {
   "cell_type": "markdown",
   "id": "a3b938ac",
   "metadata": {},
   "source": [
    "## exercise"
   ]
  },
  {
   "cell_type": "code",
   "execution_count": 25,
   "id": "a1c29bcd",
   "metadata": {},
   "outputs": [
    {
     "name": "stdout",
     "output_type": "stream",
     "text": [
      "sssss\n",
      "0\n",
      "1\n",
      "2\n",
      "3\n",
      "4\n"
     ]
    }
   ],
   "source": [
    "s=input()\n",
    "s=s+\" \"\n",
    "for i in range(len(s)-1):\n",
    "    print(i)"
   ]
  },
  {
   "cell_type": "code",
   "execution_count": 24,
   "id": "0a8861c8",
   "metadata": {},
   "outputs": [
    {
     "name": "stdout",
     "output_type": "stream",
     "text": [
      "aaabbccff\n",
      "abcf"
     ]
    }
   ],
   "source": [
    "## remove Duplicate\n",
    "\n",
    "s=input()\n",
    "s=s+\" \"\n",
    "for i in range(len(s)-1):\n",
    "    if s[i]!=s[i+1]:\n",
    "        print(s[i],end=\"\")"
   ]
  },
  {
   "cell_type": "code",
   "execution_count": 26,
   "id": "2babdd46",
   "metadata": {},
   "outputs": [
    {
     "name": "stdout",
     "output_type": "stream",
     "text": [
      "welcomeyou\n",
      "uoyemoclew "
     ]
    }
   ],
   "source": [
    "## reverse\n",
    "s=input()           ##easy all\n",
    "new=s.split()\n",
    "for i in range(len(new)):\n",
    "    sad=new[i][::-1]\n",
    "    print(sad,end=\" \")"
   ]
  },
  {
   "cell_type": "code",
   "execution_count": 27,
   "id": "5ffea192",
   "metadata": {},
   "outputs": [
    {
     "name": "stdout",
     "output_type": "stream",
     "text": [
      "kyoshoi\n",
      "i\n",
      "kyosho"
     ]
    }
   ],
   "source": [
    "## remove char\n",
    "s=input()\n",
    "r=input()\n",
    "for i in range(len(s)):\n",
    "    if s[i]!=r:\n",
    "        print(s[i],end=\"\")"
   ]
  },
  {
   "cell_type": "code",
   "execution_count": null,
   "id": "5dc0f026",
   "metadata": {},
   "outputs": [],
   "source": []
  },
  {
   "cell_type": "code",
   "execution_count": null,
   "id": "dee8b006",
   "metadata": {},
   "outputs": [],
   "source": []
  },
  {
   "cell_type": "code",
   "execution_count": null,
   "id": "46504760",
   "metadata": {},
   "outputs": [],
   "source": []
  },
  {
   "cell_type": "code",
   "execution_count": null,
   "id": "2d267309",
   "metadata": {},
   "outputs": [],
   "source": []
  },
  {
   "cell_type": "code",
   "execution_count": null,
   "id": "cdd3929f",
   "metadata": {},
   "outputs": [],
   "source": []
  },
  {
   "cell_type": "code",
   "execution_count": null,
   "id": "2346cddf",
   "metadata": {},
   "outputs": [],
   "source": []
  },
  {
   "cell_type": "code",
   "execution_count": null,
   "id": "7d802218",
   "metadata": {},
   "outputs": [],
   "source": []
  },
  {
   "cell_type": "code",
   "execution_count": null,
   "id": "e2074801",
   "metadata": {},
   "outputs": [],
   "source": []
  },
  {
   "cell_type": "code",
   "execution_count": null,
   "id": "02a9cb13",
   "metadata": {},
   "outputs": [],
   "source": []
  },
  {
   "cell_type": "code",
   "execution_count": null,
   "id": "18b87f7c",
   "metadata": {},
   "outputs": [],
   "source": []
  },
  {
   "cell_type": "code",
   "execution_count": null,
   "id": "2237f324",
   "metadata": {},
   "outputs": [],
   "source": []
  },
  {
   "cell_type": "code",
   "execution_count": null,
   "id": "a4558569",
   "metadata": {},
   "outputs": [],
   "source": []
  },
  {
   "cell_type": "code",
   "execution_count": null,
   "id": "07a2e852",
   "metadata": {},
   "outputs": [],
   "source": []
  },
  {
   "cell_type": "code",
   "execution_count": null,
   "id": "0205e3b7",
   "metadata": {},
   "outputs": [],
   "source": []
  },
  {
   "cell_type": "code",
   "execution_count": null,
   "id": "4bd0cf8d",
   "metadata": {},
   "outputs": [],
   "source": []
  },
  {
   "cell_type": "code",
   "execution_count": null,
   "id": "d8fdc4b3",
   "metadata": {},
   "outputs": [],
   "source": []
  },
  {
   "cell_type": "code",
   "execution_count": null,
   "id": "88aa2039",
   "metadata": {},
   "outputs": [],
   "source": []
  },
  {
   "cell_type": "code",
   "execution_count": null,
   "id": "8b9b524a",
   "metadata": {},
   "outputs": [],
   "source": []
  }
 ],
 "metadata": {
  "kernelspec": {
   "display_name": "Python 3",
   "language": "python",
   "name": "python3"
  },
  "language_info": {
   "codemirror_mode": {
    "name": "ipython",
    "version": 3
   },
   "file_extension": ".py",
   "mimetype": "text/x-python",
   "name": "python",
   "nbconvert_exporter": "python",
   "pygments_lexer": "ipython3",
   "version": "3.8.8"
  }
 },
 "nbformat": 4,
 "nbformat_minor": 5
}
