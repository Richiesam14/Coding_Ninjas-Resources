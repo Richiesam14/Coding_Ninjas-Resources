{
 "cells": [
  {
   "cell_type": "markdown",
   "metadata": {},
   "source": [
    "## Pattern i for row nd j for column**"
   ]
  },
  {
   "cell_type": "code",
   "execution_count": 9,
   "metadata": {},
   "outputs": [
    {
     "name": "stdout",
     "output_type": "stream",
     "text": [
      "Please Enter the number5\n",
      "*****\n",
      "*****\n",
      "*****\n",
      "*****\n",
      "*****\n"
     ]
    }
   ],
   "source": [
    "x = int (input(\"Please Enter the number\"))\n",
    "i = 1\n",
    "while i <= x:\n",
    "    j = 1\n",
    "    while j <= x:\n",
    "        print(\"*\",end =\"\")\n",
    "        j+=1\n",
    "    \n",
    "    print()\n",
    "    i+=1\n",
    " \n",
    "    \n",
    "    \n",
    "        \n",
    "        \n",
    "     "
   ]
  },
  {
   "cell_type": "markdown",
   "metadata": {},
   "source": [
    "## Examples and types\n"
   ]
  },
  {
   "cell_type": "code",
   "execution_count": 15,
   "metadata": {},
   "outputs": [
    {
     "name": "stdout",
     "output_type": "stream",
     "text": [
      "Please Enter the number4\n",
      "1234\n",
      "1234\n",
      "1234\n",
      "1234\n"
     ]
    }
   ],
   "source": [
    "x = int (input(\"Please Enter the number\"))\n",
    "i = 1\n",
    "while i <= x:\n",
    "    j = 1\n",
    "    while j <= x:\n",
    "        print(j,end =\"\")\n",
    "        j=j+1\n",
    "    \n",
    "    print()\n",
    "    i+=1"
   ]
  },
  {
   "cell_type": "code",
   "execution_count": 13,
   "metadata": {},
   "outputs": [
    {
     "name": "stdout",
     "output_type": "stream",
     "text": [
      "Please Enter the number4\n",
      "1111\n",
      "2222\n",
      "3333\n",
      "4444\n"
     ]
    }
   ],
   "source": [
    "x = int (input(\"Please Enter the number\"))\n",
    "i = 1\n",
    "while i <= x:\n",
    "    j = 1\n",
    "    while j <= x:\n",
    "        print(i,end =\"\")\n",
    "        j+=1\n",
    "    \n",
    "    print()\n",
    "    i+=1"
   ]
  },
  {
   "cell_type": "markdown",
   "metadata": {},
   "source": [
    "## square pattern"
   ]
  },
  {
   "cell_type": "code",
   "execution_count": 7,
   "metadata": {},
   "outputs": [
    {
     "name": "stdout",
     "output_type": "stream",
     "text": [
      "4\n",
      "4444\n",
      "4444\n",
      "4444\n",
      "4444\n"
     ]
    }
   ],
   "source": [
    "N = int(input())\n",
    "temp = N\n",
    "i = 1\n",
    "while i <= temp:\n",
    "    j = 1\n",
    "    while j <= temp:\n",
    "        print(temp,end=\"\")\n",
    "        j+=1\n",
    "    print()\n",
    "    i+=1"
   ]
  },
  {
   "cell_type": "code",
   "execution_count": 18,
   "metadata": {},
   "outputs": [
    {
     "name": "stdout",
     "output_type": "stream",
     "text": [
      "Please Enter the number4\n",
      "4321\n",
      "4321\n",
      "4321\n",
      "4321\n"
     ]
    }
   ],
   "source": [
    "x = int (input(\"Please Enter the number\"))\n",
    "i = 1\n",
    "while i <= x:\n",
    "    j = 1\n",
    "    while j <= x:\n",
    "        print((x-j)+1,end =\"\")\n",
    "        j=j+1\n",
    "    \n",
    "    print()\n",
    "    i+=1"
   ]
  },
  {
   "cell_type": "markdown",
   "metadata": {},
   "source": [
    "## triangluar pattern"
   ]
  },
  {
   "cell_type": "code",
   "execution_count": 11,
   "metadata": {},
   "outputs": [
    {
     "name": "stdout",
     "output_type": "stream",
     "text": [
      "Please Enter the number4\n",
      "1\n",
      "12\n",
      "123\n",
      "1234\n"
     ]
    }
   ],
   "source": [
    "x = int (input(\"Please Enter the number\"))\n",
    "i = 1\n",
    "while i <= x:\n",
    "    j = 1\n",
    "    while j <= i:\n",
    "        print(j,end =\"\")\n",
    "        j+=1\n",
    "    \n",
    "    print()\n",
    "    i+=1"
   ]
  },
  {
   "cell_type": "code",
   "execution_count": 13,
   "metadata": {},
   "outputs": [
    {
     "name": "stdout",
     "output_type": "stream",
     "text": [
      "Please Enter the number5\n",
      "1\n",
      "23\n",
      "345\n",
      "4567\n",
      "56789\n"
     ]
    }
   ],
   "source": [
    "x = int (input(\"Please Enter the number\"))\n",
    "i = 1\n",
    "while i <= x:\n",
    "    j = 1\n",
    "    p = i\n",
    "    while j <= i:\n",
    "        print(p , end =\"\")\n",
    "        j+=1\n",
    "        p+=1\n",
    "    \n",
    "    print()\n",
    "    i+=1"
   ]
  },
  {
   "cell_type": "code",
   "execution_count": 15,
   "metadata": {},
   "outputs": [
    {
     "name": "stdout",
     "output_type": "stream",
     "text": [
      "Please Enter the number4\n",
      "1\n",
      "23\n",
      "456\n",
      "78910\n"
     ]
    }
   ],
   "source": [
    "x = int (input(\"Please Enter the number\"))\n",
    "i = 1\n",
    "p=1\n",
    "## P doesn't need to reset everytime . here it remains same and increment contin\n",
    "while i <= x:\n",
    "    j = 1\n",
    "    while j <= i:\n",
    "        print(p , end =\"\")\n",
    "        j+=1\n",
    "        p+=1\n",
    "    \n",
    "    print()\n",
    "    i+=1"
   ]
  },
  {
   "cell_type": "code",
   "execution_count": 5,
   "metadata": {},
   "outputs": [
    {
     "name": "stdout",
     "output_type": "stream",
     "text": [
      "5\n",
      "*\n",
      "**\n",
      "***\n",
      "****\n",
      "*****\n"
     ]
    }
   ],
   "source": [
    "N = int(input())\n",
    "i = 1\n",
    "while i <= N:\n",
    "    j=1\n",
    "    while j <= i:\n",
    "        print(\"*\",end = \"\")\n",
    "        j+=1\n",
    "        \n",
    "    print()\n",
    "    i+=1"
   ]
  },
  {
   "cell_type": "markdown",
   "metadata": {},
   "source": [
    "## Reverse no pattern"
   ]
  },
  {
   "cell_type": "code",
   "execution_count": 6,
   "metadata": {},
   "outputs": [
    {
     "name": "stdout",
     "output_type": "stream",
     "text": [
      "5\n",
      "1\n",
      "21\n",
      "321\n",
      "4321\n",
      "54321\n"
     ]
    }
   ],
   "source": [
    "N = int(input())\n",
    "i = 1\n",
    "temp = N\n",
    "while i <= N:\n",
    "    j=1\n",
    "    while j <= i:\n",
    "        print((i-j)+1 ,end = \"\")\n",
    "        j+=1\n",
    "        \n",
    "    print()\n",
    "    i+=1"
   ]
  },
  {
   "cell_type": "code",
   "execution_count": 9,
   "metadata": {},
   "outputs": [
    {
     "data": {
      "text/plain": [
       "66"
      ]
     },
     "execution_count": 9,
     "metadata": {},
     "output_type": "execute_result"
    }
   ],
   "source": [
    "ord('B')"
   ]
  },
  {
   "cell_type": "markdown",
   "metadata": {},
   "source": [
    "## Ascii - k th character"
   ]
  },
  {
   "cell_type": "code",
   "execution_count": 11,
   "metadata": {},
   "outputs": [
    {
     "data": {
      "text/plain": [
       "'B'"
      ]
     },
     "execution_count": 11,
     "metadata": {},
     "output_type": "execute_result"
    }
   ],
   "source": [
    "chr(66)"
   ]
  },
  {
   "cell_type": "code",
   "execution_count": 37,
   "metadata": {},
   "outputs": [
    {
     "name": "stdout",
     "output_type": "stream",
     "text": [
      "4\n"
     ]
    },
    {
     "data": {
      "text/plain": [
       "'D'"
      ]
     },
     "execution_count": 37,
     "metadata": {},
     "output_type": "execute_result"
    }
   ],
   "source": [
    "n = int(input())\n",
    "askii_A = ord(\"A\")\n",
    "alpha  = chr ((askii_A + n) - 1)\n",
    "alpha\n"
   ]
  },
  {
   "cell_type": "markdown",
   "metadata": {},
   "source": [
    "## ascii for understanding A -1 B -2 C-3 D -4 and goes"
   ]
  },
  {
   "cell_type": "code",
   "execution_count": 27,
   "metadata": {},
   "outputs": [
    {
     "name": "stdout",
     "output_type": "stream",
     "text": [
      "Please Enter the number 4\n",
      "ABCD\n",
      "ABCD\n",
      "ABCD\n",
      "ABCD\n"
     ]
    }
   ],
   "source": [
    "x = int (input(\"Please Enter the number \"))\n",
    "i = 1\n",
    "while i <= x:\n",
    "    j = 1\n",
    "    while j <= x:\n",
    "        askii_A = ord(\"A\")\n",
    "        alpha  = (askii_A + j) - 1\n",
    "        f = chr(alpha)\n",
    "        print(f,end =\"\")\n",
    "        j=j+1\n",
    "    \n",
    "    print()\n",
    "    i+=1"
   ]
  },
  {
   "cell_type": "code",
   "execution_count": 54,
   "metadata": {},
   "outputs": [
    {
     "name": "stdout",
     "output_type": "stream",
     "text": [
      "Please Enter the number 4\n",
      "ABCD\n",
      "BCDE\n",
      "CDEF\n",
      "DEFG\n"
     ]
    }
   ],
   "source": [
    "x = int (input(\"Please Enter the number \"))\n",
    "i = 1\n",
    "while i <= x:\n",
    "    j = 1\n",
    "    strt_char = chr ((ord(\"A\") + i)-1)\n",
    "    \n",
    "    ## just to keep the start_char looped again with i ,keeping down the loop 'i' gives extra 1 whenever looped\n",
    "    while j <= x:\n",
    "        f = chr ((ord(strt_char) + j)-1)\n",
    "        print(f,end =\"\")\n",
    "        j=j+1\n",
    "    \n",
    "    print()\n",
    "    i+=1"
   ]
  },
  {
   "cell_type": "markdown",
   "metadata": {},
   "source": [
    "## triangle ascii"
   ]
  },
  {
   "cell_type": "code",
   "execution_count": 64,
   "metadata": {},
   "outputs": [
    {
     "name": "stdout",
     "output_type": "stream",
     "text": [
      "5\n",
      "A\n",
      "BC\n",
      "CDE\n",
      "DEFG\n",
      "EFGHI\n"
     ]
    }
   ],
   "source": [
    "N = int (input())\n",
    "i = 1\n",
    "while i <= N:\n",
    "    j = 1\n",
    "    temp_char = chr((ord(\"A\") + i)-1)\n",
    "    while j <= i:\n",
    "        f = chr ((ord(temp_char) + j)-1)\n",
    "        print(f,end =\"\")\n",
    "        j+=1\n",
    "    \n",
    "    print()\n",
    "    i += 1\n",
    "\n",
    "\n",
    "\n",
    "\n"
   ]
  },
  {
   "cell_type": "markdown",
   "metadata": {},
   "source": [
    "## Reverse ascii"
   ]
  },
  {
   "cell_type": "code",
   "execution_count": 65,
   "metadata": {},
   "outputs": [
    {
     "name": "stdout",
     "output_type": "stream",
     "text": [
      "8\n",
      "H\n",
      "HG\n",
      "HGF\n",
      "HGFE\n",
      "HGFED\n",
      "HGFEDC\n",
      "HGFEDCB\n",
      "HGFEDCBA\n"
     ]
    }
   ],
   "source": [
    "N = int (input())\n",
    "i = 1\n",
    "while i <= N:\n",
    "    j = 1\n",
    "    temp_char = chr((ord(\"A\") + N)-1)\n",
    "    while j <= i:\n",
    "        f = chr ((ord(temp_char) - j)+1)\n",
    "        print(f,end =\"\")\n",
    "        j+=1\n",
    "    \n",
    "    print()\n",
    "    i += 1"
   ]
  },
  {
   "cell_type": "code",
   "execution_count": 63,
   "metadata": {},
   "outputs": [
    {
     "name": "stdout",
     "output_type": "stream",
     "text": [
      "8\n",
      "H\n",
      "GH\n",
      "FGH\n",
      "EFGH\n",
      "DEFGH\n",
      "CDEFGH\n",
      "BCDEFGH\n",
      "ABCDEFGH\n"
     ]
    }
   ],
   "source": [
    "N = int (input())\n",
    "i = 1\n",
    "while i <= N:\n",
    "    j = 1\n",
    "    temp_char = ((ord(\"A\") + N)-i)\n",
    "    while j <= i:\n",
    "        f = chr((temp_char + j)-1)\n",
    "        print (f,end =\"\")\n",
    "        j+=1\n",
    "    \n",
    "    print()\n",
    "    i += 1"
   ]
  },
  {
   "cell_type": "markdown",
   "metadata": {},
   "source": [
    "## Exercise"
   ]
  },
  {
   "cell_type": "code",
   "execution_count": 1,
   "metadata": {},
   "outputs": [
    {
     "name": "stdout",
     "output_type": "stream",
     "text": [
      "4\n",
      "1\n",
      "11\n",
      "111\n",
      "1111\n"
     ]
    }
   ],
   "source": [
    "N = int (input())\n",
    "i = 1\n",
    "while i <= N:\n",
    "    j = 1\n",
    "    while j <= i:\n",
    "        print(\"1\",end =\"\")\n",
    "        j+=1\n",
    "    \n",
    "    print()\n",
    "    i+=1"
   ]
  },
  {
   "cell_type": "markdown",
   "metadata": {},
   "source": [
    "## Authentic soln - Number pattern 2 difficu"
   ]
  },
  {
   "cell_type": "code",
   "execution_count": 1,
   "metadata": {},
   "outputs": [
    {
     "name": "stdout",
     "output_type": "stream",
     "text": [
      "4\n",
      "1\n",
      "11\n",
      "202\n",
      "3003\n"
     ]
    }
   ],
   "source": [
    "n = int(input()) \n",
    "print(1) \n",
    "i=1 \n",
    "while(i<n): \n",
    "    j=0 \n",
    "    while(j<i+1):\n",
    "        if(j==0 or j==i):\n",
    "            print(i,end='') \n",
    "        else:\n",
    "            print(0,end='')\n",
    "        j=j+1 \n",
    "    i=i+1 \n",
    "    print()"
   ]
  },
  {
   "cell_type": "markdown",
   "metadata": {},
   "source": [
    "## Ec logic"
   ]
  },
  {
   "cell_type": "code",
   "execution_count": 3,
   "metadata": {},
   "outputs": [
    {
     "name": "stdout",
     "output_type": "stream",
     "text": [
      "4\n",
      "1\n",
      "11\n",
      "202\n",
      "3003\n"
     ]
    }
   ],
   "source": [
    "n=int(input())\n",
    "i=1\n",
    "print(1)\n",
    "while i <= n-1:\n",
    "    print(i,end=\"\")\n",
    "    j=2\n",
    "    while j <= i:\n",
    "        print(\"0\",end=\"\")\n",
    "        j += 1\n",
    "    print(i)\n",
    "    i=i+1"
   ]
  },
  {
   "cell_type": "code",
   "execution_count": 8,
   "metadata": {},
   "outputs": [
    {
     "name": "stdout",
     "output_type": "stream",
     "text": [
      "4\n",
      "1\n",
      "11\n",
      "121\n",
      "1221\n"
     ]
    }
   ],
   "source": [
    "n=int(input())\n",
    "i=1\n",
    "print(1)\n",
    "while i <= n-1:\n",
    "    temp = 1\n",
    "    print(temp,end=\"\")\n",
    "    j=2\n",
    "    while j <= i:\n",
    "        print(\"2\",end=\"\")\n",
    "        j += 1\n",
    "    print(temp)\n",
    "    i=i+1"
   ]
  },
  {
   "cell_type": "code",
   "execution_count": 10,
   "metadata": {},
   "outputs": [
    {
     "name": "stdout",
     "output_type": "stream",
     "text": [
      "Please Enter the number4\n",
      "1234\n",
      "123\n",
      "12\n",
      "1\n"
     ]
    }
   ],
   "source": [
    "x = int (input(\"Please Enter the number\"))\n",
    "i = 1\n",
    "while i <= x:\n",
    "    j = 1\n",
    "    temp = x-i+1\n",
    "    while j <= temp:\n",
    "        print(j,end =\"\")\n",
    "        j+=1\n",
    "    print()\n",
    "    i+=1"
   ]
  },
  {
   "cell_type": "code",
   "execution_count": 3,
   "metadata": {},
   "outputs": [
    {
     "name": "stdout",
     "output_type": "stream",
     "text": [
      "4\n",
      "A\n",
      "BB\n",
      "CCC\n",
      "DDDD\n"
     ]
    }
   ],
   "source": [
    "N = int (input())\n",
    "i = 1\n",
    "while i <= N:\n",
    "    j = 1\n",
    "    temp_char = chr((ord(\"A\") + i)-1)\n",
    "    while j <= i:\n",
    "        f = temp_char\n",
    "        print(f,end =\"\")\n",
    "        j+=1\n",
    "    \n",
    "    print()\n",
    "    i += 1"
   ]
  },
  {
   "cell_type": "markdown",
   "metadata": {},
   "source": [
    "## Alter"
   ]
  },
  {
   "cell_type": "code",
   "execution_count": 18,
   "metadata": {},
   "outputs": [
    {
     "name": "stdout",
     "output_type": "stream",
     "text": [
      "4\n",
      "A\n",
      "BB\n",
      "CCC\n",
      "DDDD\n"
     ]
    }
   ],
   "source": [
    "N = int (input())\n",
    "i = 1\n",
    "while i <= N:\n",
    "    j = 1\n",
    "    temp_char = chr((ord(\"A\") + i)-1)\n",
    "    while j <= i:\n",
    "        f = chr ((ord(temp_char) + 1)-1)\n",
    "        print(f,end =\"\")\n",
    "        j+=1\n",
    "    \n",
    "    print()\n",
    "    i += 1"
   ]
  },
  {
   "cell_type": "code",
   "execution_count": 12,
   "metadata": {},
   "outputs": [
    {
     "name": "stdout",
     "output_type": "stream",
     "text": [
      "4\n",
      "A\n",
      "AB\n",
      "ABC\n",
      "ABCD\n"
     ]
    }
   ],
   "source": [
    "N = int (input())\n",
    "i = 1\n",
    "while i <= N:\n",
    "    j = 1\n",
    "    while j <= i:\n",
    "        f = chr ((ord(\"A\") + j)-1)\n",
    "        print(f,end =\"\")\n",
    "        j+=1\n",
    "    \n",
    "    print()\n",
    "    i += 1\n"
   ]
  },
  {
   "cell_type": "code",
   "execution_count": 2,
   "metadata": {},
   "outputs": [
    {
     "name": "stdout",
     "output_type": "stream",
     "text": [
      "5\n",
      "5432*\n",
      "543*1\n",
      "54*21\n",
      "5*321\n",
      "*4321\n"
     ]
    }
   ],
   "source": [
    "n = int(input())\n",
    "for i in range(1,n+1):\n",
    "    for j in range(5, 0, -1):\n",
    "        if(i == j):\n",
    "            print(\"*\", end=\"\")\n",
    "        else:\n",
    "            print(j, end=\"\")\n",
    "    print()"
   ]
  },
  {
   "cell_type": "markdown",
   "metadata": {},
   "source": [
    "## Number Star pattern 1"
   ]
  },
  {
   "cell_type": "code",
   "execution_count": 4,
   "metadata": {},
   "outputs": [
    {
     "name": "stdout",
     "output_type": "stream",
     "text": [
      "6\n",
      "65432*\n",
      "6543*1\n",
      "654*21\n",
      "65*321\n",
      "6*4321\n",
      "*54321\n"
     ]
    }
   ],
   "source": [
    "N = int(input())\n",
    "i=1  \n",
    "while(i<=N): \n",
    "    j=N  \n",
    "    while (j>=1):  \n",
    "        if j!=i:  \n",
    "            print(j, end='', flush=True)  \n",
    "        else:  \n",
    "            print('*', end='', flush=True)  \n",
    "        j=j-1  \n",
    "    print(\"\")  \n",
    "    i=i+1;  "
   ]
  },
  {
   "cell_type": "code",
   "execution_count": null,
   "metadata": {},
   "outputs": [],
   "source": []
  },
  {
   "cell_type": "code",
   "execution_count": null,
   "metadata": {},
   "outputs": [],
   "source": []
  },
  {
   "cell_type": "code",
   "execution_count": null,
   "metadata": {},
   "outputs": [],
   "source": []
  },
  {
   "cell_type": "code",
   "execution_count": null,
   "metadata": {},
   "outputs": [],
   "source": []
  },
  {
   "cell_type": "code",
   "execution_count": null,
   "metadata": {},
   "outputs": [],
   "source": []
  }
 ],
 "metadata": {
  "kernelspec": {
   "display_name": "Python 3",
   "language": "python",
   "name": "python3"
  },
  "language_info": {
   "codemirror_mode": {
    "name": "ipython",
    "version": 3
   },
   "file_extension": ".py",
   "mimetype": "text/x-python",
   "name": "python",
   "nbconvert_exporter": "python",
   "pygments_lexer": "ipython3",
   "version": "3.8.8"
  }
 },
 "nbformat": 4,
 "nbformat_minor": 4
}
