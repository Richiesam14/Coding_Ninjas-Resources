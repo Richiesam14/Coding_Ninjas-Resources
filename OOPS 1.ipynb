{
 "cells": [
  {
   "cell_type": "markdown",
   "id": "07e62650",
   "metadata": {},
   "source": [
    "## intro to class & attrib"
   ]
  },
  {
   "cell_type": "code",
   "execution_count": 27,
   "id": "00b8ef20",
   "metadata": {},
   "outputs": [],
   "source": [
    "class jenna:\n",
    "    \"idk whats gonna happen\"\n",
    "    def crisp(any,date ,type,desc,transaction,amount):\n",
    "        pass"
   ]
  },
  {
   "cell_type": "code",
   "execution_count": 30,
   "id": "ff9b1c03",
   "metadata": {},
   "outputs": [],
   "source": [
    "s = jenna()"
   ]
  },
  {
   "cell_type": "code",
   "execution_count": 100,
   "id": "e4089aac",
   "metadata": {},
   "outputs": [],
   "source": [
    "class jenn:\n",
    "    \"idk whats gonna happen\"\n",
    "    jenn_version = 1.0\n",
    "    def __init__(strt,date,rob,desc,amount):       ## __init__ function is unique helps assign val to class (attri)\n",
    "        strt.date = date\n",
    "        strt.rob = rob                               ## storing val in same variable of fn\n",
    "        strt.desc = desc\n",
    "        strt.amount = amount         ## instance attrib can be anything not the storage one"
   ]
  },
  {
   "cell_type": "code",
   "execution_count": 90,
   "id": "38853fd8",
   "metadata": {},
   "outputs": [],
   "source": [
    "a = jenn(\"checkpc\",\"string\",\"hush\",\"100\")"
   ]
  },
  {
   "cell_type": "code",
   "execution_count": 96,
   "id": "3fc75147",
   "metadata": {},
   "outputs": [],
   "source": [
    "b = jenn(\"krio\",\"freak\",\"kkk\",\"2000\") "
   ]
  },
  {
   "cell_type": "code",
   "execution_count": 91,
   "id": "6276ba88",
   "metadata": {},
   "outputs": [
    {
     "data": {
      "text/plain": [
       "'checkpc'"
      ]
     },
     "execution_count": 91,
     "metadata": {},
     "output_type": "execute_result"
    }
   ],
   "source": [
    "a.date"
   ]
  },
  {
   "cell_type": "code",
   "execution_count": 79,
   "id": "a4a4b373",
   "metadata": {},
   "outputs": [
    {
     "data": {
      "text/plain": [
       "{'date': 'checkpc', 'rob': 'string', 'desc': 'hush', 'amount': '100'}"
      ]
     },
     "execution_count": 79,
     "metadata": {},
     "output_type": "execute_result"
    }
   ],
   "source": [
    "a.__dict__       ###  gonna show u everything stored in  'a'"
   ]
  },
  {
   "cell_type": "code",
   "execution_count": 78,
   "id": "130c1265",
   "metadata": {},
   "outputs": [
    {
     "data": {
      "text/plain": [
       "'2000'"
      ]
     },
     "execution_count": 78,
     "metadata": {},
     "output_type": "execute_result"
    }
   ],
   "source": [
    "b.amount"
   ]
  },
  {
   "cell_type": "code",
   "execution_count": 80,
   "id": "4005c3c7",
   "metadata": {},
   "outputs": [
    {
     "data": {
      "text/plain": [
       "{'date': 'krio', 'rob': 'freak', 'desc': 'kkk', 'amount': '2000'}"
      ]
     },
     "execution_count": 80,
     "metadata": {},
     "output_type": "execute_result"
    }
   ],
   "source": [
    "b.__dict__"
   ]
  },
  {
   "cell_type": "code",
   "execution_count": 92,
   "id": "6e3cfcfb",
   "metadata": {},
   "outputs": [
    {
     "data": {
      "text/plain": [
       "'checkpc'"
      ]
     },
     "execution_count": 92,
     "metadata": {},
     "output_type": "execute_result"
    }
   ],
   "source": [
    "getattr(a,'date')  ## note"
   ]
  },
  {
   "cell_type": "code",
   "execution_count": 93,
   "id": "8e2dcd21",
   "metadata": {},
   "outputs": [
    {
     "data": {
      "text/plain": [
       "True"
      ]
     },
     "execution_count": 93,
     "metadata": {},
     "output_type": "execute_result"
    }
   ],
   "source": [
    "hasattr(a,'date')"
   ]
  },
  {
   "cell_type": "code",
   "execution_count": 85,
   "id": "eed71e81",
   "metadata": {},
   "outputs": [],
   "source": [
    "delattr(a,'desc')"
   ]
  },
  {
   "cell_type": "code",
   "execution_count": 86,
   "id": "8f92e2f8",
   "metadata": {},
   "outputs": [
    {
     "data": {
      "text/plain": [
       "{'date': 'checkpc', 'rob': 'string', 'amount': '100'}"
      ]
     },
     "execution_count": 86,
     "metadata": {},
     "output_type": "execute_result"
    }
   ],
   "source": [
    "a.__dict__        ## can see desc has been dlted"
   ]
  },
  {
   "cell_type": "code",
   "execution_count": 94,
   "id": "b35b28a2",
   "metadata": {},
   "outputs": [
    {
     "data": {
      "text/plain": [
       "1.0"
      ]
     },
     "execution_count": 94,
     "metadata": {},
     "output_type": "execute_result"
    }
   ],
   "source": [
    "## class attrib & fn attrib - vary\n",
    "a.jenn_version"
   ]
  },
  {
   "cell_type": "code",
   "execution_count": 99,
   "id": "265bbb10",
   "metadata": {},
   "outputs": [
    {
     "data": {
      "text/plain": [
       "1.0"
      ]
     },
     "execution_count": 99,
     "metadata": {},
     "output_type": "execute_result"
    }
   ],
   "source": [
    "b.jenn_version"
   ]
  },
  {
   "cell_type": "code",
   "execution_count": 101,
   "id": "746363a0",
   "metadata": {},
   "outputs": [],
   "source": [
    "b.jenn_version = 2.0 ## to update class attrib"
   ]
  },
  {
   "cell_type": "code",
   "execution_count": 102,
   "id": "36168856",
   "metadata": {},
   "outputs": [
    {
     "data": {
      "text/plain": [
       "2.0"
      ]
     },
     "execution_count": 102,
     "metadata": {},
     "output_type": "execute_result"
    }
   ],
   "source": [
    "b.jenn_version"
   ]
  },
  {
   "cell_type": "code",
   "execution_count": null,
   "id": "5e5579e8",
   "metadata": {},
   "outputs": [],
   "source": []
  },
  {
   "cell_type": "code",
   "execution_count": 52,
   "id": "590fe931",
   "metadata": {},
   "outputs": [],
   "source": [
    "## error code\n",
    "class jenn:\n",
    "    \"idk whats gonna happen\"\n",
    "    def crisp(strt,date,rob,desc,amount):  ## note:crisp isn't un fn\n",
    "        strt.date = date\n",
    "        strt.rob = rob\n",
    "        strt.desc = desc\n",
    "        strt.amount = amount"
   ]
  },
  {
   "cell_type": "code",
   "execution_count": 53,
   "id": "d67b6351",
   "metadata": {},
   "outputs": [],
   "source": [
    "h = jenn()"
   ]
  },
  {
   "cell_type": "markdown",
   "id": "8a3cca51",
   "metadata": {},
   "source": [
    "\n",
    "## Instance & Static method"
   ]
  },
  {
   "cell_type": "code",
   "execution_count": 18,
   "id": "2ad86472",
   "metadata": {},
   "outputs": [],
   "source": [
    "class jenn:\n",
    "    \"idk whats gonna happen\"\n",
    "    jenn_version = 1.0\n",
    "    def __init__(strt,date,rob,desc,amount):       ## __init__ function is unique helps assign val to class (attri)\n",
    "        strt.date = date\n",
    "        strt.rob = rob                               ## storing val in same variable of fn\n",
    "        strt.desc = desc\n",
    "        strt.amount = amount\n",
    "    ## instance\n",
    "    def test(strt):\n",
    "        return strt.desc\n",
    "    ## inst\n",
    "    def fact(strt):\n",
    "        if strt.amount >=4000:\n",
    "            return True\n",
    "        else:\n",
    "            return \"nah failed\"\n",
    "        \n",
    "    @staticmethod        ## imp to pass else would fail\n",
    "    def amt(budget):              ## any fn but not related \n",
    "        return float(budget) \n",
    "        "
   ]
  },
  {
   "cell_type": "code",
   "execution_count": 10,
   "id": "ed3dc40f",
   "metadata": {},
   "outputs": [],
   "source": [
    "s = jenn(\"NA\",\"dec\",\"chennai\",6000) "
   ]
  },
  {
   "cell_type": "code",
   "execution_count": 19,
   "id": "2a04e5bb",
   "metadata": {},
   "outputs": [],
   "source": []
  },
  {
   "cell_type": "code",
   "execution_count": null,
   "id": "0ed6c353",
   "metadata": {},
   "outputs": [],
   "source": []
  },
  {
   "cell_type": "code",
   "execution_count": 31,
   "id": "05f24dd9",
   "metadata": {},
   "outputs": [],
   "source": [
    "r = jenn(\"Jan\",\"Apr\",\"adelaide\",2000) "
   ]
  },
  {
   "cell_type": "code",
   "execution_count": 39,
   "id": "20268597",
   "metadata": {
    "scrolled": true
   },
   "outputs": [
    {
     "data": {
      "text/plain": [
       "{'date': 'Jan', 'rob': 'Apr', 'desc': 'adelaide', 'amount': 2000}"
      ]
     },
     "execution_count": 39,
     "metadata": {},
     "output_type": "execute_result"
    }
   ],
   "source": [
    "r.__dict__"
   ]
  },
  {
   "cell_type": "code",
   "execution_count": 40,
   "id": "e808c544",
   "metadata": {},
   "outputs": [
    {
     "data": {
      "text/plain": [
       "2000"
      ]
     },
     "execution_count": 40,
     "metadata": {},
     "output_type": "execute_result"
    }
   ],
   "source": [
    "r.amount"
   ]
  },
  {
   "cell_type": "code",
   "execution_count": 13,
   "id": "960ad8eb",
   "metadata": {},
   "outputs": [
    {
     "data": {
      "text/plain": [
       "'chennai'"
      ]
     },
     "execution_count": 13,
     "metadata": {},
     "output_type": "execute_result"
    }
   ],
   "source": [
    "s.test()"
   ]
  },
  {
   "cell_type": "code",
   "execution_count": 32,
   "id": "1244ee7a",
   "metadata": {},
   "outputs": [
    {
     "data": {
      "text/plain": [
       "'nah failed'"
      ]
     },
     "execution_count": 32,
     "metadata": {},
     "output_type": "execute_result"
    }
   ],
   "source": [
    "r.fact()  ## bfore"
   ]
  },
  {
   "cell_type": "code",
   "execution_count": 20,
   "id": "4534845c",
   "metadata": {},
   "outputs": [
    {
     "data": {
      "text/plain": [
       "True"
      ]
     },
     "execution_count": 20,
     "metadata": {},
     "output_type": "execute_result"
    }
   ],
   "source": [
    "r.fact()"
   ]
  },
  {
   "cell_type": "code",
   "execution_count": 36,
   "id": "036625e9",
   "metadata": {},
   "outputs": [
    {
     "data": {
      "text/plain": [
       "105.0"
      ]
     },
     "execution_count": 36,
     "metadata": {},
     "output_type": "execute_result"
    }
   ],
   "source": [
    "r.amt(105)"
   ]
  },
  {
   "cell_type": "markdown",
   "id": "926c2efa",
   "metadata": {},
   "source": [
    "## class mthd"
   ]
  },
  {
   "cell_type": "code",
   "execution_count": 11,
   "id": "350069fd",
   "metadata": {},
   "outputs": [],
   "source": [
    "class news:\n",
    "    \"idk whats gonna happen\"\n",
    "    jenn_version = 1.0\n",
    "    def __init__(strt,date,rob,desc,amount):       ## __init__ function is unique helps assign val to class (attri)\n",
    "        strt.date = date\n",
    "        strt.rob = rob                               ## storing val in same variable of fn\n",
    "        strt.desc = desc\n",
    "        strt.amount = amount\n",
    "    ## instance\n",
    "    def test(strt):\n",
    "        return strt.desc\n",
    "    ## inst\n",
    "    def fact(strt):\n",
    "        if strt.amount >=4000:\n",
    "            return True\n",
    "        else:\n",
    "            return \"nah failed\"\n",
    "        \n",
    "    @staticmethod        ## imp to pass else would fail\n",
    "    def amt(budget):              ## any fn but not related \n",
    "        return float(budget)\n",
    "    @classmethod\n",
    "    def cl(cm,diary_entry:str):\n",
    "        date,rob,desc,amount = diary_entry.split(\" \")        ## watchout twice\n",
    "        return news(date,rob,desc,amount)\n",
    "    \n",
    "        "
   ]
  },
  {
   "cell_type": "code",
   "execution_count": 12,
   "id": "98342ef7",
   "metadata": {},
   "outputs": [],
   "source": [
    "v = news.cl(\"lol kol decide 100\")"
   ]
  },
  {
   "cell_type": "code",
   "execution_count": 16,
   "id": "fc6f6659",
   "metadata": {},
   "outputs": [
    {
     "data": {
      "text/plain": [
       "{'date': 'lol', 'rob': 'kol', 'desc': 'decide', 'amount': '100'}"
      ]
     },
     "execution_count": 16,
     "metadata": {},
     "output_type": "execute_result"
    }
   ],
   "source": [
    "v.__dict__"
   ]
  },
  {
   "cell_type": "code",
   "execution_count": 13,
   "id": "ac56eada",
   "metadata": {},
   "outputs": [],
   "source": [
    "\n",
    "\n",
    "## eg\n",
    "\n",
    "class ExpenseTracker:\n",
    "    #class attribute\n",
    "    expense_version_tracker=0.1\n",
    "    def __init__(self,track_category,original_balance,budget):\n",
    "        #instance/object Attributes\n",
    "        self.tracking_category=track_category\n",
    "        self.original_balance=original_balance\n",
    "        self.tracker_budget=budget\n",
    "        #instance method\n",
    "    def get_original_balance(self):\n",
    "        return self.original_balance\n",
    "    def check_balance(self,limit=1000):\n",
    "        if self.tracker_budget>=limit:\n",
    "            return True\n",
    "        else:\n",
    "            return \"Your opening balance is less than limit\"\n",
    "    @staticmethod\n",
    "    def convert_amount(amount):\n",
    "            return float(amount)\n",
    "    @classmethod\n",
    "    def get_attributes_fromstring(cls,diary_entry:str):\n",
    "        tracking_category,opening_balance,tracker_budget=diary_entry.split(\" \")\n",
    "        return ExpenseTracker(tracking_category,cls.convert_amount(opening_balance),cls.convert_amount(tracker_budget))"
   ]
  },
  {
   "cell_type": "code",
   "execution_count": 14,
   "id": "ddfcdd47",
   "metadata": {},
   "outputs": [
    {
     "data": {
      "text/plain": [
       "{'tracking_category': 'shopping',\n",
       " 'original_balance': 100.0,\n",
       " 'tracker_budget': 5000.0}"
      ]
     },
     "execution_count": 14,
     "metadata": {},
     "output_type": "execute_result"
    }
   ],
   "source": [
    "ClassObject=ExpenseTracker.get_attributes_fromstring(\"shopping 100 5000\")\n",
    "ClassObject.__dict__\n"
   ]
  },
  {
   "cell_type": "markdown",
   "id": "2fb8d020",
   "metadata": {},
   "source": [
    "## public & private modi"
   ]
  },
  {
   "cell_type": "code",
   "execution_count": 52,
   "id": "5501673d",
   "metadata": {},
   "outputs": [],
   "source": [
    "class jenn:\n",
    "    \"idk whats gonna happen\"\n",
    "    jenn_version = 1.0\n",
    "    def __init__(strt,date,rob,desc,amount):       ## __init__ function is unique helps assign val to class (attri)\n",
    "        strt.date = date\n",
    "        ## private\n",
    "        strt.__rob = rob                               ## there we go about private & public __ before attri def private\n",
    "        strt.__desc = desc\n",
    "        strt.__amount = amount\n",
    "     ## instance\n",
    "     ## private\n",
    "    def __test(strt):\n",
    "        return strt.__desc   \n",
    "    ## inst\n",
    "    def fact(strt):\n",
    "        if strt.amount >=4000:\n",
    "            return True\n",
    "        else:\n",
    "            return \"nah failed\"\n",
    "        \n",
    "    @staticmethod        ## imp to pass else would fail\n",
    "    def amt(budget):              ## any fn but not related \n",
    "        return float(budget) \n",
    "        "
   ]
  },
  {
   "cell_type": "code",
   "execution_count": 53,
   "id": "821d49b9",
   "metadata": {},
   "outputs": [],
   "source": [
    "home = jenn(\"june\",\"nil\",\"howaaaz\",500)"
   ]
  },
  {
   "cell_type": "code",
   "execution_count": 26,
   "id": "c5fd1336",
   "metadata": {},
   "outputs": [
    {
     "data": {
      "text/plain": [
       "'june'"
      ]
     },
     "execution_count": 26,
     "metadata": {},
     "output_type": "execute_result"
    }
   ],
   "source": [
    "home.date"
   ]
  },
  {
   "cell_type": "code",
   "execution_count": 27,
   "id": "8e0a82af",
   "metadata": {},
   "outputs": [
    {
     "ename": "AttributeError",
     "evalue": "'jenn' object has no attribute 'rob'",
     "output_type": "error",
     "traceback": [
      "\u001b[1;31m---------------------------------------------------------------------------\u001b[0m",
      "\u001b[1;31mAttributeError\u001b[0m                            Traceback (most recent call last)",
      "\u001b[1;32m<ipython-input-27-7399bb40d8f6>\u001b[0m in \u001b[0;36m<module>\u001b[1;34m\u001b[0m\n\u001b[1;32m----> 1\u001b[1;33m \u001b[0mhome\u001b[0m\u001b[1;33m.\u001b[0m\u001b[0mrob\u001b[0m\u001b[1;33m\u001b[0m\u001b[1;33m\u001b[0m\u001b[0m\n\u001b[0m",
      "\u001b[1;31mAttributeError\u001b[0m: 'jenn' object has no attribute 'rob'"
     ]
    }
   ],
   "source": [
    "home.rob"
   ]
  },
  {
   "cell_type": "code",
   "execution_count": 44,
   "id": "53f5b7be",
   "metadata": {},
   "outputs": [
    {
     "ename": "AttributeError",
     "evalue": "'jenn' object has no attribute 'test'",
     "output_type": "error",
     "traceback": [
      "\u001b[1;31m---------------------------------------------------------------------------\u001b[0m",
      "\u001b[1;31mAttributeError\u001b[0m                            Traceback (most recent call last)",
      "\u001b[1;32m<ipython-input-44-010a26e6ec50>\u001b[0m in \u001b[0;36m<module>\u001b[1;34m\u001b[0m\n\u001b[1;32m----> 1\u001b[1;33m \u001b[0mhome\u001b[0m\u001b[1;33m.\u001b[0m\u001b[0mtest\u001b[0m\u001b[1;33m(\u001b[0m\u001b[1;33m)\u001b[0m       \u001b[1;31m## private function this time\u001b[0m\u001b[1;33m\u001b[0m\u001b[1;33m\u001b[0m\u001b[0m\n\u001b[0m",
      "\u001b[1;31mAttributeError\u001b[0m: 'jenn' object has no attribute 'test'"
     ]
    }
   ],
   "source": [
    "home.test()       ## private function this time"
   ]
  },
  {
   "cell_type": "code",
   "execution_count": 45,
   "id": "d3ba9157",
   "metadata": {},
   "outputs": [
    {
     "data": {
      "text/plain": [
       "{'date': 'june',\n",
       " '_jenn__rob': 'nil',\n",
       " '_jenn__desc': 'howaaaz',\n",
       " '_jenn__amount': 500}"
      ]
     },
     "execution_count": 45,
     "metadata": {},
     "output_type": "execute_result"
    }
   ],
   "source": [
    "home.__dict__"
   ]
  },
  {
   "cell_type": "code",
   "execution_count": 46,
   "id": "182ad4b5",
   "metadata": {},
   "outputs": [
    {
     "data": {
      "text/plain": [
       "'nil'"
      ]
     },
     "execution_count": 46,
     "metadata": {},
     "output_type": "execute_result"
    }
   ],
   "source": [
    "home._jenn__rob"
   ]
  },
  {
   "cell_type": "code",
   "execution_count": 47,
   "id": "c68ff630",
   "metadata": {},
   "outputs": [
    {
     "data": {
      "text/plain": [
       "500"
      ]
     },
     "execution_count": 47,
     "metadata": {},
     "output_type": "execute_result"
    }
   ],
   "source": [
    "home._jenn__amount"
   ]
  },
  {
   "cell_type": "code",
   "execution_count": 55,
   "id": "2021e657",
   "metadata": {},
   "outputs": [
    {
     "data": {
      "text/plain": [
       "'howaaaz'"
      ]
     },
     "execution_count": 55,
     "metadata": {},
     "output_type": "execute_result"
    }
   ],
   "source": [
    "home._jenn__test()   ## private --> now accessible"
   ]
  },
  {
   "cell_type": "code",
   "execution_count": null,
   "id": "6c6f34e7",
   "metadata": {},
   "outputs": [],
   "source": []
  },
  {
   "cell_type": "code",
   "execution_count": null,
   "id": "f28cc98e",
   "metadata": {},
   "outputs": [],
   "source": []
  },
  {
   "cell_type": "code",
   "execution_count": null,
   "id": "1a177373",
   "metadata": {},
   "outputs": [],
   "source": []
  },
  {
   "cell_type": "code",
   "execution_count": null,
   "id": "cbd38212",
   "metadata": {},
   "outputs": [],
   "source": []
  }
 ],
 "metadata": {
  "kernelspec": {
   "display_name": "Python 3 (ipykernel)",
   "language": "python",
   "name": "python3"
  },
  "language_info": {
   "codemirror_mode": {
    "name": "ipython",
    "version": 3
   },
   "file_extension": ".py",
   "mimetype": "text/x-python",
   "name": "python",
   "nbconvert_exporter": "python",
   "pygments_lexer": "ipython3",
   "version": "3.9.7"
  }
 },
 "nbformat": 4,
 "nbformat_minor": 5
}
