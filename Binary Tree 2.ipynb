{
 "cells": [
  {
   "cell_type": "markdown",
   "id": "95fe6f42",
   "metadata": {},
   "source": [
    "## Remove leaf node   def"
   ]
  },
  {
   "cell_type": "code",
   "execution_count": null,
   "id": "ecc2e8b5",
   "metadata": {},
   "outputs": [],
   "source": [
    "class BinaryTreeNode:\n",
    "    def __init__(self,data):\n",
    "        self.data=data;\n",
    "        self.left=None\n",
    "        self.right=None\n",
    "\n",
    "\n",
    "\n"
   ]
  },
  {
   "cell_type": "code",
   "execution_count": null,
   "id": "3ef76579",
   "metadata": {},
   "outputs": [],
   "source": [
    "def printTreeDetailed(root):\n",
    "    if root==None:\n",
    "        return\n",
    "    print(root.data,end=\":\")\n",
    "    if root.left!=None:\n",
    "        print(\"L\",root.left.data,end=\",\")\n",
    "    if root.right!=None:\n",
    "        print(\"R\",root.right.data,end=\"\")\n",
    "    print()\n",
    "    printTreeDetailed(root.left)\n",
    "    printTreeDetailed(root.right)\n",
    "\n"
   ]
  },
  {
   "cell_type": "code",
   "execution_count": null,
   "id": "504f2b12",
   "metadata": {},
   "outputs": [],
   "source": [
    "def treeInput():\n",
    "    rootData=int(input())\n",
    "    if rootData==-1:\n",
    "        return None\n",
    "    root=BinaryTreeNode(rootData)\n",
    "    leftTree=treeInput()\n",
    "    rightTree=treeInput()\n",
    "    root.left=leftTree\n",
    "    root.right=rightTree\n",
    "    return root\n",
    "\n"
   ]
  },
  {
   "cell_type": "code",
   "execution_count": null,
   "id": "bb78ef2d",
   "metadata": {},
   "outputs": [],
   "source": [
    "def removeLeaves(root):\n",
    "    if root==None:\n",
    "        return None\n",
    "    if root.left==None and root.right==None:\n",
    "        return None\n",
    "    root.left=removeLeaves(root.left)\n",
    "    root.right=removeLeaves(root.right)\n",
    "    return root\n",
    "\n",
    "root=treeInput()\n",
    "printTreeDetailed(root)\n",
    "root=removeLeaves(root)\n",
    "printTreeDetailed(root)"
   ]
  },
  {
   "cell_type": "code",
   "execution_count": null,
   "id": "3e4b264c",
   "metadata": {},
   "outputs": [],
   "source": []
  },
  {
   "cell_type": "markdown",
   "id": "707dd50f",
   "metadata": {},
   "source": [
    "## Remove Leaf Nodes "
   ]
  },
  {
   "cell_type": "code",
   "execution_count": 21,
   "id": "698fc547",
   "metadata": {},
   "outputs": [],
   "source": [
    "class tree:\n",
    "    def __init__(self,data):\n",
    "        self.data = data\n",
    "        self.left = None\n",
    "        self.right = None"
   ]
  },
  {
   "cell_type": "code",
   "execution_count": 22,
   "id": "b2750071",
   "metadata": {},
   "outputs": [],
   "source": [
    "def treeprocess():\n",
    "    rootinp = int(input())\n",
    "    if rootinp == -1:\n",
    "        return None\n",
    "    root = tree(rootinp)\n",
    "    leftroot = treeprocess()\n",
    "    rightroot = treeprocess()\n",
    "    root.left = leftroot\n",
    "    root.right = rightroot\n",
    "    return root\n",
    "    \n",
    "    \n",
    "    \n",
    "\n",
    "    "
   ]
  },
  {
   "cell_type": "code",
   "execution_count": 23,
   "id": "581ae5db",
   "metadata": {},
   "outputs": [],
   "source": [
    "def removeLeaves(root):\n",
    "    if root==None:\n",
    "        return None\n",
    "    if root.left==None and root.right==None:\n",
    "        return None\n",
    "    root.left=removeLeaves(root.left)\n",
    "    root.right=removeLeaves(root.right)\n",
    "    return root\n"
   ]
  },
  {
   "cell_type": "code",
   "execution_count": 24,
   "id": "b417b851",
   "metadata": {},
   "outputs": [],
   "source": [
    "def treedesign(root):\n",
    "    if root == None:\n",
    "        return\n",
    "    print(root.data,end=\":\")\n",
    "    if root.left != None:\n",
    "        print(\"Left\",root.left.data,end=\",\")\n",
    "        \n",
    "    if root.right != None:\n",
    "        print(\"Right\",root.right.data,end=\"\")\n",
    "        \n",
    "    print()\n",
    "    treedesign(root.left)\n",
    "    treedesign(root.right)\n",
    "\n",
    "    \n",
    "        \n",
    "    "
   ]
  },
  {
   "cell_type": "code",
   "execution_count": 20,
   "id": "b32ab3ba",
   "metadata": {},
   "outputs": [],
   "source": [
    "\n"
   ]
  },
  {
   "cell_type": "code",
   "execution_count": 26,
   "id": "5b2891bf",
   "metadata": {
    "scrolled": true
   },
   "outputs": [
    {
     "name": "stdout",
     "output_type": "stream",
     "text": [
      "5\n",
      "1\n",
      "2\n",
      "-1\n",
      "-1\n",
      "-1\n",
      "5\n",
      "-1\n",
      "-1\n",
      "5:Left 1,Right 5\n",
      "1:Left 2,\n",
      "2:\n",
      "5:\n",
      "5:Left 1,\n",
      "1:\n"
     ]
    }
   ],
   "source": [
    "s = treeprocess()\n",
    "treedesign(s)\n",
    "\n",
    "l=removeLeaves(s)\n",
    "treedesign(l)"
   ]
  },
  {
   "cell_type": "code",
   "execution_count": null,
   "id": "77bb6c3e",
   "metadata": {},
   "outputs": [],
   "source": []
  },
  {
   "cell_type": "markdown",
   "id": "887605b4",
   "metadata": {},
   "source": [
    "## levelwise input"
   ]
  },
  {
   "cell_type": "code",
   "execution_count": 4,
   "id": "8522bed7",
   "metadata": {},
   "outputs": [],
   "source": [
    "class jee:\n",
    "    def __init__(self,data):\n",
    "        self.data = data\n",
    "        self.left = None\n",
    "        self.right = None"
   ]
  },
  {
   "cell_type": "code",
   "execution_count": 5,
   "id": "caab9bc4",
   "metadata": {},
   "outputs": [],
   "source": [
    "import queue\n",
    "def enavo():\n",
    "    q = queue.Queue()\n",
    "    print(\"Enter root node\")\n",
    "    data = int(input())\n",
    "    if data == -1:\n",
    "        return\n",
    "    a = jee(data)\n",
    "    q.put(a)\n",
    "    while (not(q.empty())):\n",
    "        curr=q.get()\n",
    "        \n",
    "        print(\"Enter Left node\")\n",
    "        left = int(input())\n",
    "        if left != -1:\n",
    "            leftie = jee(left)\n",
    "            curr.left=leftie\n",
    "            q.put(leftie)\n",
    "        \n",
    "        print(\"Enter right node\")\n",
    "        right=int(input())\n",
    "        if right != -1:\n",
    "            rightie = jee(right)\n",
    "            curr.right=rightie\n",
    "            q.put(rightie)\n",
    "    \n",
    "    return a\n",
    "    \n",
    "        \n",
    "    \n",
    "    "
   ]
  },
  {
   "cell_type": "code",
   "execution_count": 6,
   "id": "82f797a1",
   "metadata": {},
   "outputs": [],
   "source": [
    "def printTreeDetailed(root):\n",
    "    if root==None:\n",
    "        return\n",
    "    print(root.data,end=\":\")\n",
    "    if root.left!=None:\n",
    "        print(\"L\",root.left.data,end=\",\")\n",
    "    if root.right!=None:\n",
    "        print(\"R\",root.right.data,end=\"\")\n",
    "    print()\n",
    "    printTreeDetailed(root.left)\n",
    "    printTreeDetailed(root.right)"
   ]
  },
  {
   "cell_type": "code",
   "execution_count": 7,
   "id": "1aafe292",
   "metadata": {},
   "outputs": [
    {
     "name": "stdout",
     "output_type": "stream",
     "text": [
      "Enter root node\n",
      "3\n",
      "Enter Left node\n",
      "1\n",
      "Enter right node\n",
      "3\n",
      "Enter Left node\n",
      "1\n",
      "Enter right node\n",
      "2\n",
      "Enter Left node\n",
      "-1\n",
      "Enter right node\n",
      "-1\n",
      "Enter Left node\n",
      "-1\n",
      "Enter right node\n",
      "-1\n",
      "Enter Left node\n",
      "-1\n",
      "Enter right node\n",
      "-1\n",
      "3:L 1,R 3\n",
      "1:L 1,R 2\n",
      "1:\n",
      "2:\n",
      "3:\n"
     ]
    }
   ],
   "source": [
    "rufus = enavo()\n",
    "printTreeDetailed(rufus)"
   ]
  },
  {
   "cell_type": "code",
   "execution_count": null,
   "id": "8c9c204a",
   "metadata": {},
   "outputs": [],
   "source": []
  },
  {
   "cell_type": "code",
   "execution_count": null,
   "id": "55583d0d",
   "metadata": {},
   "outputs": [],
   "source": []
  },
  {
   "cell_type": "code",
   "execution_count": null,
   "id": "769143f5",
   "metadata": {},
   "outputs": [],
   "source": []
  },
  {
   "cell_type": "code",
   "execution_count": null,
   "id": "12c1fdc6",
   "metadata": {},
   "outputs": [],
   "source": []
  },
  {
   "cell_type": "code",
   "execution_count": null,
   "id": "febad567",
   "metadata": {},
   "outputs": [],
   "source": []
  },
  {
   "cell_type": "code",
   "execution_count": null,
   "id": "828515f0",
   "metadata": {},
   "outputs": [],
   "source": []
  },
  {
   "cell_type": "code",
   "execution_count": null,
   "id": "67ef73ac",
   "metadata": {},
   "outputs": [],
   "source": []
  },
  {
   "cell_type": "code",
   "execution_count": null,
   "id": "483a0639",
   "metadata": {},
   "outputs": [],
   "source": []
  },
  {
   "cell_type": "code",
   "execution_count": null,
   "id": "f1e2aa8b",
   "metadata": {},
   "outputs": [],
   "source": []
  },
  {
   "cell_type": "code",
   "execution_count": null,
   "id": "8db1faa9",
   "metadata": {},
   "outputs": [],
   "source": []
  },
  {
   "cell_type": "code",
   "execution_count": null,
   "id": "681b8248",
   "metadata": {},
   "outputs": [],
   "source": []
  },
  {
   "cell_type": "code",
   "execution_count": null,
   "id": "e63297b8",
   "metadata": {},
   "outputs": [],
   "source": []
  },
  {
   "cell_type": "code",
   "execution_count": null,
   "id": "5553347c",
   "metadata": {},
   "outputs": [],
   "source": []
  },
  {
   "cell_type": "code",
   "execution_count": null,
   "id": "e933ab75",
   "metadata": {},
   "outputs": [],
   "source": []
  },
  {
   "cell_type": "code",
   "execution_count": null,
   "id": "cb8031e3",
   "metadata": {},
   "outputs": [],
   "source": []
  },
  {
   "cell_type": "code",
   "execution_count": null,
   "id": "4fdfb711",
   "metadata": {},
   "outputs": [],
   "source": []
  },
  {
   "cell_type": "code",
   "execution_count": null,
   "id": "6f7902af",
   "metadata": {},
   "outputs": [],
   "source": []
  },
  {
   "cell_type": "code",
   "execution_count": null,
   "id": "cc49618f",
   "metadata": {},
   "outputs": [],
   "source": []
  },
  {
   "cell_type": "code",
   "execution_count": null,
   "id": "b10a3fd9",
   "metadata": {},
   "outputs": [],
   "source": []
  },
  {
   "cell_type": "code",
   "execution_count": null,
   "id": "d053e4db",
   "metadata": {},
   "outputs": [],
   "source": []
  },
  {
   "cell_type": "code",
   "execution_count": null,
   "id": "bea24065",
   "metadata": {},
   "outputs": [],
   "source": []
  }
 ],
 "metadata": {
  "kernelspec": {
   "display_name": "Python 3 (ipykernel)",
   "language": "python",
   "name": "python3"
  },
  "language_info": {
   "codemirror_mode": {
    "name": "ipython",
    "version": 3
   },
   "file_extension": ".py",
   "mimetype": "text/x-python",
   "name": "python",
   "nbconvert_exporter": "python",
   "pygments_lexer": "ipython3",
   "version": "3.9.7"
  }
 },
 "nbformat": 4,
 "nbformat_minor": 5
}
