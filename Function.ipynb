{
 "cells": [
  {
   "cell_type": "markdown",
   "id": "218be20d",
   "metadata": {},
   "source": [
    "## Function"
   ]
  },
  {
   "cell_type": "code",
   "execution_count": 10,
   "id": "e28d6bee",
   "metadata": {},
   "outputs": [
    {
     "name": "stdout",
     "output_type": "stream",
     "text": [
      "4\n",
      "2\n",
      "6\n"
     ]
    }
   ],
   "source": [
    "## factorial traditional method\n",
    "n = int(input())\n",
    "r = int(input())\n",
    "n_fac = 1\n",
    "for i in range (1,n+1):\n",
    "    n_fac = n_fac * i\n",
    "r_fac = 1\n",
    "for j in range (1,r+1):\n",
    "    r_fac = r_fac * j\n",
    "\n",
    "n_r = 1\n",
    "for h in range (1,n-r+1):\n",
    "    n_r= n_r * h\n",
    "\n",
    "    \n",
    "ans = (n_fac) // (r_fac * n_r)\n",
    "print(ans)"
   ]
  },
  {
   "cell_type": "markdown",
   "id": "a4e3f47c",
   "metadata": {},
   "source": [
    "## fun"
   ]
  },
  {
   "cell_type": "code",
   "execution_count": 72,
   "id": "7ebfc91f",
   "metadata": {},
   "outputs": [],
   "source": [
    "def fact(b):\n",
    "    b_fac = 1                     ## can be any variable\n",
    "    for i in range (1,b+1):          ## function super useful whenever operational code repeats\n",
    "        b_fac = b_fac * i\n",
    "    return b_fac"
   ]
  },
  {
   "cell_type": "code",
   "execution_count": 46,
   "id": "bd28b16c",
   "metadata": {},
   "outputs": [
    {
     "data": {
      "text/plain": [
       "6"
      ]
     },
     "execution_count": 46,
     "metadata": {},
     "output_type": "execute_result"
    }
   ],
   "source": [
    "fact(3) ## test "
   ]
  },
  {
   "cell_type": "code",
   "execution_count": 50,
   "id": "5d1594ba",
   "metadata": {},
   "outputs": [
    {
     "name": "stdout",
     "output_type": "stream",
     "text": [
      "7\n",
      "2\n",
      "21\n"
     ]
    }
   ],
   "source": [
    "n = int(input())\n",
    "r = int(input())                \n",
    "\n",
    "n_fac =  fact(n)             ## the below variables stores the value from  function \"fact\"\n",
    "r_fac =  fact(r)           \n",
    "n_r   =  fact(n-r)\n",
    "ans = (n_fac)//(r_fac * n_r)\n",
    "print(ans)"
   ]
  },
  {
   "cell_type": "markdown",
   "id": "fe036349",
   "metadata": {},
   "source": [
    "## Prime function"
   ]
  },
  {
   "cell_type": "code",
   "execution_count": 55,
   "id": "1ba9aa71",
   "metadata": {},
   "outputs": [],
   "source": [
    "def prime(n):\n",
    "    for i in range(2,n):\n",
    "        if n % i == 0:\n",
    "            break\n",
    "        else:\n",
    "            return True\n",
    "    return False"
   ]
  },
  {
   "cell_type": "code",
   "execution_count": 56,
   "id": "6b618836",
   "metadata": {},
   "outputs": [
    {
     "data": {
      "text/plain": [
       "True"
      ]
     },
     "execution_count": 56,
     "metadata": {},
     "output_type": "execute_result"
    }
   ],
   "source": [
    "prime(7)"
   ]
  },
  {
   "cell_type": "code",
   "execution_count": 67,
   "id": "ee3d2bed",
   "metadata": {},
   "outputs": [],
   "source": [
    "def isprime(n):\n",
    "    for m in range(2,n+1):\n",
    "        heck = prime(m)\n",
    "        if heck:                    ## if heck == true , ariable heck defines prime fn\n",
    "            print(m) "
   ]
  },
  {
   "cell_type": "code",
   "execution_count": 66,
   "id": "65f6f308",
   "metadata": {},
   "outputs": [
    {
     "name": "stdout",
     "output_type": "stream",
     "text": [
      "3\n",
      "5\n",
      "7\n",
      "9\n",
      "11\n",
      "13\n"
     ]
    }
   ],
   "source": [
    "isprime(13)"
   ]
  },
  {
   "cell_type": "markdown",
   "id": "91830e69",
   "metadata": {},
   "source": [
    "## NCr"
   ]
  },
  {
   "cell_type": "code",
   "execution_count": 73,
   "id": "413fb5c7",
   "metadata": {},
   "outputs": [],
   "source": [
    "def factorial(n,r):\n",
    "    n_fac =  fact(n)             ## the below variables stores the value from  function \"fact\"\n",
    "    r_fac =  fact(r)           \n",
    "    n_r   =  fact(n-r)\n",
    "    ans = (n_fac)//(r_fac * n_r)\n",
    "    return(ans)"
   ]
  },
  {
   "cell_type": "code",
   "execution_count": 75,
   "id": "8d6e5c3b",
   "metadata": {
    "scrolled": true
   },
   "outputs": [
    {
     "data": {
      "text/plain": [
       "6"
      ]
     },
     "execution_count": 75,
     "metadata": {},
     "output_type": "execute_result"
    }
   ],
   "source": [
    "factorial(4,2)"
   ]
  },
  {
   "cell_type": "markdown",
   "id": "17f32402",
   "metadata": {},
   "source": [
    "## Scope of variables in function"
   ]
  },
  {
   "cell_type": "code",
   "execution_count": 4,
   "id": "d5273ccc",
   "metadata": {},
   "outputs": [
    {
     "name": "stdout",
     "output_type": "stream",
     "text": [
      "7\n",
      "8\n"
     ]
    }
   ],
   "source": [
    "n = 7\n",
    "def joiz():\n",
    "    b = 8\n",
    "    print(b)\n",
    "\n",
    "print(n)\n",
    "joiz()                         ## without calling function inside operation can't be done"
   ]
  },
  {
   "cell_type": "code",
   "execution_count": 6,
   "id": "00e46867",
   "metadata": {},
   "outputs": [
    {
     "name": "stdout",
     "output_type": "stream",
     "text": [
      "7\n",
      "8\n",
      "7\n"
     ]
    }
   ],
   "source": [
    "n = 7\n",
    "def joiz():\n",
    "    n = 8             ## function assumes it has to create new variable and hence it wont allow global print\n",
    "    print(n)\n",
    "\n",
    "print(n)\n",
    "joiz()\n",
    "print(n)"
   ]
  },
  {
   "cell_type": "code",
   "execution_count": 10,
   "id": "8a37b44f",
   "metadata": {},
   "outputs": [
    {
     "name": "stdout",
     "output_type": "stream",
     "text": [
      "7\n",
      "8\n",
      "8\n"
     ]
    }
   ],
   "source": [
    "n = 7\n",
    "def joiz():\n",
    "    global n           # by displaying global it's allowing function to take as global \n",
    "    n = 8             ## function assumes it has to create new variable and hence it wont allow global print\n",
    "    print(n)\n",
    "\n",
    "print(n)\n",
    "joiz()\n",
    "print(n)"
   ]
  },
  {
   "cell_type": "code",
   "execution_count": 18,
   "id": "2bbd0b2f",
   "metadata": {},
   "outputs": [
    {
     "name": "stdout",
     "output_type": "stream",
     "text": [
      "52\n"
     ]
    }
   ],
   "source": [
    "def kris():\n",
    "    b = 52\n",
    "    return b\n",
    "\n",
    "h = kris()\n",
    "print(h)\n",
    "\n"
   ]
  },
  {
   "cell_type": "markdown",
   "id": "bfbd411d",
   "metadata": {},
   "source": [
    "## Default arguments"
   ]
  },
  {
   "cell_type": "code",
   "execution_count": 19,
   "id": "7068049c",
   "metadata": {},
   "outputs": [
    {
     "name": "stdout",
     "output_type": "stream",
     "text": [
      "15\n"
     ]
    }
   ],
   "source": [
    "def argh(a,b,c,d):\n",
    "    return a+b+c+d\n",
    "\n",
    "s =argh(1,2,5,7)\n",
    "print(s)"
   ]
  },
  {
   "cell_type": "code",
   "execution_count": 20,
   "id": "fc32c152",
   "metadata": {},
   "outputs": [
    {
     "name": "stdout",
     "output_type": "stream",
     "text": [
      "15\n",
      "23\n"
     ]
    }
   ],
   "source": [
    "def argh(a,b,c = 10,d = 6):\n",
    "    return a+b+c+d\n",
    "\n",
    "print(argh(1,2,5,7))           ## you can't assign default value to left end before non default\n",
    "print(argh(1,6))\n"
   ]
  },
  {
   "cell_type": "code",
   "execution_count": 21,
   "id": "cc60fa75",
   "metadata": {},
   "outputs": [
    {
     "name": "stdout",
     "output_type": "stream",
     "text": [
      "15\n",
      "23\n"
     ]
    }
   ],
   "source": [
    "def argh(a,b,c = 10,d = 6):\n",
    "    return a+b+c+d\n",
    "\n",
    "print(argh(1,2,5,7))\n",
    "print(argh(1,6))\n",
    "\n"
   ]
  },
  {
   "cell_type": "code",
   "execution_count": 23,
   "id": "d26f2dd6",
   "metadata": {},
   "outputs": [
    {
     "data": {
      "text/plain": [
       "31"
      ]
     },
     "execution_count": 23,
     "metadata": {},
     "output_type": "execute_result"
    }
   ],
   "source": [
    "argh(a=6,b=9)"
   ]
  },
  {
   "cell_type": "code",
   "execution_count": 26,
   "id": "a61c8cd6",
   "metadata": {},
   "outputs": [
    {
     "data": {
      "text/plain": [
       "12"
      ]
     },
     "execution_count": 26,
     "metadata": {},
     "output_type": "execute_result"
    }
   ],
   "source": [
    "argh(6,1,c=2,d=3)"
   ]
  },
  {
   "cell_type": "markdown",
   "id": "29f7d195",
   "metadata": {},
   "source": [
    "## assignment"
   ]
  },
  {
   "cell_type": "markdown",
   "id": "25248a8c",
   "metadata": {},
   "source": [
    "## Faahrenheit"
   ]
  },
  {
   "cell_type": "code",
   "execution_count": 38,
   "id": "6caea5ef",
   "metadata": {},
   "outputs": [
    {
     "name": "stdout",
     "output_type": "stream",
     "text": [
      "20 -6\n"
     ]
    }
   ],
   "source": [
    "def fahren(s,e,w):\n",
    "    while s <= e:\n",
    "        b = ((s - 32)*5/9)\n",
    "        print(s, int(b))\n",
    "        s+=w\n",
    "        return\n",
    "    \n",
    "\n",
    "fahren(20,50,5)    "
   ]
  },
  {
   "cell_type": "code",
   "execution_count": 37,
   "id": "06e9cbed",
   "metadata": {},
   "outputs": [
    {
     "name": "stdout",
     "output_type": "stream",
     "text": [
      "20 -6\n",
      "25 -3\n",
      "30 -1\n",
      "35 1\n",
      "40 4\n",
      "45 7\n",
      "50 10\n"
     ]
    }
   ],
   "source": [
    "def fahren(s,e,w):\n",
    "    while s <= e:\n",
    "        b = ((s - 32)*5/9)\n",
    "        print(s, int(b))\n",
    "        s+=w\n",
    "        \n",
    "    \n",
    "\n",
    "fahren(20,50,5)    "
   ]
  },
  {
   "cell_type": "code",
   "execution_count": 36,
   "id": "4d4d1031",
   "metadata": {},
   "outputs": [
    {
     "name": "stdout",
     "output_type": "stream",
     "text": [
      "10\n",
      "20\n",
      "2\n",
      "10 -12\n",
      "12 -11\n",
      "14 -10\n",
      "16 -8\n",
      "18 -7\n",
      "20 -6\n"
     ]
    }
   ],
   "source": [
    "s = int(input())\n",
    "e = int(input())\n",
    "w = int(input())\n",
    "def fahren(s,e,w):\n",
    "    while s <= e:\n",
    "        b = ((s - 32)*5/9)\n",
    "        print(s, int(b))\n",
    "        s+=w\n",
    "        \n",
    "fahren(s,e,w)    "
   ]
  },
  {
   "cell_type": "code",
   "execution_count": null,
   "id": "d4926b5e",
   "metadata": {},
   "outputs": [],
   "source": []
  },
  {
   "cell_type": "code",
   "execution_count": 40,
   "id": "9fc93937",
   "metadata": {},
   "outputs": [
    {
     "name": "stdout",
     "output_type": "stream",
     "text": [
      "4\n",
      "20\n",
      "2\n",
      "4\t-15\n",
      "6\t-14\n",
      "8\t-13\n",
      "10\t-12\n",
      "12\t-11\n",
      "14\t-10\n",
      "16\t-8\n",
      "18\t-7\n",
      "20\t-6\n"
     ]
    }
   ],
   "source": [
    "## using for \n",
    "\n",
    "import math\n",
    "def printTable(s,e,w):\n",
    "    for i in range(s,e+1,w):\n",
    "        c=((i-32)*5)/9\n",
    "        if c>0:\n",
    "            x=math.floor(c)\n",
    "        else:\n",
    "            x=math.ceil(c)\n",
    "        print(i,x,sep='\\t')\n",
    "\t   \n",
    "s = int(input())\n",
    "e = int(input())\n",
    "step = int(input())\n",
    "printTable(s,e,step)"
   ]
  },
  {
   "cell_type": "markdown",
   "id": "71e00e56",
   "metadata": {},
   "source": [
    "## palindrome"
   ]
  },
  {
   "cell_type": "code",
   "execution_count": null,
   "id": "d670a209",
   "metadata": {},
   "outputs": [],
   "source": []
  },
  {
   "cell_type": "code",
   "execution_count": null,
   "id": "6008b66e",
   "metadata": {},
   "outputs": [],
   "source": []
  },
  {
   "cell_type": "code",
   "execution_count": null,
   "id": "70d93732",
   "metadata": {},
   "outputs": [],
   "source": []
  },
  {
   "cell_type": "code",
   "execution_count": null,
   "id": "f443033d",
   "metadata": {},
   "outputs": [],
   "source": []
  },
  {
   "cell_type": "code",
   "execution_count": null,
   "id": "43fb86e3",
   "metadata": {},
   "outputs": [],
   "source": []
  },
  {
   "cell_type": "code",
   "execution_count": null,
   "id": "0035d3d7",
   "metadata": {},
   "outputs": [],
   "source": []
  },
  {
   "cell_type": "code",
   "execution_count": null,
   "id": "5aaa6e03",
   "metadata": {},
   "outputs": [],
   "source": []
  },
  {
   "cell_type": "code",
   "execution_count": null,
   "id": "2dfc2d5a",
   "metadata": {},
   "outputs": [],
   "source": []
  },
  {
   "cell_type": "code",
   "execution_count": null,
   "id": "e347de67",
   "metadata": {},
   "outputs": [],
   "source": []
  },
  {
   "cell_type": "code",
   "execution_count": null,
   "id": "c8031ef5",
   "metadata": {},
   "outputs": [],
   "source": []
  },
  {
   "cell_type": "code",
   "execution_count": null,
   "id": "ca25d625",
   "metadata": {},
   "outputs": [],
   "source": []
  },
  {
   "cell_type": "code",
   "execution_count": null,
   "id": "bbb1cab6",
   "metadata": {},
   "outputs": [],
   "source": []
  },
  {
   "cell_type": "code",
   "execution_count": null,
   "id": "b673886f",
   "metadata": {},
   "outputs": [],
   "source": []
  },
  {
   "cell_type": "code",
   "execution_count": null,
   "id": "c710e1e2",
   "metadata": {},
   "outputs": [],
   "source": []
  },
  {
   "cell_type": "code",
   "execution_count": null,
   "id": "305af51f",
   "metadata": {},
   "outputs": [],
   "source": []
  },
  {
   "cell_type": "code",
   "execution_count": null,
   "id": "8339fdbe",
   "metadata": {},
   "outputs": [],
   "source": []
  },
  {
   "cell_type": "code",
   "execution_count": null,
   "id": "9cffebd5",
   "metadata": {},
   "outputs": [],
   "source": []
  },
  {
   "cell_type": "code",
   "execution_count": null,
   "id": "f712465d",
   "metadata": {},
   "outputs": [],
   "source": []
  },
  {
   "cell_type": "code",
   "execution_count": null,
   "id": "0b8a8736",
   "metadata": {},
   "outputs": [],
   "source": []
  },
  {
   "cell_type": "code",
   "execution_count": null,
   "id": "13388a8e",
   "metadata": {},
   "outputs": [],
   "source": []
  }
 ],
 "metadata": {
  "kernelspec": {
   "display_name": "Python 3 (ipykernel)",
   "language": "python",
   "name": "python3"
  },
  "language_info": {
   "codemirror_mode": {
    "name": "ipython",
    "version": 3
   },
   "file_extension": ".py",
   "mimetype": "text/x-python",
   "name": "python",
   "nbconvert_exporter": "python",
   "pygments_lexer": "ipython3",
   "version": "3.9.7"
  }
 },
 "nbformat": 4,
 "nbformat_minor": 5
}
