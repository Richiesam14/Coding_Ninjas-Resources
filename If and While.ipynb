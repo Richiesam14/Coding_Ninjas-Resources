{
 "cells": [
  {
   "cell_type": "markdown",
   "metadata": {},
   "source": [
    "### Beginning of jp"
   ]
  },
  {
   "cell_type": "code",
   "execution_count": 1,
   "metadata": {
    "scrolled": true
   },
   "outputs": [
    {
     "name": "stdout",
     "output_type": "stream",
     "text": [
      "Rics\n"
     ]
    }
   ],
   "source": [
    "hiek = (\"Rics\")\n",
    "print (hiek)"
   ]
  },
  {
   "cell_type": "markdown",
   "metadata": {},
   "source": [
    "### variable"
   ]
  },
  {
   "cell_type": "code",
   "execution_count": null,
   "metadata": {},
   "outputs": [],
   "source": [
    "a = 10\n",
    "b = 20 \n",
    "multiple = a*b\n",
    "print(\"multiple\")"
   ]
  },
  {
   "cell_type": "markdown",
   "metadata": {},
   "source": [
    "### data type"
   ]
  },
  {
   "cell_type": "code",
   "execution_count": null,
   "metadata": {},
   "outputs": [],
   "source": [
    "n = 10\n",
    "n = 20\n",
    "n = 'aws'\n",
    "n"
   ]
  },
  {
   "cell_type": "markdown",
   "metadata": {},
   "source": [
    "### id"
   ]
  },
  {
   "cell_type": "code",
   "execution_count": null,
   "metadata": {},
   "outputs": [],
   "source": [
    "a = 10\n",
    "id1 = id(a)\n",
    "print(id1)\n",
    "b = a + 2-2\n",
    "id2 = id(b)\n",
    "print(id2)"
   ]
  },
  {
   "cell_type": "markdown",
   "metadata": {},
   "source": [
    "### type"
   ]
  },
  {
   "cell_type": "code",
   "execution_count": null,
   "metadata": {},
   "outputs": [],
   "source": [
    "print(type (\"Hello\"))"
   ]
  },
  {
   "cell_type": "markdown",
   "metadata": {},
   "source": [
    "### Arithmetic"
   ]
  },
  {
   "cell_type": "code",
   "execution_count": null,
   "metadata": {},
   "outputs": [],
   "source": [
    "a = 10\n",
    "b = 2\n",
    "print(a/b)"
   ]
  },
  {
   "cell_type": "code",
   "execution_count": null,
   "metadata": {},
   "outputs": [],
   "source": [
    "a // b"
   ]
  },
  {
   "cell_type": "code",
   "execution_count": null,
   "metadata": {},
   "outputs": [],
   "source": [
    "a**b"
   ]
  },
  {
   "cell_type": "code",
   "execution_count": null,
   "metadata": {},
   "outputs": [],
   "source": [
    "a % b"
   ]
  },
  {
   "cell_type": "markdown",
   "metadata": {},
   "source": [
    "### input"
   ]
  },
  {
   "cell_type": "code",
   "execution_count": null,
   "metadata": {},
   "outputs": [],
   "source": [
    "a = int (input())\n",
    "b = int (input())\n",
    "c = int (a * b)\n",
    "print(c)"
   ]
  },
  {
   "cell_type": "code",
   "execution_count": null,
   "metadata": {},
   "outputs": [],
   "source": [
    "w = int (input())\n",
    "s = int (input())\n",
    "r = int (input())\n",
    "Average = float((w+s+r)/3)\n",
    "print(Average)"
   ]
  },
  {
   "cell_type": "code",
   "execution_count": null,
   "metadata": {},
   "outputs": [],
   "source": [
    "X = int(input())\n",
    "N = int(input())\n",
    "z = int(X**N)\n",
    "z"
   ]
  },
  {
   "cell_type": "markdown",
   "metadata": {},
   "source": [
    "### rectangular plane"
   ]
  },
  {
   "cell_type": "code",
   "execution_count": null,
   "metadata": {},
   "outputs": [],
   "source": [
    "x1=int(input())\n",
    "y1=int(input())\n",
    "x2=int(input())\n",
    "y2=int(input())\n",
    "print((x2-x1)*(y2 - y1))"
   ]
  },
  {
   "cell_type": "markdown",
   "metadata": {},
   "source": [
    "### boolean\n"
   ]
  },
  {
   "cell_type": "code",
   "execution_count": null,
   "metadata": {},
   "outputs": [],
   "source": [
    "a = 10\n",
    "b = 20\n",
    "print(a > b)\n",
    "print(a != b)\n",
    "print(a == b)"
   ]
  },
  {
   "cell_type": "markdown",
   "metadata": {},
   "source": [
    "### logical"
   ]
  },
  {
   "cell_type": "code",
   "execution_count": null,
   "metadata": {
    "scrolled": false
   },
   "outputs": [],
   "source": [
    "c1 = a < 10\n",
    "c2 = b < 20\n",
    "c1 and c2\n"
   ]
  },
  {
   "cell_type": "markdown",
   "metadata": {},
   "source": [
    "## if loops"
   ]
  },
  {
   "cell_type": "code",
   "execution_count": null,
   "metadata": {},
   "outputs": [],
   "source": [
    "n = int (input())\n",
    "r = n % 2\n",
    "if r == 0:\n",
    "    print(\"is even\")\n",
    "else:\n",
    "    print(\"is odd\")"
   ]
  },
  {
   "cell_type": "markdown",
   "metadata": {},
   "source": [
    "## School grade"
   ]
  },
  {
   "cell_type": "code",
   "execution_count": null,
   "metadata": {},
   "outputs": [],
   "source": [
    "s = int(input())\n",
    "if s >= 80:\n",
    "    print(\"A\")\n",
    "if s < 80 and s >= 60:\n",
    "    print(\"B\")\n",
    "if s < 60 and s >= 40:\n",
    "    print(\"C\")\n",
    "if s < 40 and s >= 20:\n",
    "    print(\"D\")\n",
    "elif s < 20:\n",
    "    print(\"E\")\n"
   ]
  },
  {
   "cell_type": "code",
   "execution_count": null,
   "metadata": {},
   "outputs": [],
   "source": []
  },
  {
   "cell_type": "markdown",
   "metadata": {},
   "source": [
    "## If operator"
   ]
  },
  {
   "cell_type": "code",
   "execution_count": null,
   "metadata": {},
   "outputs": [],
   "source": [
    "a = int(input())\n",
    "b = int(input())\n",
    "a >= 10\n",
    "b >= 10\n",
    "z = a and b\n",
    "if z:\n",
    "    print(\"json\")\n",
    "else:\n",
    "    print(\"cmon\")\n"
   ]
  },
  {
   "cell_type": "markdown",
   "metadata": {},
   "source": [
    "## nested if"
   ]
  },
  {
   "cell_type": "code",
   "execution_count": null,
   "metadata": {},
   "outputs": [],
   "source": [
    "r = int(input())\n",
    "s = int(input())\n",
    "if r % 2 == 0:\n",
    "    if s % 2 == 0:\n",
    "        print(\"succeeded\")\n",
    "    else:\n",
    "        print(\"partially odd\")\n",
    "else:\n",
    "    print(\"odd\")"
   ]
  },
  {
   "cell_type": "markdown",
   "metadata": {},
   "source": [
    "# check no"
   ]
  },
  {
   "cell_type": "code",
   "execution_count": null,
   "metadata": {},
   "outputs": [],
   "source": [
    "i = int(input())\n",
    "if i == 0:\n",
    "    print(\"Zero\")\n",
    "elif i < 0:\n",
    "    print(\"Negative\")\n",
    "else:\n",
    "    print(\"Positive\")\n"
   ]
  },
  {
   "cell_type": "markdown",
   "metadata": {},
   "source": [
    "## exercise sum of even"
   ]
  },
  {
   "cell_type": "code",
   "execution_count": null,
   "metadata": {},
   "outputs": [],
   "source": [
    "h = int(input())\n",
    "x = h % 2\n",
    "i = 2\n",
    "j = 0\n",
    "while i <= h:\n",
    "        j += i\n",
    "        i += 2\n",
    "else:\n",
    "    h = h-1\n",
    "    while i <= h:\n",
    "            j += i\n",
    "            i += 2\n",
    "print(j)"
   ]
  },
  {
   "cell_type": "markdown",
   "metadata": {},
   "source": [
    "## while"
   ]
  },
  {
   "cell_type": "code",
   "execution_count": null,
   "metadata": {},
   "outputs": [],
   "source": [
    "w = int(input())\n",
    "i = 1\n",
    "while i <= w:\n",
    "    print(i)\n",
    "    i = i + 1"
   ]
  },
  {
   "cell_type": "markdown",
   "metadata": {},
   "source": [
    "## sum of n numbers (indentation-aware)"
   ]
  },
  {
   "cell_type": "code",
   "execution_count": 3,
   "metadata": {},
   "outputs": [
    {
     "name": "stdout",
     "output_type": "stream",
     "text": [
      "12\n",
      "1\n",
      "3\n",
      "6\n",
      "10\n",
      "15\n",
      "21\n",
      "28\n",
      "36\n",
      "45\n",
      "55\n",
      "66\n",
      "78\n"
     ]
    }
   ],
   "source": [
    "n = int (input())\n",
    "i = 1\n",
    "j = 0\n",
    "while i <= n:\n",
    "    j = j + i\n",
    "    i += 1\n",
    "    print(j)"
   ]
  },
  {
   "cell_type": "markdown",
   "metadata": {},
   "source": [
    "## sum of even numbers"
   ]
  },
  {
   "cell_type": "code",
   "execution_count": 2,
   "metadata": {},
   "outputs": [
    {
     "name": "stdout",
     "output_type": "stream",
     "text": [
      "6\n",
      "12\n"
     ]
    }
   ],
   "source": [
    "n = int (input())\n",
    "c = n % 2\n",
    "i = 2\n",
    "j = 0\n",
    "while i <= n:\n",
    "    j = j + i\n",
    "    i += 2\n",
    "else:\n",
    "    n = n-1\n",
    "    while i <= n:\n",
    "        j = j + i\n",
    "        i = i + 2\n",
    "print(j)"
   ]
  },
  {
   "cell_type": "markdown",
   "metadata": {},
   "source": [
    "## exercise sum of n numbers"
   ]
  },
  {
   "cell_type": "code",
   "execution_count": 1,
   "metadata": {},
   "outputs": [
    {
     "name": "stdout",
     "output_type": "stream",
     "text": [
      "9\n",
      "1\n",
      "3\n",
      "6\n",
      "10\n",
      "15\n",
      "21\n",
      "28\n",
      "36\n",
      "45\n"
     ]
    }
   ],
   "source": [
    "r = int (input())\n",
    "i = 1\n",
    "j = 0\n",
    "while i <= r:\n",
    "    j +=i\n",
    "    i += 1\n",
    "    print(j)"
   ]
  },
  {
   "cell_type": "markdown",
   "metadata": {},
   "source": [
    "### prime"
   ]
  },
  {
   "cell_type": "code",
   "execution_count": 9,
   "metadata": {},
   "outputs": [
    {
     "name": "stdout",
     "output_type": "stream",
     "text": [
      "13\n",
      "yes it's prime\n"
     ]
    }
   ],
   "source": [
    "g = int (input())\n",
    "d = 2 \n",
    "flag = False\n",
    "while d < g:\n",
    "    if g % d == 0:\n",
    "        flag = True\n",
    "    d +=1       \n",
    "if flag == True:\n",
    "    print(\"sorry not a prime no\")\n",
    "else:\n",
    "    print(\"yes it's prime\")\n",
    "    \n",
    "    "
   ]
  },
  {
   "cell_type": "markdown",
   "metadata": {},
   "source": [
    "### Nested while loop for prime list conc"
   ]
  },
  {
   "cell_type": "code",
   "execution_count": 2,
   "metadata": {},
   "outputs": [
    {
     "name": "stdout",
     "output_type": "stream",
     "text": [
      "50\n",
      "2\n",
      "3\n",
      "5\n",
      "7\n",
      "11\n",
      "13\n",
      "17\n",
      "19\n",
      "23\n",
      "29\n",
      "31\n",
      "37\n",
      "41\n",
      "43\n",
      "47\n"
     ]
    }
   ],
   "source": [
    "n = int(input())\n",
    "f = 2\n",
    "while f <= n:\n",
    "    d = 2\n",
    "    flag = False\n",
    "    while d < f:\n",
    "        if f % d == 0:\n",
    "            flag = True\n",
    "        d += 1\n",
    "    if not flag:\n",
    "        print(f)\n",
    "    f += 1\n",
    "        \n",
    "        \n",
    "        "
   ]
  },
  {
   "cell_type": "markdown",
   "metadata": {},
   "source": [
    "## table -exercise not sure"
   ]
  },
  {
   "cell_type": "code",
   "execution_count": 7,
   "metadata": {},
   "outputs": [
    {
     "name": "stdout",
     "output_type": "stream",
     "text": [
      "5\n",
      "3\n",
      "123\n",
      "246\n",
      "369\n",
      "4812\n",
      "51015\n"
     ]
    }
   ],
   "source": [
    "N = int (input())\n",
    "M = int (input())\n",
    "\n",
    "r = 1\n",
    "while r <= N:\n",
    "    c = 1\n",
    "    while c <= M:\n",
    "        print(r * c, end = '')\n",
    "        c = c+1\n",
    "    print()\n",
    "    r +=1\n"
   ]
  },
  {
   "cell_type": "markdown",
   "metadata": {},
   "source": [
    "## calculator"
   ]
  },
  {
   "cell_type": "code",
   "execution_count": 5,
   "metadata": {},
   "outputs": [
    {
     "name": "stdout",
     "output_type": "stream",
     "text": [
      "4\n",
      "Enter the number 1   4\n",
      "Enter the number 2   6\n",
      "0.6666666666666666\n"
     ]
    }
   ],
   "source": [
    "h = int(input())\n",
    "if h == 1:\n",
    "    v1 = int (input(\"Enter the number 1    \"))\n",
    "    v2 = int (input(\"Enter the number 2    \"))\n",
    "    sum = v1 + v2\n",
    "    print(sum)\n",
    "elif h == 2:\n",
    "    v1 = int (input(\"Enter the number 1   \"))\n",
    "    v2 = int (input(\"Enter the number 2   \"))\n",
    "    sub = v1 - v2\n",
    "    print(sub)\n",
    "elif h == 3:\n",
    "    v1 = int (input(\"Enter the number 1   \"))\n",
    "    v2 = int (input(\"Enter the number 2   \"))\n",
    "    prod = v1 * v2\n",
    "    print(prod)\n",
    "    \n",
    "elif h == 4:\n",
    "    v1 = int (input(\"Enter the number 1   \"))\n",
    "    v2 = int (input(\"Enter the number 2   \"))\n",
    "    div = v1 / v2\n",
    "    print(div)\n",
    "elif h == 5:\n",
    "    v1 = int (input(\"Enter the number 1   \"))\n",
    "    v1 = int (input(\"Enter the number 2   \"))\n",
    "    mod = v1 % v2\n",
    "    print(mod)\n",
    "elif h == 6:\n",
    "    print(\"program exists\")\n",
    "    \n",
    "else:\n",
    "    print(\"Invalid Operation\")\n",
    "    "
   ]
  },
  {
   "cell_type": "code",
   "execution_count": 1,
   "metadata": {},
   "outputs": [
    {
     "data": {
      "text/plain": [
       "2"
      ]
     },
     "execution_count": 1,
     "metadata": {},
     "output_type": "execute_result"
    }
   ],
   "source": [
    "8 // 4"
   ]
  },
  {
   "cell_type": "code",
   "execution_count": 3,
   "metadata": {},
   "outputs": [
    {
     "data": {
      "text/plain": [
       "1"
      ]
     },
     "execution_count": 3,
     "metadata": {},
     "output_type": "execute_result"
    }
   ],
   "source": [
    "15 // 10"
   ]
  },
  {
   "cell_type": "markdown",
   "metadata": {},
   "source": [
    "## Palindrome"
   ]
  },
  {
   "cell_type": "code",
   "execution_count": 2,
   "metadata": {},
   "outputs": [
    {
     "name": "stdout",
     "output_type": "stream",
     "text": [
      "6514\n",
      "4156\n",
      "not palindrome\n"
     ]
    }
   ],
   "source": [
    "n = int(input())\n",
    "temp = n\n",
    "v = 0\n",
    "while temp > 0:\n",
    "    rem = temp % 10\n",
    "    v = (v * 10) + rem\n",
    "    temp = temp // 10\n",
    "    \n",
    "print(v)\n",
    "\n",
    "if (n == v):\n",
    "    print(\"palindrome\")\n",
    "else:\n",
    "    print(\"not palindrome\")\n",
    "   "
   ]
  },
  {
   "cell_type": "markdown",
   "metadata": {},
   "source": [
    "## sum of even & odd"
   ]
  },
  {
   "cell_type": "code",
   "execution_count": null,
   "metadata": {},
   "outputs": [],
   "source": [
    "n = int(input())\n",
    "temp = n \n",
    "a = 0\n",
    "b = 0\n",
    "while temp > 0:\n",
    "    temp % 10\n",
    "    even = temp % 2 == 0\n",
    "    if even \n",
    "    temp // 10"
   ]
  },
  {
   "cell_type": "markdown",
   "metadata": {},
   "source": [
    "## Sum of even & odd"
   ]
  },
  {
   "cell_type": "code",
   "execution_count": 1,
   "metadata": {},
   "outputs": [
    {
     "name": "stdout",
     "output_type": "stream",
     "text": [
      "45562\n",
      "12 10\n"
     ]
    }
   ],
   "source": [
    "n = int(input())\n",
    "v = 0\n",
    "b = 0\n",
    "while n > 0:\n",
    "    j = n % 10 \n",
    "    if (j % 2) == 0:\n",
    "        v = v + j\n",
    "    else:\n",
    "        b = b + j    \n",
    "    n = n // 10   \n",
    "print(v , b)"
   ]
  },
  {
   "cell_type": "markdown",
   "metadata": {},
   "source": [
    "## fibanocci"
   ]
  },
  {
   "cell_type": "markdown",
   "metadata": {},
   "source": [
    "n = int(input())\n",
    "f1 = 1\n",
    "f2 = 1\n",
    "i = 0\n",
    " \n",
    "while i < n-2:\n",
    "    f = f1+f2\n",
    "    f2=f1\n",
    "    f1=f\n",
    "    i+=1\n",
    "\n",
    "print(f)\n"
   ]
  },
  {
   "cell_type": "markdown",
   "metadata": {},
   "source": [
    "## nth Fibonacci "
   ]
  },
  {
   "cell_type": "code",
   "execution_count": 3,
   "metadata": {},
   "outputs": [
    {
     "name": "stdout",
     "output_type": "stream",
     "text": [
      "7\n",
      "13\n"
     ]
    }
   ],
   "source": [
    "n = int(input())\n",
    "\n",
    "a = 0\n",
    "b = 1\n",
    "c = -1\n",
    "\n",
    "for i in range(n) :\n",
    "    c = a + b\n",
    "    a = b\n",
    "    b = c\n",
    "print(a)"
   ]
  },
  {
   "cell_type": "markdown",
   "metadata": {},
   "source": [
    "## Fahrenheit to celcius"
   ]
  },
  {
   "cell_type": "code",
   "execution_count": 4,
   "metadata": {},
   "outputs": [
    {
     "name": "stdout",
     "output_type": "stream",
     "text": [
      "90\n",
      "64\n",
      "55\n"
     ]
    }
   ],
   "source": [
    "Fahrenheit = int(input())\n",
    "E = int(input())\n",
    "W = int(input())\n",
    "while Fahrenheit <= E:\n",
    "    Fahrenheit_to_Celsius = (((Fahrenheit - 32) * 5) / 9)\n",
    "    print(Fahrenheit, int(Fahrenheit_to_Celsius))\n",
    "    Fahrenheit = Fahrenheit + W"
   ]
  },
  {
   "cell_type": "code",
   "execution_count": null,
   "metadata": {},
   "outputs": [],
   "source": []
  }
 ],
 "metadata": {
  "kernelspec": {
   "display_name": "Python 3",
   "language": "python",
   "name": "python3"
  },
  "language_info": {
   "codemirror_mode": {
    "name": "ipython",
    "version": 3
   },
   "file_extension": ".py",
   "mimetype": "text/x-python",
   "name": "python",
   "nbconvert_exporter": "python",
   "pygments_lexer": "ipython3",
   "version": "3.8.8"
  }
 },
 "nbformat": 4,
 "nbformat_minor": 4
}
