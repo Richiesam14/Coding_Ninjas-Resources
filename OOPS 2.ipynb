{
 "cells": [
  {
   "cell_type": "code",
   "execution_count": 2,
   "id": "cdcadeee",
   "metadata": {},
   "outputs": [],
   "source": [
    "class Student:\n",
    "    def store_details(self):\n",
    "        self.age = 60\n",
    "    def print_age(self):\n",
    "        print(self.age)\n"
   ]
  },
  {
   "cell_type": "code",
   "execution_count": 3,
   "id": "1b35f0d0",
   "metadata": {},
   "outputs": [
    {
     "ename": "AttributeError",
     "evalue": "'Student' object has no attribute 'age'",
     "output_type": "error",
     "traceback": [
      "\u001b[1;31m---------------------------------------------------------------------------\u001b[0m",
      "\u001b[1;31mAttributeError\u001b[0m                            Traceback (most recent call last)",
      "\u001b[1;32m<ipython-input-3-24c841bc6c01>\u001b[0m in \u001b[0;36m<module>\u001b[1;34m\u001b[0m\n\u001b[0;32m      2\u001b[0m \u001b[0ms\u001b[0m\u001b[1;33m.\u001b[0m\u001b[0mstore_details\u001b[0m\u001b[1;33m(\u001b[0m\u001b[1;33m)\u001b[0m\u001b[1;33m\u001b[0m\u001b[1;33m\u001b[0m\u001b[0m\n\u001b[0;32m      3\u001b[0m \u001b[0ms1\u001b[0m \u001b[1;33m=\u001b[0m \u001b[0mStudent\u001b[0m\u001b[1;33m(\u001b[0m\u001b[1;33m)\u001b[0m\u001b[1;33m\u001b[0m\u001b[1;33m\u001b[0m\u001b[0m\n\u001b[1;32m----> 4\u001b[1;33m \u001b[0ms1\u001b[0m\u001b[1;33m.\u001b[0m\u001b[0mprint_age\u001b[0m\u001b[1;33m(\u001b[0m\u001b[1;33m)\u001b[0m\u001b[1;33m\u001b[0m\u001b[1;33m\u001b[0m\u001b[0m\n\u001b[0m",
      "\u001b[1;32m<ipython-input-2-b7d2958c6eac>\u001b[0m in \u001b[0;36mprint_age\u001b[1;34m(self)\u001b[0m\n\u001b[0;32m      3\u001b[0m         \u001b[0mself\u001b[0m\u001b[1;33m.\u001b[0m\u001b[0mage\u001b[0m \u001b[1;33m=\u001b[0m \u001b[1;36m60\u001b[0m\u001b[1;33m\u001b[0m\u001b[1;33m\u001b[0m\u001b[0m\n\u001b[0;32m      4\u001b[0m     \u001b[1;32mdef\u001b[0m \u001b[0mprint_age\u001b[0m\u001b[1;33m(\u001b[0m\u001b[0mself\u001b[0m\u001b[1;33m)\u001b[0m\u001b[1;33m:\u001b[0m\u001b[1;33m\u001b[0m\u001b[1;33m\u001b[0m\u001b[0m\n\u001b[1;32m----> 5\u001b[1;33m         \u001b[0mprint\u001b[0m\u001b[1;33m(\u001b[0m\u001b[0mself\u001b[0m\u001b[1;33m.\u001b[0m\u001b[0mage\u001b[0m\u001b[1;33m)\u001b[0m\u001b[1;33m\u001b[0m\u001b[1;33m\u001b[0m\u001b[0m\n\u001b[0m",
      "\u001b[1;31mAttributeError\u001b[0m: 'Student' object has no attribute 'age'"
     ]
    }
   ],
   "source": [
    "s = Student()\n",
    "s.store_details()\n",
    "s1 = Student()\n",
    "s1.print_age()"
   ]
  },
  {
   "cell_type": "markdown",
   "id": "03762b58",
   "metadata": {},
   "source": [
    "## inhertance"
   ]
  },
  {
   "cell_type": "code",
   "execution_count": 7,
   "id": "f340004b",
   "metadata": {},
   "outputs": [],
   "source": [
    "# Parent Class\n",
    "class Vehicle():\n",
    "    def __init__(self,make,model,fuel):\n",
    "        self.make=make\n",
    "        self.model=model\n",
    "        self.fuel=fuel"
   ]
  },
  {
   "cell_type": "code",
   "execution_count": 8,
   "id": "b3c8efd7",
   "metadata": {},
   "outputs": [],
   "source": [
    "# Child Class\n",
    "class Car(Vehicle):\n",
    "    def __init__(self,make,model,fuel,air_conditioning,sunroof):\n",
    "        # Parent Attributes\n",
    "        Vehicle.make=make\n",
    "        Vehicle.model=model\n",
    "        Vehicle.fuel=fuel\n",
    "        self.air_conditioning=air_conditioning\n",
    "        self.sunroof=sunroof\n",
    "        \n",
    "    def crap(self):   ## to enable parent attribute\n",
    "        return Vehicle.make ,Vehicle.model,Vehicle.fuel ## without super\n"
   ]
  },
  {
   "cell_type": "code",
   "execution_count": 9,
   "id": "ad22d95a",
   "metadata": {},
   "outputs": [
    {
     "data": {
      "text/plain": [
       "{'air_conditioning': True, 'sunroof': True}"
      ]
     },
     "execution_count": 9,
     "metadata": {},
     "output_type": "execute_result"
    }
   ],
   "source": [
    "myobj=Car(\"Tesla\",2019,\"Electric\",True,True)  ## parent class  huh?\n",
    "myobj.__dict__"
   ]
  },
  {
   "cell_type": "code",
   "execution_count": 4,
   "id": "bb30572f",
   "metadata": {},
   "outputs": [
    {
     "data": {
      "text/plain": [
       "{'make': 'Tesla', 'model': 2019, 'fuel': 'Electric'}"
      ]
     },
     "execution_count": 4,
     "metadata": {},
     "output_type": "execute_result"
    }
   ],
   "source": [
    "myobj1 = Vehicle(\"Tesla\",2019,\"Electric\")\n",
    "myobj1.__dict__"
   ]
  },
  {
   "cell_type": "code",
   "execution_count": 10,
   "id": "8b21a0a9",
   "metadata": {},
   "outputs": [
    {
     "data": {
      "text/plain": [
       "('Tesla', 2019, 'Electric')"
      ]
     },
     "execution_count": 10,
     "metadata": {},
     "output_type": "execute_result"
    }
   ],
   "source": [
    "myobj.crap()"
   ]
  },
  {
   "cell_type": "code",
   "execution_count": 11,
   "id": "b936c302",
   "metadata": {},
   "outputs": [
    {
     "data": {
      "text/plain": [
       "'Tesla'"
      ]
     },
     "execution_count": 11,
     "metadata": {},
     "output_type": "execute_result"
    }
   ],
   "source": [
    "myobj.make"
   ]
  },
  {
   "cell_type": "markdown",
   "id": "6f53029f",
   "metadata": {},
   "source": [
    "## Access modifiers & inheritance"
   ]
  },
  {
   "cell_type": "code",
   "execution_count": 12,
   "id": "5be387b1",
   "metadata": {},
   "outputs": [],
   "source": [
    "# Parent Class\n",
    "class Vehicle():\n",
    "    def __init__(self,make,model,fuel):\n",
    "        self.make=make\n",
    "        self.__model=model\n",
    "        self.__fuel=fuel\n",
    "    def __private_method_parent(self):\n",
    "        print(\"This is private\")"
   ]
  },
  {
   "cell_type": "code",
   "execution_count": 13,
   "id": "7ac64ad1",
   "metadata": {},
   "outputs": [],
   "source": [
    "# Child Class\n",
    "class Car(Vehicle):\n",
    "    def __init__(self,make,model,fuel,air_conditioning,sunroof):\n",
    "        # Parent Attributes\n",
    "        Vehicle.make=make\n",
    "        Vehicle.__model=model\n",
    "        Vehicle.__fuel=fuel\n",
    "        self.air_conditioning=air_conditioning\n",
    "        self.sunroof=sunroof\n",
    "    def show_parent_attribute(self):    ## to get attrib from parent\n",
    "        print(Vehicle.make,\" \",Vehicle.__model,\" \",Vehicle.__fuel)\n",
    "    def show_privatemethod_ofparent(self):\n",
    "        self._Vehicle__private_method_parent()   ## imp _before class   for unleashing fn from parent class"
   ]
  },
  {
   "cell_type": "code",
   "execution_count": 14,
   "id": "b0e85a49",
   "metadata": {},
   "outputs": [],
   "source": [
    "myobj=Car(\"Tesla\",2019,\"Electric\",True,True)"
   ]
  },
  {
   "cell_type": "code",
   "execution_count": 15,
   "id": "41668bcc",
   "metadata": {},
   "outputs": [
    {
     "data": {
      "text/plain": [
       "{'air_conditioning': True, 'sunroof': True}"
      ]
     },
     "execution_count": 15,
     "metadata": {},
     "output_type": "execute_result"
    }
   ],
   "source": [
    "myobj.__dict__\n"
   ]
  },
  {
   "cell_type": "code",
   "execution_count": 19,
   "id": "0169a98a",
   "metadata": {},
   "outputs": [
    {
     "name": "stdout",
     "output_type": "stream",
     "text": [
      "Tesla   2019   Electric\n"
     ]
    }
   ],
   "source": [
    "myobj.show_parent_attribute()"
   ]
  },
  {
   "cell_type": "code",
   "execution_count": 16,
   "id": "3de34a4c",
   "metadata": {},
   "outputs": [
    {
     "data": {
      "text/plain": [
       "'Tesla'"
      ]
     },
     "execution_count": 16,
     "metadata": {},
     "output_type": "execute_result"
    }
   ],
   "source": [
    "myobj.make"
   ]
  },
  {
   "cell_type": "code",
   "execution_count": 17,
   "id": "6f5bb3e4",
   "metadata": {},
   "outputs": [
    {
     "ename": "AttributeError",
     "evalue": "'Car' object has no attribute 'model'",
     "output_type": "error",
     "traceback": [
      "\u001b[1;31m---------------------------------------------------------------------------\u001b[0m",
      "\u001b[1;31mAttributeError\u001b[0m                            Traceback (most recent call last)",
      "\u001b[1;32m<ipython-input-17-c1d03026615a>\u001b[0m in \u001b[0;36m<module>\u001b[1;34m\u001b[0m\n\u001b[1;32m----> 1\u001b[1;33m \u001b[0mmyobj\u001b[0m\u001b[1;33m.\u001b[0m\u001b[0mmodel\u001b[0m\u001b[1;33m\u001b[0m\u001b[1;33m\u001b[0m\u001b[0m\n\u001b[0m",
      "\u001b[1;31mAttributeError\u001b[0m: 'Car' object has no attribute 'model'"
     ]
    }
   ],
   "source": [
    "myobj.model\n"
   ]
  },
  {
   "cell_type": "code",
   "execution_count": 18,
   "id": "59e114a2",
   "metadata": {},
   "outputs": [
    {
     "ename": "AttributeError",
     "evalue": "'Car' object has no attribute '__model'",
     "output_type": "error",
     "traceback": [
      "\u001b[1;31m---------------------------------------------------------------------------\u001b[0m",
      "\u001b[1;31mAttributeError\u001b[0m                            Traceback (most recent call last)",
      "\u001b[1;32m<ipython-input-18-e4400475fa0b>\u001b[0m in \u001b[0;36m<module>\u001b[1;34m\u001b[0m\n\u001b[1;32m----> 1\u001b[1;33m \u001b[0mmyobj\u001b[0m\u001b[1;33m.\u001b[0m\u001b[0m__model\u001b[0m\u001b[1;33m\u001b[0m\u001b[1;33m\u001b[0m\u001b[0m\n\u001b[0m",
      "\u001b[1;31mAttributeError\u001b[0m: 'Car' object has no attribute '__model'"
     ]
    }
   ],
   "source": [
    "myobj.__model"
   ]
  },
  {
   "cell_type": "code",
   "execution_count": 20,
   "id": "144edc4c",
   "metadata": {},
   "outputs": [
    {
     "ename": "AttributeError",
     "evalue": "'Car' object has no attribute '__private_method_parent'",
     "output_type": "error",
     "traceback": [
      "\u001b[1;31m---------------------------------------------------------------------------\u001b[0m",
      "\u001b[1;31mAttributeError\u001b[0m                            Traceback (most recent call last)",
      "\u001b[1;32m<ipython-input-20-b8b6f7b8d6a0>\u001b[0m in \u001b[0;36m<module>\u001b[1;34m\u001b[0m\n\u001b[1;32m----> 1\u001b[1;33m \u001b[0mmyobj\u001b[0m\u001b[1;33m.\u001b[0m\u001b[0m__private_method_parent\u001b[0m\u001b[1;33m(\u001b[0m\u001b[1;33m)\u001b[0m\u001b[1;33m\u001b[0m\u001b[1;33m\u001b[0m\u001b[0m\n\u001b[0m",
      "\u001b[1;31mAttributeError\u001b[0m: 'Car' object has no attribute '__private_method_parent'"
     ]
    }
   ],
   "source": [
    "myobj.__private_method_parent()"
   ]
  },
  {
   "cell_type": "code",
   "execution_count": 21,
   "id": "2051890a",
   "metadata": {},
   "outputs": [
    {
     "name": "stdout",
     "output_type": "stream",
     "text": [
      "This is private\n"
     ]
    }
   ],
   "source": [
    "myobj.show_privatemethod_ofparent()"
   ]
  },
  {
   "cell_type": "markdown",
   "id": "e14b148a",
   "metadata": {},
   "source": [
    "## super fn"
   ]
  },
  {
   "cell_type": "code",
   "execution_count": 61,
   "id": "f2785655",
   "metadata": {},
   "outputs": [],
   "source": [
    "## parent\n",
    "class Vehicle():\n",
    "    def __init__(self,make,model,fuel):\n",
    "        self.make=make\n",
    "        self.model=model\n",
    "        self.fuel=fuel\n",
    "    \n",
    "    def __private_method_parent(self):\n",
    "        print(\"This is private\")"
   ]
  },
  {
   "cell_type": "code",
   "execution_count": 66,
   "id": "ab826ae2",
   "metadata": {},
   "outputs": [],
   "source": [
    "# Child Class\n",
    "class Car(Vehicle):\n",
    "    def __init__(self,make,model,fuel,air_conditioning,sunroof):  ## inher  \n",
    "        # Parent Attributes\n",
    "        \n",
    "        super(Car,self).__init__(make,model,fuel)  ## to simplify and calling  super() can be used \n",
    "        \n",
    "        ##Vehicle.make=make   can delete             ## \n",
    "        ##Vehicle.__model=model\n",
    "        ##Vehicle.__fuel=fuel\n",
    "        \n",
    "        self.air_conditioning=air_conditioning\n",
    "        self.sunroof=sunroof"
   ]
  },
  {
   "cell_type": "code",
   "execution_count": 67,
   "id": "9a4dfd3d",
   "metadata": {},
   "outputs": [],
   "source": [
    "d = Car(\"tata\",\"nexon\",\"diesel\",True,True)"
   ]
  },
  {
   "cell_type": "code",
   "execution_count": 68,
   "id": "c32fa45b",
   "metadata": {},
   "outputs": [
    {
     "data": {
      "text/plain": [
       "'tata'"
      ]
     },
     "execution_count": 68,
     "metadata": {},
     "output_type": "execute_result"
    }
   ],
   "source": [
    "d.make         "
   ]
  },
  {
   "cell_type": "code",
   "execution_count": 69,
   "id": "10b0c245",
   "metadata": {},
   "outputs": [
    {
     "data": {
      "text/plain": [
       "{'make': 'tata',\n",
       " 'model': 'nexon',\n",
       " 'fuel': 'diesel',\n",
       " 'air_conditioning': True,\n",
       " 'sunroof': True}"
      ]
     },
     "execution_count": 69,
     "metadata": {},
     "output_type": "execute_result"
    }
   ],
   "source": [
    "d.__dict__         ## super makes life ec lol"
   ]
  },
  {
   "cell_type": "code",
   "execution_count": 31,
   "id": "de967607",
   "metadata": {},
   "outputs": [
    {
     "name": "stdout",
     "output_type": "stream",
     "text": [
      "This is private\n"
     ]
    }
   ],
   "source": [
    "d._Vehicle__private_method_parent()"
   ]
  },
  {
   "cell_type": "markdown",
   "id": "38a18e9b",
   "metadata": {},
   "source": [
    "## eg"
   ]
  },
  {
   "cell_type": "code",
   "execution_count": 70,
   "id": "3d4daff7",
   "metadata": {},
   "outputs": [],
   "source": [
    "class Vehicle:\n",
    "    def __init__(self,color):\n",
    "        self.color = color\n",
    "    def print(self):\n",
    "        print(self.color,end=\"\")"
   ]
  },
  {
   "cell_type": "code",
   "execution_count": 74,
   "id": "48a18cab",
   "metadata": {},
   "outputs": [],
   "source": [
    "class Car(Vehicle):\n",
    "    def __init__(self,color,numGears):\n",
    "        super().__init__(color)        \n",
    "        self.numGears = numGears\n",
    "    def print(self):\n",
    "        print(self.color,end=\"\")\n",
    "        print(self.numGears)"
   ]
  },
  {
   "cell_type": "code",
   "execution_count": 76,
   "id": "c6e49cbc",
   "metadata": {},
   "outputs": [],
   "source": [
    "c = Car(\"Black\",5)\n"
   ]
  },
  {
   "cell_type": "code",
   "execution_count": 77,
   "id": "8029abe3",
   "metadata": {},
   "outputs": [
    {
     "name": "stdout",
     "output_type": "stream",
     "text": [
      "Black5\n"
     ]
    }
   ],
   "source": [
    "c.print()"
   ]
  },
  {
   "cell_type": "code",
   "execution_count": null,
   "id": "3e8ba2e9",
   "metadata": {},
   "outputs": [],
   "source": []
  },
  {
   "cell_type": "code",
   "execution_count": null,
   "id": "d23d22b4",
   "metadata": {},
   "outputs": [],
   "source": []
  },
  {
   "cell_type": "markdown",
   "id": "1b9b24d7",
   "metadata": {},
   "source": [
    "## polymorphism"
   ]
  },
  {
   "cell_type": "code",
   "execution_count": 31,
   "id": "ac814263",
   "metadata": {},
   "outputs": [],
   "source": [
    "## parent\n",
    "class Vehicle():\n",
    "    car_price = 1000\n",
    "    year = 2021\n",
    "    \n",
    "    def __init__(self,make,model,fuel):\n",
    "        self.make=make\n",
    "        self.model=model\n",
    "        self.fuel=fuel\n",
    "    \n",
    "    def __private_method_parent(self):\n",
    "        print(\"This is private\")\n",
    "        a\n",
    "    def getprice(self):\n",
    "        Age = Vehicle.year - self.model\n",
    "        print(\"Hi i'm frm Parent class\")\n",
    "        return Vehicle.car_price * (1 / Age)\n",
    "        \n",
    "        \n",
    "        "
   ]
  },
  {
   "cell_type": "code",
   "execution_count": 32,
   "id": "344e6560",
   "metadata": {},
   "outputs": [],
   "source": [
    "# Child Class\n",
    "class Car(Vehicle):\n",
    "    def __init__(self,make,model,fuel,air_conditioning,sunroof):  ## inher\n",
    "        # Parent Attributes\n",
    "        \n",
    "        super(Car,self).__init__(make,model,fuel)  ## to simplify and calling\n",
    "        \n",
    "        self.air_conditioning=air_conditioning\n",
    "        self.sunroof=sunroof\n",
    "    \n",
    "    def getprice(self):\n",
    "        Vehicle.car_price = 2000\n",
    "        Age = Vehicle.year - self.model\n",
    "        print(\"this is child override class\")\n",
    "        return  Vehicle.car_price * (1 / Age)"
   ]
  },
  {
   "cell_type": "code",
   "execution_count": 33,
   "id": "bc9cf1ad",
   "metadata": {},
   "outputs": [],
   "source": [
    "c = Car(\"Tesla\",2015,\"diesel\",True,True)"
   ]
  },
  {
   "cell_type": "code",
   "execution_count": 60,
   "id": "6eb1bb66",
   "metadata": {},
   "outputs": [
    {
     "name": "stdout",
     "output_type": "stream",
     "text": [
      "this is child override class\n"
     ]
    },
    {
     "data": {
      "text/plain": [
       "333.3333333333333"
      ]
     },
     "execution_count": 60,
     "metadata": {},
     "output_type": "execute_result"
    }
   ],
   "source": [
    "c.getprice()"
   ]
  },
  {
   "cell_type": "code",
   "execution_count": null,
   "id": "d5a78839",
   "metadata": {},
   "outputs": [],
   "source": [
    "c.Vehicle"
   ]
  },
  {
   "cell_type": "code",
   "execution_count": 58,
   "id": "928cd93b",
   "metadata": {},
   "outputs": [],
   "source": [
    "q = Vehicle(\"KIA\",2016,\"Gas\")"
   ]
  },
  {
   "cell_type": "code",
   "execution_count": 59,
   "id": "4db561e8",
   "metadata": {},
   "outputs": [
    {
     "name": "stdout",
     "output_type": "stream",
     "text": [
      "Hi i'm frm Parent class\n"
     ]
    },
    {
     "data": {
      "text/plain": [
       "400.0"
      ]
     },
     "execution_count": 59,
     "metadata": {},
     "output_type": "execute_result"
    }
   ],
   "source": [
    "q.getprice()"
   ]
  },
  {
   "cell_type": "markdown",
   "id": "a4978176",
   "metadata": {},
   "source": [
    "## protected\n"
   ]
  },
  {
   "cell_type": "code",
   "execution_count": 78,
   "id": "c2e98d91",
   "metadata": {},
   "outputs": [],
   "source": [
    "## parent\n",
    "class Vehicle():\n",
    "    car_price = 1000\n",
    "    year = 2021\n",
    "    \n",
    "    def __init__(self,make,model,fuel):\n",
    "        self.make=make\n",
    "        self.model=model\n",
    "        self.fuel=fuel\n",
    "    \n",
    "    def __private_method_parent(self):\n",
    "        print(\"This is private\")\n",
    "        a\n",
    "    def _getprice(self):      ## protected\n",
    "        Age = Vehicle.year - self.model\n",
    "        print(\"Hi i'm frm Parent class\")\n",
    "        return Vehicle.car_price * (1 / Age)\n",
    "        \n",
    "        \n",
    "        "
   ]
  },
  {
   "cell_type": "code",
   "execution_count": 79,
   "id": "259de7a3",
   "metadata": {},
   "outputs": [],
   "source": [
    "# Child Class\n",
    "class Car(Vehicle):\n",
    "    def __init__(self,make,model,fuel,air_conditioning,sunroof):  ## inher\n",
    "        # Parent Attributes\n",
    "        \n",
    "        super().__init__(make,model,fuel)  ## to simplify and calling\n",
    "        \n",
    "        self._air_conditioning = air_conditioning        ## single underscore _  - defines protected\n",
    "        self._sunroof = sunroof\n",
    "    \n",
    "    def _getprice(self):\n",
    "        Vehicle.car_price = 2000\n",
    "        Age = Vehicle.year - self.model\n",
    "        print(\"this is child override class\")\n",
    "        return  Vehicle.car_price * (1 / Age)"
   ]
  },
  {
   "cell_type": "code",
   "execution_count": 80,
   "id": "808678ca",
   "metadata": {},
   "outputs": [],
   "source": [
    "sa = Car(\"Tesla\",2015,\"diesel\",True,True)"
   ]
  },
  {
   "cell_type": "code",
   "execution_count": 81,
   "id": "d60e7e2a",
   "metadata": {},
   "outputs": [
    {
     "data": {
      "text/plain": [
       "True"
      ]
     },
     "execution_count": 81,
     "metadata": {},
     "output_type": "execute_result"
    }
   ],
   "source": [
    "sa._air_conditioning"
   ]
  },
  {
   "cell_type": "code",
   "execution_count": 82,
   "id": "375ab007",
   "metadata": {},
   "outputs": [
    {
     "data": {
      "text/plain": [
       "True"
      ]
     },
     "execution_count": 82,
     "metadata": {},
     "output_type": "execute_result"
    }
   ],
   "source": [
    "sa._sunroof"
   ]
  },
  {
   "cell_type": "code",
   "execution_count": 83,
   "id": "f888baa5",
   "metadata": {},
   "outputs": [
    {
     "name": "stdout",
     "output_type": "stream",
     "text": [
      "this is child override class\n"
     ]
    },
    {
     "data": {
      "text/plain": [
       "333.3333333333333"
      ]
     },
     "execution_count": 83,
     "metadata": {},
     "output_type": "execute_result"
    }
   ],
   "source": [
    "sa._getprice()"
   ]
  },
  {
   "cell_type": "code",
   "execution_count": 84,
   "id": "e82ad96a",
   "metadata": {},
   "outputs": [
    {
     "ename": "AttributeError",
     "evalue": "'Car' object has no attribute 'sunroof'",
     "output_type": "error",
     "traceback": [
      "\u001b[1;31m---------------------------------------------------------------------------\u001b[0m",
      "\u001b[1;31mAttributeError\u001b[0m                            Traceback (most recent call last)",
      "\u001b[1;32m<ipython-input-84-8112988eb86a>\u001b[0m in \u001b[0;36m<module>\u001b[1;34m\u001b[0m\n\u001b[1;32m----> 1\u001b[1;33m \u001b[0msa\u001b[0m\u001b[1;33m.\u001b[0m\u001b[0msunroof\u001b[0m\u001b[1;33m\u001b[0m\u001b[1;33m\u001b[0m\u001b[0m\n\u001b[0m",
      "\u001b[1;31mAttributeError\u001b[0m: 'Car' object has no attribute 'sunroof'"
     ]
    }
   ],
   "source": [
    "sa.sunroof"
   ]
  },
  {
   "cell_type": "markdown",
   "id": "c9f28bbe",
   "metadata": {},
   "source": [
    "## multi level inheri"
   ]
  },
  {
   "cell_type": "code",
   "execution_count": 2,
   "id": "87c925b1",
   "metadata": {},
   "outputs": [],
   "source": [
    "## parent\n",
    "class Vehicle():\n",
    "    car_price = 1000\n",
    "    year = 2021\n",
    "    \n",
    "    def __init__(self,make,model,fuel):\n",
    "        self.make=make\n",
    "        self.model=model\n",
    "        self.fuel=fuel"
   ]
  },
  {
   "cell_type": "code",
   "execution_count": 3,
   "id": "7e476d48",
   "metadata": {},
   "outputs": [],
   "source": [
    "## child\n",
    "class Car(Vehicle):\n",
    "    def __init__(self,make,model,fuel,air_conditioning,sunroof):  ## inher\n",
    "        # Parent Attributes\n",
    "        \n",
    "        super().__init__(make,model,fuel)  ## to simplify and calling\n",
    "        \n",
    "        self._air_conditioning = air_conditioning        ## single underscore _  - defines protected\n",
    "        self._sunroof = sunroof"
   ]
  },
  {
   "cell_type": "code",
   "execution_count": 4,
   "id": "04d367e5",
   "metadata": {},
   "outputs": [],
   "source": [
    "## child\n",
    "class Carpro(Car):\n",
    "    def __init__(self,make,model,fuel,air_conditioning,sunroof,hood,sports):  ## inher\n",
    "        # Parent Attributes\n",
    "        \n",
    "        super().__init__(make,model,fuel,air_conditioning,sunroof)  ## to simplify and calling\n",
    "        \n",
    "        self.hood = hood        ## single underscore _  - defines protected\n",
    "        self.sports = sports"
   ]
  },
  {
   "cell_type": "code",
   "execution_count": 5,
   "id": "df7aa1ac",
   "metadata": {},
   "outputs": [],
   "source": [
    "b = Carpro(\"amber\",2011,\"elec\",True,True,\"Available\",\"super car\")"
   ]
  },
  {
   "cell_type": "code",
   "execution_count": 7,
   "id": "9adff4ba",
   "metadata": {},
   "outputs": [
    {
     "data": {
      "text/plain": [
       "{'make': 'amber',\n",
       " 'model': 2011,\n",
       " 'fuel': 'elec',\n",
       " '_air_conditioning': True,\n",
       " '_sunroof': True,\n",
       " 'hood': 'Available',\n",
       " 'sports': 'super car'}"
      ]
     },
     "execution_count": 7,
     "metadata": {},
     "output_type": "execute_result"
    }
   ],
   "source": [
    "b.__dict__"
   ]
  },
  {
   "cell_type": "code",
   "execution_count": 8,
   "id": "373c6348",
   "metadata": {},
   "outputs": [
    {
     "data": {
      "text/plain": [
       "'super car'"
      ]
     },
     "execution_count": 8,
     "metadata": {},
     "output_type": "execute_result"
    }
   ],
   "source": [
    "b.sports"
   ]
  },
  {
   "cell_type": "markdown",
   "id": "7191b044",
   "metadata": {},
   "source": [
    "## method resol order not mul level"
   ]
  },
  {
   "cell_type": "code",
   "execution_count": 20,
   "id": "eda0772f",
   "metadata": {},
   "outputs": [],
   "source": [
    "## parent\n",
    "class Vehicle():\n",
    "    \n",
    "    def __init__(self,make,model,fuel):\n",
    "        self.make=make\n",
    "        self.model=model\n",
    "        self.fuel=fuel\n",
    "        \n",
    "    def veh(self):\n",
    "        \n",
    "        return \"hey i'm here sleeping dogs\" ,self.model, \"dang it \"    ## rem the commas \n",
    "        \n",
    "\n",
    "## parent\n",
    "class cars():\n",
    "    \n",
    "    def __init__(self,make,model,fuel):\n",
    "        self.make=make\n",
    "        self.model=model\n",
    "        self.fuel=fuel\n",
    "        \n",
    "    def veh(self):\n",
    "        \n",
    "        return \"hey i'm here sleeping dogs\", self.model ,\"dang it from cars \"         \n",
    "        \n",
    "\n"
   ]
  },
  {
   "cell_type": "code",
   "execution_count": 21,
   "id": "69a2f885",
   "metadata": {},
   "outputs": [],
   "source": [
    "## child\n",
    "\n",
    "class child(Vehicle,cars):   ## rem this isnt multi layer inheritance ; having both class here\n",
    "    \n",
    "     def __init__(self,make,model,fuel):\n",
    "            \n",
    "            super().__init__(make,model,fuel)\n",
    "            \n",
    "    \n",
    "    "
   ]
  },
  {
   "cell_type": "code",
   "execution_count": 22,
   "id": "6e0f875e",
   "metadata": {},
   "outputs": [],
   "source": [
    "g = child(\"ford\",2019,\"Diesel\")     ## here we're having 2 parent nd 1 child"
   ]
  },
  {
   "cell_type": "code",
   "execution_count": 18,
   "id": "a2a14aab",
   "metadata": {},
   "outputs": [
    {
     "data": {
      "text/plain": [
       "2019"
      ]
     },
     "execution_count": 18,
     "metadata": {},
     "output_type": "execute_result"
    }
   ],
   "source": [
    "g.model"
   ]
  },
  {
   "cell_type": "code",
   "execution_count": 24,
   "id": "4c28c332",
   "metadata": {},
   "outputs": [
    {
     "data": {
      "text/plain": [
       "(\"hey i'm here sleeping dogs\", 2019, 'dang it ')"
      ]
     },
     "execution_count": 24,
     "metadata": {},
     "output_type": "execute_result"
    }
   ],
   "source": [
    "g.veh()  ## eye on child class frst vehicle followed by cars  reverse "
   ]
  },
  {
   "cell_type": "code",
   "execution_count": 25,
   "id": "8ca1cf7e",
   "metadata": {},
   "outputs": [
    {
     "data": {
      "text/plain": [
       "{'make': 'ford', 'model': 2019, 'fuel': 'Diesel'}"
      ]
     },
     "execution_count": 25,
     "metadata": {},
     "output_type": "execute_result"
    }
   ],
   "source": [
    "g.__dict__"
   ]
  },
  {
   "cell_type": "code",
   "execution_count": 27,
   "id": "f840b73c",
   "metadata": {},
   "outputs": [
    {
     "data": {
      "text/plain": [
       "(__main__.child, __main__.Vehicle, __main__.cars, object)"
      ]
     },
     "execution_count": 27,
     "metadata": {},
     "output_type": "execute_result"
    }
   ],
   "source": [
    "child.__mro__   ## to understand the flow"
   ]
  },
  {
   "cell_type": "code",
   "execution_count": 29,
   "id": "b5f62808",
   "metadata": {},
   "outputs": [
    {
     "data": {
      "text/plain": [
       "[__main__.child, __main__.Vehicle, __main__.cars, object]"
      ]
     },
     "execution_count": 29,
     "metadata": {},
     "output_type": "execute_result"
    }
   ],
   "source": [
    "child.mro()     ## both were same"
   ]
  },
  {
   "cell_type": "code",
   "execution_count": null,
   "id": "9b21ec42",
   "metadata": {},
   "outputs": [],
   "source": []
  },
  {
   "cell_type": "code",
   "execution_count": null,
   "id": "bd10e1e1",
   "metadata": {},
   "outputs": [],
   "source": []
  },
  {
   "cell_type": "markdown",
   "id": "a8ce1cb9",
   "metadata": {},
   "source": [
    "## operator overloading"
   ]
  },
  {
   "cell_type": "code",
   "execution_count": 54,
   "id": "38bc2fe8",
   "metadata": {},
   "outputs": [],
   "source": [
    "class Vehicle:\n",
    "    def __init__(self,make,model,fare): ## magic fn refer vd fr more\n",
    "        self.make=make\n",
    "        self.model=model\n",
    "        self.fare=fare\n",
    "    def __str__(self):   ## magic fn refer vd fr more\n",
    "        return \"The make of the model is 'empty' {} and the make is of 'space to fill' {} with a fare of {}\".format(self.model,self.make,self.fare)\n",
    "    \n",
    "    def __add__(self,other):             ## magic fn refer vd fr more\n",
    "        return self.fare + other.fare"
   ]
  },
  {
   "cell_type": "code",
   "execution_count": 55,
   "id": "8c37a13a",
   "metadata": {},
   "outputs": [],
   "source": [
    "h = Vehicle(\"amp\",2005,100)"
   ]
  },
  {
   "cell_type": "code",
   "execution_count": 48,
   "id": "6694d31c",
   "metadata": {},
   "outputs": [
    {
     "name": "stdout",
     "output_type": "stream",
     "text": [
      "The make of the model is 'empty' 2005 and the make is of 'space to fill' amp with a fare of 100\n"
     ]
    }
   ],
   "source": [
    "print(h)"
   ]
  },
  {
   "cell_type": "code",
   "execution_count": 49,
   "id": "f7a5ff2b",
   "metadata": {},
   "outputs": [
    {
     "data": {
      "text/plain": [
       "2005"
      ]
     },
     "execution_count": 49,
     "metadata": {},
     "output_type": "execute_result"
    }
   ],
   "source": [
    "h.model"
   ]
  },
  {
   "cell_type": "code",
   "execution_count": 56,
   "id": "5671ec30",
   "metadata": {},
   "outputs": [],
   "source": [
    "y =  Vehicle(\"amphere\",2002,400)"
   ]
  },
  {
   "cell_type": "code",
   "execution_count": 52,
   "id": "0ec2869a",
   "metadata": {},
   "outputs": [
    {
     "name": "stdout",
     "output_type": "stream",
     "text": [
      "The make of the model is 'empty' 2002 and the make is of 'space to fill' amphere with a fare of 400\n"
     ]
    }
   ],
   "source": [
    "print(y)"
   ]
  },
  {
   "cell_type": "code",
   "execution_count": 57,
   "id": "cf7f8054",
   "metadata": {},
   "outputs": [
    {
     "data": {
      "text/plain": [
       "500"
      ]
     },
     "execution_count": 57,
     "metadata": {},
     "output_type": "execute_result"
    }
   ],
   "source": [
    "h+y"
   ]
  },
  {
   "cell_type": "code",
   "execution_count": null,
   "id": "3179cfb2",
   "metadata": {},
   "outputs": [],
   "source": []
  },
  {
   "cell_type": "code",
   "execution_count": null,
   "id": "2b33f61f",
   "metadata": {},
   "outputs": [],
   "source": []
  },
  {
   "cell_type": "code",
   "execution_count": null,
   "id": "78801398",
   "metadata": {},
   "outputs": [],
   "source": []
  },
  {
   "cell_type": "code",
   "execution_count": null,
   "id": "0c3669f3",
   "metadata": {},
   "outputs": [],
   "source": []
  },
  {
   "cell_type": "code",
   "execution_count": null,
   "id": "00ca0e81",
   "metadata": {},
   "outputs": [],
   "source": []
  },
  {
   "cell_type": "code",
   "execution_count": 5,
   "id": "d937e50c",
   "metadata": {},
   "outputs": [
    {
     "name": "stdout",
     "output_type": "stream",
     "text": [
      "JASON krish "
     ]
    }
   ],
   "source": [
    "print(\"JASON\", end = \" \")\n",
    "print(\"krish\" , end = \" \")"
   ]
  },
  {
   "cell_type": "code",
   "execution_count": 73,
   "id": "ac6e924a",
   "metadata": {},
   "outputs": [],
   "source": [
    "class Circle():\n",
    "    def __str__(self):\n",
    "        return \"This is a Circle Class\"\n"
   ]
  },
  {
   "cell_type": "code",
   "execution_count": 74,
   "id": "6e2c8cf0",
   "metadata": {},
   "outputs": [
    {
     "name": "stdout",
     "output_type": "stream",
     "text": [
      "This is a Circle Class\n"
     ]
    }
   ],
   "source": [
    "c = Circle()\n",
    "print(c)"
   ]
  },
  {
   "cell_type": "code",
   "execution_count": null,
   "id": "55d06f02",
   "metadata": {},
   "outputs": [],
   "source": []
  },
  {
   "cell_type": "code",
   "execution_count": null,
   "id": "d16626da",
   "metadata": {},
   "outputs": [],
   "source": [
    "\n"
   ]
  }
 ],
 "metadata": {
  "kernelspec": {
   "display_name": "Python 3",
   "language": "python",
   "name": "python3"
  },
  "language_info": {
   "codemirror_mode": {
    "name": "ipython",
    "version": 3
   },
   "file_extension": ".py",
   "mimetype": "text/x-python",
   "name": "python",
   "nbconvert_exporter": "python",
   "pygments_lexer": "ipython3",
   "version": "3.8.8"
  }
 },
 "nbformat": 4,
 "nbformat_minor": 5
}
