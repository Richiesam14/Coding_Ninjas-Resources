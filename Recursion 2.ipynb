{
 "cells": [
  {
   "cell_type": "markdown",
   "id": "bebe8c22",
   "metadata": {},
   "source": [
    "## replace char"
   ]
  },
  {
   "cell_type": "code",
   "execution_count": 13,
   "id": "5edbd45c",
   "metadata": {},
   "outputs": [],
   "source": [
    "def idk(a,j,t):              ## replace j with t \n",
    "    if len(a) == 0:\n",
    "        return a\n",
    "    soutput = idk(a[1:],j,t)\n",
    "    if a[0] == j:\n",
    "        return t + soutput\n",
    "    else:\n",
    "        return  a[0] + soutput"
   ]
  },
  {
   "cell_type": "code",
   "execution_count": 15,
   "id": "2c6ad736",
   "metadata": {},
   "outputs": [
    {
     "data": {
      "text/plain": [
       "'xxxx'"
      ]
     },
     "execution_count": 15,
     "metadata": {},
     "output_type": "execute_result"
    }
   ],
   "source": [
    "idk(\"xccx\",'c','x')"
   ]
  },
  {
   "cell_type": "markdown",
   "id": "97520f67",
   "metadata": {},
   "source": [
    "## remove x"
   ]
  },
  {
   "cell_type": "code",
   "execution_count": 1,
   "id": "b157a36f",
   "metadata": {},
   "outputs": [],
   "source": [
    "def removex(l,v):\n",
    "    if len(l) == 0:\n",
    "        return l\n",
    "    \n",
    "    s = removex(l[1:],v)   ## easy approach\n",
    "    \n",
    "    if l[0] == v:\n",
    "        return s\n",
    "    \n",
    "    else:\n",
    "        return l[0] + s\n",
    "    "
   ]
  },
  {
   "cell_type": "code",
   "execution_count": 2,
   "id": "fc901ab4",
   "metadata": {},
   "outputs": [
    {
     "data": {
      "text/plain": [
       "'abcdwr'"
      ]
     },
     "execution_count": 2,
     "metadata": {},
     "output_type": "execute_result"
    }
   ],
   "source": [
    "l = (\"abcdxwr\")\n",
    "removex(l,'x')"
   ]
  },
  {
   "cell_type": "code",
   "execution_count": 3,
   "id": "ff925fec",
   "metadata": {},
   "outputs": [
    {
     "data": {
      "text/plain": [
       "'cw'"
      ]
     },
     "execution_count": 3,
     "metadata": {},
     "output_type": "execute_result"
    }
   ],
   "source": [
    "l = (\"cxxw\")\n",
    "removex(l,'x')"
   ]
  },
  {
   "cell_type": "markdown",
   "id": "09281076",
   "metadata": {},
   "source": [
    "\n",
    "## replace pi"
   ]
  },
  {
   "cell_type": "code",
   "execution_count": 23,
   "id": "50380cc5",
   "metadata": {},
   "outputs": [],
   "source": [
    "def pii(a):\n",
    "    if len(a) == 0 or len(a) == 1:\n",
    "        return a\n",
    "    if a[0] == 'p' and a[1] == 'i':       ## watchout carefully easy btw\n",
    "        si = pii(a[2:])\n",
    "        return \"3.14\" + si   \n",
    "    else:\n",
    "        si = pii(a[1:])\n",
    "        return a[0] + si\n",
    "        \n",
    "        \n",
    "    "
   ]
  },
  {
   "cell_type": "code",
   "execution_count": 24,
   "id": "31cc0e0d",
   "metadata": {},
   "outputs": [
    {
     "data": {
      "text/plain": [
       "'sj3.14k'"
      ]
     },
     "execution_count": 24,
     "metadata": {},
     "output_type": "execute_result"
    }
   ],
   "source": [
    "a = (\"sjpik\")\n",
    "pii(a)"
   ]
  },
  {
   "cell_type": "markdown",
   "id": "cc4b906d",
   "metadata": {},
   "source": [
    "## remove duplicate"
   ]
  },
  {
   "cell_type": "code",
   "execution_count": 29,
   "id": "9d58ff83",
   "metadata": {},
   "outputs": [],
   "source": [
    "def dup(string):\n",
    "    if len(string) == 0 or len(string) == 1:\n",
    "        return string\n",
    "    \n",
    "    if string[0] == string[1]:          # keep the continuity and remove 0th index element\n",
    "        return dup(string[1:])\n",
    "    else:\n",
    "        smallout = (string[1:])\n",
    "        return string[0] + smallout"
   ]
  },
  {
   "cell_type": "code",
   "execution_count": 34,
   "id": "a1ec81c4",
   "metadata": {},
   "outputs": [
    {
     "name": "stdout",
     "output_type": "stream",
     "text": [
      "suiafowpras\n",
      "suiafowpras\n"
     ]
    }
   ],
   "source": [
    "# Main\n",
    "string = input().strip()\n",
    "print(dup(string))"
   ]
  },
  {
   "cell_type": "code",
   "execution_count": 35,
   "id": "ce0a1087",
   "metadata": {},
   "outputs": [],
   "source": [
    "def removeConsecutiveDuplicates(string):\n",
    "    n = len(string)\n",
    "\n",
    "    if n == 0 or n == 1:\n",
    "        return string\n",
    "    if string[0] == string[1]:  # keep the continuity and remove 0th index element\n",
    "        return removeConsecutiveDuplicates(string[1:])\n",
    "    else:\n",
    "        smallout = removeConsecutiveDuplicates(string[1:])\n",
    "        return string[0] + smallout"
   ]
  },
  {
   "cell_type": "code",
   "execution_count": 36,
   "id": "6c0ec9b1",
   "metadata": {},
   "outputs": [
    {
     "name": "stdout",
     "output_type": "stream",
     "text": [
      "sidaupots\n",
      "sidaupots\n"
     ]
    }
   ],
   "source": [
    "string = input().strip()\n",
    "print(removeConsecutiveDuplicates(string))"
   ]
  },
  {
   "cell_type": "markdown",
   "id": "41f93e25",
   "metadata": {},
   "source": [
    "## Binary search"
   ]
  },
  {
   "cell_type": "code",
   "execution_count": 9,
   "id": "5959dc90",
   "metadata": {},
   "outputs": [],
   "source": [
    "def binary(a,d,si,ei):\n",
    "    if si > ei :\n",
    "        return -1\n",
    "    \n",
    "    mid = (si + ei) // 2\n",
    "    if a[mid] == d:\n",
    "        return mid                       ## refer lecture  ec though\n",
    "    \n",
    "    elif a[mid] > d:\n",
    "        return binary(a,d,si,mid-1)        ## eg [1,5,6,7,9,10] to find is 5 , mid 6  ,end -1 \n",
    "    \n",
    "    else:\n",
    "        return binary(a,d,mid+1,ei)\n",
    "    "
   ]
  },
  {
   "cell_type": "code",
   "execution_count": 10,
   "id": "563eedf2",
   "metadata": {},
   "outputs": [
    {
     "data": {
      "text/plain": [
       "4"
      ]
     },
     "execution_count": 10,
     "metadata": {},
     "output_type": "execute_result"
    }
   ],
   "source": [
    "binary([1,3,4,5,6,7,9],6,0,6) "
   ]
  },
  {
   "cell_type": "code",
   "execution_count": 11,
   "id": "c06b9da0",
   "metadata": {},
   "outputs": [
    {
     "data": {
      "text/plain": [
       "-1"
      ]
     },
     "execution_count": 11,
     "metadata": {},
     "output_type": "execute_result"
    }
   ],
   "source": [
    "binary([1,3,4,5,6,7,9],10,0,6) "
   ]
  },
  {
   "cell_type": "markdown",
   "id": "68bafaa2",
   "metadata": {},
   "source": [
    "## Merge sort"
   ]
  },
  {
   "cell_type": "code",
   "execution_count": 5,
   "id": "eb5b392e",
   "metadata": {},
   "outputs": [],
   "source": [
    "def merge(a):\n",
    "    if len(a) == 0 or len(a) == 1:\n",
    "        return \n",
    "    \n",
    "    mid = len(a) // 2\n",
    "    a1 = a[0:mid]     ##  till mid-1\n",
    "    a2 = a[mid:]\n",
    "    \n",
    "    merge(a1)                   ## refer lecture for process flow tricky and this sorts the array a1 easy though\n",
    "    merge(a2)\n",
    "    \n",
    "    merge1(a1,a2,a)\n",
    "    "
   ]
  },
  {
   "cell_type": "code",
   "execution_count": 4,
   "id": "b7996292",
   "metadata": {},
   "outputs": [],
   "source": [
    "def merge1(a1,a2,a):\n",
    "    i = 0\n",
    "    j = 0\n",
    "    k = 0\n",
    "    \n",
    "    while i < len(a1) and j < len(a2):      ## ec understandable\n",
    "        if a1[i] < a2[j]:\n",
    "            a[k] = a1[i]                        ## this code helps sorting both arrays a1, a2\n",
    "            k+=1\n",
    "            i+=1\n",
    "        else:\n",
    "            a[k] = a2[j]                         \n",
    "            k+=1\n",
    "            j+=1\n",
    "            \n",
    "    while i < len(a1):                                 ## this helps if any of elements remains in both lists a1 & a2\n",
    "        a[k] = a1[i]\n",
    "        k+=1\n",
    "        i+=1\n",
    "        \n",
    "    while j < len(a2):\n",
    "        a[k] = a2[j]\n",
    "        k+=1\n",
    "        j+=1\n",
    "        \n",
    "        \n",
    "            "
   ]
  },
  {
   "cell_type": "code",
   "execution_count": 6,
   "id": "72dcd8bd",
   "metadata": {},
   "outputs": [
    {
     "data": {
      "text/plain": [
       "[5, 6, 8, 2, 3, 4, 9]"
      ]
     },
     "execution_count": 6,
     "metadata": {},
     "output_type": "execute_result"
    }
   ],
   "source": [
    "a = [5,6,9,8,2,3,4]\n",
    "merge(a)\n",
    "a       ## perfect\n"
   ]
  },
  {
   "cell_type": "markdown",
   "id": "f5ef12ce",
   "metadata": {},
   "source": [
    "## snippet"
   ]
  },
  {
   "cell_type": "code",
   "execution_count": 10,
   "id": "803158d8",
   "metadata": {},
   "outputs": [],
   "source": [
    "a = [1,2,21,3,8,9,5]\n",
    "len(a)\n",
    "mid = len(a)//2      [7//2= 3 , ie 0 1 2 3 tends to be 3-mid]\n",
    "a1 = a[0:mid]"
   ]
  },
  {
   "cell_type": "code",
   "execution_count": 9,
   "id": "715894f4",
   "metadata": {},
   "outputs": [
    {
     "data": {
      "text/plain": [
       "[1, 2, 21]"
      ]
     },
     "execution_count": 9,
     "metadata": {},
     "output_type": "execute_result"
    }
   ],
   "source": [
    "a1"
   ]
  },
  {
   "cell_type": "markdown",
   "id": "8f11ddc2",
   "metadata": {},
   "source": [
    "## quick sort"
   ]
  },
  {
   "cell_type": "code",
   "execution_count": 73,
   "id": "11af6ace",
   "metadata": {},
   "outputs": [],
   "source": [
    "def quick(a,si,ei):\n",
    "    if si >= ei:\n",
    "        return\n",
    "    \n",
    "    pivot_index = partition(a,si,ei)             ##   this line would get pivot_index from the function to use below\n",
    "    \n",
    "    quick(a,si,pivot_index - 1)             ## algo defines 2 parts with pivot as unique mid \n",
    "    quick(a,pivot_index + 1,ei)             ## and quick sorts both sides sorting leaving mid unchanged\n",
    "    "
   ]
  },
  {
   "cell_type": "code",
   "execution_count": 1,
   "id": "2333739b",
   "metadata": {},
   "outputs": [],
   "source": [
    "def partition(a,si,ei):\n",
    "    \n",
    "    pivot= a[si]                                    ## initially si = 5 as per gn qn\n",
    "    c = 0\n",
    "    for i in range(si,ei+1):\n",
    "        if a[i] < pivot:\n",
    "            c+=1                                ## c = 3 \n",
    "            i+=1\n",
    "            \n",
    "    a[si+c],a[si] = a[si],a[si+c]   ## ie, 5 moves to 3 and viceversa  note c = 3\n",
    "    pivot_index = si+c  ## index\n",
    "    \n",
    "    i = si\n",
    "    j = ei\n",
    "    \n",
    "    while i < j:\n",
    "        if a[i] < pivot:           ## 3 < 5, 6< 5......      ## easy though watch carefully\n",
    "            i+=1\n",
    "        elif a[j] >= pivot:\n",
    "            j-=1         ## end index -1 and si+1\n",
    "            \n",
    "        else:\n",
    "            a[i],a[j] = a[j],a[i]\n",
    "            i+=1\n",
    "            j-=1\n",
    "            \n",
    "    return pivot_index\n",
    "    \n",
    "            "
   ]
  },
  {
   "cell_type": "code",
   "execution_count": 74,
   "id": "87a7d993",
   "metadata": {},
   "outputs": [
    {
     "data": {
      "text/plain": [
       "[1, 3, 4, 5, 6, 7, 8, 10]"
      ]
     },
     "execution_count": 74,
     "metadata": {},
     "output_type": "execute_result"
    }
   ],
   "source": [
    "a = [5,6,1,3,7,8,10,4]\n",
    "quick(a,0,len(a)-1)\n",
    "a"
   ]
  },
  {
   "cell_type": "markdown",
   "id": "3c490593",
   "metadata": {},
   "source": [
    "## exercise quick wit main"
   ]
  },
  {
   "cell_type": "code",
   "execution_count": 33,
   "id": "a54ba896",
   "metadata": {},
   "outputs": [],
   "source": [
    "## alter using main\n",
    "\n",
    "def part(arr,start,end):\n",
    "    pivot = arr[start]\n",
    "    c = 0\n",
    "\n",
    "    for i in range(start, end+1):\n",
    "        if arr[i] < pivot:\n",
    "            c += 1\n",
    "    arr[start + c], arr[start] = arr[start], arr[start+c]\n",
    "    pivot_ind = start + c\n",
    "\n",
    "    i = start\n",
    "    j = end\n",
    "\n",
    "    while i < j:\n",
    "        if arr[i] < pivot:\n",
    "            i += 1\n",
    "        elif arr[j] >= pivot:\n",
    "            j -= 1\n",
    "        else:\n",
    "            arr[i], arr[j] = arr[j], arr[i]\n",
    "            i += 1\n",
    "            j -= 1\n",
    "    return pivot_ind"
   ]
  },
  {
   "cell_type": "code",
   "execution_count": 34,
   "id": "48880883",
   "metadata": {},
   "outputs": [],
   "source": [
    "def quickSort(arr, start, end):\n",
    "\n",
    "    if start >= end:\n",
    "        return -1\n",
    "    \n",
    "    pivot_ind = part(arr,start,end)\n",
    "    quickSort(arr, start, pivot_ind-1)\n",
    "    quickSort(arr, pivot_ind+1, end)"
   ]
  },
  {
   "cell_type": "code",
   "execution_count": 43,
   "id": "611279b5",
   "metadata": {},
   "outputs": [
    {
     "name": "stdout",
     "output_type": "stream",
     "text": [
      "6\n",
      "6 2 8 9 4 3\n"
     ]
    },
    {
     "data": {
      "text/plain": [
       "[2, 3, 4, 6, 8, 9]"
      ]
     },
     "execution_count": 43,
     "metadata": {},
     "output_type": "execute_result"
    }
   ],
   "source": [
    "##main\n",
    "n = int(input())\n",
    "arr = [int(i) for i in input().split()]\n",
    "quickSort(arr, 0, n-1)\n",
    "arr\n"
   ]
  },
  {
   "cell_type": "code",
   "execution_count": 42,
   "id": "57091958",
   "metadata": {},
   "outputs": [],
   "source": [
    "## recap "
   ]
  },
  {
   "cell_type": "code",
   "execution_count": 26,
   "id": "23038275",
   "metadata": {},
   "outputs": [
    {
     "name": "stdout",
     "output_type": "stream",
     "text": [
      "4 1 5 3\n"
     ]
    }
   ],
   "source": [
    "s =  [int(i) for i in input().split()]   ## can also use strip()to sep spaces bfore splt"
   ]
  },
  {
   "cell_type": "code",
   "execution_count": 27,
   "id": "30c51619",
   "metadata": {},
   "outputs": [
    {
     "data": {
      "text/plain": [
       "[4, 1, 5, 3]"
      ]
     },
     "execution_count": 27,
     "metadata": {},
     "output_type": "execute_result"
    }
   ],
   "source": [
    "s"
   ]
  },
  {
   "cell_type": "markdown",
   "id": "0c701fde",
   "metadata": {},
   "source": [
    "## Tower of Hanoi"
   ]
  },
  {
   "cell_type": "code",
   "execution_count": 7,
   "id": "3926a482",
   "metadata": {},
   "outputs": [],
   "source": [
    "def hanoi(n,a,b,c):\n",
    "    if n == 1:\n",
    "        print(\"move\",n, \"to disk\",c, \"from \" ,a, \"using\" ,b, \"and done\")\n",
    "        return\n",
    "    \n",
    "    hanoi(n-1,a,c,b)  ## n-1 element from, disk a to b using c , one must me empty\n",
    "    \n",
    "    print(\"move\" ,n, \"the element from\" ,a, \"to\" ,c,)\n",
    "    \n",
    "    hanoi(n-1,b,a,c)  ## finally n-1 to b to c using empty a  \n",
    "        \n",
    "    "
   ]
  },
  {
   "cell_type": "code",
   "execution_count": 8,
   "id": "9b9255cc",
   "metadata": {},
   "outputs": [
    {
     "name": "stdout",
     "output_type": "stream",
     "text": [
      "move 1 to disk h from  s using d and done\n",
      "move 2 the element from s to d\n",
      "move 1 to disk d from  h using s and done\n"
     ]
    }
   ],
   "source": [
    "hanoi(2,\"s\",\"h\",\"d\")             ## perfect recursion"
   ]
  },
  {
   "cell_type": "markdown",
   "id": "0f2e8e11",
   "metadata": {},
   "source": [
    "## exercise hanoi"
   ]
  },
  {
   "cell_type": "code",
   "execution_count": 5,
   "id": "190674a8",
   "metadata": {},
   "outputs": [],
   "source": [
    "def towerofhanoi(n, source, aux, dest):  ## same as above\n",
    "    if n == 0:\n",
    "        return\n",
    "    if n == 1:\n",
    "        print(source, dest)\n",
    "        return\n",
    "    towerofhanoi(n-1, source, dest, aux)\n",
    "    print(source, dest)\n",
    "    towerofhanoi(n-1, aux, source, dest)\n"
   ]
  },
  {
   "cell_type": "code",
   "execution_count": 4,
   "id": "1158053e",
   "metadata": {},
   "outputs": [
    {
     "name": "stdout",
     "output_type": "stream",
     "text": [
      "4\n",
      "a b\n",
      "a c\n",
      "b c\n",
      "a b\n",
      "c a\n",
      "c b\n",
      "a b\n",
      "a c\n",
      "b c\n",
      "b a\n",
      "c a\n",
      "b c\n",
      "a b\n",
      "a c\n",
      "b c\n"
     ]
    }
   ],
   "source": [
    "n = int(input())\n",
    "towerofhanoi(n, 'a', 'b', 'c')"
   ]
  },
  {
   "cell_type": "code",
   "execution_count": null,
   "id": "ad476eaa",
   "metadata": {},
   "outputs": [],
   "source": []
  },
  {
   "cell_type": "code",
   "execution_count": null,
   "id": "99ec89d5",
   "metadata": {},
   "outputs": [],
   "source": []
  },
  {
   "cell_type": "code",
   "execution_count": null,
   "id": "d56a4454",
   "metadata": {},
   "outputs": [],
   "source": []
  },
  {
   "cell_type": "code",
   "execution_count": null,
   "id": "cd1a7b1c",
   "metadata": {},
   "outputs": [],
   "source": []
  },
  {
   "cell_type": "code",
   "execution_count": null,
   "id": "cc8a1c88",
   "metadata": {},
   "outputs": [],
   "source": []
  },
  {
   "cell_type": "code",
   "execution_count": null,
   "id": "bf68643c",
   "metadata": {},
   "outputs": [],
   "source": []
  },
  {
   "cell_type": "code",
   "execution_count": null,
   "id": "bfe57214",
   "metadata": {},
   "outputs": [],
   "source": []
  }
 ],
 "metadata": {
  "kernelspec": {
   "display_name": "Python 3",
   "language": "python",
   "name": "python3"
  },
  "language_info": {
   "codemirror_mode": {
    "name": "ipython",
    "version": 3
   },
   "file_extension": ".py",
   "mimetype": "text/x-python",
   "name": "python",
   "nbconvert_exporter": "python",
   "pygments_lexer": "ipython3",
   "version": "3.8.8"
  }
 },
 "nbformat": 4,
 "nbformat_minor": 5
}
