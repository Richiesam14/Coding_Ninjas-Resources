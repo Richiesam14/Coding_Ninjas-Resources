{
 "cells": [
  {
   "cell_type": "markdown",
   "id": "7e049232",
   "metadata": {},
   "source": [
    "## Operations of lists"
   ]
  },
  {
   "cell_type": "code",
   "execution_count": null,
   "id": "6b9d8a7c",
   "metadata": {},
   "outputs": [],
   "source": []
  },
  {
   "cell_type": "code",
   "execution_count": 12,
   "id": "0c2365c3",
   "metadata": {},
   "outputs": [
    {
     "name": "stdout",
     "output_type": "stream",
     "text": [
      "rog\n",
      "2\n",
      "4\n",
      "9\n",
      "lmao\n",
      "5\n",
      "6\n"
     ]
    }
   ],
   "source": [
    "li = [\"rog\",2,4,9,\"lmao\",5,6]               ## from - 0 to n-1 \n",
    "for i in range (len(li)):\n",
    "    print(li[i])           ## square bracket"
   ]
  },
  {
   "cell_type": "code",
   "execution_count": 9,
   "id": "026e95b3",
   "metadata": {},
   "outputs": [
    {
     "name": "stdout",
     "output_type": "stream",
     "text": [
      "rog\n",
      "2\n",
      "4\n",
      "9\n",
      "lmao\n"
     ]
    }
   ],
   "source": [
    "for i in  li:\n",
    "    print(i)          "
   ]
  },
  {
   "cell_type": "code",
   "execution_count": 13,
   "id": "b64f1ba4",
   "metadata": {},
   "outputs": [
    {
     "name": "stdout",
     "output_type": "stream",
     "text": [
      "4\n",
      "9\n",
      "lmao\n",
      "5\n",
      "6\n"
     ]
    }
   ],
   "source": [
    "for i in li[2:]:   ## slice , start frm 2 till end\n",
    "    print(i)  "
   ]
  },
  {
   "cell_type": "code",
   "execution_count": 17,
   "id": "eed1bec3",
   "metadata": {},
   "outputs": [
    {
     "name": "stdout",
     "output_type": "stream",
     "text": [
      "4\n",
      "9\n"
     ]
    }
   ],
   "source": [
    "for i in li[2:4]:   ## slice , start frm 2 till end\n",
    "    print(i)  "
   ]
  },
  {
   "cell_type": "markdown",
   "id": "b97199c4",
   "metadata": {},
   "source": [
    "## Negativeindex"
   ]
  },
  {
   "cell_type": "code",
   "execution_count": 21,
   "id": "3bb65ed4",
   "metadata": {},
   "outputs": [
    {
     "data": {
      "text/plain": [
       "10"
      ]
     },
     "execution_count": 21,
     "metadata": {},
     "output_type": "execute_result"
    }
   ],
   "source": [
    "si=[4,6,7,10,\"abi\"]\n",
    "si[-2]"
   ]
  },
  {
   "cell_type": "code",
   "execution_count": 23,
   "id": "76a05497",
   "metadata": {},
   "outputs": [
    {
     "data": {
      "text/plain": [
       "[6, 7, 10]"
      ]
     },
     "execution_count": 23,
     "metadata": {},
     "output_type": "execute_result"
    }
   ],
   "source": [
    "si[1:4:1]"
   ]
  },
  {
   "cell_type": "code",
   "execution_count": 24,
   "id": "37af787a",
   "metadata": {},
   "outputs": [
    {
     "data": {
      "text/plain": [
       "[6, 10]"
      ]
     },
     "execution_count": 24,
     "metadata": {},
     "output_type": "execute_result"
    }
   ],
   "source": [
    "si[1::2]   ## difference"
   ]
  },
  {
   "cell_type": "code",
   "execution_count": 25,
   "id": "6916021d",
   "metadata": {},
   "outputs": [
    {
     "data": {
      "text/plain": [
       "'abi'"
      ]
     },
     "execution_count": 25,
     "metadata": {},
     "output_type": "execute_result"
    }
   ],
   "source": [
    "li[-1]"
   ]
  },
  {
   "cell_type": "code",
   "execution_count": 32,
   "id": "05553aee",
   "metadata": {},
   "outputs": [
    {
     "data": {
      "text/plain": [
       "[6, 7, 10]"
      ]
     },
     "execution_count": 32,
     "metadata": {},
     "output_type": "execute_result"
    }
   ],
   "source": [
    "si[-4:-1]"
   ]
  },
  {
   "cell_type": "code",
   "execution_count": 43,
   "id": "eb8a864d",
   "metadata": {},
   "outputs": [
    {
     "name": "stdout",
     "output_type": "stream",
     "text": [
      "5\n"
     ]
    },
    {
     "data": {
      "text/plain": [
       "5"
      ]
     },
     "execution_count": 43,
     "metadata": {},
     "output_type": "execute_result"
    }
   ],
   "source": [
    "n = int(input())\n",
    "\n",
    "n"
   ]
  },
  {
   "cell_type": "markdown",
   "id": "96f96f67",
   "metadata": {},
   "source": [
    "## Line seperated input"
   ]
  },
  {
   "cell_type": "code",
   "execution_count": 44,
   "id": "5b3e6141",
   "metadata": {},
   "outputs": [
    {
     "name": "stdout",
     "output_type": "stream",
     "text": [
      "4\n",
      "8\n",
      "9\n",
      "17\n",
      "2\n"
     ]
    }
   ],
   "source": [
    "ki = []\n",
    "for i in range(n):\n",
    "    k = int(input())\n",
    "    ki.append(k)\n",
    "    "
   ]
  },
  {
   "cell_type": "code",
   "execution_count": 45,
   "id": "dbada0dd",
   "metadata": {},
   "outputs": [
    {
     "data": {
      "text/plain": [
       "[4, 8, 9, 17, 2]"
      ]
     },
     "execution_count": 45,
     "metadata": {},
     "output_type": "execute_result"
    }
   ],
   "source": [
    "ki"
   ]
  },
  {
   "cell_type": "code",
   "execution_count": 49,
   "id": "0cd31188",
   "metadata": {},
   "outputs": [
    {
     "name": "stdout",
     "output_type": "stream",
     "text": [
      "4\n"
     ]
    }
   ],
   "source": [
    "j = int(input())\n"
   ]
  },
  {
   "cell_type": "code",
   "execution_count": 50,
   "id": "f5400b61",
   "metadata": {},
   "outputs": [
    {
     "name": "stdout",
     "output_type": "stream",
     "text": [
      "say\n",
      "lol\n",
      "kii\n",
      "gg\n"
     ]
    }
   ],
   "source": [
    "ki = []\n",
    "for i in range(j):\n",
    "    k = input()\n",
    "    ki.append(k)"
   ]
  },
  {
   "cell_type": "code",
   "execution_count": 51,
   "id": "3a1575d2",
   "metadata": {},
   "outputs": [
    {
     "data": {
      "text/plain": [
       "['say', 'lol', 'kii', 'gg']"
      ]
     },
     "execution_count": 51,
     "metadata": {},
     "output_type": "execute_result"
    }
   ],
   "source": [
    "ki"
   ]
  },
  {
   "cell_type": "code",
   "execution_count": 52,
   "id": "876fdb7b",
   "metadata": {},
   "outputs": [
    {
     "name": "stdout",
     "output_type": "stream",
     "text": [
      "say\n",
      "lol\n",
      "kii\n",
      "gg\n"
     ]
    }
   ],
   "source": [
    "for i in ki:\n",
    "    print(i)"
   ]
  },
  {
   "cell_type": "markdown",
   "id": "f0647267",
   "metadata": {},
   "source": [
    "## Space seperated"
   ]
  },
  {
   "cell_type": "code",
   "execution_count": 53,
   "id": "c29e9662",
   "metadata": {},
   "outputs": [
    {
     "name": "stdout",
     "output_type": "stream",
     "text": [
      "1 2 3 4 5\n"
     ]
    }
   ],
   "source": [
    "s = input()"
   ]
  },
  {
   "cell_type": "code",
   "execution_count": 54,
   "id": "ab1bbabd",
   "metadata": {},
   "outputs": [
    {
     "data": {
      "text/plain": [
       "'1 2 3 4 5'"
      ]
     },
     "execution_count": 54,
     "metadata": {},
     "output_type": "execute_result"
    }
   ],
   "source": [
    "s"
   ]
  },
  {
   "cell_type": "code",
   "execution_count": 56,
   "id": "c80c2a8a",
   "metadata": {},
   "outputs": [
    {
     "data": {
      "text/plain": [
       "['1', '2', '3', '4', '5']"
      ]
     },
     "execution_count": 56,
     "metadata": {},
     "output_type": "execute_result"
    }
   ],
   "source": [
    "strsp = s.split(' ')\n",
    "strsp"
   ]
  },
  {
   "cell_type": "code",
   "execution_count": 59,
   "id": "8d9457fa",
   "metadata": {},
   "outputs": [
    {
     "name": "stdout",
     "output_type": "stream",
     "text": [
      "4 5 6 7 8\n"
     ]
    }
   ],
   "source": [
    "b = input()"
   ]
  },
  {
   "cell_type": "code",
   "execution_count": 60,
   "id": "1058318d",
   "metadata": {},
   "outputs": [],
   "source": [
    "st = b.split()"
   ]
  },
  {
   "cell_type": "code",
   "execution_count": 61,
   "id": "d3ac9871",
   "metadata": {},
   "outputs": [
    {
     "data": {
      "text/plain": [
       "['4', '5', '6', '7', '8']"
      ]
     },
     "execution_count": 61,
     "metadata": {},
     "output_type": "execute_result"
    }
   ],
   "source": [
    "st"
   ]
  },
  {
   "cell_type": "code",
   "execution_count": 62,
   "id": "70b536aa",
   "metadata": {},
   "outputs": [],
   "source": [
    "f = []"
   ]
  },
  {
   "cell_type": "code",
   "execution_count": 65,
   "id": "a91e3631",
   "metadata": {},
   "outputs": [],
   "source": [
    "for e in st:\n",
    "    f.append(int(e))"
   ]
  },
  {
   "cell_type": "code",
   "execution_count": 68,
   "id": "af046df3",
   "metadata": {},
   "outputs": [
    {
     "data": {
      "text/plain": [
       "[4, 5, 6, 7, 8]"
      ]
     },
     "execution_count": 68,
     "metadata": {},
     "output_type": "execute_result"
    }
   ],
   "source": [
    "f"
   ]
  },
  {
   "cell_type": "code",
   "execution_count": 76,
   "id": "24e4f000",
   "metadata": {},
   "outputs": [
    {
     "name": "stdout",
     "output_type": "stream",
     "text": [
      "4 5 6 7 8\n"
     ]
    }
   ],
   "source": [
    "s = [int (x) for x in input().split()]"
   ]
  },
  {
   "cell_type": "code",
   "execution_count": 77,
   "id": "22aef6c3",
   "metadata": {},
   "outputs": [
    {
     "data": {
      "text/plain": [
       "[4, 5, 6, 7, 8]"
      ]
     },
     "execution_count": 77,
     "metadata": {},
     "output_type": "execute_result"
    }
   ],
   "source": [
    "s"
   ]
  },
  {
   "cell_type": "code",
   "execution_count": 89,
   "id": "1e10c1ba",
   "metadata": {},
   "outputs": [
    {
     "name": "stdout",
     "output_type": "stream",
     "text": [
      "4\n",
      "5\n",
      "6\n",
      "7\n",
      "8\n"
     ]
    }
   ],
   "source": [
    "for j in s:\n",
    "    print(j)"
   ]
  },
  {
   "cell_type": "code",
   "execution_count": 90,
   "id": "2a844369",
   "metadata": {},
   "outputs": [
    {
     "name": "stdout",
     "output_type": "stream",
     "text": [
      "3\n",
      "1 5 6\n"
     ]
    }
   ],
   "source": [
    "k = int(input())\n",
    "l = [int(x)for x in input().split()]"
   ]
  },
  {
   "cell_type": "code",
   "execution_count": 92,
   "id": "018cdaeb",
   "metadata": {
    "scrolled": true
   },
   "outputs": [
    {
     "data": {
      "text/plain": [
       "[1, 5, 6]"
      ]
     },
     "execution_count": 92,
     "metadata": {},
     "output_type": "execute_result"
    }
   ],
   "source": [
    "l"
   ]
  },
  {
   "cell_type": "markdown",
   "id": "61e1ff29",
   "metadata": {},
   "source": [
    "## Array sum"
   ]
  },
  {
   "cell_type": "code",
   "execution_count": 109,
   "id": "cba6bf44",
   "metadata": {
    "scrolled": false
   },
   "outputs": [
    {
     "name": "stdout",
     "output_type": "stream",
     "text": [
      "3\n",
      "4 5 7\n",
      "16\n"
     ]
    }
   ],
   "source": [
    "k = int(input())\n",
    "li = [int(x)for x in input().split()]\n",
    "s = 0\n",
    "for i in range(k):      ## watch out i & li\n",
    "    s = s+li[i]\n",
    "print(s)"
   ]
  },
  {
   "cell_type": "markdown",
   "id": "0634ea35",
   "metadata": {},
   "source": [
    "## linear search"
   ]
  },
  {
   "cell_type": "code",
   "execution_count": 118,
   "id": "24488403",
   "metadata": {},
   "outputs": [
    {
     "name": "stdout",
     "output_type": "stream",
     "text": [
      "4\n"
     ]
    },
    {
     "data": {
      "text/plain": [
       "4"
      ]
     },
     "execution_count": 118,
     "metadata": {},
     "output_type": "execute_result"
    }
   ],
   "source": [
    "n = int(input())\n",
    "n"
   ]
  },
  {
   "cell_type": "code",
   "execution_count": 119,
   "id": "5b97af34",
   "metadata": {},
   "outputs": [
    {
     "name": "stdout",
     "output_type": "stream",
     "text": [
      "2 4 6 8\n"
     ]
    }
   ],
   "source": [
    "li = [int(x)for x in input().split()]\n"
   ]
  },
  {
   "cell_type": "code",
   "execution_count": 120,
   "id": "4d24d20f",
   "metadata": {},
   "outputs": [
    {
     "data": {
      "text/plain": [
       "[2, 4, 6, 8]"
      ]
     },
     "execution_count": 120,
     "metadata": {},
     "output_type": "execute_result"
    }
   ],
   "source": [
    "li"
   ]
  },
  {
   "cell_type": "code",
   "execution_count": 138,
   "id": "e3d43a44",
   "metadata": {},
   "outputs": [
    {
     "name": "stdout",
     "output_type": "stream",
     "text": [
      "9\n"
     ]
    }
   ],
   "source": [
    "el = int(input())"
   ]
  },
  {
   "cell_type": "code",
   "execution_count": 139,
   "id": "ca83aecb",
   "metadata": {},
   "outputs": [
    {
     "name": "stdout",
     "output_type": "stream",
     "text": [
      "-1\n"
     ]
    }
   ],
   "source": [
    "found = False\n",
    "for i in range(n):\n",
    "    if li[i] == el:\n",
    "        print(i)\n",
    "        found = True\n",
    "        break\n",
    "        \n",
    "if found is not True:\n",
    "    print(-1)"
   ]
  },
  {
   "cell_type": "code",
   "execution_count": 148,
   "id": "f52d2fe1",
   "metadata": {},
   "outputs": [
    {
     "name": "stdout",
     "output_type": "stream",
     "text": [
      "6\n"
     ]
    }
   ],
   "source": [
    "li= [1,4,6,8,9]\n",
    "i = 2\n",
    "s = li[i]\n",
    "print(s)"
   ]
  },
  {
   "cell_type": "code",
   "execution_count": 149,
   "id": "d53d78f8",
   "metadata": {},
   "outputs": [
    {
     "name": "stdout",
     "output_type": "stream",
     "text": [
      "28\n"
     ]
    }
   ],
   "source": [
    "li= [1,4,6,8,9]\n",
    "s= 0\n",
    "for i in range(len(li)):\n",
    "    s = s + li[i]\n",
    "print(s)\n"
   ]
  },
  {
   "cell_type": "markdown",
   "id": "2de9e518",
   "metadata": {},
   "source": [
    "## linear search function"
   ]
  },
  {
   "cell_type": "code",
   "execution_count": 160,
   "id": "f1b4086b",
   "metadata": {},
   "outputs": [
    {
     "name": "stdout",
     "output_type": "stream",
     "text": [
      "3\n"
     ]
    }
   ],
   "source": [
    "def lin_search(sn,e):\n",
    "    for i in range(len(sn)):\n",
    "        if sn[i] == e:\n",
    "            return i\n",
    "    return -1\n",
    "        \n",
    "sn = [4,6,7,9,3]\n",
    "ks = lin_search(sn,9)\n",
    "print(ks)\n"
   ]
  },
  {
   "cell_type": "markdown",
   "id": "4a7bb40c",
   "metadata": {},
   "source": [
    "## mutable & Immutable"
   ]
  },
  {
   "cell_type": "code",
   "execution_count": 161,
   "id": "56e21e08",
   "metadata": {},
   "outputs": [
    {
     "name": "stdout",
     "output_type": "stream",
     "text": [
      "[1, 4, 3, 4, 5]\n"
     ]
    }
   ],
   "source": [
    "def change(li):\n",
    "    li[1] = li[1] + 2\n",
    "li = [1,2,3,4,5]\n",
    "change(li)\n",
    "print(li)"
   ]
  },
  {
   "cell_type": "code",
   "execution_count": 1,
   "id": "3c1d8db7",
   "metadata": {},
   "outputs": [],
   "source": [
    "## mutable & immutable"
   ]
  },
  {
   "cell_type": "code",
   "execution_count": 3,
   "id": "c821237a",
   "metadata": {},
   "outputs": [],
   "source": [
    "a\n",
    "a = 6 \n",
    "b = 3\n",
    "b = a"
   ]
  },
  {
   "cell_type": "code",
   "execution_count": 6,
   "id": "7c1c8e32",
   "metadata": {},
   "outputs": [],
   "source": [
    "a\n",
    "b = 4"
   ]
  },
  {
   "cell_type": "code",
   "execution_count": 7,
   "id": "ee039288",
   "metadata": {},
   "outputs": [
    {
     "data": {
      "text/plain": [
       "4"
      ]
     },
     "execution_count": 7,
     "metadata": {},
     "output_type": "execute_result"
    }
   ],
   "source": [
    "b"
   ]
  },
  {
   "cell_type": "code",
   "execution_count": null,
   "id": "a822c58d",
   "metadata": {},
   "outputs": [],
   "source": []
  },
  {
   "cell_type": "markdown",
   "id": "3de7fe86",
   "metadata": {},
   "source": [
    "## Reversing a list\n"
   ]
  },
  {
   "cell_type": "code",
   "execution_count": 8,
   "id": "346dd6cd",
   "metadata": {},
   "outputs": [
    {
     "name": "stdout",
     "output_type": "stream",
     "text": [
      "(5, 6)\n"
     ]
    }
   ],
   "source": [
    "a = 6\n",
    "b = 5\n",
    "c = a,b = b,a\n",
    "print(c)\n"
   ]
  },
  {
   "cell_type": "code",
   "execution_count": 9,
   "id": "ac8aa74d",
   "metadata": {},
   "outputs": [],
   "source": [
    "a = 6\n",
    "b = 5\n",
    "a,b = b,a"
   ]
  },
  {
   "cell_type": "code",
   "execution_count": 13,
   "id": "5f462746",
   "metadata": {},
   "outputs": [
    {
     "data": {
      "text/plain": [
       "5"
      ]
     },
     "execution_count": 13,
     "metadata": {},
     "output_type": "execute_result"
    }
   ],
   "source": [
    "a"
   ]
  },
  {
   "cell_type": "code",
   "execution_count": 23,
   "id": "5ea5cf84",
   "metadata": {},
   "outputs": [
    {
     "name": "stdout",
     "output_type": "stream",
     "text": [
      "4\n"
     ]
    }
   ],
   "source": [
    "j = [1, 4, 3, 4, 5]\n",
    "print(j[-2])"
   ]
  },
  {
   "cell_type": "code",
   "execution_count": 31,
   "id": "8a9b8f36",
   "metadata": {},
   "outputs": [
    {
     "data": {
      "text/plain": [
       "[2, 9, 7, 6]"
      ]
     },
     "execution_count": 31,
     "metadata": {},
     "output_type": "execute_result"
    }
   ],
   "source": [
    "li = [1,5,6,7,9,2]\n",
    "li[5:1:-1]"
   ]
  },
  {
   "cell_type": "code",
   "execution_count": 38,
   "id": "b617d0bf",
   "metadata": {},
   "outputs": [],
   "source": [
    "li = [1,2,3,4,5,6]\n",
    "li = li[::-1]"
   ]
  },
  {
   "cell_type": "code",
   "execution_count": 39,
   "id": "47e62352",
   "metadata": {},
   "outputs": [
    {
     "data": {
      "text/plain": [
       "[6, 5, 4, 3, 2, 1]"
      ]
     },
     "execution_count": 39,
     "metadata": {},
     "output_type": "execute_result"
    }
   ],
   "source": [
    "li"
   ]
  },
  {
   "cell_type": "markdown",
   "id": "6b1e864a",
   "metadata": {},
   "source": [
    "## Swap Alternataive"
   ]
  },
  {
   "cell_type": "code",
   "execution_count": null,
   "id": "a53f0f26",
   "metadata": {},
   "outputs": [],
   "source": []
  },
  {
   "cell_type": "code",
   "execution_count": null,
   "id": "e8795ae4",
   "metadata": {},
   "outputs": [],
   "source": []
  },
  {
   "cell_type": "markdown",
   "id": "cf4ae994",
   "metadata": {},
   "source": [
    "## Assignments\n"
   ]
  },
  {
   "cell_type": "code",
   "execution_count": null,
   "id": "391d2739",
   "metadata": {},
   "outputs": [],
   "source": []
  },
  {
   "cell_type": "code",
   "execution_count": null,
   "id": "a26b513e",
   "metadata": {},
   "outputs": [],
   "source": []
  },
  {
   "cell_type": "code",
   "execution_count": null,
   "id": "2b7635c1",
   "metadata": {},
   "outputs": [],
   "source": []
  },
  {
   "cell_type": "code",
   "execution_count": null,
   "id": "4cf6a3fa",
   "metadata": {},
   "outputs": [],
   "source": []
  },
  {
   "cell_type": "code",
   "execution_count": null,
   "id": "55e6525c",
   "metadata": {},
   "outputs": [],
   "source": []
  },
  {
   "cell_type": "code",
   "execution_count": null,
   "id": "c299e8ca",
   "metadata": {},
   "outputs": [],
   "source": []
  },
  {
   "cell_type": "code",
   "execution_count": null,
   "id": "017159ea",
   "metadata": {},
   "outputs": [],
   "source": []
  },
  {
   "cell_type": "code",
   "execution_count": null,
   "id": "96511e41",
   "metadata": {},
   "outputs": [],
   "source": []
  },
  {
   "cell_type": "code",
   "execution_count": null,
   "id": "bb066602",
   "metadata": {},
   "outputs": [],
   "source": []
  }
 ],
 "metadata": {
  "kernelspec": {
   "display_name": "Python 3",
   "language": "python",
   "name": "python3"
  },
  "language_info": {
   "codemirror_mode": {
    "name": "ipython",
    "version": 3
   },
   "file_extension": ".py",
   "mimetype": "text/x-python",
   "name": "python",
   "nbconvert_exporter": "python",
   "pygments_lexer": "ipython3",
   "version": "3.8.8"
  }
 },
 "nbformat": 4,
 "nbformat_minor": 5
}
