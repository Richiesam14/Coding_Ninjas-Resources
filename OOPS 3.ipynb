{
 "cells": [
  {
   "cell_type": "markdown",
   "id": "5f3ea6f6",
   "metadata": {},
   "source": [
    "## Abstract"
   ]
  },
  {
   "cell_type": "code",
   "execution_count": 1,
   "id": "978b55a6",
   "metadata": {},
   "outputs": [],
   "source": [
    "from abc import ABC,abstractmethod  ## ABC , abst"
   ]
  },
  {
   "cell_type": "code",
   "execution_count": 2,
   "id": "e0be04aa",
   "metadata": {},
   "outputs": [],
   "source": [
    "class A(ABC):\n",
    "\n",
    "    @abstractmethod\n",
    "    def fun1(self):\n",
    "        pass\n",
    "\n",
    "    @abstractmethod\n",
    "    def fun2(self):\n",
    "        pass\n"
   ]
  },
  {
   "cell_type": "code",
   "execution_count": 4,
   "id": "e133b8a8",
   "metadata": {},
   "outputs": [],
   "source": [
    "class B(A):\n",
    "\n",
    "    def fun1(self):\n",
    "        print(\"function 1 is called\")"
   ]
  },
  {
   "cell_type": "code",
   "execution_count": 5,
   "id": "4b93ab35",
   "metadata": {},
   "outputs": [
    {
     "ename": "TypeError",
     "evalue": "Can't instantiate abstract class B with abstract methods fun2",
     "output_type": "error",
     "traceback": [
      "\u001b[1;31m---------------------------------------------------------------------------\u001b[0m",
      "\u001b[1;31mTypeError\u001b[0m                                 Traceback (most recent call last)",
      "\u001b[1;32m<ipython-input-5-a1efe0b6b2c6>\u001b[0m in \u001b[0;36m<module>\u001b[1;34m\u001b[0m\n\u001b[1;32m----> 1\u001b[1;33m \u001b[0mo\u001b[0m \u001b[1;33m=\u001b[0m \u001b[0mB\u001b[0m\u001b[1;33m(\u001b[0m\u001b[1;33m)\u001b[0m\u001b[1;33m\u001b[0m\u001b[1;33m\u001b[0m\u001b[0m\n\u001b[0m",
      "\u001b[1;31mTypeError\u001b[0m: Can't instantiate abstract class B with abstract methods fun2"
     ]
    }
   ],
   "source": [
    "o = B()  ## have to def fun 2 at class B coz class A is in abstract"
   ]
  },
  {
   "cell_type": "code",
   "execution_count": 2,
   "id": "1ccd29bf",
   "metadata": {},
   "outputs": [],
   "source": [
    "from abc import ABC,abstractmethod"
   ]
  },
  {
   "cell_type": "code",
   "execution_count": 7,
   "id": "fc0d7121",
   "metadata": {},
   "outputs": [],
   "source": [
    "class A(ABC):\n",
    "\n",
    "    @abstractmethod\n",
    "    def fun1(self):\n",
    "        pass\n",
    "    \n",
    "class B(A):\n",
    "\n",
    "    def fun1(self):\n",
    "        print(\"function 1 is called\")"
   ]
  },
  {
   "cell_type": "code",
   "execution_count": 8,
   "id": "729b35e1",
   "metadata": {},
   "outputs": [],
   "source": [
    "d = B()"
   ]
  },
  {
   "cell_type": "code",
   "execution_count": 10,
   "id": "bcbd5c4a",
   "metadata": {},
   "outputs": [
    {
     "name": "stdout",
     "output_type": "stream",
     "text": [
      "function 1 is called\n"
     ]
    }
   ],
   "source": [
    "d.fun1()"
   ]
  },
  {
   "cell_type": "code",
   "execution_count": null,
   "id": "d24a1eda",
   "metadata": {},
   "outputs": [],
   "source": []
  },
  {
   "cell_type": "code",
   "execution_count": null,
   "id": "e974ddb1",
   "metadata": {},
   "outputs": [],
   "source": []
  },
  {
   "cell_type": "markdown",
   "id": "e8920003",
   "metadata": {},
   "source": [
    "## Abstract contd"
   ]
  },
  {
   "cell_type": "code",
   "execution_count": 3,
   "id": "b6cf7768",
   "metadata": {},
   "outputs": [],
   "source": [
    "class Bank(ABC):\n",
    "    def __init__(self,payment,interest,mortgage):\n",
    "        self.mortgage = mortgage\n",
    "        self.pyment = payment\n",
    "        self.int = interest\n",
    "        \n",
    "    @abstractmethod    \n",
    "    def get(self):\n",
    "        pass\n",
    "    @abstractmethod\n",
    "    def drop(self):\n",
    "        pass\n",
    "        "
   ]
  },
  {
   "cell_type": "code",
   "execution_count": 13,
   "id": "d0c62f96",
   "metadata": {},
   "outputs": [],
   "source": [
    "class Axis(Bank):\n",
    "    \n",
    "    def get(self):\n",
    "        return self.mortgage\n",
    "    \n",
    "    def drop(self):\n",
    "        return \"total net amount payable = \"self.int * self.pyment  ## 1000*3"
   ]
  },
  {
   "cell_type": "code",
   "execution_count": 14,
   "id": "4dc9e37e",
   "metadata": {},
   "outputs": [],
   "source": [
    "out = Axis(1000,3,4)"
   ]
  },
  {
   "cell_type": "code",
   "execution_count": 15,
   "id": "0cb1cfdf",
   "metadata": {},
   "outputs": [
    {
     "data": {
      "text/plain": [
       "{'mortgage': 4, 'pyment': 1000, 'int': 3}"
      ]
     },
     "execution_count": 15,
     "metadata": {},
     "output_type": "execute_result"
    }
   ],
   "source": [
    "out.__dict__"
   ]
  },
  {
   "cell_type": "code",
   "execution_count": 11,
   "id": "422bacbd",
   "metadata": {},
   "outputs": [
    {
     "data": {
      "text/plain": [
       "('total net amount payable = ', 3000)"
      ]
     },
     "execution_count": 11,
     "metadata": {},
     "output_type": "execute_result"
    }
   ],
   "source": [
    "out.drop()"
   ]
  },
  {
   "cell_type": "markdown",
   "id": "e4b6fc1b",
   "metadata": {},
   "source": [
    "## Error handling"
   ]
  },
  {
   "cell_type": "code",
   "execution_count": null,
   "id": "e306b5b9",
   "metadata": {},
   "outputs": [],
   "source": [
    "if:\n",
    "    <our logic>\n",
    "else if Exception:\n",
    "    <Alternative Logic>\n",
    "    "
   ]
  },
  {
   "cell_type": "code",
   "execution_count": null,
   "id": "4716334a",
   "metadata": {},
   "outputs": [],
   "source": [
    "## prototype for error_handling \n",
    "try:\n",
    "    a+b\n",
    "except:\n",
    "    int(a)+int(b)"
   ]
  },
  {
   "cell_type": "code",
   "execution_count": 40,
   "id": "b0dece72",
   "metadata": {},
   "outputs": [],
   "source": [
    "class Vehicle():\n",
    "    def __init__(self,make,model,fuel):\n",
    "        self.make=make\n",
    "        self.model=model\n",
    "        self.fuel=fuel\n",
    "    def get_value(self):\n",
    "        \n",
    "        try:\n",
    "            age = 2025 - self.model\n",
    "            return 1000 + (1/age)\n",
    "        \n",
    "        except TypeError:         ## error type should be specified\n",
    "            \n",
    "            ## pass\n",
    "            age = 2025 - int (self.model)  ## remove int to chk error\n",
    "            return 1000 + (1/age)\n",
    "        \n",
    "        except ZeroDivisionError:\n",
    "            age = 2025 - int (self.model)  ## remove int to chk error\n",
    "            return 1000 \n",
    "            \n",
    "            \n",
    "            \n",
    "            "
   ]
  },
  {
   "cell_type": "code",
   "execution_count": 41,
   "id": "46dfc1d0",
   "metadata": {},
   "outputs": [],
   "source": [
    "f = Vehicle(\"tesla\",\"2017\",\"oil\")"
   ]
  },
  {
   "cell_type": "code",
   "execution_count": 31,
   "id": "1ae58e6c",
   "metadata": {},
   "outputs": [
    {
     "data": {
      "text/plain": [
       "1000.125"
      ]
     },
     "execution_count": 31,
     "metadata": {},
     "output_type": "execute_result"
    }
   ],
   "source": [
    "f.get_value()"
   ]
  },
  {
   "cell_type": "code",
   "execution_count": 43,
   "id": "4b5e9eb3",
   "metadata": {},
   "outputs": [],
   "source": [
    "s = Vehicle(\"cramp\",\"2021\",\"petrol\")"
   ]
  },
  {
   "cell_type": "code",
   "execution_count": 44,
   "id": "ece32561",
   "metadata": {},
   "outputs": [],
   "source": [
    "s.get_value()   ## follow below to get handled   ## pass fn output here"
   ]
  },
  {
   "cell_type": "code",
   "execution_count": 39,
   "id": "1819f397",
   "metadata": {},
   "outputs": [
    {
     "data": {
      "text/plain": [
       "1000"
      ]
     },
     "execution_count": 39,
     "metadata": {},
     "output_type": "execute_result"
    }
   ],
   "source": [
    "s.get_value()"
   ]
  },
  {
   "cell_type": "markdown",
   "id": "ca38a3f2",
   "metadata": {},
   "source": [
    "## multiple exceptions / nested exceptions"
   ]
  },
  {
   "cell_type": "code",
   "execution_count": 50,
   "id": "8e5cbcb9",
   "metadata": {},
   "outputs": [],
   "source": [
    "class Vehicle():\n",
    "    def __init__(self,make,model,fuel):\n",
    "        self.make=make\n",
    "        self.model=model\n",
    "        self.fuel=fuel\n",
    "    def get_value(self):\n",
    "        \n",
    "        try:\n",
    "            age = 2025 - self.model\n",
    "            return 1000 + (1/age)\n",
    "        \n",
    "        except :         ## error type should be specified\n",
    "            try:\n",
    "                age = 2025 - int (self.model)  ## remove int to chk error\n",
    "                return 1000 + (1/age)\n",
    "  ## nested          \n",
    "            except ZeroDivisionError:\n",
    "                age = 2025 - int(self.model)  \n",
    "                return 1000\n",
    "            \n",
    "            except:\n",
    "                return \"wrong input format\"           ## perfect  can also pass\n",
    "            \n",
    "            \n",
    "            \n",
    "            \n",
    "            "
   ]
  },
  {
   "cell_type": "code",
   "execution_count": 51,
   "id": "4cb71159",
   "metadata": {},
   "outputs": [],
   "source": [
    "j = Vehicle(\"sda\",\"crc\",\"petrol\")"
   ]
  },
  {
   "cell_type": "code",
   "execution_count": 52,
   "id": "e1eb59bc",
   "metadata": {},
   "outputs": [
    {
     "data": {
      "text/plain": [
       "'wrong input format'"
      ]
     },
     "execution_count": 52,
     "metadata": {},
     "output_type": "execute_result"
    }
   ],
   "source": [
    "j.get_value()"
   ]
  },
  {
   "cell_type": "markdown",
   "id": "c243a9b5",
   "metadata": {},
   "source": [
    "## custom exception"
   ]
  },
  {
   "cell_type": "code",
   "execution_count": 57,
   "id": "04010828",
   "metadata": {},
   "outputs": [],
   "source": [
    "class NegativeCarValue(Exception):\n",
    "    def __init__(self,value,message=\"car value cannot be negative\"):\n",
    "        self.value=value\n",
    "        self.message=message\n",
    "        super().__init__(self.message)\n",
    "    \n",
    "    def __str__(self):\n",
    "        return f'{self.message}-->{self.value}'"
   ]
  },
  {
   "cell_type": "code",
   "execution_count": null,
   "id": "3b09ec63",
   "metadata": {},
   "outputs": [],
   "source": [
    "a=-1\n",
    "if a<0:\n",
    "    raise NegativeCarValue(a)"
   ]
  },
  {
   "cell_type": "code",
   "execution_count": 54,
   "id": "89914f07",
   "metadata": {},
   "outputs": [],
   "source": [
    "class Vehicle():\n",
    "    def __init__(self,make,model,fuel):\n",
    "        self.make=make\n",
    "        self.model=model\n",
    "        self.fuel=fuel\n",
    "        self.current_year = 2021\n",
    "        \n",
    "    def get_value(self):\n",
    "        \n",
    "        age =  self.current_year - self.model\n",
    "        \n",
    "        if age < 0:\n",
    "            raise NegativeCarValue(age)\n",
    "        else:\n",
    "            return 1000*(1/age)\n",
    "\n",
    "        \n",
    "        "
   ]
  },
  {
   "cell_type": "code",
   "execution_count": 55,
   "id": "33472457",
   "metadata": {},
   "outputs": [],
   "source": [
    "myobj=Vehicle(\"Tesla\",2023,\"electric\")"
   ]
  },
  {
   "cell_type": "code",
   "execution_count": 56,
   "id": "47901d57",
   "metadata": {},
   "outputs": [
    {
     "ename": "NegativeCarValue",
     "evalue": "car value cannot be negative-->-2",
     "output_type": "error",
     "traceback": [
      "\u001b[1;31m---------------------------------------------------------------------------\u001b[0m",
      "\u001b[1;31mNegativeCarValue\u001b[0m                          Traceback (most recent call last)",
      "\u001b[1;32m<ipython-input-56-bea87a96a623>\u001b[0m in \u001b[0;36m<module>\u001b[1;34m\u001b[0m\n\u001b[1;32m----> 1\u001b[1;33m \u001b[0mmyobj\u001b[0m\u001b[1;33m.\u001b[0m\u001b[0mget_value\u001b[0m\u001b[1;33m(\u001b[0m\u001b[1;33m)\u001b[0m\u001b[1;33m\u001b[0m\u001b[1;33m\u001b[0m\u001b[0m\n\u001b[0m",
      "\u001b[1;32m<ipython-input-54-5958d3101f49>\u001b[0m in \u001b[0;36mget_value\u001b[1;34m(self)\u001b[0m\n\u001b[0;32m     11\u001b[0m \u001b[1;33m\u001b[0m\u001b[0m\n\u001b[0;32m     12\u001b[0m         \u001b[1;32mif\u001b[0m \u001b[0mage\u001b[0m \u001b[1;33m<\u001b[0m \u001b[1;36m0\u001b[0m\u001b[1;33m:\u001b[0m\u001b[1;33m\u001b[0m\u001b[1;33m\u001b[0m\u001b[0m\n\u001b[1;32m---> 13\u001b[1;33m             \u001b[1;32mraise\u001b[0m \u001b[0mNegativeCarValue\u001b[0m\u001b[1;33m(\u001b[0m\u001b[0mage\u001b[0m\u001b[1;33m)\u001b[0m\u001b[1;33m\u001b[0m\u001b[1;33m\u001b[0m\u001b[0m\n\u001b[0m\u001b[0;32m     14\u001b[0m         \u001b[1;32melse\u001b[0m\u001b[1;33m:\u001b[0m\u001b[1;33m\u001b[0m\u001b[1;33m\u001b[0m\u001b[0m\n\u001b[0;32m     15\u001b[0m             \u001b[1;32mreturn\u001b[0m \u001b[1;36m1000\u001b[0m\u001b[1;33m*\u001b[0m\u001b[1;33m(\u001b[0m\u001b[1;36m1\u001b[0m\u001b[1;33m/\u001b[0m\u001b[0mage\u001b[0m\u001b[1;33m)\u001b[0m\u001b[1;33m\u001b[0m\u001b[1;33m\u001b[0m\u001b[0m\n",
      "\u001b[1;31mNegativeCarValue\u001b[0m: car value cannot be negative-->-2"
     ]
    }
   ],
   "source": [
    "myobj.get_value()"
   ]
  },
  {
   "cell_type": "code",
   "execution_count": null,
   "id": "268df851",
   "metadata": {},
   "outputs": [],
   "source": []
  },
  {
   "cell_type": "code",
   "execution_count": 58,
   "id": "286154f4",
   "metadata": {},
   "outputs": [],
   "source": [
    "class NegativeCarValue(Exception):\n",
    "    def __init__(self,value,message=\"car value cannot be negative\"):\n",
    "        self.value=value\n",
    "        self.message=message\n",
    "        super().__init__(self.message)\n",
    "    \n",
    "    def __str__(self):\n",
    "        return f'{self.message}-->{self.value}'"
   ]
  },
  {
   "cell_type": "code",
   "execution_count": 76,
   "id": "27f19ed8",
   "metadata": {},
   "outputs": [],
   "source": [
    "class Vehicle():\n",
    "    def __init__(self,make,model,fuel):\n",
    "        self.make=make\n",
    "        self.model=model\n",
    "        self.fuel=fuel\n",
    "        self.current_year=2021\n",
    "    def get_value(self):\n",
    "        age=self.current_year-self.model\n",
    "        try:\n",
    "            if age<0:\n",
    "                raise NegativeCarValue(age)\n",
    "            else:\n",
    "                return 1000*(1/age)\n",
    "        except NegativeCarValue as e:\n",
    "            print(\"Error*******\",e)"
   ]
  },
  {
   "cell_type": "code",
   "execution_count": 79,
   "id": "5fec633f",
   "metadata": {},
   "outputs": [],
   "source": [
    "myobj=Vehicle(\"Tesla\",2020,\"electric\")"
   ]
  },
  {
   "cell_type": "code",
   "execution_count": 64,
   "id": "d3cf8090",
   "metadata": {},
   "outputs": [
    {
     "name": "stdout",
     "output_type": "stream",
     "text": [
      "Error******* car value cannot be negative-->-2\n"
     ]
    }
   ],
   "source": [
    "myobj.get_value()"
   ]
  },
  {
   "cell_type": "code",
   "execution_count": 80,
   "id": "a2087e0d",
   "metadata": {},
   "outputs": [
    {
     "data": {
      "text/plain": [
       "1000.0"
      ]
     },
     "execution_count": 80,
     "metadata": {},
     "output_type": "execute_result"
    }
   ],
   "source": [
    "myobj.get_value()"
   ]
  },
  {
   "cell_type": "markdown",
   "id": "1f92a5ca",
   "metadata": {},
   "source": [
    "## else & finally"
   ]
  },
  {
   "cell_type": "code",
   "execution_count": null,
   "id": "3fa08fdc",
   "metadata": {},
   "outputs": [],
   "source": [
    "## bit tricky "
   ]
  },
  {
   "cell_type": "code",
   "execution_count": 65,
   "id": "e1a54418",
   "metadata": {},
   "outputs": [],
   "source": [
    "class NegativeZeroModelYear(Exception):\n",
    "    def __init__(self,value,message=\"Model year cannot be equal or greater than 2021\"):\n",
    "        self.value=value\n",
    "        self.message=message\n",
    "        super().__init__(self.message)\n",
    "    \n",
    "    def __str__(self):\n",
    "        return f'{self.message}-->{self.value}'"
   ]
  },
  {
   "cell_type": "code",
   "execution_count": 67,
   "id": "84b95d7b",
   "metadata": {},
   "outputs": [],
   "source": [
    "class CarModeYearAsString(Exception):\n",
    "    #Exception if the car value comes as negative\n",
    "    def __init__(self,value,message=\"Model year can not be strings.Try Passing int values\"):\n",
    "        self.value=value\n",
    "        self.message=message\n",
    "        super().init__(self.message)\n",
    "    def __str__(self):\n",
    "        return f'{self.message}-->{self.value}'"
   ]
  },
  {
   "cell_type": "code",
   "execution_count": 68,
   "id": "b670561d",
   "metadata": {},
   "outputs": [],
   "source": [
    "class Vehicle():\n",
    "    def __init__(self,make,model,fuel):\n",
    "        self.make=make\n",
    "        self.model=model\n",
    "        self.fuel=fuel\n",
    "        self.current_year=2021\n",
    "        self.value=None\n",
    "    def get_value(self):\n",
    "        try:\n",
    "            if type(self.model)==str:\n",
    "                status=\"custom\"\n",
    "                raise CarModelYearAsString(self.model)\n",
    "            elif self.model>=self.current_year:\n",
    "                status=\"custom\"\n",
    "                raise NegativeZeroModelYear(self.model)\n",
    "            else:\n",
    "                self.age=self.current_year-self.model\n",
    "                self.value=1000*(1/self.age)\n",
    "                status=\"success\"\n",
    "        except TypeError:\n",
    "            self.age=self.current_year-int(self.model)\n",
    "            self.value=1000*(1/self.age)\n",
    "            status=\"inbuilt\"\n",
    "        else:\n",
    "            print(\"code ran without any exceptions\")\n",
    "        finally:\n",
    "            if status==\"custom\":\n",
    "                print(\"code has inbuilt exceptions\")\n",
    "            elif status==\"inbuilt\":\n",
    "                print(\"code has inbuilt exceptions,please rectify that\")\n",
    "            else:\n",
    "                print(\"The value without any exception\",self.value)\n"
   ]
  },
  {
   "cell_type": "code",
   "execution_count": 71,
   "id": "8130547f",
   "metadata": {},
   "outputs": [],
   "source": [
    "myobj=Vehicle(\"Tesla\",2024,\"electric\")\n"
   ]
  },
  {
   "cell_type": "code",
   "execution_count": 72,
   "id": "151fe1d9",
   "metadata": {},
   "outputs": [
    {
     "name": "stdout",
     "output_type": "stream",
     "text": [
      "code has inbuilt exceptions\n"
     ]
    },
    {
     "ename": "NegativeZeroModelYear",
     "evalue": "Model year cannot be equal or greater than 2021-->2024",
     "output_type": "error",
     "traceback": [
      "\u001b[1;31m---------------------------------------------------------------------------\u001b[0m",
      "\u001b[1;31mNegativeZeroModelYear\u001b[0m                     Traceback (most recent call last)",
      "\u001b[1;32m<ipython-input-72-bea87a96a623>\u001b[0m in \u001b[0;36m<module>\u001b[1;34m\u001b[0m\n\u001b[1;32m----> 1\u001b[1;33m \u001b[0mmyobj\u001b[0m\u001b[1;33m.\u001b[0m\u001b[0mget_value\u001b[0m\u001b[1;33m(\u001b[0m\u001b[1;33m)\u001b[0m\u001b[1;33m\u001b[0m\u001b[1;33m\u001b[0m\u001b[0m\n\u001b[0m",
      "\u001b[1;32m<ipython-input-68-28e9545e9dcd>\u001b[0m in \u001b[0;36mget_value\u001b[1;34m(self)\u001b[0m\n\u001b[0;32m     13\u001b[0m             \u001b[1;32melif\u001b[0m \u001b[0mself\u001b[0m\u001b[1;33m.\u001b[0m\u001b[0mmodel\u001b[0m\u001b[1;33m>=\u001b[0m\u001b[0mself\u001b[0m\u001b[1;33m.\u001b[0m\u001b[0mcurrent_year\u001b[0m\u001b[1;33m:\u001b[0m\u001b[1;33m\u001b[0m\u001b[1;33m\u001b[0m\u001b[0m\n\u001b[0;32m     14\u001b[0m                 \u001b[0mstatus\u001b[0m\u001b[1;33m=\u001b[0m\u001b[1;34m\"custom\"\u001b[0m\u001b[1;33m\u001b[0m\u001b[1;33m\u001b[0m\u001b[0m\n\u001b[1;32m---> 15\u001b[1;33m                 \u001b[1;32mraise\u001b[0m \u001b[0mNegativeZeroModelYear\u001b[0m\u001b[1;33m(\u001b[0m\u001b[0mself\u001b[0m\u001b[1;33m.\u001b[0m\u001b[0mmodel\u001b[0m\u001b[1;33m)\u001b[0m\u001b[1;33m\u001b[0m\u001b[1;33m\u001b[0m\u001b[0m\n\u001b[0m\u001b[0;32m     16\u001b[0m             \u001b[1;32melse\u001b[0m\u001b[1;33m:\u001b[0m\u001b[1;33m\u001b[0m\u001b[1;33m\u001b[0m\u001b[0m\n\u001b[0;32m     17\u001b[0m                 \u001b[0mself\u001b[0m\u001b[1;33m.\u001b[0m\u001b[0mage\u001b[0m\u001b[1;33m=\u001b[0m\u001b[0mself\u001b[0m\u001b[1;33m.\u001b[0m\u001b[0mcurrent_year\u001b[0m\u001b[1;33m-\u001b[0m\u001b[0mself\u001b[0m\u001b[1;33m.\u001b[0m\u001b[0mmodel\u001b[0m\u001b[1;33m\u001b[0m\u001b[1;33m\u001b[0m\u001b[0m\n",
      "\u001b[1;31mNegativeZeroModelYear\u001b[0m: Model year cannot be equal or greater than 2021-->2024"
     ]
    }
   ],
   "source": [
    "myobj.get_value()"
   ]
  },
  {
   "cell_type": "code",
   "execution_count": null,
   "id": "110d3511",
   "metadata": {},
   "outputs": [],
   "source": []
  }
 ],
 "metadata": {
  "kernelspec": {
   "display_name": "Python 3",
   "language": "python",
   "name": "python3"
  },
  "language_info": {
   "codemirror_mode": {
    "name": "ipython",
    "version": 3
   },
   "file_extension": ".py",
   "mimetype": "text/x-python",
   "name": "python",
   "nbconvert_exporter": "python",
   "pygments_lexer": "ipython3",
   "version": "3.8.8"
  }
 },
 "nbformat": 4,
 "nbformat_minor": 5
}
