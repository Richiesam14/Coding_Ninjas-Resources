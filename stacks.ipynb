{
 "cells": [
  {
   "cell_type": "code",
   "execution_count": 23,
   "id": "8a060718",
   "metadata": {},
   "outputs": [],
   "source": [
    "class Stack:\n",
    "    \n",
    "    def __init__(self):          ##push ,pop,top,isempty,size\n",
    "        self.__data = []\n",
    "        \n",
    "    def push(self,item):\n",
    "        self.__data.append(item)\n",
    "    def pop(self):\n",
    "        if self.isEmpty():\n",
    "            print(\"stack's empty\")\n",
    "            return \n",
    "        return self.__data.pop()\n",
    "        \n",
    "    def top(self):\n",
    "        if self.isEmpty():\n",
    "            return\n",
    "        return self.__data[len(self.__data)-1]   ## order 0 1 2 3 \n",
    "        \n",
    "    def isEmpty(self):\n",
    "        return self.size() == 0\n",
    "        \n",
    "        \n",
    "    \n",
    "    def size(self):\n",
    "        return len(self.__data)\n",
    "        \n",
    "    "
   ]
  },
  {
   "cell_type": "code",
   "execution_count": null,
   "id": "ceafceed",
   "metadata": {},
   "outputs": [],
   "source": []
  },
  {
   "cell_type": "code",
   "execution_count": 24,
   "id": "d36230d2",
   "metadata": {},
   "outputs": [],
   "source": [
    "s = Stack()\n",
    "s.push(5)\n",
    "s.push(6)\n",
    "s.push(9)\n",
    "s.push(10)\n"
   ]
  },
  {
   "cell_type": "code",
   "execution_count": 17,
   "id": "e8fdd4e5",
   "metadata": {},
   "outputs": [
    {
     "data": {
      "text/plain": [
       "10"
      ]
     },
     "execution_count": 17,
     "metadata": {},
     "output_type": "execute_result"
    }
   ],
   "source": [
    "s.top()"
   ]
  },
  {
   "cell_type": "code",
   "execution_count": 30,
   "id": "ebd1e19e",
   "metadata": {},
   "outputs": [],
   "source": [
    "while s.isEmpty is False:\n",
    "    print(s.pop())"
   ]
  },
  {
   "cell_type": "code",
   "execution_count": 26,
   "id": "21fe017e",
   "metadata": {},
   "outputs": [
    {
     "data": {
      "text/plain": [
       "10"
      ]
     },
     "execution_count": 26,
     "metadata": {},
     "output_type": "execute_result"
    }
   ],
   "source": [
    "s.pop()"
   ]
  },
  {
   "cell_type": "code",
   "execution_count": 27,
   "id": "cebf38c1",
   "metadata": {},
   "outputs": [
    {
     "data": {
      "text/plain": [
       "9"
      ]
     },
     "execution_count": 27,
     "metadata": {},
     "output_type": "execute_result"
    }
   ],
   "source": [
    "s.pop()"
   ]
  },
  {
   "cell_type": "markdown",
   "id": "02479037",
   "metadata": {},
   "source": [
    "## using LL"
   ]
  },
  {
   "cell_type": "code",
   "execution_count": 4,
   "id": "4c25d828",
   "metadata": {},
   "outputs": [],
   "source": [
    "class Node:\n",
    "    def __init__(self,data):\n",
    "        self.data = data\n",
    "        self.next = None\n",
    "\n",
    "class stack:\n",
    "    def __init__(self):\n",
    "        self.__head = None\n",
    "        self.__count = 0\n",
    "    def push(self,element):\n",
    "        newnode = Node(element)          ## idea is frst create node and then next as head \n",
    "        newnode.next = self.__head \n",
    "        self.__head = newnode\n",
    "        self.__count = self.__count + 1\n",
    "        \n",
    "        \n",
    "    def pop(self):\n",
    "        if self.isEmpty() is True:\n",
    "            print(\"Hey!Stack is Empty!\")\n",
    "            return\n",
    "        data=self.__head.data\n",
    "        self.__head=self.__head.next\n",
    "        self.__count=self.__count-1\n",
    "        return data\n",
    "\n",
    "        \n",
    "        \n",
    "    def top(self):\n",
    "        if self.isEmpty() is True:\n",
    "            print(\"Hey! Stack is Empty!\")\n",
    "            return\n",
    "        data=self.__head.data\n",
    "        return data\n",
    "    \n",
    "    \n",
    "    def size(self):\n",
    "        return self.__count\n",
    "    \n",
    "    def isEmpty(self):\n",
    "        return self.size() == 0\n",
    "        \n",
    "        "
   ]
  },
  {
   "cell_type": "code",
   "execution_count": 5,
   "id": "343a867c",
   "metadata": {},
   "outputs": [
    {
     "name": "stdout",
     "output_type": "stream",
     "text": [
      "15\n",
      "13\n",
      "12\n",
      "Hey! Stack is Empty!\n"
     ]
    }
   ],
   "source": [
    "s=stack()\n",
    "s.push(12)\n",
    "s.push(13)\n",
    "s.push(15)\n",
    "while s.isEmpty() is False:\n",
    "    print(s.pop())\n",
    "s.top()"
   ]
  },
  {
   "cell_type": "code",
   "execution_count": null,
   "id": "b556a6ab",
   "metadata": {},
   "outputs": [],
   "source": []
  },
  {
   "cell_type": "markdown",
   "id": "b56cdf8e",
   "metadata": {},
   "source": [
    "## Balanced Paranthesis"
   ]
  },
  {
   "cell_type": "code",
   "execution_count": 20,
   "id": "f4794114",
   "metadata": {},
   "outputs": [
    {
     "name": "stderr",
     "output_type": "stream",
     "text": [
      "<>:6: SyntaxWarning: \"is\" with a literal. Did you mean \"==\"?\n",
      "<>:11: SyntaxWarning: \"is\" with a literal. Did you mean \"==\"?\n",
      "<>:17: SyntaxWarning: \"is\" with a literal. Did you mean \"==\"?\n",
      "<>:6: SyntaxWarning: \"is\" with a literal. Did you mean \"==\"?\n",
      "<>:11: SyntaxWarning: \"is\" with a literal. Did you mean \"==\"?\n",
      "<>:17: SyntaxWarning: \"is\" with a literal. Did you mean \"==\"?\n",
      "C:\\Users\\richu\\AppData\\Local\\Temp/ipykernel_9740/2728453093.py:6: SyntaxWarning: \"is\" with a literal. Did you mean \"==\"?\n",
      "  elif i is ')':                    ## [1,2,3,4,5] -1 is 5 FILO - stack\n",
      "C:\\Users\\richu\\AppData\\Local\\Temp/ipykernel_9740/2728453093.py:11: SyntaxWarning: \"is\" with a literal. Did you mean \"==\"?\n",
      "  elif i is ']':\n",
      "C:\\Users\\richu\\AppData\\Local\\Temp/ipykernel_9740/2728453093.py:17: SyntaxWarning: \"is\" with a literal. Did you mean \"==\"?\n",
      "  elif i is '}':\n"
     ]
    }
   ],
   "source": [
    "def balpar(string):\n",
    "    a = []                          ## helps filtering \n",
    "    for i in string:\n",
    "        if i in '([{':       ## meaning if i is given\n",
    "            a.append(i)\n",
    "        elif i is ')':                    ## [1,2,3,4,5] -1 is 5 FILO - stack        \n",
    "            if (not a or a[-1] != '('):\n",
    "                return False\n",
    "            a.pop()\n",
    "                \n",
    "        elif i is ']':\n",
    "            if (not a or a[-1] != '['):\n",
    "                return False\n",
    "            a.pop()\n",
    "            \n",
    "            \n",
    "        elif i is '}':\n",
    "            if (not a or a[-1] != '{'):     \n",
    "                return False\n",
    "            a.pop()\n",
    "            \n",
    "    if not a:                                         ## meaning a is empty\n",
    "        return True\n",
    "    return False\n",
    "            \n",
    "            \n",
    "            "
   ]
  },
  {
   "cell_type": "code",
   "execution_count": 22,
   "id": "e1fefca5",
   "metadata": {},
   "outputs": [
    {
     "name": "stdout",
     "output_type": "stream",
     "text": [
      "{[2+4/2]}\n",
      "True\n"
     ]
    }
   ],
   "source": [
    "string = input()      ## mere warning easy but should understand\n",
    "s = balpar(string)\n",
    "print(s)\n"
   ]
  },
  {
   "cell_type": "code",
   "execution_count": null,
   "id": "51f56462",
   "metadata": {},
   "outputs": [],
   "source": []
  },
  {
   "cell_type": "markdown",
   "id": "b559c71f",
   "metadata": {},
   "source": [
    "## Exercise"
   ]
  },
  {
   "cell_type": "code",
   "execution_count": null,
   "id": "7acc01c4",
   "metadata": {},
   "outputs": [],
   "source": [
    "## redundancy check"
   ]
  },
  {
   "cell_type": "code",
   "execution_count": null,
   "id": "5c697ef2",
   "metadata": {},
   "outputs": [],
   "source": []
  },
  {
   "cell_type": "code",
   "execution_count": null,
   "id": "1bc99426",
   "metadata": {},
   "outputs": [],
   "source": []
  },
  {
   "cell_type": "code",
   "execution_count": null,
   "id": "ff7ee65f",
   "metadata": {},
   "outputs": [],
   "source": []
  },
  {
   "cell_type": "code",
   "execution_count": null,
   "id": "4b313afc",
   "metadata": {},
   "outputs": [],
   "source": []
  },
  {
   "cell_type": "code",
   "execution_count": null,
   "id": "c0f62b6a",
   "metadata": {},
   "outputs": [],
   "source": []
  },
  {
   "cell_type": "code",
   "execution_count": null,
   "id": "2269453a",
   "metadata": {},
   "outputs": [],
   "source": []
  },
  {
   "cell_type": "code",
   "execution_count": null,
   "id": "f50f5187",
   "metadata": {},
   "outputs": [],
   "source": []
  },
  {
   "cell_type": "code",
   "execution_count": null,
   "id": "033a1b8a",
   "metadata": {},
   "outputs": [],
   "source": []
  },
  {
   "cell_type": "code",
   "execution_count": null,
   "id": "141ffe66",
   "metadata": {},
   "outputs": [],
   "source": []
  },
  {
   "cell_type": "code",
   "execution_count": null,
   "id": "b7a19e06",
   "metadata": {},
   "outputs": [],
   "source": []
  },
  {
   "cell_type": "code",
   "execution_count": null,
   "id": "f1805d2b",
   "metadata": {},
   "outputs": [],
   "source": []
  }
 ],
 "metadata": {
  "kernelspec": {
   "display_name": "Python 3 (ipykernel)",
   "language": "python",
   "name": "python3"
  },
  "language_info": {
   "codemirror_mode": {
    "name": "ipython",
    "version": 3
   },
   "file_extension": ".py",
   "mimetype": "text/x-python",
   "name": "python",
   "nbconvert_exporter": "python",
   "pygments_lexer": "ipython3",
   "version": "3.9.7"
  }
 },
 "nbformat": 4,
 "nbformat_minor": 5
}
