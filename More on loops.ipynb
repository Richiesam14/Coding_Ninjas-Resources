{
 "cells": [
  {
   "cell_type": "markdown",
   "id": "875b9093",
   "metadata": {},
   "source": [
    "## Basic FOR loop"
   ]
  },
  {
   "cell_type": "code",
   "execution_count": 22,
   "id": "27472760",
   "metadata": {},
   "outputs": [
    {
     "name": "stdout",
     "output_type": "stream",
     "text": [
      "4\n",
      "0\n",
      "1\n",
      "2\n",
      "3\n",
      "4\n"
     ]
    }
   ],
   "source": [
    "n = int(input())\n",
    "for i in range (n+1): ## start , stop, stryde \n",
    "    print(i)"
   ]
  },
  {
   "cell_type": "code",
   "execution_count": 16,
   "id": "fcabaaf3",
   "metadata": {},
   "outputs": [
    {
     "name": "stdout",
     "output_type": "stream",
     "text": [
      "A\n",
      "B\n",
      "C\n",
      "D\n",
      "E\n"
     ]
    }
   ],
   "source": [
    "n = \"ABCDE\"\n",
    "for i in n:\n",
    "    print(i)"
   ]
  },
  {
   "cell_type": "code",
   "execution_count": 29,
   "id": "10fca015",
   "metadata": {},
   "outputs": [
    {
     "name": "stdout",
     "output_type": "stream",
     "text": [
      "5\n",
      "5\n",
      "4\n",
      "3\n",
      "2\n",
      "1\n"
     ]
    }
   ],
   "source": [
    "## PRINT FROM N TO 1\n",
    "n = int(input())\n",
    "for i in range(n,0,-1):          ## start , stop, stryde - 3 arguments\n",
    "    print(i)                      ##start , stop , 1 -default - 2 arguments\n",
    "                              ## 0 , stop , 1 - 1 argument"
   ]
  },
  {
   "cell_type": "code",
   "execution_count": 4,
   "id": "eabf752d",
   "metadata": {},
   "outputs": [
    {
     "name": "stdout",
     "output_type": "stream",
     "text": [
      "4\n",
      "15\n",
      "4\n",
      "5\n",
      "6\n",
      "7\n",
      "8\n",
      "9\n",
      "10\n",
      "11\n",
      "12\n",
      "13\n",
      "14\n",
      "15\n"
     ]
    }
   ],
   "source": [
    "a = int(input())\n",
    "b = int(input())\n",
    "for i in range (a,b+1,1):\n",
    "    print(i)"
   ]
  },
  {
   "cell_type": "code",
   "execution_count": 2,
   "id": "0c653ded",
   "metadata": {},
   "outputs": [
    {
     "name": "stdout",
     "output_type": "stream",
     "text": [
      "5\n",
      "30\n",
      "5\n",
      "10\n",
      "15\n",
      "20\n",
      "25\n",
      "30\n"
     ]
    }
   ],
   "source": [
    "a = int(input())\n",
    "b = int(input())\n",
    "for i in range (a,b+1,1):\n",
    "    if i % 5 == 0:\n",
    "        print(i)\n",
    "    "
   ]
  },
  {
   "cell_type": "code",
   "execution_count": 11,
   "id": "b824dda3",
   "metadata": {},
   "outputs": [
    {
     "name": "stdout",
     "output_type": "stream",
     "text": [
      "4\n",
      "55\n",
      "6\n",
      "9\n",
      "12\n",
      "15\n",
      "18\n",
      "21\n",
      "24\n",
      "27\n",
      "30\n",
      "33\n",
      "36\n",
      "39\n",
      "42\n",
      "45\n",
      "48\n",
      "51\n",
      "54\n"
     ]
    }
   ],
   "source": [
    "a = int(input())\n",
    "b = int(input())\n",
    "if a % 3 == 0:\n",
    "    s = a\n",
    "elif a % 3 == 2:\n",
    "    s = a + 1\n",
    "else:\n",
    "    s = a+2\n",
    "for i in range(s,b+1,3):\n",
    "    print(i)"
   ]
  },
  {
   "cell_type": "code",
   "execution_count": 10,
   "id": "baaa72f2",
   "metadata": {},
   "outputs": [
    {
     "name": "stdout",
     "output_type": "stream",
     "text": [
      "2\n"
     ]
    }
   ],
   "source": [
    "a = 5\n",
    "print(a % 3)"
   ]
  },
  {
   "cell_type": "markdown",
   "id": "1cf0bcbb",
   "metadata": {},
   "source": [
    "## Prime"
   ]
  },
  {
   "cell_type": "code",
   "execution_count": 26,
   "id": "9fc2168e",
   "metadata": {},
   "outputs": [
    {
     "name": "stdout",
     "output_type": "stream",
     "text": [
      "17\n",
      "Prime\n"
     ]
    }
   ],
   "source": [
    "a = int(input())\n",
    "flag = False\n",
    "for i in range(2,a,1):\n",
    "    if a % i == 0:\n",
    "        flag = True\n",
    "if flag:\n",
    "    print(\"not prime\")\n",
    "else:\n",
    "    print(\"Prime\")\n",
    "    "
   ]
  },
  {
   "cell_type": "markdown",
   "id": "724549c9",
   "metadata": {},
   "source": [
    "## pattern"
   ]
  },
  {
   "cell_type": "code",
   "execution_count": 48,
   "id": "b6aaeecb",
   "metadata": {},
   "outputs": [
    {
     "name": "stdout",
     "output_type": "stream",
     "text": [
      "4\n",
      "   1\n",
      "  232\n",
      " 34543\n",
      "4567654\n"
     ]
    }
   ],
   "source": [
    "n = int(input())\n",
    "for i in range (1,n+1,1):\n",
    "    for j in range(n-i):\n",
    "        print(\" \", end = \"\")\n",
    "    for s in range(i,2*i,1):       #2i\n",
    "        print(s , end = \"\")\n",
    "    for h in range(2*i-2,i-1,-1):   #2i-2 ,i-1 here i-1 defines to (n)4-1=3 but though it decrements,i becomes 5 increment is 3 \n",
    "        print(h, end =\"\")\n",
    "    print()"
   ]
  },
  {
   "cell_type": "markdown",
   "id": "a66b5579",
   "metadata": {},
   "source": [
    "## Break"
   ]
  },
  {
   "cell_type": "code",
   "execution_count": 6,
   "id": "07d1aa82",
   "metadata": {},
   "outputs": [
    {
     "name": "stdout",
     "output_type": "stream",
     "text": [
      "1\n",
      "2\n",
      "3\n",
      "4\n"
     ]
    }
   ],
   "source": [
    "for i in range(1,9,1):\n",
    "    if i == 5:\n",
    "        break\n",
    "    print(i)"
   ]
  },
  {
   "cell_type": "code",
   "execution_count": 5,
   "id": "7eac50fd",
   "metadata": {},
   "outputs": [
    {
     "name": "stdout",
     "output_type": "stream",
     "text": [
      "7754123\n",
      "not prime\n"
     ]
    }
   ],
   "source": [
    "n = int(input())\n",
    "flag = False\n",
    "for i in range(2,n,1):\n",
    "    if n % i == 0:\n",
    "        flag = True\n",
    "        break\n",
    "if flag:\n",
    "    print(\"not prime\")\n",
    "else:\n",
    "    print(\"Prime\")\n",
    "    "
   ]
  },
  {
   "cell_type": "markdown",
   "id": "e150e492",
   "metadata": {},
   "source": [
    "## prime nos from 2 to n"
   ]
  },
  {
   "cell_type": "code",
   "execution_count": 17,
   "id": "296b1244",
   "metadata": {},
   "outputs": [
    {
     "name": "stdout",
     "output_type": "stream",
     "text": [
      "17\n",
      "2\n",
      "3\n",
      "5\n",
      "7\n",
      "11\n",
      "13\n",
      "17\n"
     ]
    }
   ],
   "source": [
    "n = int(input())\n",
    "j = 2 \n",
    "while n >= j:\n",
    "    flag = False\n",
    "    k = 2\n",
    "    while k < j :\n",
    "        if j % k == 0:\n",
    "            flag = True\n",
    "            break\n",
    "        k+=1\n",
    "    if (not(flag)):\n",
    "        print(j)\n",
    "    j+=1"
   ]
  },
  {
   "cell_type": "markdown",
   "id": "cb9aab37",
   "metadata": {},
   "source": [
    "## Else"
   ]
  },
  {
   "cell_type": "code",
   "execution_count": 19,
   "id": "59b3aaae",
   "metadata": {},
   "outputs": [
    {
     "name": "stdout",
     "output_type": "stream",
     "text": [
      "0\n",
      "1\n",
      "2\n",
      "3\n",
      "4\n",
      "5\n",
      "6\n",
      "7\n",
      "8\n",
      "lmao\n"
     ]
    }
   ],
   "source": [
    "for i in range(9):\n",
    "    print(i)\n",
    "else :\n",
    "    print(\"lmao\")"
   ]
  },
  {
   "cell_type": "markdown",
   "id": "f6e795b8",
   "metadata": {},
   "source": [
    "## \"continue\" - skip something in loop"
   ]
  },
  {
   "cell_type": "code",
   "execution_count": 6,
   "id": "773331a5",
   "metadata": {},
   "outputs": [
    {
     "name": "stdout",
     "output_type": "stream",
     "text": [
      "1\n",
      "2\n",
      "3\n",
      "4\n",
      "5\n",
      "6\n",
      "7\n",
      "8\n",
      "9\n",
      "10\n",
      "11\n",
      "12\n",
      "13\n",
      "14\n",
      "15\n",
      "16\n",
      "17\n",
      "18\n",
      "19\n",
      "21\n",
      "22\n",
      "23\n"
     ]
    }
   ],
   "source": [
    "for i in range(1,24,1):\n",
    "    if i == 20:\n",
    "        continue\n",
    "    print(i)"
   ]
  },
  {
   "cell_type": "code",
   "execution_count": 7,
   "id": "c17de17b",
   "metadata": {},
   "outputs": [
    {
     "name": "stdout",
     "output_type": "stream",
     "text": [
      "17\n",
      "1\n",
      "3\n",
      "5\n",
      "7\n",
      "9\n",
      "11\n",
      "13\n",
      "15\n",
      "17\n"
     ]
    }
   ],
   "source": [
    "n = int(input())\n",
    "for i in range(1,n+1,1):\n",
    "    if i % 2 == 0:\n",
    "        continue            #skip 2 multiple nos\n",
    "    print(i)"
   ]
  },
  {
   "cell_type": "code",
   "execution_count": 8,
   "id": "d069a7eb",
   "metadata": {},
   "outputs": [
    {
     "name": "stdout",
     "output_type": "stream",
     "text": [
      "13\n",
      "1\n",
      "1\n",
      "2\n",
      "3\n",
      "3\n",
      "4\n",
      "5\n",
      "5\n",
      "6\n",
      "7\n",
      "7\n",
      "8\n",
      "9\n",
      "9\n",
      "10\n",
      "11\n",
      "11\n",
      "12\n",
      "13\n",
      "13\n"
     ]
    }
   ],
   "source": [
    "n = int(input())\n",
    "for i in range(1,n+1,1):\n",
    "    print(i)\n",
    "    if i % 2 == 0:\n",
    "        continue            #skip 2 multiple nos\n",
    "    print(i)"
   ]
  },
  {
   "cell_type": "markdown",
   "id": "9cbad694",
   "metadata": {},
   "source": [
    "## Pass - skip / revoke the loop"
   ]
  },
  {
   "cell_type": "code",
   "execution_count": 10,
   "id": "5b1e8b65",
   "metadata": {},
   "outputs": [
    {
     "name": "stdout",
     "output_type": "stream",
     "text": [
      "hello\n"
     ]
    }
   ],
   "source": [
    "if i <= 3:\n",
    "    pass\n",
    "print(\"hello\")"
   ]
  },
  {
   "cell_type": "code",
   "execution_count": 11,
   "id": "6bff8d7f",
   "metadata": {},
   "outputs": [
    {
     "name": "stdout",
     "output_type": "stream",
     "text": [
      "Hello end\n"
     ]
    }
   ],
   "source": [
    "for i in range(5):\n",
    "    pass\n",
    "print(\"Hello end\")"
   ]
  },
  {
   "cell_type": "code",
   "execution_count": 12,
   "id": "c2de4fac",
   "metadata": {},
   "outputs": [
    {
     "name": "stdout",
     "output_type": "stream",
     "text": [
      "empty\n"
     ]
    }
   ],
   "source": [
    "i=1\n",
    "while i <= 3:\n",
    "    i+=1\n",
    "    pass\n",
    "print(\"empty\")"
   ]
  },
  {
   "cell_type": "markdown",
   "id": "9412a182",
   "metadata": {},
   "source": [
    "## Ex - Binary pattern"
   ]
  },
  {
   "cell_type": "code",
   "execution_count": 2,
   "id": "0a00eae0",
   "metadata": {},
   "outputs": [
    {
     "name": "stdout",
     "output_type": "stream",
     "text": [
      "5\n",
      "11111\n",
      "0000\n",
      "111\n",
      "00\n",
      "1\n",
      "\n",
      "\n",
      "\n",
      "\n",
      "\n"
     ]
    }
   ],
   "source": [
    "n=int(input())                   ## easy though\n",
    "for i in range(1,n+1):\n",
    "    for l in range(n+2-2*i,0,-1): ## note this gonna allocate spaces frm 54321 to 1 by dec 1 and stops bef 0 and can print any\n",
    "        print(1,end=\"\")\n",
    "    print()\n",
    "    for j in range (n+1-2*i,0,-1):\n",
    "        print(0,end=\"\")\n",
    "    print()"
   ]
  },
  {
   "cell_type": "markdown",
   "id": "3c646bbf",
   "metadata": {},
   "source": [
    "## pyramid"
   ]
  },
  {
   "cell_type": "code",
   "execution_count": 5,
   "id": "8b23e5cc",
   "metadata": {},
   "outputs": [
    {
     "name": "stdout",
     "output_type": "stream",
     "text": [
      "4\n",
      "1234\n",
      " 234\n",
      "  34\n",
      "   4\n",
      "  34\n",
      " 234\n",
      "1234\n"
     ]
    }
   ],
   "source": [
    "n=int(input())\n",
    "for i in range(1,n+1):\n",
    "    for j in range(1,i):      ## print space start 1 stop i revoke it - butter easy conc\n",
    "        print(\" \",end=\"\")\n",
    "    for l in range(i,n+1):\n",
    "        print(l,end=\"\")   \n",
    "    print()                          ## if not get the hold of code split down from here\n",
    "for a in range(1,n):\n",
    "    for s in range(n-1-a,0,-1):\n",
    "        print(\" \",end=\"\")\n",
    "    for k in range(n-a,n+1):\n",
    "        print(k,end=\"\")\n",
    "    print()"
   ]
  },
  {
   "cell_type": "markdown",
   "id": "3ec4ba13",
   "metadata": {},
   "source": [
    "## Diamond using 'For'"
   ]
  },
  {
   "cell_type": "code",
   "execution_count": 25,
   "id": "b8626434",
   "metadata": {
    "scrolled": true
   },
   "outputs": [
    {
     "name": "stdout",
     "output_type": "stream",
     "text": [
      "5\n",
      "  *\n",
      " ***\n",
      "*****\n"
     ]
    }
   ],
   "source": [
    "## first half \n",
    "n=int(input())\n",
    "n1=(n//2)+1  ## n1 = 2 + 1 =3\n",
    "for i in range(1,n1+1):\n",
    "    for j in range(1,n1-i+1):    ## no that tough understand the 'for loop' flow\n",
    "        print(\" \",end=\"\")\n",
    "    for j in range(1,2*i):\n",
    "        print(\"*\",end=\"\")\n",
    "    print()  "
   ]
  },
  {
   "cell_type": "code",
   "execution_count": 26,
   "id": "5ae96c36",
   "metadata": {},
   "outputs": [
    {
     "name": "stdout",
     "output_type": "stream",
     "text": [
      "5\n",
      "  *\n",
      " ***\n",
      "*****\n",
      " ***\n",
      "  *\n"
     ]
    }
   ],
   "source": [
    "n=int(input())\n",
    "n1=(n//2)+1                ## n1 = 2 + 1 =3\n",
    "for i in range(1,n1+1):\n",
    "    for j in range(1,n1-i+1):                   \n",
    "        print(\" \",end=\"\")               ## can grab with ease\n",
    "    for j in range(1,2*i):\n",
    "        print(\"*\",end=\"\")\n",
    "    print()\n",
    "n2=n-n1                          ## splitting 2nd half\n",
    "for i in range(n2,0,-1):\n",
    "    for j in range(1,n1-i+1):\n",
    "        print(\" \",end=\"\")\n",
    "    for j in range(1,2*i):\n",
    "        print(\"*\",end=\"\")\n",
    "    print()"
   ]
  },
  {
   "cell_type": "markdown",
   "id": "0b6280d6",
   "metadata": {},
   "source": [
    "## pattern"
   ]
  },
  {
   "cell_type": "code",
   "execution_count": 27,
   "id": "7520482c",
   "metadata": {},
   "outputs": [
    {
     "name": "stdout",
     "output_type": "stream",
     "text": [
      "4\n",
      "1 2 3 4 \n",
      "9 10 11 12 \n",
      "13 14 15 16 \n",
      "5 6 7 8 \n"
     ]
    }
   ],
   "source": [
    "n=int(input())\n",
    "startvalue=1                                   ## not understood\n",
    "for i in range(1,n+1):\n",
    "    for j in range(startvalue,startvalue+n):\n",
    "        print(j,end=\" \")\n",
    "    print()\n",
    "    if i==(n+1)//2:\n",
    "        if n%2!=0:\n",
    "            startvalue=n*(n-2)+1\n",
    "        else:\n",
    "            startvalue=n*(n-1)+1\n",
    "    elif i>(n+1)//2:\n",
    "        startvalue=startvalue-2*n\n",
    "    else:\n",
    "        startvalue=startvalue+2*n"
   ]
  },
  {
   "cell_type": "markdown",
   "id": "9b3cc600",
   "metadata": {},
   "source": [
    "## rectangular numbers"
   ]
  },
  {
   "cell_type": "code",
   "execution_count": 29,
   "id": "58bdff1c",
   "metadata": {},
   "outputs": [
    {
     "name": "stdout",
     "output_type": "stream",
     "text": [
      "4\n",
      "4444444\n",
      "4333334\n",
      "4322234\n",
      "4321234\n",
      "4322234\n",
      "4333334\n",
      "4444444\n"
     ]
    }
   ],
   "source": [
    "n=int(input())\n",
    "pattern_1=n\n",
    "\n",
    "for i in range (1,n+1):                          ## didn't catch it\n",
    "    pattern_3 = n                                  ## has to learn\n",
    "    for k in range(1,i):\n",
    "        print(pattern_3,end=\"\")\n",
    "        pattern_3-=1\n",
    "    for j in range (1,2*n+2-2*i):\n",
    "        print(pattern_1,end=\"\")\n",
    "    pattern_1 -= 1\n",
    "\n",
    "    for l in range (1,i):\n",
    "        pattern_3+=1\n",
    "        print(pattern_3,end=\"\")\n",
    "    print(\"\")\n",
    "\n",
    "\n",
    "pattern_1=2\n",
    "\n",
    "for i in range (n,1,-1):\n",
    "    pattern_3 = n\n",
    "    for k in range(1,i):\n",
    "        print(pattern_3,end=\"\")\n",
    "        pattern_3-=1\n",
    "    for j in range (1,2*n+2-2*i):\n",
    "        print(pattern_1,end=\"\")\n",
    "    pattern_1+= 1\n",
    "\n",
    "    for l in range (1,i):\n",
    "        pattern_3+=1\n",
    "        print(pattern_3,end=\"\")\n",
    "    print(\"\")"
   ]
  },
  {
   "cell_type": "code",
   "execution_count": 31,
   "id": "2ba0d13f",
   "metadata": {},
   "outputs": [
    {
     "name": "stdout",
     "output_type": "stream",
     "text": [
      "4\n",
      "4444444\n",
      "4333334\n",
      "4322234\n",
      "4321234\n"
     ]
    }
   ],
   "source": [
    "n=int(input())\n",
    "pattern_1=n\n",
    "\n",
    "for i in range (1,n+1):                          ## didn't catch it\n",
    "    pattern_3 = n                                  ## has to learn\n",
    "    for k in range(1,i):\n",
    "        print(pattern_3,end=\"\")\n",
    "        pattern_3-=1\n",
    "    for j in range (1,2*n+2-2*i):\n",
    "        print(pattern_1,end=\"\")\n",
    "    pattern_1 -= 1\n",
    "\n",
    "    for l in range (1,i):\n",
    "        pattern_3+=1\n",
    "        print(pattern_3,end=\"\")\n",
    "    print(\"\")\n"
   ]
  },
  {
   "cell_type": "code",
   "execution_count": 30,
   "id": "e3b7c0e7",
   "metadata": {},
   "outputs": [
    {
     "name": "stdout",
     "output_type": "stream",
     "text": [
      "4\n",
      "4444444\n",
      "4333334\n",
      "4322234\n",
      "4321234\n",
      "4322234\n",
      "4333334\n",
      "4444444\n"
     ]
    }
   ],
   "source": [
    "## alter\n",
    "n = int(input())\n",
    "for i in range(1,n+1):\n",
    "    temp = n\n",
    "    for j in range(1,i):\n",
    "        print(temp,end=\"\")\n",
    "        temp = temp -1\n",
    "    for j in range(1,(2*n) - (2*i) + 2):\n",
    "        print(n-i+1,end=\"\")\n",
    "    for j in range(1,i):\n",
    "        temp = temp+1\n",
    "        print(temp,end=\"\")\n",
    "    print()\n",
    "for i in range(n-1,0,-1):\n",
    "    temp = n\n",
    "    for j in range(1,i):\n",
    "        print(temp,end=\"\")\n",
    "        temp = temp - 1 \n",
    "    for j in range(1,(2*n) - (2*i) + 2):\n",
    "        print(n-i+1,end=\"\")\n",
    "    for j in range(1,i):\n",
    "        temp = temp+1\n",
    "        print(temp,end=\"\")\n",
    "    print()"
   ]
  },
  {
   "cell_type": "code",
   "execution_count": null,
   "id": "e5bdc0a7",
   "metadata": {},
   "outputs": [],
   "source": []
  },
  {
   "cell_type": "code",
   "execution_count": null,
   "id": "46b5c73e",
   "metadata": {},
   "outputs": [],
   "source": []
  }
 ],
 "metadata": {
  "kernelspec": {
   "display_name": "Python 3 (ipykernel)",
   "language": "python",
   "name": "python3"
  },
  "language_info": {
   "codemirror_mode": {
    "name": "ipython",
    "version": 3
   },
   "file_extension": ".py",
   "mimetype": "text/x-python",
   "name": "python",
   "nbconvert_exporter": "python",
   "pygments_lexer": "ipython3",
   "version": "3.9.7"
  }
 },
 "nbformat": 4,
 "nbformat_minor": 5
}
