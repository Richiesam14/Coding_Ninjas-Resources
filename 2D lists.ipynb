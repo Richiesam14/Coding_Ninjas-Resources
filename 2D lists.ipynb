{
 "cells": [
  {
   "cell_type": "markdown",
   "id": "2313dc8f",
   "metadata": {},
   "source": [
    "## Intro to 2D list"
   ]
  },
  {
   "cell_type": "code",
   "execution_count": 2,
   "id": "0b4ab8c5",
   "metadata": {},
   "outputs": [
    {
     "name": "stdout",
     "output_type": "stream",
     "text": [
      "1\n"
     ]
    }
   ],
   "source": [
    "s = [[4,2,1,6],[7,2,3,4],[11,9,6,1],46,8,2,22]\n",
    "print(s[2][3])"
   ]
  },
  {
   "cell_type": "code",
   "execution_count": 3,
   "id": "8d2d0577",
   "metadata": {},
   "outputs": [
    {
     "name": "stdout",
     "output_type": "stream",
     "text": [
      "4\n"
     ]
    }
   ],
   "source": [
    "s = [[4,2,1,6],[7,2,3,4],[11,9,6,1],46,8,2,22]\n",
    "print(s[1][3])"
   ]
  },
  {
   "cell_type": "markdown",
   "id": "e3f7349d",
   "metadata": {},
   "source": [
    "## storing of 2d list"
   ]
  },
  {
   "cell_type": "code",
   "execution_count": 13,
   "id": "68e6317f",
   "metadata": {},
   "outputs": [],
   "source": [
    "i = [1,5,6,7],[9,2,5,12]\n"
   ]
  },
  {
   "cell_type": "code",
   "execution_count": 6,
   "id": "d6e42244",
   "metadata": {},
   "outputs": [],
   "source": [
    "i[1][0] = 2"
   ]
  },
  {
   "cell_type": "code",
   "execution_count": 7,
   "id": "726d7f5f",
   "metadata": {},
   "outputs": [
    {
     "data": {
      "text/plain": [
       "([1, 5, 6, 7], [2, 2, 5, 12])"
      ]
     },
     "execution_count": 7,
     "metadata": {},
     "output_type": "execute_result"
    }
   ],
   "source": [
    "i"
   ]
  },
  {
   "cell_type": "code",
   "execution_count": 8,
   "id": "af0b5671",
   "metadata": {},
   "outputs": [],
   "source": [
    "i[1][0] = \"ciao\""
   ]
  },
  {
   "cell_type": "code",
   "execution_count": 9,
   "id": "64fd6fa2",
   "metadata": {},
   "outputs": [
    {
     "data": {
      "text/plain": [
       "([1, 5, 6, 7], ['ciao', 2, 5, 12])"
      ]
     },
     "execution_count": 9,
     "metadata": {},
     "output_type": "execute_result"
    }
   ],
   "source": [
    "i"
   ]
  },
  {
   "cell_type": "code",
   "execution_count": 10,
   "id": "d1465aa7",
   "metadata": {},
   "outputs": [
    {
     "data": {
      "text/plain": [
       "2669373731840"
      ]
     },
     "execution_count": 10,
     "metadata": {},
     "output_type": "execute_result"
    }
   ],
   "source": [
    "id(i[0])"
   ]
  },
  {
   "cell_type": "code",
   "execution_count": 11,
   "id": "040f6aaf",
   "metadata": {},
   "outputs": [
    {
     "data": {
      "text/plain": [
       "2669373732352"
      ]
     },
     "execution_count": 11,
     "metadata": {},
     "output_type": "execute_result"
    }
   ],
   "source": [
    "id(i[1])"
   ]
  },
  {
   "cell_type": "code",
   "execution_count": 16,
   "id": "2c7394c5",
   "metadata": {},
   "outputs": [],
   "source": [
    "i = [[1,5,6,7],[9,2,5,12]]\n"
   ]
  },
  {
   "cell_type": "code",
   "execution_count": 17,
   "id": "9a05830f",
   "metadata": {},
   "outputs": [],
   "source": [
    "i[1] = \"asy\""
   ]
  },
  {
   "cell_type": "code",
   "execution_count": 18,
   "id": "f15436c1",
   "metadata": {},
   "outputs": [
    {
     "data": {
      "text/plain": [
       "[[1, 5, 6, 7], 'asy']"
      ]
     },
     "execution_count": 18,
     "metadata": {},
     "output_type": "execute_result"
    }
   ],
   "source": [
    "i"
   ]
  },
  {
   "cell_type": "markdown",
   "id": "65e9b154",
   "metadata": {},
   "source": [
    "## Jagged list"
   ]
  },
  {
   "cell_type": "code",
   "execution_count": 1,
   "id": "ed2f5a6f",
   "metadata": {},
   "outputs": [],
   "source": [
    "li = [[1,5,6,7],[9,2,5,12],[5,6,8],[2,1]]"
   ]
  },
  {
   "cell_type": "code",
   "execution_count": 2,
   "id": "27798714",
   "metadata": {},
   "outputs": [
    {
     "data": {
      "text/plain": [
       "6"
      ]
     },
     "execution_count": 2,
     "metadata": {},
     "output_type": "execute_result"
    }
   ],
   "source": [
    "li[2][1]"
   ]
  },
  {
   "cell_type": "code",
   "execution_count": 3,
   "id": "772d4652",
   "metadata": {},
   "outputs": [
    {
     "data": {
      "text/plain": [
       "[5, 6, 8]"
      ]
     },
     "execution_count": 3,
     "metadata": {},
     "output_type": "execute_result"
    }
   ],
   "source": [
    "li[2]"
   ]
  },
  {
   "cell_type": "markdown",
   "id": "6da6cca0",
   "metadata": {},
   "source": [
    "## List comprehension "
   ]
  },
  {
   "cell_type": "code",
   "execution_count": null,
   "id": "a42f4d8b",
   "metadata": {},
   "outputs": [],
   "source": []
  },
  {
   "cell_type": "code",
   "execution_count": 5,
   "id": "9fdaf3d8",
   "metadata": {},
   "outputs": [
    {
     "name": "stdout",
     "output_type": "stream",
     "text": [
      "[1, 4, 9, 16]\n"
     ]
    }
   ],
   "source": [
    "h = [1,2,3,4]\n",
    "new = []\n",
    "for i in h:\n",
    "    new.append(i**2)\n",
    "print(new)"
   ]
  },
  {
   "cell_type": "code",
   "execution_count": null,
   "id": "967565a6",
   "metadata": {},
   "outputs": [],
   "source": []
  },
  {
   "cell_type": "code",
   "execution_count": 7,
   "id": "2079d2f9",
   "metadata": {},
   "outputs": [],
   "source": [
    "j = [f**2 for f in h]  ## the result frst f**2"
   ]
  },
  {
   "cell_type": "code",
   "execution_count": 8,
   "id": "21aef2a3",
   "metadata": {},
   "outputs": [
    {
     "data": {
      "text/plain": [
       "[1, 4, 9, 16]"
      ]
     },
     "execution_count": 8,
     "metadata": {},
     "output_type": "execute_result"
    }
   ],
   "source": [
    "j"
   ]
  },
  {
   "cell_type": "code",
   "execution_count": 11,
   "id": "93da312b",
   "metadata": {},
   "outputs": [],
   "source": [
    "j = [f**2 for f in h if f % 2 == 0]"
   ]
  },
  {
   "cell_type": "code",
   "execution_count": 12,
   "id": "257975ce",
   "metadata": {},
   "outputs": [
    {
     "data": {
      "text/plain": [
       "[4, 16]"
      ]
     },
     "execution_count": 12,
     "metadata": {},
     "output_type": "execute_result"
    }
   ],
   "source": [
    "j"
   ]
  },
  {
   "cell_type": "code",
   "execution_count": 2,
   "id": "6c06834a",
   "metadata": {},
   "outputs": [],
   "source": [
    "h = [4,5,2,1]\n",
    "new1 = []\n",
    "for n in h:\n",
    "    if n % 2 ==0:\n",
    "        new1.append(n**2)"
   ]
  },
  {
   "cell_type": "code",
   "execution_count": 5,
   "id": "bdb2ebb0",
   "metadata": {},
   "outputs": [
    {
     "data": {
      "text/plain": [
       "[16, 4]"
      ]
     },
     "execution_count": 5,
     "metadata": {},
     "output_type": "execute_result"
    }
   ],
   "source": [
    "new1"
   ]
  },
  {
   "cell_type": "markdown",
   "id": "dda126be",
   "metadata": {},
   "source": [
    "## common no"
   ]
  },
  {
   "cell_type": "code",
   "execution_count": 7,
   "id": "07de42f3",
   "metadata": {},
   "outputs": [],
   "source": [
    "a = [1,2,5,9,13]\n",
    "b = [3,4,8,7,9]\n",
    "new_one = []\n",
    "for i in a:\n",
    "    for r in b:\n",
    "        if i == r:\n",
    "            new_one.append(i)"
   ]
  },
  {
   "cell_type": "code",
   "execution_count": 9,
   "id": "5b0dbe56",
   "metadata": {},
   "outputs": [
    {
     "data": {
      "text/plain": [
       "[9]"
      ]
     },
     "execution_count": 9,
     "metadata": {},
     "output_type": "execute_result"
    }
   ],
   "source": [
    "new_one"
   ]
  },
  {
   "cell_type": "code",
   "execution_count": 10,
   "id": "3bcc1a7e",
   "metadata": {},
   "outputs": [],
   "source": [
    "a = [1,2,5,9,13]\n",
    "b = [3,4,8,7,9]\n",
    "j = [f for f in a for h in b if f == h]"
   ]
  },
  {
   "cell_type": "code",
   "execution_count": 11,
   "id": "b11d807c",
   "metadata": {},
   "outputs": [
    {
     "data": {
      "text/plain": [
       "[9]"
      ]
     },
     "execution_count": 11,
     "metadata": {},
     "output_type": "execute_result"
    }
   ],
   "source": [
    "j"
   ]
  },
  {
   "cell_type": "code",
   "execution_count": 14,
   "id": "35b0ff3b",
   "metadata": {},
   "outputs": [],
   "source": [
    "c = \"chinmaya\"\n",
    "d = [i for i in c]"
   ]
  },
  {
   "cell_type": "code",
   "execution_count": 16,
   "id": "1919cb95",
   "metadata": {},
   "outputs": [
    {
     "data": {
      "text/plain": [
       "['c', 'h', 'i', 'n', 'm', 'a', 'y', 'a']"
      ]
     },
     "execution_count": 16,
     "metadata": {},
     "output_type": "execute_result"
    }
   ],
   "source": [
    "d"
   ]
  },
  {
   "cell_type": "code",
   "execution_count": 17,
   "id": "9e35bcb3",
   "metadata": {},
   "outputs": [],
   "source": [
    "c = [\"chinmaya\"]\n",
    "d = [i for i in c]"
   ]
  },
  {
   "cell_type": "code",
   "execution_count": 18,
   "id": "c1602341",
   "metadata": {},
   "outputs": [
    {
     "data": {
      "text/plain": [
       "['chinmaya']"
      ]
     },
     "execution_count": 18,
     "metadata": {},
     "output_type": "execute_result"
    }
   ],
   "source": [
    "d"
   ]
  },
  {
   "cell_type": "code",
   "execution_count": 22,
   "id": "b6b018ed",
   "metadata": {},
   "outputs": [],
   "source": [
    "c = [\"chinmaya\",\"jio\",\"noki\"]\n",
    "d = [[j for j in i] for i in c]"
   ]
  },
  {
   "cell_type": "code",
   "execution_count": 20,
   "id": "f662b4de",
   "metadata": {},
   "outputs": [
    {
     "data": {
      "text/plain": [
       "[['c', 'h', 'i', 'n', 'm', 'a', 'y', 'a'],\n",
       " ['j', 'i', 'o'],\n",
       " ['n', 'o', 'k', 'i']]"
      ]
     },
     "execution_count": 20,
     "metadata": {},
     "output_type": "execute_result"
    }
   ],
   "source": [
    "d"
   ]
  },
  {
   "cell_type": "code",
   "execution_count": 23,
   "id": "345a555f",
   "metadata": {},
   "outputs": [
    {
     "name": "stdout",
     "output_type": "stream",
     "text": [
      "[0, 9, 36, 81]\n"
     ]
    }
   ],
   "source": [
    "li = [ele**2 for ele in range(10) if ele%3 ==0]  ## 0 % 3 =0\n",
    "print(li)\n"
   ]
  },
  {
   "cell_type": "code",
   "execution_count": 24,
   "id": "e3a2dbf4",
   "metadata": {},
   "outputs": [
    {
     "name": "stdout",
     "output_type": "stream",
     "text": [
      "[[0, 0, 0, 0], [0, 1, 2, 3], [0, 2, 4, 6]]\n"
     ]
    }
   ],
   "source": [
    "li = [[ i*j for j in range(4)] for i in range(3)]      ## i row  & j column , row 012 col 0123 0x0 1x0 1x1 \n",
    "print(li)"
   ]
  },
  {
   "cell_type": "markdown",
   "id": "d5463666",
   "metadata": {},
   "source": [
    "## input of 2d list"
   ]
  },
  {
   "cell_type": "code",
   "execution_count": 26,
   "id": "01d42ea9",
   "metadata": {},
   "outputs": [
    {
     "name": "stdout",
     "output_type": "stream",
     "text": [
      "4 6\n",
      "['4', '6']\n"
     ]
    }
   ],
   "source": [
    "s = input().split()\n",
    "print(s)"
   ]
  },
  {
   "cell_type": "code",
   "execution_count": 27,
   "id": "dd573fec",
   "metadata": {},
   "outputs": [
    {
     "name": "stdout",
     "output_type": "stream",
     "text": [
      "3 4\n",
      "4 5 3 2\n",
      "1 2 4 2\n",
      "1 3 6 5\n"
     ]
    }
   ],
   "source": [
    "s = input().split()       # # imp\n",
    "f,d = int(s[0]),int(s[1])\n",
    "si = [[int(j) for j in input().split()]for g in range(f)]"
   ]
  },
  {
   "cell_type": "code",
   "execution_count": 28,
   "id": "0312742d",
   "metadata": {},
   "outputs": [
    {
     "data": {
      "text/plain": [
       "[[4, 5, 3, 2], [1, 2, 4, 2], [1, 3, 6, 5]]"
      ]
     },
     "execution_count": 28,
     "metadata": {},
     "output_type": "execute_result"
    }
   ],
   "source": [
    "si\n"
   ]
  },
  {
   "cell_type": "code",
   "execution_count": 29,
   "id": "e5a0d507",
   "metadata": {},
   "outputs": [
    {
     "name": "stdout",
     "output_type": "stream",
     "text": [
      "4\n",
      "1 2 5 1\n",
      "5 3\n",
      "13\n",
      "1 5 3\n"
     ]
    }
   ],
   "source": [
    "## jagged\n",
    "\n",
    "l = int (input())\n",
    "si = [[int(j) for j in input().split()]for g in range(l)]"
   ]
  },
  {
   "cell_type": "code",
   "execution_count": 30,
   "id": "75f40715",
   "metadata": {},
   "outputs": [
    {
     "data": {
      "text/plain": [
       "[[1, 2, 5, 1], [5, 3], [13], [1, 5, 3]]"
      ]
     },
     "execution_count": 30,
     "metadata": {},
     "output_type": "execute_result"
    }
   ],
   "source": [
    "si"
   ]
  },
  {
   "cell_type": "markdown",
   "id": "854fcd90",
   "metadata": {},
   "source": [
    "## input part 2"
   ]
  },
  {
   "cell_type": "code",
   "execution_count": 3,
   "id": "340e1839",
   "metadata": {},
   "outputs": [
    {
     "name": "stdout",
     "output_type": "stream",
     "text": [
      "4 4\n",
      "2 3 1 5 4 9 7 10 5 8 99 1 12 8 7 6\n"
     ]
    }
   ],
   "source": [
    "a = input().split()\n",
    "c,d = int(a[0]),int(a[1])   ## c,d \n",
    "b = input().split()           ## all input\n",
    "k = [[ int(b[d*i+j])for j in range (d)]for i in  range (c)]"
   ]
  },
  {
   "cell_type": "code",
   "execution_count": 4,
   "id": "eb72827c",
   "metadata": {},
   "outputs": [
    {
     "data": {
      "text/plain": [
       "[[2, 3, 1, 5], [4, 9, 7, 10], [5, 8, 99, 1], [12, 8, 7, 6]]"
      ]
     },
     "execution_count": 4,
     "metadata": {},
     "output_type": "execute_result"
    }
   ],
   "source": [
    "k"
   ]
  },
  {
   "cell_type": "code",
   "execution_count": 6,
   "id": "9a64702b",
   "metadata": {},
   "outputs": [
    {
     "name": "stdout",
     "output_type": "stream",
     "text": [
      "3 4 1 1 24 6 7 8 9 2 3 3 5 2\n"
     ]
    }
   ],
   "source": [
    "a = input().split()\n",
    "c,d = int(a[0]),int(a[1])   ## c,d \n",
    "b = a[2:]          ## single input except 0&1 (1&2)\n",
    "k = [[ int(b[d*i+j])for j in range (d)]for i in  range (c)]"
   ]
  },
  {
   "cell_type": "code",
   "execution_count": 7,
   "id": "a68bd453",
   "metadata": {},
   "outputs": [
    {
     "data": {
      "text/plain": [
       "[[1, 1, 24, 6], [7, 8, 9, 2], [3, 3, 5, 2]]"
      ]
     },
     "execution_count": 7,
     "metadata": {},
     "output_type": "execute_result"
    }
   ],
   "source": [
    "k"
   ]
  },
  {
   "cell_type": "code",
   "execution_count": null,
   "id": "0d20db67",
   "metadata": {},
   "outputs": [],
   "source": []
  },
  {
   "cell_type": "code",
   "execution_count": null,
   "id": "a1871590",
   "metadata": {},
   "outputs": [],
   "source": []
  },
  {
   "cell_type": "code",
   "execution_count": null,
   "id": "4b889c7e",
   "metadata": {},
   "outputs": [],
   "source": []
  },
  {
   "cell_type": "code",
   "execution_count": null,
   "id": "17f4d7f6",
   "metadata": {},
   "outputs": [],
   "source": []
  }
 ],
 "metadata": {
  "kernelspec": {
   "display_name": "Python 3 (ipykernel)",
   "language": "python",
   "name": "python3"
  },
  "language_info": {
   "codemirror_mode": {
    "name": "ipython",
    "version": 3
   },
   "file_extension": ".py",
   "mimetype": "text/x-python",
   "name": "python",
   "nbconvert_exporter": "python",
   "pygments_lexer": "ipython3",
   "version": "3.9.7"
  }
 },
 "nbformat": 4,
 "nbformat_minor": 5
}
